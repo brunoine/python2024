{
 "cells": [
  {
   "cell_type": "markdown",
   "id": "c9353e9e",
   "metadata": {},
   "source": [
    "# 5. Modelos de Regressão\n",
    "\n",
    "## 5.1 Regressão Linear"
   ]
  },
  {
   "cell_type": "code",
   "execution_count": 1,
   "id": "e4d235d4",
   "metadata": {},
   "outputs": [],
   "source": [
    "import numpy as np\n",
    "import pandas as pd"
   ]
  },
  {
   "cell_type": "code",
   "execution_count": 2,
   "id": "0154a013",
   "metadata": {},
   "outputs": [
    {
     "data": {
      "text/plain": [
       "'C:\\\\Users\\\\sonia.quaresma\\\\PythonPlayground'"
      ]
     },
     "execution_count": 2,
     "metadata": {},
     "output_type": "execute_result"
    }
   ],
   "source": [
    "%pwd"
   ]
  },
  {
   "cell_type": "code",
   "execution_count": 3,
   "id": "85dd8430",
   "metadata": {},
   "outputs": [],
   "source": [
    "datadir =\"datasets\\\\\"\n",
    "filename = \"df_prep.csv\""
   ]
  },
  {
   "cell_type": "code",
   "execution_count": 4,
   "id": "9f0c01a9",
   "metadata": {},
   "outputs": [
    {
     "data": {
      "text/html": [
       "<div>\n",
       "<style scoped>\n",
       "    .dataframe tbody tr th:only-of-type {\n",
       "        vertical-align: middle;\n",
       "    }\n",
       "\n",
       "    .dataframe tbody tr th {\n",
       "        vertical-align: top;\n",
       "    }\n",
       "\n",
       "    .dataframe thead th {\n",
       "        text-align: right;\n",
       "    }\n",
       "</style>\n",
       "<table border=\"1\" class=\"dataframe\">\n",
       "  <thead>\n",
       "    <tr style=\"text-align: right;\">\n",
       "      <th></th>\n",
       "      <th>NORDEM</th>\n",
       "      <th>NUTS2</th>\n",
       "      <th>C10001</th>\n",
       "      <th>C20001</th>\n",
       "      <th>C21001</th>\n",
       "      <th>C21011</th>\n",
       "      <th>C21021</th>\n",
       "      <th>C21031</th>\n",
       "      <th>C21041</th>\n",
       "      <th>C21061</th>\n",
       "      <th>...</th>\n",
       "      <th>C31001</th>\n",
       "      <th>C31011</th>\n",
       "      <th>C31021</th>\n",
       "      <th>C31031</th>\n",
       "      <th>C31041</th>\n",
       "      <th>C31051</th>\n",
       "      <th>C31061</th>\n",
       "      <th>C31071</th>\n",
       "      <th>C32001</th>\n",
       "      <th>t_cirurgia</th>\n",
       "    </tr>\n",
       "    <tr>\n",
       "      <th>ANO</th>\n",
       "      <th></th>\n",
       "      <th></th>\n",
       "      <th></th>\n",
       "      <th></th>\n",
       "      <th></th>\n",
       "      <th></th>\n",
       "      <th></th>\n",
       "      <th></th>\n",
       "      <th></th>\n",
       "      <th></th>\n",
       "      <th></th>\n",
       "      <th></th>\n",
       "      <th></th>\n",
       "      <th></th>\n",
       "      <th></th>\n",
       "      <th></th>\n",
       "      <th></th>\n",
       "      <th></th>\n",
       "      <th></th>\n",
       "      <th></th>\n",
       "      <th></th>\n",
       "    </tr>\n",
       "  </thead>\n",
       "  <tbody>\n",
       "    <tr>\n",
       "      <th>2012.0</th>\n",
       "      <td>229.0</td>\n",
       "      <td>17.0</td>\n",
       "      <td>1458.0</td>\n",
       "      <td>247.0</td>\n",
       "      <td>159.00</td>\n",
       "      <td>2.0</td>\n",
       "      <td>11.0</td>\n",
       "      <td>0.0</td>\n",
       "      <td>5.0</td>\n",
       "      <td>0.0</td>\n",
       "      <td>...</td>\n",
       "      <td>39.0</td>\n",
       "      <td>8.0</td>\n",
       "      <td>19.0</td>\n",
       "      <td>2.0</td>\n",
       "      <td>2.0</td>\n",
       "      <td>3.0</td>\n",
       "      <td>5.0</td>\n",
       "      <td>0.0</td>\n",
       "      <td>454.0</td>\n",
       "      <td>yes</td>\n",
       "    </tr>\n",
       "    <tr>\n",
       "      <th>2012.0</th>\n",
       "      <td>206.0</td>\n",
       "      <td>17.0</td>\n",
       "      <td>144.0</td>\n",
       "      <td>0.0</td>\n",
       "      <td>0.00</td>\n",
       "      <td>0.0</td>\n",
       "      <td>0.0</td>\n",
       "      <td>0.0</td>\n",
       "      <td>0.0</td>\n",
       "      <td>0.0</td>\n",
       "      <td>...</td>\n",
       "      <td>0.0</td>\n",
       "      <td>0.0</td>\n",
       "      <td>0.0</td>\n",
       "      <td>0.0</td>\n",
       "      <td>0.0</td>\n",
       "      <td>0.0</td>\n",
       "      <td>0.0</td>\n",
       "      <td>0.0</td>\n",
       "      <td>46.0</td>\n",
       "      <td>no</td>\n",
       "    </tr>\n",
       "    <tr>\n",
       "      <th>2012.0</th>\n",
       "      <td>65.0</td>\n",
       "      <td>16.0</td>\n",
       "      <td>894.0</td>\n",
       "      <td>111.0</td>\n",
       "      <td>38.25</td>\n",
       "      <td>0.0</td>\n",
       "      <td>8.0</td>\n",
       "      <td>0.0</td>\n",
       "      <td>5.0</td>\n",
       "      <td>0.0</td>\n",
       "      <td>...</td>\n",
       "      <td>0.0</td>\n",
       "      <td>0.0</td>\n",
       "      <td>0.0</td>\n",
       "      <td>0.0</td>\n",
       "      <td>0.0</td>\n",
       "      <td>0.0</td>\n",
       "      <td>0.0</td>\n",
       "      <td>0.0</td>\n",
       "      <td>337.0</td>\n",
       "      <td>yes</td>\n",
       "    </tr>\n",
       "    <tr>\n",
       "      <th>2012.0</th>\n",
       "      <td>106.0</td>\n",
       "      <td>17.0</td>\n",
       "      <td>801.0</td>\n",
       "      <td>166.0</td>\n",
       "      <td>108.00</td>\n",
       "      <td>0.0</td>\n",
       "      <td>12.0</td>\n",
       "      <td>0.0</td>\n",
       "      <td>7.0</td>\n",
       "      <td>0.0</td>\n",
       "      <td>...</td>\n",
       "      <td>36.0</td>\n",
       "      <td>4.0</td>\n",
       "      <td>16.0</td>\n",
       "      <td>5.0</td>\n",
       "      <td>2.0</td>\n",
       "      <td>2.0</td>\n",
       "      <td>7.0</td>\n",
       "      <td>0.0</td>\n",
       "      <td>228.0</td>\n",
       "      <td>yes</td>\n",
       "    </tr>\n",
       "    <tr>\n",
       "      <th>2012.0</th>\n",
       "      <td>209.0</td>\n",
       "      <td>11.0</td>\n",
       "      <td>221.0</td>\n",
       "      <td>13.0</td>\n",
       "      <td>13.00</td>\n",
       "      <td>0.0</td>\n",
       "      <td>0.0</td>\n",
       "      <td>0.0</td>\n",
       "      <td>0.0</td>\n",
       "      <td>0.0</td>\n",
       "      <td>...</td>\n",
       "      <td>8.0</td>\n",
       "      <td>0.0</td>\n",
       "      <td>0.0</td>\n",
       "      <td>1.0</td>\n",
       "      <td>0.0</td>\n",
       "      <td>1.0</td>\n",
       "      <td>6.0</td>\n",
       "      <td>0.0</td>\n",
       "      <td>80.0</td>\n",
       "      <td>yes</td>\n",
       "    </tr>\n",
       "  </tbody>\n",
       "</table>\n",
       "<p>5 rows × 62 columns</p>\n",
       "</div>"
      ],
      "text/plain": [
       "        NORDEM  NUTS2  C10001  C20001  C21001  C21011  C21021  C21031  C21041  \\\n",
       "ANO                                                                             \n",
       "2012.0   229.0   17.0  1458.0   247.0  159.00     2.0    11.0     0.0     5.0   \n",
       "2012.0   206.0   17.0   144.0     0.0    0.00     0.0     0.0     0.0     0.0   \n",
       "2012.0    65.0   16.0   894.0   111.0   38.25     0.0     8.0     0.0     5.0   \n",
       "2012.0   106.0   17.0   801.0   166.0  108.00     0.0    12.0     0.0     7.0   \n",
       "2012.0   209.0   11.0   221.0    13.0   13.00     0.0     0.0     0.0     0.0   \n",
       "\n",
       "        C21061  ...  C31001  C31011  C31021  C31031  C31041  C31051  C31061  \\\n",
       "ANO             ...                                                           \n",
       "2012.0     0.0  ...    39.0     8.0    19.0     2.0     2.0     3.0     5.0   \n",
       "2012.0     0.0  ...     0.0     0.0     0.0     0.0     0.0     0.0     0.0   \n",
       "2012.0     0.0  ...     0.0     0.0     0.0     0.0     0.0     0.0     0.0   \n",
       "2012.0     0.0  ...    36.0     4.0    16.0     5.0     2.0     2.0     7.0   \n",
       "2012.0     0.0  ...     8.0     0.0     0.0     1.0     0.0     1.0     6.0   \n",
       "\n",
       "        C31071  C32001  t_cirurgia  \n",
       "ANO                                 \n",
       "2012.0     0.0   454.0         yes  \n",
       "2012.0     0.0    46.0          no  \n",
       "2012.0     0.0   337.0         yes  \n",
       "2012.0     0.0   228.0         yes  \n",
       "2012.0     0.0    80.0         yes  \n",
       "\n",
       "[5 rows x 62 columns]"
      ]
     },
     "execution_count": 4,
     "metadata": {},
     "output_type": "execute_result"
    }
   ],
   "source": [
    "df_hosp = pd.read_csv(f\"{datadir}{filename}\", index_col=0, verbose = False, encoding='latin-1')\n",
    "df_hosp.head()"
   ]
  },
  {
   "cell_type": "code",
   "execution_count": 5,
   "id": "1a201c38",
   "metadata": {},
   "outputs": [
    {
     "data": {
      "text/html": [
       "<div>\n",
       "<style scoped>\n",
       "    .dataframe tbody tr th:only-of-type {\n",
       "        vertical-align: middle;\n",
       "    }\n",
       "\n",
       "    .dataframe tbody tr th {\n",
       "        vertical-align: top;\n",
       "    }\n",
       "\n",
       "    .dataframe thead th {\n",
       "        text-align: right;\n",
       "    }\n",
       "</style>\n",
       "<table border=\"1\" class=\"dataframe\">\n",
       "  <thead>\n",
       "    <tr style=\"text-align: right;\">\n",
       "      <th></th>\n",
       "      <th>NORDEM</th>\n",
       "      <th>NUTS2</th>\n",
       "      <th>C10001</th>\n",
       "      <th>C20001</th>\n",
       "      <th>C21001</th>\n",
       "      <th>C21011</th>\n",
       "      <th>C21021</th>\n",
       "      <th>C21031</th>\n",
       "      <th>C21041</th>\n",
       "      <th>C21061</th>\n",
       "      <th>...</th>\n",
       "      <th>C30001</th>\n",
       "      <th>C31001</th>\n",
       "      <th>C31011</th>\n",
       "      <th>C31021</th>\n",
       "      <th>C31031</th>\n",
       "      <th>C31041</th>\n",
       "      <th>C31051</th>\n",
       "      <th>C31061</th>\n",
       "      <th>C31071</th>\n",
       "      <th>C32001</th>\n",
       "    </tr>\n",
       "  </thead>\n",
       "  <tbody>\n",
       "    <tr>\n",
       "      <th>count</th>\n",
       "      <td>86.000000</td>\n",
       "      <td>86.000000</td>\n",
       "      <td>86.000000</td>\n",
       "      <td>86.000000</td>\n",
       "      <td>86.000000</td>\n",
       "      <td>86.000000</td>\n",
       "      <td>86.000000</td>\n",
       "      <td>86.000000</td>\n",
       "      <td>86.000000</td>\n",
       "      <td>86.000000</td>\n",
       "      <td>...</td>\n",
       "      <td>86.000000</td>\n",
       "      <td>86.000000</td>\n",
       "      <td>86.000000</td>\n",
       "      <td>86.000000</td>\n",
       "      <td>86.000000</td>\n",
       "      <td>86.000000</td>\n",
       "      <td>86.000000</td>\n",
       "      <td>86.000000</td>\n",
       "      <td>86.000000</td>\n",
       "      <td>86.000000</td>\n",
       "    </tr>\n",
       "    <tr>\n",
       "      <th>mean</th>\n",
       "      <td>118.081395</td>\n",
       "      <td>14.976744</td>\n",
       "      <td>642.744186</td>\n",
       "      <td>113.872093</td>\n",
       "      <td>73.979651</td>\n",
       "      <td>0.813953</td>\n",
       "      <td>6.941860</td>\n",
       "      <td>0.360465</td>\n",
       "      <td>2.953488</td>\n",
       "      <td>0.302326</td>\n",
       "      <td>...</td>\n",
       "      <td>212.290698</td>\n",
       "      <td>22.941860</td>\n",
       "      <td>3.127907</td>\n",
       "      <td>6.220930</td>\n",
       "      <td>4.476744</td>\n",
       "      <td>3.465116</td>\n",
       "      <td>0.965116</td>\n",
       "      <td>3.465116</td>\n",
       "      <td>1.220930</td>\n",
       "      <td>189.348837</td>\n",
       "    </tr>\n",
       "    <tr>\n",
       "      <th>std</th>\n",
       "      <td>68.264230</td>\n",
       "      <td>3.620129</td>\n",
       "      <td>809.928453</td>\n",
       "      <td>172.413511</td>\n",
       "      <td>108.256016</td>\n",
       "      <td>2.144825</td>\n",
       "      <td>10.384779</td>\n",
       "      <td>1.146994</td>\n",
       "      <td>5.346592</td>\n",
       "      <td>1.701693</td>\n",
       "      <td>...</td>\n",
       "      <td>255.792649</td>\n",
       "      <td>26.911775</td>\n",
       "      <td>4.752204</td>\n",
       "      <td>10.678622</td>\n",
       "      <td>5.740930</td>\n",
       "      <td>8.559409</td>\n",
       "      <td>1.482825</td>\n",
       "      <td>4.421066</td>\n",
       "      <td>2.783993</td>\n",
       "      <td>240.396475</td>\n",
       "    </tr>\n",
       "    <tr>\n",
       "      <th>min</th>\n",
       "      <td>3.000000</td>\n",
       "      <td>11.000000</td>\n",
       "      <td>0.000000</td>\n",
       "      <td>0.000000</td>\n",
       "      <td>0.000000</td>\n",
       "      <td>0.000000</td>\n",
       "      <td>0.000000</td>\n",
       "      <td>0.000000</td>\n",
       "      <td>0.000000</td>\n",
       "      <td>0.000000</td>\n",
       "      <td>...</td>\n",
       "      <td>0.000000</td>\n",
       "      <td>0.000000</td>\n",
       "      <td>0.000000</td>\n",
       "      <td>0.000000</td>\n",
       "      <td>0.000000</td>\n",
       "      <td>0.000000</td>\n",
       "      <td>0.000000</td>\n",
       "      <td>0.000000</td>\n",
       "      <td>0.000000</td>\n",
       "      <td>0.000000</td>\n",
       "    </tr>\n",
       "    <tr>\n",
       "      <th>25%</th>\n",
       "      <td>57.500000</td>\n",
       "      <td>11.000000</td>\n",
       "      <td>120.250000</td>\n",
       "      <td>7.750000</td>\n",
       "      <td>6.000000</td>\n",
       "      <td>0.000000</td>\n",
       "      <td>0.000000</td>\n",
       "      <td>0.000000</td>\n",
       "      <td>0.000000</td>\n",
       "      <td>0.000000</td>\n",
       "      <td>...</td>\n",
       "      <td>34.250000</td>\n",
       "      <td>3.250000</td>\n",
       "      <td>0.000000</td>\n",
       "      <td>0.000000</td>\n",
       "      <td>0.000000</td>\n",
       "      <td>0.000000</td>\n",
       "      <td>0.000000</td>\n",
       "      <td>0.000000</td>\n",
       "      <td>0.000000</td>\n",
       "      <td>30.000000</td>\n",
       "    </tr>\n",
       "    <tr>\n",
       "      <th>50%</th>\n",
       "      <td>119.000000</td>\n",
       "      <td>16.000000</td>\n",
       "      <td>338.500000</td>\n",
       "      <td>42.500000</td>\n",
       "      <td>33.000000</td>\n",
       "      <td>0.000000</td>\n",
       "      <td>2.000000</td>\n",
       "      <td>0.000000</td>\n",
       "      <td>0.000000</td>\n",
       "      <td>0.000000</td>\n",
       "      <td>...</td>\n",
       "      <td>102.500000</td>\n",
       "      <td>10.000000</td>\n",
       "      <td>0.000000</td>\n",
       "      <td>0.000000</td>\n",
       "      <td>3.000000</td>\n",
       "      <td>1.000000</td>\n",
       "      <td>0.000000</td>\n",
       "      <td>2.000000</td>\n",
       "      <td>0.000000</td>\n",
       "      <td>85.500000</td>\n",
       "    </tr>\n",
       "    <tr>\n",
       "      <th>75%</th>\n",
       "      <td>175.750000</td>\n",
       "      <td>17.000000</td>\n",
       "      <td>872.500000</td>\n",
       "      <td>162.500000</td>\n",
       "      <td>115.500000</td>\n",
       "      <td>0.000000</td>\n",
       "      <td>10.750000</td>\n",
       "      <td>0.000000</td>\n",
       "      <td>3.750000</td>\n",
       "      <td>0.000000</td>\n",
       "      <td>...</td>\n",
       "      <td>321.250000</td>\n",
       "      <td>35.750000</td>\n",
       "      <td>4.000000</td>\n",
       "      <td>11.000000</td>\n",
       "      <td>6.000000</td>\n",
       "      <td>3.000000</td>\n",
       "      <td>1.000000</td>\n",
       "      <td>5.000000</td>\n",
       "      <td>1.000000</td>\n",
       "      <td>282.250000</td>\n",
       "    </tr>\n",
       "    <tr>\n",
       "      <th>max</th>\n",
       "      <td>229.000000</td>\n",
       "      <td>30.000000</td>\n",
       "      <td>5325.000000</td>\n",
       "      <td>1161.000000</td>\n",
       "      <td>719.000000</td>\n",
       "      <td>13.000000</td>\n",
       "      <td>51.000000</td>\n",
       "      <td>6.000000</td>\n",
       "      <td>31.000000</td>\n",
       "      <td>13.000000</td>\n",
       "      <td>...</td>\n",
       "      <td>1515.000000</td>\n",
       "      <td>103.000000</td>\n",
       "      <td>21.000000</td>\n",
       "      <td>50.000000</td>\n",
       "      <td>28.000000</td>\n",
       "      <td>72.000000</td>\n",
       "      <td>6.000000</td>\n",
       "      <td>19.000000</td>\n",
       "      <td>15.000000</td>\n",
       "      <td>1515.000000</td>\n",
       "    </tr>\n",
       "  </tbody>\n",
       "</table>\n",
       "<p>8 rows × 61 columns</p>\n",
       "</div>"
      ],
      "text/plain": [
       "           NORDEM      NUTS2       C10001       C20001      C21001     C21011  \\\n",
       "count   86.000000  86.000000    86.000000    86.000000   86.000000  86.000000   \n",
       "mean   118.081395  14.976744   642.744186   113.872093   73.979651   0.813953   \n",
       "std     68.264230   3.620129   809.928453   172.413511  108.256016   2.144825   \n",
       "min      3.000000  11.000000     0.000000     0.000000    0.000000   0.000000   \n",
       "25%     57.500000  11.000000   120.250000     7.750000    6.000000   0.000000   \n",
       "50%    119.000000  16.000000   338.500000    42.500000   33.000000   0.000000   \n",
       "75%    175.750000  17.000000   872.500000   162.500000  115.500000   0.000000   \n",
       "max    229.000000  30.000000  5325.000000  1161.000000  719.000000  13.000000   \n",
       "\n",
       "          C21021     C21031     C21041     C21061  ...       C30001  \\\n",
       "count  86.000000  86.000000  86.000000  86.000000  ...    86.000000   \n",
       "mean    6.941860   0.360465   2.953488   0.302326  ...   212.290698   \n",
       "std    10.384779   1.146994   5.346592   1.701693  ...   255.792649   \n",
       "min     0.000000   0.000000   0.000000   0.000000  ...     0.000000   \n",
       "25%     0.000000   0.000000   0.000000   0.000000  ...    34.250000   \n",
       "50%     2.000000   0.000000   0.000000   0.000000  ...   102.500000   \n",
       "75%    10.750000   0.000000   3.750000   0.000000  ...   321.250000   \n",
       "max    51.000000   6.000000  31.000000  13.000000  ...  1515.000000   \n",
       "\n",
       "           C31001     C31011     C31021     C31031     C31041     C31051  \\\n",
       "count   86.000000  86.000000  86.000000  86.000000  86.000000  86.000000   \n",
       "mean    22.941860   3.127907   6.220930   4.476744   3.465116   0.965116   \n",
       "std     26.911775   4.752204  10.678622   5.740930   8.559409   1.482825   \n",
       "min      0.000000   0.000000   0.000000   0.000000   0.000000   0.000000   \n",
       "25%      3.250000   0.000000   0.000000   0.000000   0.000000   0.000000   \n",
       "50%     10.000000   0.000000   0.000000   3.000000   1.000000   0.000000   \n",
       "75%     35.750000   4.000000  11.000000   6.000000   3.000000   1.000000   \n",
       "max    103.000000  21.000000  50.000000  28.000000  72.000000   6.000000   \n",
       "\n",
       "          C31061     C31071       C32001  \n",
       "count  86.000000  86.000000    86.000000  \n",
       "mean    3.465116   1.220930   189.348837  \n",
       "std     4.421066   2.783993   240.396475  \n",
       "min     0.000000   0.000000     0.000000  \n",
       "25%     0.000000   0.000000    30.000000  \n",
       "50%     2.000000   0.000000    85.500000  \n",
       "75%     5.000000   1.000000   282.250000  \n",
       "max    19.000000  15.000000  1515.000000  \n",
       "\n",
       "[8 rows x 61 columns]"
      ]
     },
     "execution_count": 5,
     "metadata": {},
     "output_type": "execute_result"
    }
   ],
   "source": [
    "df_hosp.describe()"
   ]
  },
  {
   "cell_type": "code",
   "execution_count": 6,
   "id": "73b7c19b",
   "metadata": {},
   "outputs": [],
   "source": [
    "df_hosp = df_hosp.reset_index()"
   ]
  },
  {
   "cell_type": "code",
   "execution_count": 8,
   "id": "feaa4b45",
   "metadata": {},
   "outputs": [],
   "source": [
    "df_hosp = df_hosp.drop(columns=['t_cirurgia']) "
   ]
  },
  {
   "cell_type": "code",
   "execution_count": 9,
   "id": "8fbe5c6c",
   "metadata": {},
   "outputs": [],
   "source": [
    "# criação de matriz de correlação e selecão do triângulo superior\n",
    "cor_matrix = df_hosp.corr().abs()\n",
    "upper_tri = cor_matrix.where(np.triu(np.ones(cor_matrix.shape),k=1).astype(bool))"
   ]
  },
  {
   "cell_type": "code",
   "execution_count": 10,
   "id": "feba0a8e",
   "metadata": {},
   "outputs": [
    {
     "name": "stdout",
     "output_type": "stream",
     "text": [
      "['C20001', 'C21001', 'C21021', 'C21071', 'C21251', 'C21421', 'C21431', 'C23001', 'C24001', 'C30001', 'C32001']\n"
     ]
    }
   ],
   "source": [
    "# seleciona para remover as colunas altamente correlacionadas\n",
    "to_drop = [column for column in upper_tri.columns if any(upper_tri[column] > 0.9)]\n",
    "print(to_drop)"
   ]
  },
  {
   "cell_type": "code",
   "execution_count": 11,
   "id": "dc82c56e",
   "metadata": {},
   "outputs": [],
   "source": [
    "df_hosp = df_hosp.drop(columns=to_drop, axis=1)"
   ]
  },
  {
   "cell_type": "code",
   "execution_count": 12,
   "id": "578aa50d",
   "metadata": {},
   "outputs": [],
   "source": [
    "# seleciona para remover as colunas ano e ordem\n",
    "# que não trazem informação e queremos evitar que ruído seja aprendido\n",
    "to_drop = ['ANO','NORDEM']\n",
    "df = df_hosp.drop(columns=to_drop, axis=1)"
   ]
  },
  {
   "cell_type": "code",
   "execution_count": 13,
   "id": "10a9a38e",
   "metadata": {},
   "outputs": [],
   "source": [
    "# excluimos os registos com valores vazios\n",
    "df1 = df.dropna()"
   ]
  },
  {
   "cell_type": "code",
   "execution_count": 14,
   "id": "618917e8",
   "metadata": {},
   "outputs": [],
   "source": [
    "# define a variável target e as features\n",
    "X = df1.drop(columns=['C31011']) \n",
    "y = df1['C31011'].values"
   ]
  },
  {
   "cell_type": "code",
   "execution_count": 15,
   "id": "d49eb1a2",
   "metadata": {},
   "outputs": [
    {
     "data": {
      "text/plain": [
       "NUTS2     category\n",
       "C10001     float64\n",
       "C21011     float64\n",
       "dtype: object"
      ]
     },
     "execution_count": 15,
     "metadata": {},
     "output_type": "execute_result"
    }
   ],
   "source": [
    "## Typecast da coluna para categoria em pandas\n",
    "X['NUTS2'] = pd.Categorical(X.NUTS2)\n",
    "X.dtypes[0:3]"
   ]
  },
  {
   "cell_type": "code",
   "execution_count": 16,
   "id": "1a686d80",
   "metadata": {},
   "outputs": [
    {
     "data": {
      "text/plain": [
       "(86, 48)"
      ]
     },
     "execution_count": 16,
     "metadata": {},
     "output_type": "execute_result"
    }
   ],
   "source": [
    "X.shape"
   ]
  },
  {
   "cell_type": "code",
   "execution_count": 17,
   "id": "1c68eb57",
   "metadata": {},
   "outputs": [],
   "source": [
    "# cria variáveis dummy e faz drop da baseline\n",
    "X = pd.get_dummies(X, drop_first = True)"
   ]
  },
  {
   "cell_type": "code",
   "execution_count": 18,
   "id": "f43bde75",
   "metadata": {},
   "outputs": [
    {
     "data": {
      "text/plain": [
       "(86, 53)"
      ]
     },
     "execution_count": 18,
     "metadata": {},
     "output_type": "execute_result"
    }
   ],
   "source": [
    "# O nº de colunas aumentou por causa das dummy variables\n",
    "X.shape"
   ]
  },
  {
   "cell_type": "code",
   "execution_count": 19,
   "id": "0638a69c",
   "metadata": {},
   "outputs": [
    {
     "name": "stdout",
     "output_type": "stream",
     "text": [
      "(68, 53)\n",
      "(18, 53)\n"
     ]
    }
   ],
   "source": [
    "from sklearn.model_selection import train_test_split \n",
    "\n",
    "#Split data for machine learning\n",
    "X_train, X_test, y_train, y_test = train_test_split(X,  y, test_size = 0.2 ,random_state = 2002)\n",
    "print(X_train.shape)\n",
    "print(X_test.shape)"
   ]
  },
  {
   "cell_type": "code",
   "execution_count": 20,
   "id": "c02566ff",
   "metadata": {},
   "outputs": [
    {
     "data": {
      "text/html": [
       "<style>#sk-container-id-1 {color: black;}#sk-container-id-1 pre{padding: 0;}#sk-container-id-1 div.sk-toggleable {background-color: white;}#sk-container-id-1 label.sk-toggleable__label {cursor: pointer;display: block;width: 100%;margin-bottom: 0;padding: 0.3em;box-sizing: border-box;text-align: center;}#sk-container-id-1 label.sk-toggleable__label-arrow:before {content: \"▸\";float: left;margin-right: 0.25em;color: #696969;}#sk-container-id-1 label.sk-toggleable__label-arrow:hover:before {color: black;}#sk-container-id-1 div.sk-estimator:hover label.sk-toggleable__label-arrow:before {color: black;}#sk-container-id-1 div.sk-toggleable__content {max-height: 0;max-width: 0;overflow: hidden;text-align: left;background-color: #f0f8ff;}#sk-container-id-1 div.sk-toggleable__content pre {margin: 0.2em;color: black;border-radius: 0.25em;background-color: #f0f8ff;}#sk-container-id-1 input.sk-toggleable__control:checked~div.sk-toggleable__content {max-height: 200px;max-width: 100%;overflow: auto;}#sk-container-id-1 input.sk-toggleable__control:checked~label.sk-toggleable__label-arrow:before {content: \"▾\";}#sk-container-id-1 div.sk-estimator input.sk-toggleable__control:checked~label.sk-toggleable__label {background-color: #d4ebff;}#sk-container-id-1 div.sk-label input.sk-toggleable__control:checked~label.sk-toggleable__label {background-color: #d4ebff;}#sk-container-id-1 input.sk-hidden--visually {border: 0;clip: rect(1px 1px 1px 1px);clip: rect(1px, 1px, 1px, 1px);height: 1px;margin: -1px;overflow: hidden;padding: 0;position: absolute;width: 1px;}#sk-container-id-1 div.sk-estimator {font-family: monospace;background-color: #f0f8ff;border: 1px dotted black;border-radius: 0.25em;box-sizing: border-box;margin-bottom: 0.5em;}#sk-container-id-1 div.sk-estimator:hover {background-color: #d4ebff;}#sk-container-id-1 div.sk-parallel-item::after {content: \"\";width: 100%;border-bottom: 1px solid gray;flex-grow: 1;}#sk-container-id-1 div.sk-label:hover label.sk-toggleable__label {background-color: #d4ebff;}#sk-container-id-1 div.sk-serial::before {content: \"\";position: absolute;border-left: 1px solid gray;box-sizing: border-box;top: 0;bottom: 0;left: 50%;z-index: 0;}#sk-container-id-1 div.sk-serial {display: flex;flex-direction: column;align-items: center;background-color: white;padding-right: 0.2em;padding-left: 0.2em;position: relative;}#sk-container-id-1 div.sk-item {position: relative;z-index: 1;}#sk-container-id-1 div.sk-parallel {display: flex;align-items: stretch;justify-content: center;background-color: white;position: relative;}#sk-container-id-1 div.sk-item::before, #sk-container-id-1 div.sk-parallel-item::before {content: \"\";position: absolute;border-left: 1px solid gray;box-sizing: border-box;top: 0;bottom: 0;left: 50%;z-index: -1;}#sk-container-id-1 div.sk-parallel-item {display: flex;flex-direction: column;z-index: 1;position: relative;background-color: white;}#sk-container-id-1 div.sk-parallel-item:first-child::after {align-self: flex-end;width: 50%;}#sk-container-id-1 div.sk-parallel-item:last-child::after {align-self: flex-start;width: 50%;}#sk-container-id-1 div.sk-parallel-item:only-child::after {width: 0;}#sk-container-id-1 div.sk-dashed-wrapped {border: 1px dashed gray;margin: 0 0.4em 0.5em 0.4em;box-sizing: border-box;padding-bottom: 0.4em;background-color: white;}#sk-container-id-1 div.sk-label label {font-family: monospace;font-weight: bold;display: inline-block;line-height: 1.2em;}#sk-container-id-1 div.sk-label-container {text-align: center;}#sk-container-id-1 div.sk-container {/* jupyter's `normalize.less` sets `[hidden] { display: none; }` but bootstrap.min.css set `[hidden] { display: none !important; }` so we also need the `!important` here to be able to override the default hidden behavior on the sphinx rendered scikit-learn.org. See: https://github.com/scikit-learn/scikit-learn/issues/21755 */display: inline-block !important;position: relative;}#sk-container-id-1 div.sk-text-repr-fallback {display: none;}</style><div id=\"sk-container-id-1\" class=\"sk-top-container\"><div class=\"sk-text-repr-fallback\"><pre>LinearRegression()</pre><b>In a Jupyter environment, please rerun this cell to show the HTML representation or trust the notebook. <br />On GitHub, the HTML representation is unable to render, please try loading this page with nbviewer.org.</b></div><div class=\"sk-container\" hidden><div class=\"sk-item\"><div class=\"sk-estimator sk-toggleable\"><input class=\"sk-toggleable__control sk-hidden--visually\" id=\"sk-estimator-id-1\" type=\"checkbox\" checked><label for=\"sk-estimator-id-1\" class=\"sk-toggleable__label sk-toggleable__label-arrow\">LinearRegression</label><div class=\"sk-toggleable__content\"><pre>LinearRegression()</pre></div></div></div></div></div>"
      ],
      "text/plain": [
       "LinearRegression()"
      ]
     },
     "execution_count": 20,
     "metadata": {},
     "output_type": "execute_result"
    }
   ],
   "source": [
    "from sklearn.linear_model import LinearRegression \n",
    "\n",
    "lr = LinearRegression()\n",
    "lr.fit(X_train,y_train)"
   ]
  },
  {
   "cell_type": "code",
   "execution_count": 21,
   "id": "bf3626e6",
   "metadata": {},
   "outputs": [],
   "source": [
    "y_pred = lr.predict(X_test)"
   ]
  },
  {
   "cell_type": "code",
   "execution_count": 22,
   "id": "d299b396",
   "metadata": {},
   "outputs": [
    {
     "data": {
      "text/plain": [
       "1.0"
      ]
     },
     "execution_count": 22,
     "metadata": {},
     "output_type": "execute_result"
    }
   ],
   "source": [
    "from sklearn.metrics import r2_score\n",
    "\n",
    "r2_score(y_test, y_pred)"
   ]
  },
  {
   "cell_type": "code",
   "execution_count": 23,
   "id": "b2a6bb42",
   "metadata": {},
   "outputs": [
    {
     "name": "stderr",
     "output_type": "stream",
     "text": [
      "C:\\anaconda3\\Lib\\site-packages\\seaborn\\_oldcore.py:1498: FutureWarning: is_categorical_dtype is deprecated and will be removed in a future version. Use isinstance(dtype, CategoricalDtype) instead\n",
      "  if pd.api.types.is_categorical_dtype(vector):\n",
      "C:\\anaconda3\\Lib\\site-packages\\seaborn\\_oldcore.py:1498: FutureWarning: is_categorical_dtype is deprecated and will be removed in a future version. Use isinstance(dtype, CategoricalDtype) instead\n",
      "  if pd.api.types.is_categorical_dtype(vector):\n"
     ]
    },
    {
     "data": {
      "image/png": "[encoded data removed]",
      "text/plain": [
       "<Figure size 1200x600 with 1 Axes>"
      ]
     },
     "metadata": {},
     "output_type": "display_data"
    }
   ],
   "source": [
    "import matplotlib.pyplot as plt\n",
    "import seaborn as sns\n",
    "\n",
    "\n",
    "plt.figure(figsize = (12,6))\n",
    "sns.scatterplot(x= y_test, y= y_pred)\n",
    "plt.xlim(0, 10)\n",
    "plt.ylim(0, 10)\n",
    "plt.title(\"Predictions\")\n",
    "plt.xlabel(\"y_test\")\n",
    "plt.ylabel(\"y_pred\")\n",
    "plt.show()"
   ]
  },
  {
   "cell_type": "markdown",
   "id": "95f8cf2b",
   "metadata": {},
   "source": [
    "## 5.2 Regressão Logistica"
   ]
  },
  {
   "cell_type": "markdown",
   "id": "340b8f06",
   "metadata": {},
   "source": [
    "### 5.2.1 Regressão Logistica para prever um valor"
   ]
  },
  {
   "cell_type": "code",
   "execution_count": 24,
   "id": "c108f63f",
   "metadata": {},
   "outputs": [],
   "source": [
    "from sklearn.linear_model import LogisticRegression\n",
    "\n",
    "# sem qualquer parâmetro\n",
    "logisticRegr = LogisticRegression()"
   ]
  },
  {
   "cell_type": "code",
   "execution_count": 25,
   "id": "1f583b0d",
   "metadata": {},
   "outputs": [
    {
     "name": "stderr",
     "output_type": "stream",
     "text": [
      "C:\\anaconda3\\Lib\\site-packages\\sklearn\\linear_model\\_logistic.py:460: ConvergenceWarning: lbfgs failed to converge (status=1):\n",
      "STOP: TOTAL NO. of ITERATIONS REACHED LIMIT.\n",
      "\n",
      "Increase the number of iterations (max_iter) or scale the data as shown in:\n",
      "    https://scikit-learn.org/stable/modules/preprocessing.html\n",
      "Please also refer to the documentation for alternative solver options:\n",
      "    https://scikit-learn.org/stable/modules/linear_model.html#logistic-regression\n",
      "  n_iter_i = _check_optimize_result(\n"
     ]
    },
    {
     "data": {
      "text/html": [
       "<style>#sk-container-id-2 {color: black;}#sk-container-id-2 pre{padding: 0;}#sk-container-id-2 div.sk-toggleable {background-color: white;}#sk-container-id-2 label.sk-toggleable__label {cursor: pointer;display: block;width: 100%;margin-bottom: 0;padding: 0.3em;box-sizing: border-box;text-align: center;}#sk-container-id-2 label.sk-toggleable__label-arrow:before {content: \"▸\";float: left;margin-right: 0.25em;color: #696969;}#sk-container-id-2 label.sk-toggleable__label-arrow:hover:before {color: black;}#sk-container-id-2 div.sk-estimator:hover label.sk-toggleable__label-arrow:before {color: black;}#sk-container-id-2 div.sk-toggleable__content {max-height: 0;max-width: 0;overflow: hidden;text-align: left;background-color: #f0f8ff;}#sk-container-id-2 div.sk-toggleable__content pre {margin: 0.2em;color: black;border-radius: 0.25em;background-color: #f0f8ff;}#sk-container-id-2 input.sk-toggleable__control:checked~div.sk-toggleable__content {max-height: 200px;max-width: 100%;overflow: auto;}#sk-container-id-2 input.sk-toggleable__control:checked~label.sk-toggleable__label-arrow:before {content: \"▾\";}#sk-container-id-2 div.sk-estimator input.sk-toggleable__control:checked~label.sk-toggleable__label {background-color: #d4ebff;}#sk-container-id-2 div.sk-label input.sk-toggleable__control:checked~label.sk-toggleable__label {background-color: #d4ebff;}#sk-container-id-2 input.sk-hidden--visually {border: 0;clip: rect(1px 1px 1px 1px);clip: rect(1px, 1px, 1px, 1px);height: 1px;margin: -1px;overflow: hidden;padding: 0;position: absolute;width: 1px;}#sk-container-id-2 div.sk-estimator {font-family: monospace;background-color: #f0f8ff;border: 1px dotted black;border-radius: 0.25em;box-sizing: border-box;margin-bottom: 0.5em;}#sk-container-id-2 div.sk-estimator:hover {background-color: #d4ebff;}#sk-container-id-2 div.sk-parallel-item::after {content: \"\";width: 100%;border-bottom: 1px solid gray;flex-grow: 1;}#sk-container-id-2 div.sk-label:hover label.sk-toggleable__label {background-color: #d4ebff;}#sk-container-id-2 div.sk-serial::before {content: \"\";position: absolute;border-left: 1px solid gray;box-sizing: border-box;top: 0;bottom: 0;left: 50%;z-index: 0;}#sk-container-id-2 div.sk-serial {display: flex;flex-direction: column;align-items: center;background-color: white;padding-right: 0.2em;padding-left: 0.2em;position: relative;}#sk-container-id-2 div.sk-item {position: relative;z-index: 1;}#sk-container-id-2 div.sk-parallel {display: flex;align-items: stretch;justify-content: center;background-color: white;position: relative;}#sk-container-id-2 div.sk-item::before, #sk-container-id-2 div.sk-parallel-item::before {content: \"\";position: absolute;border-left: 1px solid gray;box-sizing: border-box;top: 0;bottom: 0;left: 50%;z-index: -1;}#sk-container-id-2 div.sk-parallel-item {display: flex;flex-direction: column;z-index: 1;position: relative;background-color: white;}#sk-container-id-2 div.sk-parallel-item:first-child::after {align-self: flex-end;width: 50%;}#sk-container-id-2 div.sk-parallel-item:last-child::after {align-self: flex-start;width: 50%;}#sk-container-id-2 div.sk-parallel-item:only-child::after {width: 0;}#sk-container-id-2 div.sk-dashed-wrapped {border: 1px dashed gray;margin: 0 0.4em 0.5em 0.4em;box-sizing: border-box;padding-bottom: 0.4em;background-color: white;}#sk-container-id-2 div.sk-label label {font-family: monospace;font-weight: bold;display: inline-block;line-height: 1.2em;}#sk-container-id-2 div.sk-label-container {text-align: center;}#sk-container-id-2 div.sk-container {/* jupyter's `normalize.less` sets `[hidden] { display: none; }` but bootstrap.min.css set `[hidden] { display: none !important; }` so we also need the `!important` here to be able to override the default hidden behavior on the sphinx rendered scikit-learn.org. See: https://github.com/scikit-learn/scikit-learn/issues/21755 */display: inline-block !important;position: relative;}#sk-container-id-2 div.sk-text-repr-fallback {display: none;}</style><div id=\"sk-container-id-2\" class=\"sk-top-container\"><div class=\"sk-text-repr-fallback\"><pre>LogisticRegression()</pre><b>In a Jupyter environment, please rerun this cell to show the HTML representation or trust the notebook. <br />On GitHub, the HTML representation is unable to render, please try loading this page with nbviewer.org.</b></div><div class=\"sk-container\" hidden><div class=\"sk-item\"><div class=\"sk-estimator sk-toggleable\"><input class=\"sk-toggleable__control sk-hidden--visually\" id=\"sk-estimator-id-2\" type=\"checkbox\" checked><label for=\"sk-estimator-id-2\" class=\"sk-toggleable__label sk-toggleable__label-arrow\">LogisticRegression</label><div class=\"sk-toggleable__content\"><pre>LogisticRegression()</pre></div></div></div></div></div>"
      ],
      "text/plain": [
       "LogisticRegression()"
      ]
     },
     "execution_count": 25,
     "metadata": {},
     "output_type": "execute_result"
    }
   ],
   "source": [
    "logisticRegr.fit(X_train, y_train)"
   ]
  },
  {
   "cell_type": "code",
   "execution_count": 26,
   "id": "337a2660",
   "metadata": {},
   "outputs": [],
   "source": [
    "y_pred = logisticRegr.predict(X_test)"
   ]
  },
  {
   "cell_type": "code",
   "execution_count": 27,
   "id": "1293cb48",
   "metadata": {},
   "outputs": [
    {
     "data": {
      "text/plain": [
       "0.05939731754049826"
      ]
     },
     "execution_count": 27,
     "metadata": {},
     "output_type": "execute_result"
    }
   ],
   "source": [
    "from sklearn.metrics import r2_score\n",
    "\n",
    "r2_score(y_test, y_pred)"
   ]
  },
  {
   "cell_type": "code",
   "execution_count": 28,
   "id": "611fa8e4",
   "metadata": {},
   "outputs": [
    {
     "name": "stderr",
     "output_type": "stream",
     "text": [
      "C:\\anaconda3\\Lib\\site-packages\\seaborn\\_oldcore.py:1498: FutureWarning: is_categorical_dtype is deprecated and will be removed in a future version. Use isinstance(dtype, CategoricalDtype) instead\n",
      "  if pd.api.types.is_categorical_dtype(vector):\n",
      "C:\\anaconda3\\Lib\\site-packages\\seaborn\\_oldcore.py:1498: FutureWarning: is_categorical_dtype is deprecated and will be removed in a future version. Use isinstance(dtype, CategoricalDtype) instead\n",
      "  if pd.api.types.is_categorical_dtype(vector):\n"
     ]
    },
    {
     "data": {
      "image/png": "[encoded data removed]",
      "text/plain": [
       "<Figure size 1200x600 with 1 Axes>"
      ]
     },
     "metadata": {},
     "output_type": "display_data"
    }
   ],
   "source": [
    "import matplotlib.pyplot as plt\n",
    "import seaborn as sns\n",
    "\n",
    "\n",
    "plt.figure(figsize = (12,6))\n",
    "sns.scatterplot(x= y_test, y= y_pred)\n",
    "plt.xlim(0, 8)\n",
    "plt.ylim(0, 8)\n",
    "plt.title(\"Predictions\")\n",
    "plt.xlabel(\"y_test\")\n",
    "plt.ylabel(\"y_pred\")\n",
    "plt.show()"
   ]
  },
  {
   "cell_type": "markdown",
   "id": "008992a5",
   "metadata": {},
   "source": [
    "### 5.2.2 Regressão Logistica para classificar"
   ]
  },
  {
   "cell_type": "code",
   "execution_count": 29,
   "id": "7871e18f",
   "metadata": {},
   "outputs": [],
   "source": [
    "from sklearn.datasets import load_digits\n",
    "\n",
    "digits = load_digits()"
   ]
  },
  {
   "cell_type": "code",
   "execution_count": 30,
   "id": "59625658",
   "metadata": {},
   "outputs": [
    {
     "name": "stdout",
     "output_type": "stream",
     "text": [
      "Image Data Shape (1797, 64)\n",
      "Label Data Shape (1797,)\n"
     ]
    }
   ],
   "source": [
    "# Vamos ver que há 1797 images (imagens 8 por 8 com uma dimensionalidade de 64)\n",
    "print('Image Data Shape' , digits.data.shape)\n",
    "# Print to show there are 1797 labels (integers from 0–9)\n",
    "print(\"Label Data Shape\", digits.target.shape)"
   ]
  },
  {
   "cell_type": "markdown",
   "id": "ff3abc72",
   "metadata": {},
   "source": [
    "#### Vamos visualizar algumas imagens"
   ]
  },
  {
   "cell_type": "code",
   "execution_count": 31,
   "id": "7561e7c0",
   "metadata": {},
   "outputs": [
    {
     "data": {
      "image/png": "[encoded data removed]",
      "text/plain": [
       "<Figure size 2000x400 with 5 Axes>"
      ]
     },
     "metadata": {},
     "output_type": "display_data"
    }
   ],
   "source": [
    "import numpy as np \n",
    "import matplotlib.pyplot as plt\n",
    "\n",
    "plt.figure(figsize=(20,4))\n",
    "for index, (image, label) in enumerate(zip(digits.data[0:5], digits.target[0:5])):\n",
    " plt.subplot(1, 5, index + 1)\n",
    " # imshow() função dó módulo pyplot module do matplotlib para mostrar dados como imagem; i.e. num raster 2D.\n",
    " plt.imshow(np.reshape(image, (8,8)), cmap=plt.cm.gray)\n",
    " plt.title('Training: %i\\n' % label, fontsize = 20)"
   ]
  },
  {
   "cell_type": "code",
   "execution_count": 32,
   "id": "abd2e759",
   "metadata": {},
   "outputs": [],
   "source": [
    "from sklearn.model_selection import train_test_split\n",
    "\n",
    "X_train, X_test, y_train, y_test = train_test_split(digits.data, digits.target, test_size=0.25, random_state=2023)"
   ]
  },
  {
   "cell_type": "code",
   "execution_count": 33,
   "id": "03415fc0",
   "metadata": {},
   "outputs": [],
   "source": [
    "from sklearn.linear_model import LogisticRegression\n",
    "\n",
    "# sem qualquer parâmetro\n",
    "logisticRegr = LogisticRegression()"
   ]
  },
  {
   "cell_type": "code",
   "execution_count": 34,
   "id": "9fccecd4",
   "metadata": {},
   "outputs": [
    {
     "name": "stderr",
     "output_type": "stream",
     "text": [
      "C:\\anaconda3\\Lib\\site-packages\\sklearn\\linear_model\\_logistic.py:460: ConvergenceWarning: lbfgs failed to converge (status=1):\n",
      "STOP: TOTAL NO. of ITERATIONS REACHED LIMIT.\n",
      "\n",
      "Increase the number of iterations (max_iter) or scale the data as shown in:\n",
      "    https://scikit-learn.org/stable/modules/preprocessing.html\n",
      "Please also refer to the documentation for alternative solver options:\n",
      "    https://scikit-learn.org/stable/modules/linear_model.html#logistic-regression\n",
      "  n_iter_i = _check_optimize_result(\n"
     ]
    },
    {
     "data": {
      "text/html": [
       "<style>#sk-container-id-3 {color: black;}#sk-container-id-3 pre{padding: 0;}#sk-container-id-3 div.sk-toggleable {background-color: white;}#sk-container-id-3 label.sk-toggleable__label {cursor: pointer;display: block;width: 100%;margin-bottom: 0;padding: 0.3em;box-sizing: border-box;text-align: center;}#sk-container-id-3 label.sk-toggleable__label-arrow:before {content: \"▸\";float: left;margin-right: 0.25em;color: #696969;}#sk-container-id-3 label.sk-toggleable__label-arrow:hover:before {color: black;}#sk-container-id-3 div.sk-estimator:hover label.sk-toggleable__label-arrow:before {color: black;}#sk-container-id-3 div.sk-toggleable__content {max-height: 0;max-width: 0;overflow: hidden;text-align: left;background-color: #f0f8ff;}#sk-container-id-3 div.sk-toggleable__content pre {margin: 0.2em;color: black;border-radius: 0.25em;background-color: #f0f8ff;}#sk-container-id-3 input.sk-toggleable__control:checked~div.sk-toggleable__content {max-height: 200px;max-width: 100%;overflow: auto;}#sk-container-id-3 input.sk-toggleable__control:checked~label.sk-toggleable__label-arrow:before {content: \"▾\";}#sk-container-id-3 div.sk-estimator input.sk-toggleable__control:checked~label.sk-toggleable__label {background-color: #d4ebff;}#sk-container-id-3 div.sk-label input.sk-toggleable__control:checked~label.sk-toggleable__label {background-color: #d4ebff;}#sk-container-id-3 input.sk-hidden--visually {border: 0;clip: rect(1px 1px 1px 1px);clip: rect(1px, 1px, 1px, 1px);height: 1px;margin: -1px;overflow: hidden;padding: 0;position: absolute;width: 1px;}#sk-container-id-3 div.sk-estimator {font-family: monospace;background-color: #f0f8ff;border: 1px dotted black;border-radius: 0.25em;box-sizing: border-box;margin-bottom: 0.5em;}#sk-container-id-3 div.sk-estimator:hover {background-color: #d4ebff;}#sk-container-id-3 div.sk-parallel-item::after {content: \"\";width: 100%;border-bottom: 1px solid gray;flex-grow: 1;}#sk-container-id-3 div.sk-label:hover label.sk-toggleable__label {background-color: #d4ebff;}#sk-container-id-3 div.sk-serial::before {content: \"\";position: absolute;border-left: 1px solid gray;box-sizing: border-box;top: 0;bottom: 0;left: 50%;z-index: 0;}#sk-container-id-3 div.sk-serial {display: flex;flex-direction: column;align-items: center;background-color: white;padding-right: 0.2em;padding-left: 0.2em;position: relative;}#sk-container-id-3 div.sk-item {position: relative;z-index: 1;}#sk-container-id-3 div.sk-parallel {display: flex;align-items: stretch;justify-content: center;background-color: white;position: relative;}#sk-container-id-3 div.sk-item::before, #sk-container-id-3 div.sk-parallel-item::before {content: \"\";position: absolute;border-left: 1px solid gray;box-sizing: border-box;top: 0;bottom: 0;left: 50%;z-index: -1;}#sk-container-id-3 div.sk-parallel-item {display: flex;flex-direction: column;z-index: 1;position: relative;background-color: white;}#sk-container-id-3 div.sk-parallel-item:first-child::after {align-self: flex-end;width: 50%;}#sk-container-id-3 div.sk-parallel-item:last-child::after {align-self: flex-start;width: 50%;}#sk-container-id-3 div.sk-parallel-item:only-child::after {width: 0;}#sk-container-id-3 div.sk-dashed-wrapped {border: 1px dashed gray;margin: 0 0.4em 0.5em 0.4em;box-sizing: border-box;padding-bottom: 0.4em;background-color: white;}#sk-container-id-3 div.sk-label label {font-family: monospace;font-weight: bold;display: inline-block;line-height: 1.2em;}#sk-container-id-3 div.sk-label-container {text-align: center;}#sk-container-id-3 div.sk-container {/* jupyter's `normalize.less` sets `[hidden] { display: none; }` but bootstrap.min.css set `[hidden] { display: none !important; }` so we also need the `!important` here to be able to override the default hidden behavior on the sphinx rendered scikit-learn.org. See: https://github.com/scikit-learn/scikit-learn/issues/21755 */display: inline-block !important;position: relative;}#sk-container-id-3 div.sk-text-repr-fallback {display: none;}</style><div id=\"sk-container-id-3\" class=\"sk-top-container\"><div class=\"sk-text-repr-fallback\"><pre>LogisticRegression()</pre><b>In a Jupyter environment, please rerun this cell to show the HTML representation or trust the notebook. <br />On GitHub, the HTML representation is unable to render, please try loading this page with nbviewer.org.</b></div><div class=\"sk-container\" hidden><div class=\"sk-item\"><div class=\"sk-estimator sk-toggleable\"><input class=\"sk-toggleable__control sk-hidden--visually\" id=\"sk-estimator-id-3\" type=\"checkbox\" checked><label for=\"sk-estimator-id-3\" class=\"sk-toggleable__label sk-toggleable__label-arrow\">LogisticRegression</label><div class=\"sk-toggleable__content\"><pre>LogisticRegression()</pre></div></div></div></div></div>"
      ],
      "text/plain": [
       "LogisticRegression()"
      ]
     },
     "execution_count": 34,
     "metadata": {},
     "output_type": "execute_result"
    }
   ],
   "source": [
    "logisticRegr.fit(X_train, y_train)"
   ]
  },
  {
   "cell_type": "code",
   "execution_count": 35,
   "id": "ee12441c",
   "metadata": {},
   "outputs": [
    {
     "data": {
      "text/plain": [
       "array([5])"
      ]
     },
     "execution_count": 35,
     "metadata": {},
     "output_type": "execute_result"
    }
   ],
   "source": [
    "# Retorna um Array NumPy \n",
    "# Prevê para um único caso (imagem)\n",
    "prv1 = logisticRegr.predict(X_test[0].reshape(1,-1))\n",
    "prv1"
   ]
  },
  {
   "cell_type": "code",
   "execution_count": 36,
   "id": "1aa72adb",
   "metadata": {},
   "outputs": [
    {
     "data": {
      "text/plain": [
       "<matplotlib.image.AxesImage at 0x249eef5a250>"
      ]
     },
     "execution_count": 36,
     "metadata": {},
     "output_type": "execute_result"
    },
    {
     "data": {
      "image/png": "[encoded data removed]",
      "text/plain": [
       "<Figure size 2000x400 with 1 Axes>"
      ]
     },
     "metadata": {},
     "output_type": "display_data"
    }
   ],
   "source": [
    "# vamos ver a imagem\n",
    "plt.figure(figsize=(20,4))\n",
    "plt.imshow(np.reshape(X_test[0], (8,8)), cmap=plt.cm.gray)"
   ]
  },
  {
   "cell_type": "code",
   "execution_count": 37,
   "id": "8b702444",
   "metadata": {},
   "outputs": [
    {
     "data": {
      "text/plain": [
       "array([[1.35507670e-03, 5.16308021e-05, 3.71763129e-13, 9.59994043e-04,\n",
       "        6.82877586e-08, 9.93529219e-01, 3.91921019e-03, 1.30579077e-04,\n",
       "        5.23880836e-05, 1.83418213e-06]])"
      ]
     },
     "execution_count": 37,
     "metadata": {},
     "output_type": "execute_result"
    }
   ],
   "source": [
    "# probabilidade de que seja um 5 é de 9.93529410e-01\n",
    "prob1 = logisticRegr.predict_proba(X_test[0].reshape(1,-1))\n",
    "prob1"
   ]
  },
  {
   "cell_type": "code",
   "execution_count": 38,
   "id": "18022d6c",
   "metadata": {},
   "outputs": [
    {
     "data": {
      "text/plain": [
       "array([[ 0.00000000e+00, -4.46890345e-03, -6.44194692e-02,\n",
       "         5.84874308e-02,  4.04842232e-02, -1.14256279e-01,\n",
       "        -1.32451899e-01, -1.06331807e-02, -1.29308316e-04,\n",
       "        -3.68734481e-02, -1.17057724e-03,  1.03573006e-01,\n",
       "         7.45133327e-02,  1.15257855e-01, -7.36965295e-02,\n",
       "        -9.66609915e-03, -1.01626667e-03, -8.10451517e-03,\n",
       "         1.53847979e-01,  3.05378873e-02, -2.77541733e-01,\n",
       "         2.11586017e-01,  5.03352713e-02, -3.01826563e-03,\n",
       "        -5.00905004e-04,  9.13140100e-02,  1.05878823e-01,\n",
       "        -1.32967595e-01, -4.70230375e-01,  6.22511583e-03,\n",
       "         8.61279078e-02, -3.41448948e-04,  0.00000000e+00,\n",
       "         1.86126628e-01,  1.29949983e-01, -2.05406873e-01,\n",
       "        -3.98973392e-01,  5.28427632e-02,  5.61484094e-02,\n",
       "         0.00000000e+00, -7.40706146e-04, -2.06680637e-03,\n",
       "         2.65532290e-01, -1.42043729e-01, -1.13116621e-01,\n",
       "         7.48724946e-02,  4.24277992e-02, -5.03031084e-04,\n",
       "        -2.57857047e-03, -7.31238605e-02,  8.95805801e-02,\n",
       "         3.08000567e-02,  1.20271839e-01,  2.33376480e-02,\n",
       "        -2.57540749e-02, -1.01075360e-02, -1.59739958e-05,\n",
       "        -1.20312446e-02, -8.69040665e-02,  1.83712433e-01,\n",
       "        -2.63043690e-02, -4.35911950e-02, -3.52144997e-02,\n",
       "        -1.18788512e-02],\n",
       "       [ 0.00000000e+00, -2.45534609e-02, -9.79908240e-02,\n",
       "         8.51459514e-02, -7.01138973e-01,  3.96021427e-01,\n",
       "        -6.86465764e-03, -1.00285639e-02, -2.19829376e-03,\n",
       "        -2.03718839e-01, -2.88227842e-01, -3.80236740e-01,\n",
       "         1.80050535e-01, -1.53968949e-01, -3.28690177e-01,\n",
       "        -9.22988462e-03,  7.55077439e-02,  2.94067798e-01,\n",
       "        -7.98824996e-02,  7.07720948e-01,  2.06250849e-01,\n",
       "        -9.69656851e-02, -1.76408142e-02, -3.66605030e-03,\n",
       "         2.06133586e-02, -9.50366603e-02, -3.16697377e-02,\n",
       "         3.47591280e-02,  2.02291512e-01,  1.06444090e-01,\n",
       "        -2.75879253e-03, -9.77264361e-05,  0.00000000e+00,\n",
       "         9.69334266e-02,  1.64362535e-01, -1.78362518e-01,\n",
       "         1.58941780e-01,  1.34414257e-01, -1.69610605e-01,\n",
       "         0.00000000e+00, -2.54900482e-04, -1.45807399e-01,\n",
       "         2.30252321e-02,  3.27884064e-01, -6.60325066e-02,\n",
       "        -1.56120620e-01, -4.81960691e-01, -7.78637767e-04,\n",
       "        -1.77472549e-03, -8.32332606e-02, -9.50917894e-02,\n",
       "         1.65493217e-01,  2.93385451e-01, -2.39181653e-02,\n",
       "        -2.22464104e-01,  2.19009888e-01, -5.09148500e-04,\n",
       "        -3.24317281e-03, -2.37950694e-01,  4.87420613e-02,\n",
       "         1.45810044e-01,  1.28337892e-01,  1.41424196e-01,\n",
       "         2.14222854e-01],\n",
       "       [ 0.00000000e+00,  3.83202372e-02,  3.28106826e-02,\n",
       "        -5.49172641e-03,  7.17109327e-02,  5.19484014e-02,\n",
       "         2.53707100e-02, -3.18122528e-03, -2.32238804e-02,\n",
       "         9.51877008e-02,  3.69865113e-02, -1.30357233e-01,\n",
       "         3.26126842e-01,  9.34561006e-03,  6.49608665e-02,\n",
       "        -3.57093592e-03, -1.14500363e-02, -3.75559852e-02,\n",
       "        -9.39606046e-02, -2.28378574e-01,  1.96291940e-01,\n",
       "        -1.00189165e-02,  1.16948493e-01, -1.02711906e-03,\n",
       "        -5.30857089e-05, -1.53585216e-01, -5.19802003e-01,\n",
       "        -3.41329973e-01, -1.57418016e-01, -3.22953449e-02,\n",
       "        -3.09383831e-02, -4.29434730e-05,  0.00000000e+00,\n",
       "        -1.30816159e-01, -4.25050669e-01, -1.20309467e-01,\n",
       "        -8.28619012e-03, -2.83051211e-01, -2.25220434e-01,\n",
       "         0.00000000e+00, -1.43077720e-04,  6.17102135e-02,\n",
       "         1.08451056e-01,  3.88695113e-01, -2.66201680e-01,\n",
       "        -3.36384810e-01, -1.17039099e-01,  3.53716388e-03,\n",
       "         3.67903346e-03,  9.03905785e-02,  7.01828500e-02,\n",
       "         3.92283614e-01,  3.09536409e-01,  3.17095480e-01,\n",
       "         1.11991276e-01,  2.16278458e-02,  1.26979976e-03,\n",
       "         5.57390294e-02,  1.60411357e-01,  2.69768240e-02,\n",
       "         7.81647150e-02,  2.48456996e-01,  4.02858086e-01,\n",
       "         2.08452100e-01],\n",
       "       [ 0.00000000e+00,  1.07312005e-01, -1.57993535e-01,\n",
       "         1.70849889e-01,  4.22322323e-01,  2.67988743e-02,\n",
       "        -3.30853506e-02, -3.00967404e-03, -3.14452958e-03,\n",
       "         1.43482581e-01,  4.94983164e-02,  9.94669355e-02,\n",
       "         3.75487784e-02,  2.05916951e-01,  2.27767013e-01,\n",
       "        -7.18740299e-03, -3.06979883e-04, -1.89555736e-01,\n",
       "        -2.89394640e-01, -4.92535457e-01,  1.95774791e-01,\n",
       "        -2.70932799e-01,  1.35617769e-02, -1.04158840e-03,\n",
       "        -2.86195536e-05, -1.49686893e-01, -4.37121299e-01,\n",
       "        -1.08435544e-01,  2.40916872e-01, -3.56651209e-01,\n",
       "        -2.68703890e-01, -4.29141167e-05,  0.00000000e+00,\n",
       "        -8.47889902e-02, -5.85110610e-02,  1.20311610e-02,\n",
       "         1.33157923e-01, -1.31054489e-01,  6.50353992e-02,\n",
       "         0.00000000e+00, -1.43013237e-04,  1.75070769e-02,\n",
       "        -4.91589107e-01, -4.69872240e-01,  1.54536800e-01,\n",
       "         3.20267945e-01,  3.17766358e-01, -2.91268259e-03,\n",
       "        -1.75505272e-04, -5.54599364e-02,  7.33533529e-02,\n",
       "        -2.07219236e-01, -8.77620870e-02,  1.80371881e-01,\n",
       "         3.15051844e-01, -5.76366867e-02, -1.55598230e-05,\n",
       "         4.49315831e-02,  2.49142959e-01,  1.50502361e-01,\n",
       "         3.50870277e-02,  4.55874478e-02, -1.51082493e-02,\n",
       "        -2.17516561e-01],\n",
       "       [ 0.00000000e+00, -1.73443433e-02, -1.15242345e-01,\n",
       "        -4.24992367e-01, -2.57807471e-01, -3.41811607e-01,\n",
       "        -2.50119134e-01,  5.85575446e-02, -1.40123122e-04,\n",
       "         8.28892054e-02, -2.23038612e-01, -1.67485605e-01,\n",
       "        -3.95572280e-01, -1.53735155e-01, -1.60039055e-01,\n",
       "         4.56768474e-02, -1.86514269e-03,  2.48740666e-01,\n",
       "         6.51170138e-02,  1.25181190e-01,  9.31321563e-03,\n",
       "        -4.97258981e-02, -5.86986335e-02,  4.22295542e-02,\n",
       "         1.67226637e-02,  6.03967669e-02,  4.46060040e-01,\n",
       "         8.59849568e-02,  5.76350843e-02,  1.62677849e-01,\n",
       "         4.47862241e-01,  3.72549140e-03,  0.00000000e+00,\n",
       "         8.42239752e-02,  2.60849982e-01, -1.10286279e-01,\n",
       "         2.87995811e-01,  2.43576368e-01,  4.40649306e-01,\n",
       "         0.00000000e+00,  2.52285174e-03,  4.11083370e-01,\n",
       "         4.64422830e-02,  6.50865805e-01,  3.99139800e-01,\n",
       "         7.81260547e-02,  1.32248606e-01, -6.21051529e-04,\n",
       "         5.28525074e-03,  2.09061042e-01, -2.52125525e-01,\n",
       "         1.19121924e-01,  1.04471044e-01, -2.35862535e-01,\n",
       "        -2.41652361e-01, -9.71265024e-03, -1.82304897e-05,\n",
       "        -3.22970291e-02,  2.00554365e-03, -2.12646054e-01,\n",
       "        -1.71727196e-01, -1.73895671e-01, -8.45426212e-02,\n",
       "        -7.12961026e-03],\n",
       "       [ 0.00000000e+00,  6.63368910e-02,  4.88322709e-01,\n",
       "        -1.94275450e-01, -5.35759680e-02,  3.50725169e-01,\n",
       "         3.12400928e-01, -1.07257778e-02, -3.99971233e-04,\n",
       "        -3.98616769e-02,  2.13315086e-01,  1.68962520e-01,\n",
       "        -8.28445806e-02, -3.73130194e-02, -4.20639594e-02,\n",
       "         1.74161407e-03, -2.77596009e-03,  7.32723898e-02,\n",
       "         1.88899150e-01,  1.88355914e-02, -3.95323078e-01,\n",
       "        -3.85047220e-01, -3.97352667e-01, -4.22571398e-03,\n",
       "        -1.37181130e-03,  1.50657945e-01,  3.41193377e-01,\n",
       "         1.64885708e-02,  3.02536994e-01, -1.37660472e-01,\n",
       "        -2.97658522e-01, -4.61476168e-05,  0.00000000e+00,\n",
       "        -2.12581866e-02,  9.97241668e-03, -2.62286703e-01,\n",
       "        -1.74519022e-01,  5.85675528e-03,  8.69653991e-02,\n",
       "         0.00000000e+00, -1.43274996e-04, -3.31301854e-01,\n",
       "        -3.14848785e-01, -2.57809626e-01, -1.40348958e-01,\n",
       "         1.95857079e-01, -3.43888714e-02, -5.09837188e-04,\n",
       "        -1.74260374e-04, -3.17816473e-02,  1.47361215e-02,\n",
       "        -1.03857001e-01, -8.22912859e-02, -2.67582523e-02,\n",
       "        -6.87281594e-02, -2.56752710e-02, -1.48878937e-05,\n",
       "         4.78049166e-02,  4.12331228e-01,  1.68016374e-01,\n",
       "        -6.46799076e-02,  3.55008272e-02, -8.96661761e-02,\n",
       "        -4.34994872e-02],\n",
       "       [ 0.00000000e+00, -1.60261147e-02, -1.75715082e-01,\n",
       "        -9.89794610e-02, -1.13791668e-01, -1.70403714e-01,\n",
       "        -4.03408456e-02, -2.72648993e-03, -1.69773194e-04,\n",
       "        -1.46034016e-01, -1.19516046e-01,  3.51946608e-02,\n",
       "        -3.09259035e-01,  1.41134999e-02,  1.64483794e-02,\n",
       "        -2.37563453e-03, -6.25751814e-03, -1.40661721e-01,\n",
       "         9.99123991e-02,  1.03402106e-01, -2.73188652e-01,\n",
       "        -3.29405012e-01, -1.03554199e-01, -1.37271907e-03,\n",
       "        -3.11501064e-03,  1.86808494e-01,  7.51596589e-02,\n",
       "         8.15173821e-02, -1.20454194e-01, -4.42355643e-02,\n",
       "        -1.80624715e-01, -2.36013104e-04,  0.00000000e+00,\n",
       "         1.66261516e-01,  1.15957570e-01,  3.44661805e-01,\n",
       "        -3.30536784e-02, -8.45290086e-02,  1.62657759e-01,\n",
       "         0.00000000e+00, -6.62830318e-04,  4.17384303e-02,\n",
       "         5.38524215e-01,  1.40463299e-01,  1.68978077e-01,\n",
       "         5.25633086e-02,  2.89754613e-01,  4.73839053e-03,\n",
       "        -1.71665913e-03, -7.59819043e-02,  1.47896546e-01,\n",
       "         1.05050493e-02, -6.05106817e-02,  2.38624361e-01,\n",
       "         7.27600881e-02, -1.60493345e-01, -1.45560062e-05,\n",
       "        -1.59472846e-02, -1.96699534e-01, -1.43632072e-01,\n",
       "        -2.17071057e-02,  1.19827576e-01,  1.59327065e-02,\n",
       "        -8.45770691e-02],\n",
       "       [ 0.00000000e+00,  3.89197708e-02,  5.98166674e-02,\n",
       "         1.82416343e-01,  1.97824813e-01,  7.34014926e-02,\n",
       "         1.99331159e-01,  8.84537799e-02, -1.30482354e-04,\n",
       "         1.29603598e-01,  1.79555329e-01,  1.02918514e-01,\n",
       "         5.21423381e-01, -1.04737038e-01, -4.67143250e-02,\n",
       "         5.09634735e-02, -7.34873233e-05, -2.57640858e-01,\n",
       "        -3.01035604e-01, -1.98345879e-01,  9.20397901e-02,\n",
       "         2.12248317e-01,  1.85354121e-01,  1.00184080e-02,\n",
       "        -3.65055473e-05, -1.39027133e-01, -1.43169432e-02,\n",
       "        -3.12423842e-01,  1.93339759e-03,  2.02580522e-01,\n",
       "         2.22111771e-01, -1.59500381e-03,  0.00000000e+00,\n",
       "         2.07056461e-01, -1.09263923e-02, -5.50699047e-02,\n",
       "         1.45249458e-01,  2.21419221e-01,  1.99598798e-01,\n",
       "         0.00000000e+00, -1.43489342e-04,  3.50796138e-02,\n",
       "         3.14232164e-02,  8.58084662e-02,  7.95821747e-02,\n",
       "        -2.80289249e-02, -1.70368777e-02, -4.89182163e-04,\n",
       "        -2.25991245e-04, -6.15829473e-02, -1.00694065e-01,\n",
       "         3.65839890e-02, -2.03113707e-01, -3.81786378e-01,\n",
       "        -1.28620354e-01, -3.87105368e-03, -2.86314734e-05,\n",
       "         1.31840816e-04,  2.29307533e-02, -2.45894638e-01,\n",
       "        -2.34742311e-01, -3.69391743e-01, -1.09544201e-01,\n",
       "        -8.50099550e-03],\n",
       "       [ 0.00000000e+00, -5.18624835e-02,  9.43694377e-02,\n",
       "        -2.17727765e-01,  2.15797649e-01, -1.98449590e-01,\n",
       "        -1.20047476e-01, -2.05465508e-02,  2.97610973e-02,\n",
       "        -9.19995590e-02,  7.58319601e-02,  1.15905113e-01,\n",
       "        -2.98816091e-01,  1.18289126e-01,  1.47095387e-01,\n",
       "        -7.71393005e-03, -5.07834945e-02, -3.63584178e-02,\n",
       "         2.25032096e-01, -1.38406922e-01,  7.19587183e-02,\n",
       "         1.96842960e-01,  9.47482589e-02, -2.48018645e-03,\n",
       "        -3.17630246e-02, -3.55350835e-02, -1.93527755e-01,\n",
       "         3.78085105e-01, -9.25921561e-02, -6.48179137e-02,\n",
       "         4.47631436e-03, -1.04014932e-04,  0.00000000e+00,\n",
       "        -1.49480247e-01, -7.45808543e-02,  4.04490235e-01,\n",
       "         6.14633522e-03, -1.67451608e-01, -5.06005011e-01,\n",
       "         0.00000000e+00, -1.48434758e-04,  7.25464202e-02,\n",
       "         2.15450328e-01,  3.80957921e-02,  2.52162457e-01,\n",
       "        -2.12769715e-02,  1.33645052e-01, -1.95587589e-03,\n",
       "        -2.14150549e-03, -8.09518152e-02,  1.37293802e-01,\n",
       "        -2.42450781e-01, -2.24567210e-01,  1.23327536e-01,\n",
       "         2.72788676e-01, -1.51685728e-02, -6.36893127e-04,\n",
       "         1.25212266e-02, -3.09731644e-01, -6.97503037e-02,\n",
       "         2.91822139e-01, -8.71147926e-02, -1.26124618e-01,\n",
       "        -7.19989145e-02],\n",
       "       [ 0.00000000e+00, -1.36633598e-01, -6.39582414e-02,\n",
       "         4.44567155e-01,  1.78174139e-01, -7.39741747e-02,\n",
       "         4.58065657e-02, -8.61598620e-02, -2.24735387e-04,\n",
       "         6.73244537e-02,  7.67658746e-02,  5.20588281e-02,\n",
       "        -5.31708815e-02, -1.31688799e-02,  1.94932400e-01,\n",
       "        -5.86380477e-02, -9.78858357e-04,  5.37963783e-02,\n",
       "         3.14647098e-02,  7.19891089e-02,  1.74424158e-01,\n",
       "         5.21418236e-01,  1.16298393e-01, -3.54163193e-02,\n",
       "        -4.67059957e-04,  8.36937693e-02,  2.28145839e-01,\n",
       "         2.98321811e-01,  3.53808823e-02,  1.57732928e-01,\n",
       "         2.01060685e-02, -1.21927896e-03,  0.00000000e+00,\n",
       "        -3.54258424e-01, -1.12023510e-01,  1.70538544e-01,\n",
       "        -1.16659024e-01,  7.97695125e-03, -1.10219020e-01,\n",
       "         0.00000000e+00, -1.43124741e-04, -1.60489065e-01,\n",
       "        -4.22410728e-01, -7.62086943e-01, -4.68699542e-01,\n",
       "        -1.79875555e-01, -2.65416889e-01, -5.05256209e-04,\n",
       "        -1.77066733e-04,  1.62663751e-01, -8.51318731e-02,\n",
       "        -2.01260833e-01, -1.69419771e-01, -2.14431575e-01,\n",
       "        -8.53728310e-02,  4.20273810e-02, -1.59184503e-05,\n",
       "        -9.76098654e-02, -1.55359016e-02,  9.39730158e-02,\n",
       "        -3.17230365e-02,  9.62826624e-02, -1.00014623e-01,\n",
       "         2.24265348e-02]])"
      ]
     },
     "execution_count": 38,
     "metadata": {},
     "output_type": "execute_result"
    }
   ],
   "source": [
    "# lista dos coeficientes para se quisermos calcular nós as probabilidades\n",
    "# um array de 10 arrays com 64 (8x8) factores cada um\n",
    "logisticRegr.coef_"
   ]
  },
  {
   "cell_type": "code",
   "execution_count": 39,
   "id": "cef520c0",
   "metadata": {},
   "outputs": [
    {
     "data": {
      "text/plain": [
       "array([5, 4, 3, 7, 4, 4, 5, 8, 4, 2, 3, 5, 4, 2, 5, 0, 6, 0, 5, 1, 6, 3,\n",
       "       9, 4, 9, 6, 5, 5, 8, 9, 9, 0, 2, 1, 6, 9, 4, 9, 4, 9, 8, 2, 8, 4,\n",
       "       2, 9, 6, 3, 2, 9, 0, 0, 3, 2, 3, 8, 4, 1, 6, 4, 2, 5, 5, 5, 1, 9,\n",
       "       5, 2, 9, 1, 2, 1, 4, 5, 3, 9, 5, 3, 9, 8, 9, 7, 3, 7, 8, 0, 3, 7,\n",
       "       0, 4, 3, 4, 5, 6, 2, 1, 8, 1, 9, 6, 4, 6, 4, 4, 0, 0, 8, 7, 4, 6,\n",
       "       3, 1, 0, 4, 2, 3, 4, 9, 6, 9, 1, 7, 5, 5, 0, 6, 4, 5, 6, 8, 8, 7,\n",
       "       6, 2, 2, 3, 7, 1, 1, 3, 7, 6, 3, 1, 6, 6, 9, 0, 5, 4, 2, 5, 0, 2,\n",
       "       1, 8, 1, 1, 5, 0, 1, 3, 7, 1, 8, 4, 6, 6, 3, 7, 7, 2, 6, 4, 9, 2,\n",
       "       8, 6, 7, 2, 1, 5, 2, 2, 9, 0, 8, 6, 5, 3, 0, 6, 0, 8, 0, 6, 7, 8,\n",
       "       7, 3, 4, 5, 0, 5, 5, 7, 6, 0, 4, 3, 1, 8, 2, 8, 7, 1, 1, 5, 2, 5,\n",
       "       8, 3, 8, 4, 4, 8, 9, 9, 9, 5, 9, 1, 4, 4, 4, 0, 7, 6, 6, 3, 8, 2,\n",
       "       5, 5, 1, 8, 5, 6, 4, 3, 0, 0, 3, 4, 2, 8, 9, 7, 6, 6, 8, 0, 7, 8,\n",
       "       3, 1, 5, 9, 6, 2, 7, 8, 3, 5, 8, 8, 4, 7, 4, 7, 7, 5, 6, 3, 3, 8,\n",
       "       8, 9, 7, 2, 4, 4, 0, 7, 8, 4, 7, 6, 6, 8, 0, 9, 1, 3, 1, 9, 7, 6,\n",
       "       3, 2, 7, 3, 1, 3, 9, 6, 6, 7, 3, 5, 6, 5, 0, 1, 6, 1, 2, 8, 9, 9,\n",
       "       1, 5, 3, 4, 2, 3, 6, 3, 0, 4, 2, 3, 0, 5, 3, 0, 4, 2, 3, 7, 9, 3,\n",
       "       4, 6, 0, 4, 0, 0, 6, 5, 1, 4, 6, 4, 9, 4, 4, 5, 5, 3, 0, 6, 1, 3,\n",
       "       4, 0, 0, 3, 0, 7, 1, 1, 9, 2, 6, 4, 0, 5, 0, 0, 1, 0, 4, 7, 0, 2,\n",
       "       2, 6, 0, 6, 1, 1, 6, 4, 2, 4, 8, 7, 7, 7, 0, 1, 4, 7, 7, 9, 0, 4,\n",
       "       0, 6, 0, 0, 3, 8, 0, 5, 7, 8, 3, 6, 0, 4, 2, 1, 4, 2, 0, 9, 9, 2,\n",
       "       5, 1, 1, 3, 8, 5, 3, 3, 7, 4])"
      ]
     },
     "execution_count": 39,
     "metadata": {},
     "output_type": "execute_result"
    }
   ],
   "source": [
    "y_pred = logisticRegr.predict(X_test)\n",
    "y_pred"
   ]
  },
  {
   "cell_type": "code",
   "execution_count": 40,
   "id": "9595d92a",
   "metadata": {},
   "outputs": [
    {
     "data": {
      "image/png": "[encoded data removed]",
      "text/plain": [
       "<Figure size 900x900 with 2 Axes>"
      ]
     },
     "metadata": {},
     "output_type": "display_data"
    }
   ],
   "source": [
    "import matplotlib.pyplot as plt\n",
    "import seaborn as sns\n",
    "from sklearn import metrics\n",
    "\n",
    "cm = metrics.confusion_matrix(y_test, y_pred)\n",
    "\n",
    "plt.figure(figsize=(9,9))\n",
    "sns.heatmap(cm, annot=True, fmt=\".3f\", linewidths=.5, square = True, cmap = 'Blues_r');\n",
    "plt.ylabel('Actual label');\n",
    "plt.xlabel('Predicted label');\n",
    "all_sample_title = 'Accuracy Score: {0}'.format(metrics.accuracy_score(y_pred, y_test))\n",
    "plt.title(all_sample_title, size = 15);"
   ]
  },
  {
   "cell_type": "markdown",
   "id": "c3260a11",
   "metadata": {},
   "source": [
    "# 6. Regularização\n",
    "\n",
    "A regressão linear funciona selecionando coeficientes para cada variável independente que minimiza uma função de perda.<br>\n",
    "No entanto, se os coeficientes forem muito grandes, isso pode levar ao ajuste excessivo do modelo no conjunto de dados de treino. Tal modelo não generalizará bem para dados que ainda não viu. <br><br>\n",
    "Para superar esta problema, fazemos regularizações que penalizam grandes coeficientes. "
   ]
  },
  {
   "cell_type": "markdown",
   "id": "30f773b2",
   "metadata": {},
   "source": [
    "## 6.1 Regularização com Ridge Regression"
   ]
  },
  {
   "cell_type": "markdown",
   "id": "e84d5884",
   "metadata": {},
   "source": [
    "### 6.1.1 Exemplo de Ridge Regression usando os datasets do Scikit"
   ]
  },
  {
   "cell_type": "code",
   "execution_count": 41,
   "id": "d0e905eb",
   "metadata": {},
   "outputs": [],
   "source": [
    "#Importa desta feita os datasets\n",
    "from sklearn import datasets\n",
    "\n",
    "#Load dataset de diabetes\n",
    "diabetes_X,diabetes_y = datasets.load_diabetes(return_X_y = True , as_frame = True)"
   ]
  },
  {
   "cell_type": "code",
   "execution_count": 42,
   "id": "d71563ae",
   "metadata": {},
   "outputs": [
    {
     "data": {
      "text/plain": [
       "<bound method NDFrame.keys of           age       sex       bmi        bp        s1        s2        s3  \\\n",
       "0    0.038076  0.050680  0.061696  0.021872 -0.044223 -0.034821 -0.043401   \n",
       "1   -0.001882 -0.044642 -0.051474 -0.026328 -0.008449 -0.019163  0.074412   \n",
       "2    0.085299  0.050680  0.044451 -0.005670 -0.045599 -0.034194 -0.032356   \n",
       "3   -0.089063 -0.044642 -0.011595 -0.036656  0.012191  0.024991 -0.036038   \n",
       "4    0.005383 -0.044642 -0.036385  0.021872  0.003935  0.015596  0.008142   \n",
       "..        ...       ...       ...       ...       ...       ...       ...   \n",
       "437  0.041708  0.050680  0.019662  0.059744 -0.005697 -0.002566 -0.028674   \n",
       "438 -0.005515  0.050680 -0.015906 -0.067642  0.049341  0.079165 -0.028674   \n",
       "439  0.041708  0.050680 -0.015906  0.017293 -0.037344 -0.013840 -0.024993   \n",
       "440 -0.045472 -0.044642  0.039062  0.001215  0.016318  0.015283 -0.028674   \n",
       "441 -0.045472 -0.044642 -0.073030 -0.081413  0.083740  0.027809  0.173816   \n",
       "\n",
       "           s4        s5        s6  \n",
       "0   -0.002592  0.019907 -0.017646  \n",
       "1   -0.039493 -0.068332 -0.092204  \n",
       "2   -0.002592  0.002861 -0.025930  \n",
       "3    0.034309  0.022688 -0.009362  \n",
       "4   -0.002592 -0.031988 -0.046641  \n",
       "..        ...       ...       ...  \n",
       "437 -0.002592  0.031193  0.007207  \n",
       "438  0.034309 -0.018114  0.044485  \n",
       "439 -0.011080 -0.046883  0.015491  \n",
       "440  0.026560  0.044529 -0.025930  \n",
       "441 -0.039493 -0.004222  0.003064  \n",
       "\n",
       "[442 rows x 10 columns]>"
      ]
     },
     "execution_count": 42,
     "metadata": {},
     "output_type": "execute_result"
    }
   ],
   "source": [
    "# Colunas que temos nos dados\n",
    "diabetes_X.keys"
   ]
  },
  {
   "cell_type": "code",
   "execution_count": 43,
   "id": "31a13639",
   "metadata": {},
   "outputs": [
    {
     "data": {
      "text/plain": [
       "0      151.0\n",
       "1       75.0\n",
       "2      141.0\n",
       "3      206.0\n",
       "4      135.0\n",
       "       ...  \n",
       "437    178.0\n",
       "438    104.0\n",
       "439    132.0\n",
       "440    220.0\n",
       "441     57.0\n",
       "Name: target, Length: 442, dtype: float64"
      ]
     },
     "execution_count": 43,
     "metadata": {},
     "output_type": "execute_result"
    }
   ],
   "source": [
    "diabetes_y"
   ]
  },
  {
   "cell_type": "code",
   "execution_count": 44,
   "id": "8d55b035",
   "metadata": {},
   "outputs": [
    {
     "data": {
      "text/plain": [
       "(442, 10)"
      ]
     },
     "execution_count": 44,
     "metadata": {},
     "output_type": "execute_result"
    }
   ],
   "source": [
    "# print data(feature)shape\n",
    "diabetes_X.shape"
   ]
  },
  {
   "cell_type": "code",
   "execution_count": 45,
   "id": "ce5ab192",
   "metadata": {},
   "outputs": [],
   "source": [
    "from sklearn.model_selection import train_test_split\n",
    "\n",
    "X_train, X_test, y_train, y_test = train_test_split(diabetes_X, diabetes_y, test_size=0.3,random_state=2510) "
   ]
  },
  {
   "cell_type": "code",
   "execution_count": 46,
   "id": "68ccff8a",
   "metadata": {},
   "outputs": [
    {
     "data": {
      "text/html": [
       "<div>\n",
       "<style scoped>\n",
       "    .dataframe tbody tr th:only-of-type {\n",
       "        vertical-align: middle;\n",
       "    }\n",
       "\n",
       "    .dataframe tbody tr th {\n",
       "        vertical-align: top;\n",
       "    }\n",
       "\n",
       "    .dataframe thead th {\n",
       "        text-align: right;\n",
       "    }\n",
       "</style>\n",
       "<table border=\"1\" class=\"dataframe\">\n",
       "  <thead>\n",
       "    <tr style=\"text-align: right;\">\n",
       "      <th></th>\n",
       "      <th>age</th>\n",
       "      <th>sex</th>\n",
       "      <th>bmi</th>\n",
       "      <th>bp</th>\n",
       "      <th>s1</th>\n",
       "      <th>s2</th>\n",
       "      <th>s3</th>\n",
       "      <th>s4</th>\n",
       "      <th>s5</th>\n",
       "      <th>s6</th>\n",
       "    </tr>\n",
       "  </thead>\n",
       "  <tbody>\n",
       "    <tr>\n",
       "      <th>24</th>\n",
       "      <td>-0.063635</td>\n",
       "      <td>-0.044642</td>\n",
       "      <td>0.035829</td>\n",
       "      <td>-0.022885</td>\n",
       "      <td>-0.030464</td>\n",
       "      <td>-0.018850</td>\n",
       "      <td>-0.006584</td>\n",
       "      <td>-0.002592</td>\n",
       "      <td>-0.025953</td>\n",
       "      <td>-0.054925</td>\n",
       "    </tr>\n",
       "    <tr>\n",
       "      <th>241</th>\n",
       "      <td>0.030811</td>\n",
       "      <td>0.050680</td>\n",
       "      <td>-0.008362</td>\n",
       "      <td>0.004658</td>\n",
       "      <td>0.014942</td>\n",
       "      <td>0.027496</td>\n",
       "      <td>0.008142</td>\n",
       "      <td>-0.008127</td>\n",
       "      <td>-0.029526</td>\n",
       "      <td>0.056912</td>\n",
       "    </tr>\n",
       "    <tr>\n",
       "      <th>121</th>\n",
       "      <td>0.063504</td>\n",
       "      <td>-0.044642</td>\n",
       "      <td>0.017506</td>\n",
       "      <td>0.021872</td>\n",
       "      <td>0.008063</td>\n",
       "      <td>0.021546</td>\n",
       "      <td>-0.036038</td>\n",
       "      <td>0.034309</td>\n",
       "      <td>0.019907</td>\n",
       "      <td>0.011349</td>\n",
       "    </tr>\n",
       "    <tr>\n",
       "      <th>138</th>\n",
       "      <td>0.034443</td>\n",
       "      <td>0.050680</td>\n",
       "      <td>0.111276</td>\n",
       "      <td>0.076958</td>\n",
       "      <td>-0.031840</td>\n",
       "      <td>-0.033881</td>\n",
       "      <td>-0.021311</td>\n",
       "      <td>-0.002592</td>\n",
       "      <td>0.028020</td>\n",
       "      <td>0.073480</td>\n",
       "    </tr>\n",
       "    <tr>\n",
       "      <th>90</th>\n",
       "      <td>0.012648</td>\n",
       "      <td>-0.044642</td>\n",
       "      <td>-0.025607</td>\n",
       "      <td>-0.040099</td>\n",
       "      <td>-0.030464</td>\n",
       "      <td>-0.045155</td>\n",
       "      <td>0.078093</td>\n",
       "      <td>-0.076395</td>\n",
       "      <td>-0.072133</td>\n",
       "      <td>0.011349</td>\n",
       "    </tr>\n",
       "    <tr>\n",
       "      <th>...</th>\n",
       "      <td>...</td>\n",
       "      <td>...</td>\n",
       "      <td>...</td>\n",
       "      <td>...</td>\n",
       "      <td>...</td>\n",
       "      <td>...</td>\n",
       "      <td>...</td>\n",
       "      <td>...</td>\n",
       "      <td>...</td>\n",
       "      <td>...</td>\n",
       "    </tr>\n",
       "    <tr>\n",
       "      <th>70</th>\n",
       "      <td>-0.001882</td>\n",
       "      <td>-0.044642</td>\n",
       "      <td>-0.069797</td>\n",
       "      <td>-0.012556</td>\n",
       "      <td>-0.000193</td>\n",
       "      <td>-0.009143</td>\n",
       "      <td>0.070730</td>\n",
       "      <td>-0.039493</td>\n",
       "      <td>-0.062917</td>\n",
       "      <td>0.040343</td>\n",
       "    </tr>\n",
       "    <tr>\n",
       "      <th>163</th>\n",
       "      <td>0.016281</td>\n",
       "      <td>0.050680</td>\n",
       "      <td>0.072474</td>\n",
       "      <td>0.076958</td>\n",
       "      <td>-0.008449</td>\n",
       "      <td>0.005575</td>\n",
       "      <td>-0.006584</td>\n",
       "      <td>-0.002592</td>\n",
       "      <td>-0.023647</td>\n",
       "      <td>0.061054</td>\n",
       "    </tr>\n",
       "    <tr>\n",
       "      <th>328</th>\n",
       "      <td>-0.038207</td>\n",
       "      <td>-0.044642</td>\n",
       "      <td>0.067085</td>\n",
       "      <td>-0.060756</td>\n",
       "      <td>-0.029088</td>\n",
       "      <td>-0.023234</td>\n",
       "      <td>-0.010266</td>\n",
       "      <td>-0.002592</td>\n",
       "      <td>-0.001496</td>\n",
       "      <td>0.019633</td>\n",
       "    </tr>\n",
       "    <tr>\n",
       "      <th>333</th>\n",
       "      <td>0.027178</td>\n",
       "      <td>0.050680</td>\n",
       "      <td>-0.006206</td>\n",
       "      <td>0.028758</td>\n",
       "      <td>-0.016704</td>\n",
       "      <td>-0.001627</td>\n",
       "      <td>-0.058127</td>\n",
       "      <td>0.034309</td>\n",
       "      <td>0.029297</td>\n",
       "      <td>0.032059</td>\n",
       "    </tr>\n",
       "    <tr>\n",
       "      <th>181</th>\n",
       "      <td>0.048974</td>\n",
       "      <td>-0.044642</td>\n",
       "      <td>-0.042852</td>\n",
       "      <td>-0.053870</td>\n",
       "      <td>0.045213</td>\n",
       "      <td>0.050042</td>\n",
       "      <td>0.033914</td>\n",
       "      <td>-0.002592</td>\n",
       "      <td>-0.025953</td>\n",
       "      <td>-0.063209</td>\n",
       "    </tr>\n",
       "  </tbody>\n",
       "</table>\n",
       "<p>133 rows × 10 columns</p>\n",
       "</div>"
      ],
      "text/plain": [
       "          age       sex       bmi        bp        s1        s2        s3  \\\n",
       "24  -0.063635 -0.044642  0.035829 -0.022885 -0.030464 -0.018850 -0.006584   \n",
       "241  0.030811  0.050680 -0.008362  0.004658  0.014942  0.027496  0.008142   \n",
       "121  0.063504 -0.044642  0.017506  0.021872  0.008063  0.021546 -0.036038   \n",
       "138  0.034443  0.050680  0.111276  0.076958 -0.031840 -0.033881 -0.021311   \n",
       "90   0.012648 -0.044642 -0.025607 -0.040099 -0.030464 -0.045155  0.078093   \n",
       "..        ...       ...       ...       ...       ...       ...       ...   \n",
       "70  -0.001882 -0.044642 -0.069797 -0.012556 -0.000193 -0.009143  0.070730   \n",
       "163  0.016281  0.050680  0.072474  0.076958 -0.008449  0.005575 -0.006584   \n",
       "328 -0.038207 -0.044642  0.067085 -0.060756 -0.029088 -0.023234 -0.010266   \n",
       "333  0.027178  0.050680 -0.006206  0.028758 -0.016704 -0.001627 -0.058127   \n",
       "181  0.048974 -0.044642 -0.042852 -0.053870  0.045213  0.050042  0.033914   \n",
       "\n",
       "           s4        s5        s6  \n",
       "24  -0.002592 -0.025953 -0.054925  \n",
       "241 -0.008127 -0.029526  0.056912  \n",
       "121  0.034309  0.019907  0.011349  \n",
       "138 -0.002592  0.028020  0.073480  \n",
       "90  -0.076395 -0.072133  0.011349  \n",
       "..        ...       ...       ...  \n",
       "70  -0.039493 -0.062917  0.040343  \n",
       "163 -0.002592 -0.023647  0.061054  \n",
       "328 -0.002592 -0.001496  0.019633  \n",
       "333  0.034309  0.029297  0.032059  \n",
       "181 -0.002592 -0.025953 -0.063209  \n",
       "\n",
       "[133 rows x 10 columns]"
      ]
     },
     "execution_count": 46,
     "metadata": {},
     "output_type": "execute_result"
    }
   ],
   "source": [
    "X_test"
   ]
  },
  {
   "cell_type": "markdown",
   "id": "6c9baa22",
   "metadata": {},
   "source": [
    "A regressão Ridge é uma extensão da regressão linear onde a função de perda (loss) é modificada para minimizar a complexidade do modelo. Essa modificação é feita adicionando um parâmetro de penalização (penalty) equivalente ao quadrado da magnitude dos coeficientes.\n",
    "\n",
    "**Função de perda = OLS + alfa * somatório (valores de coeficientes quadrados)**<br><br>\n",
    "\n",
    "Na função de perda acima, alfa é o parâmetro que precisamos selecionar. Um valor alfa baixo pode levar a um ajuste excessivo, enquanto um valor alfa alto pode levar a um ajuste insuficiente. <br>"
   ]
  },
  {
   "cell_type": "code",
   "execution_count": 47,
   "id": "2f9aff45",
   "metadata": {},
   "outputs": [],
   "source": [
    "from sklearn.linear_model import Ridge\n",
    "\n",
    "# instancia o modelo de regressão Ridge\n",
    "# com um valor alfa \n",
    "model_ridge = Ridge(alpha=0.01)"
   ]
  },
  {
   "cell_type": "code",
   "execution_count": 48,
   "id": "5147327c",
   "metadata": {},
   "outputs": [
    {
     "data": {
      "text/html": [
       "<style>#sk-container-id-4 {color: black;}#sk-container-id-4 pre{padding: 0;}#sk-container-id-4 div.sk-toggleable {background-color: white;}#sk-container-id-4 label.sk-toggleable__label {cursor: pointer;display: block;width: 100%;margin-bottom: 0;padding: 0.3em;box-sizing: border-box;text-align: center;}#sk-container-id-4 label.sk-toggleable__label-arrow:before {content: \"▸\";float: left;margin-right: 0.25em;color: #696969;}#sk-container-id-4 label.sk-toggleable__label-arrow:hover:before {color: black;}#sk-container-id-4 div.sk-estimator:hover label.sk-toggleable__label-arrow:before {color: black;}#sk-container-id-4 div.sk-toggleable__content {max-height: 0;max-width: 0;overflow: hidden;text-align: left;background-color: #f0f8ff;}#sk-container-id-4 div.sk-toggleable__content pre {margin: 0.2em;color: black;border-radius: 0.25em;background-color: #f0f8ff;}#sk-container-id-4 input.sk-toggleable__control:checked~div.sk-toggleable__content {max-height: 200px;max-width: 100%;overflow: auto;}#sk-container-id-4 input.sk-toggleable__control:checked~label.sk-toggleable__label-arrow:before {content: \"▾\";}#sk-container-id-4 div.sk-estimator input.sk-toggleable__control:checked~label.sk-toggleable__label {background-color: #d4ebff;}#sk-container-id-4 div.sk-label input.sk-toggleable__control:checked~label.sk-toggleable__label {background-color: #d4ebff;}#sk-container-id-4 input.sk-hidden--visually {border: 0;clip: rect(1px 1px 1px 1px);clip: rect(1px, 1px, 1px, 1px);height: 1px;margin: -1px;overflow: hidden;padding: 0;position: absolute;width: 1px;}#sk-container-id-4 div.sk-estimator {font-family: monospace;background-color: #f0f8ff;border: 1px dotted black;border-radius: 0.25em;box-sizing: border-box;margin-bottom: 0.5em;}#sk-container-id-4 div.sk-estimator:hover {background-color: #d4ebff;}#sk-container-id-4 div.sk-parallel-item::after {content: \"\";width: 100%;border-bottom: 1px solid gray;flex-grow: 1;}#sk-container-id-4 div.sk-label:hover label.sk-toggleable__label {background-color: #d4ebff;}#sk-container-id-4 div.sk-serial::before {content: \"\";position: absolute;border-left: 1px solid gray;box-sizing: border-box;top: 0;bottom: 0;left: 50%;z-index: 0;}#sk-container-id-4 div.sk-serial {display: flex;flex-direction: column;align-items: center;background-color: white;padding-right: 0.2em;padding-left: 0.2em;position: relative;}#sk-container-id-4 div.sk-item {position: relative;z-index: 1;}#sk-container-id-4 div.sk-parallel {display: flex;align-items: stretch;justify-content: center;background-color: white;position: relative;}#sk-container-id-4 div.sk-item::before, #sk-container-id-4 div.sk-parallel-item::before {content: \"\";position: absolute;border-left: 1px solid gray;box-sizing: border-box;top: 0;bottom: 0;left: 50%;z-index: -1;}#sk-container-id-4 div.sk-parallel-item {display: flex;flex-direction: column;z-index: 1;position: relative;background-color: white;}#sk-container-id-4 div.sk-parallel-item:first-child::after {align-self: flex-end;width: 50%;}#sk-container-id-4 div.sk-parallel-item:last-child::after {align-self: flex-start;width: 50%;}#sk-container-id-4 div.sk-parallel-item:only-child::after {width: 0;}#sk-container-id-4 div.sk-dashed-wrapped {border: 1px dashed gray;margin: 0 0.4em 0.5em 0.4em;box-sizing: border-box;padding-bottom: 0.4em;background-color: white;}#sk-container-id-4 div.sk-label label {font-family: monospace;font-weight: bold;display: inline-block;line-height: 1.2em;}#sk-container-id-4 div.sk-label-container {text-align: center;}#sk-container-id-4 div.sk-container {/* jupyter's `normalize.less` sets `[hidden] { display: none; }` but bootstrap.min.css set `[hidden] { display: none !important; }` so we also need the `!important` here to be able to override the default hidden behavior on the sphinx rendered scikit-learn.org. See: https://github.com/scikit-learn/scikit-learn/issues/21755 */display: inline-block !important;position: relative;}#sk-container-id-4 div.sk-text-repr-fallback {display: none;}</style><div id=\"sk-container-id-4\" class=\"sk-top-container\"><div class=\"sk-text-repr-fallback\"><pre>Ridge(alpha=0.01)</pre><b>In a Jupyter environment, please rerun this cell to show the HTML representation or trust the notebook. <br />On GitHub, the HTML representation is unable to render, please try loading this page with nbviewer.org.</b></div><div class=\"sk-container\" hidden><div class=\"sk-item\"><div class=\"sk-estimator sk-toggleable\"><input class=\"sk-toggleable__control sk-hidden--visually\" id=\"sk-estimator-id-4\" type=\"checkbox\" checked><label for=\"sk-estimator-id-4\" class=\"sk-toggleable__label sk-toggleable__label-arrow\">Ridge</label><div class=\"sk-toggleable__content\"><pre>Ridge(alpha=0.01)</pre></div></div></div></div></div>"
      ],
      "text/plain": [
       "Ridge(alpha=0.01)"
      ]
     },
     "execution_count": 48,
     "metadata": {},
     "output_type": "execute_result"
    }
   ],
   "source": [
    "model_ridge.fit(X_train, y_train) "
   ]
  },
  {
   "cell_type": "code",
   "execution_count": 49,
   "id": "c6b8c4cb",
   "metadata": {},
   "outputs": [],
   "source": [
    "y_pred_ridgetrain= model_ridge.predict(X_train)"
   ]
  },
  {
   "cell_type": "code",
   "execution_count": 50,
   "id": "41dd9b32",
   "metadata": {},
   "outputs": [],
   "source": [
    "y_pred_ridgetest = model_ridge.predict(X_test)"
   ]
  },
  {
   "cell_type": "code",
   "execution_count": 51,
   "id": "4bfc016e",
   "metadata": {},
   "outputs": [
    {
     "data": {
      "text/plain": [
       "array([158.83215558, 121.16021195, 187.58510908])"
      ]
     },
     "execution_count": 51,
     "metadata": {},
     "output_type": "execute_result"
    }
   ],
   "source": [
    "y_pred_ridgetest[0:3]"
   ]
  },
  {
   "cell_type": "code",
   "execution_count": 52,
   "id": "67af16ee",
   "metadata": {},
   "outputs": [
    {
     "data": {
      "text/plain": [
       "24     184.0\n",
       "241    177.0\n",
       "121    173.0\n",
       "Name: target, dtype: float64"
      ]
     },
     "execution_count": 52,
     "metadata": {},
     "output_type": "execute_result"
    }
   ],
   "source": [
    "y_test[0:3]"
   ]
  },
  {
   "cell_type": "code",
   "execution_count": 53,
   "id": "cc37e2a8",
   "metadata": {},
   "outputs": [
    {
     "name": "stdout",
     "output_type": "stream",
     "text": [
      "MSE nos dados de Treino: 53.83174171338626\n",
      "R2 nos dados de Treino: 0.5019381528297013\n",
      "MSE nos dados de Teste: 54.68294795042934\n",
      "R2 nos dados de Teste: 0.5032327253095995\n"
     ]
    }
   ],
   "source": [
    "from sklearn.metrics import mean_squared_error, r2_score\n",
    "\n",
    "print('MSE nos dados de Treino: {}' .format(np.sqrt(mean_squared_error(y_train,y_pred_ridgetrain))))\n",
    "print('R2 nos dados de Treino: {}' .format(r2_score(y_train, y_pred_ridgetrain)))\n",
    "\n",
    "print('MSE nos dados de Teste: {}' .format(np.sqrt(mean_squared_error(y_test,y_pred_ridgetest)))) \n",
    "print('R2 nos dados de Teste: {}' .format(r2_score(y_test, y_pred_ridgetest)))"
   ]
  },
  {
   "cell_type": "code",
   "execution_count": 54,
   "id": "b2898402",
   "metadata": {},
   "outputs": [
    {
     "name": "stderr",
     "output_type": "stream",
     "text": [
      "C:\\anaconda3\\Lib\\site-packages\\seaborn\\_oldcore.py:1498: FutureWarning: is_categorical_dtype is deprecated and will be removed in a future version. Use isinstance(dtype, CategoricalDtype) instead\n",
      "  if pd.api.types.is_categorical_dtype(vector):\n",
      "C:\\anaconda3\\Lib\\site-packages\\seaborn\\_oldcore.py:1498: FutureWarning: is_categorical_dtype is deprecated and will be removed in a future version. Use isinstance(dtype, CategoricalDtype) instead\n",
      "  if pd.api.types.is_categorical_dtype(vector):\n"
     ]
    },
    {
     "data": {
      "image/png": "[encoded data removed]",
      "text/plain": [
       "<Figure size 1200x600 with 1 Axes>"
      ]
     },
     "metadata": {},
     "output_type": "display_data"
    }
   ],
   "source": [
    "import matplotlib.pyplot as plt\n",
    "import seaborn as sns\n",
    "\n",
    "\n",
    "plt.figure(figsize = (12,6))\n",
    "sns.scatterplot(x= y_test, y= y_pred_ridgetest)\n",
    "plt.xlim(0, 400)\n",
    "plt.ylim(0, 400)\n",
    "plt.title(\"Predictions\")\n",
    "plt.xlabel(\"y_test\")\n",
    "plt.ylabel(\"y_pred\")\n",
    "plt.show()"
   ]
  },
  {
   "cell_type": "markdown",
   "id": "1414c698",
   "metadata": {},
   "source": [
    "### 6.1.2 Exemplo de Ridge Regression a partir do ficheiro de Hitters"
   ]
  },
  {
   "cell_type": "code",
   "execution_count": 55,
   "id": "d191bad4",
   "metadata": {},
   "outputs": [
    {
     "data": {
      "text/plain": [
       "'C:\\\\Users\\\\sonia.quaresma\\\\PythonPlayground'"
      ]
     },
     "execution_count": 55,
     "metadata": {},
     "output_type": "execute_result"
    }
   ],
   "source": [
    "%pwd"
   ]
  },
  {
   "cell_type": "code",
   "execution_count": 59,
   "id": "c39c93c1",
   "metadata": {},
   "outputs": [],
   "source": [
    "datadir =\"datasets\\\\\"\n",
    "filename = \"Hitters.csv\""
   ]
  },
  {
   "cell_type": "code",
   "execution_count": 60,
   "id": "39f9e0f6",
   "metadata": {
    "scrolled": true
   },
   "outputs": [
    {
     "data": {
      "text/html": [
       "<div>\n",
       "<style scoped>\n",
       "    .dataframe tbody tr th:only-of-type {\n",
       "        vertical-align: middle;\n",
       "    }\n",
       "\n",
       "    .dataframe tbody tr th {\n",
       "        vertical-align: top;\n",
       "    }\n",
       "\n",
       "    .dataframe thead th {\n",
       "        text-align: right;\n",
       "    }\n",
       "</style>\n",
       "<table border=\"1\" class=\"dataframe\">\n",
       "  <thead>\n",
       "    <tr style=\"text-align: right;\">\n",
       "      <th></th>\n",
       "      <th>AtBat</th>\n",
       "      <th>Hits</th>\n",
       "      <th>HmRun</th>\n",
       "      <th>Runs</th>\n",
       "      <th>RBI</th>\n",
       "      <th>Walks</th>\n",
       "      <th>Years</th>\n",
       "      <th>CAtBat</th>\n",
       "      <th>CHits</th>\n",
       "      <th>CHmRun</th>\n",
       "      <th>CRuns</th>\n",
       "      <th>CRBI</th>\n",
       "      <th>CWalks</th>\n",
       "      <th>League</th>\n",
       "      <th>Division</th>\n",
       "      <th>PutOuts</th>\n",
       "      <th>Assists</th>\n",
       "      <th>Errors</th>\n",
       "      <th>Salary</th>\n",
       "      <th>NewLeague</th>\n",
       "    </tr>\n",
       "  </thead>\n",
       "  <tbody>\n",
       "    <tr>\n",
       "      <th>-Andy Allanson</th>\n",
       "      <td>293</td>\n",
       "      <td>66</td>\n",
       "      <td>1</td>\n",
       "      <td>30</td>\n",
       "      <td>29</td>\n",
       "      <td>14</td>\n",
       "      <td>1</td>\n",
       "      <td>293</td>\n",
       "      <td>66</td>\n",
       "      <td>1</td>\n",
       "      <td>30</td>\n",
       "      <td>29</td>\n",
       "      <td>14</td>\n",
       "      <td>A</td>\n",
       "      <td>E</td>\n",
       "      <td>446</td>\n",
       "      <td>33</td>\n",
       "      <td>20</td>\n",
       "      <td>NaN</td>\n",
       "      <td>A</td>\n",
       "    </tr>\n",
       "    <tr>\n",
       "      <th>-Alan Ashby</th>\n",
       "      <td>315</td>\n",
       "      <td>81</td>\n",
       "      <td>7</td>\n",
       "      <td>24</td>\n",
       "      <td>38</td>\n",
       "      <td>39</td>\n",
       "      <td>14</td>\n",
       "      <td>3449</td>\n",
       "      <td>835</td>\n",
       "      <td>69</td>\n",
       "      <td>321</td>\n",
       "      <td>414</td>\n",
       "      <td>375</td>\n",
       "      <td>N</td>\n",
       "      <td>W</td>\n",
       "      <td>632</td>\n",
       "      <td>43</td>\n",
       "      <td>10</td>\n",
       "      <td>475.0</td>\n",
       "      <td>N</td>\n",
       "    </tr>\n",
       "    <tr>\n",
       "      <th>-Alvin Davis</th>\n",
       "      <td>479</td>\n",
       "      <td>130</td>\n",
       "      <td>18</td>\n",
       "      <td>66</td>\n",
       "      <td>72</td>\n",
       "      <td>76</td>\n",
       "      <td>3</td>\n",
       "      <td>1624</td>\n",
       "      <td>457</td>\n",
       "      <td>63</td>\n",
       "      <td>224</td>\n",
       "      <td>266</td>\n",
       "      <td>263</td>\n",
       "      <td>A</td>\n",
       "      <td>W</td>\n",
       "      <td>880</td>\n",
       "      <td>82</td>\n",
       "      <td>14</td>\n",
       "      <td>480.0</td>\n",
       "      <td>A</td>\n",
       "    </tr>\n",
       "    <tr>\n",
       "      <th>-Andre Dawson</th>\n",
       "      <td>496</td>\n",
       "      <td>141</td>\n",
       "      <td>20</td>\n",
       "      <td>65</td>\n",
       "      <td>78</td>\n",
       "      <td>37</td>\n",
       "      <td>11</td>\n",
       "      <td>5628</td>\n",
       "      <td>1575</td>\n",
       "      <td>225</td>\n",
       "      <td>828</td>\n",
       "      <td>838</td>\n",
       "      <td>354</td>\n",
       "      <td>N</td>\n",
       "      <td>E</td>\n",
       "      <td>200</td>\n",
       "      <td>11</td>\n",
       "      <td>3</td>\n",
       "      <td>500.0</td>\n",
       "      <td>N</td>\n",
       "    </tr>\n",
       "    <tr>\n",
       "      <th>-Andres Galarraga</th>\n",
       "      <td>321</td>\n",
       "      <td>87</td>\n",
       "      <td>10</td>\n",
       "      <td>39</td>\n",
       "      <td>42</td>\n",
       "      <td>30</td>\n",
       "      <td>2</td>\n",
       "      <td>396</td>\n",
       "      <td>101</td>\n",
       "      <td>12</td>\n",
       "      <td>48</td>\n",
       "      <td>46</td>\n",
       "      <td>33</td>\n",
       "      <td>N</td>\n",
       "      <td>E</td>\n",
       "      <td>805</td>\n",
       "      <td>40</td>\n",
       "      <td>4</td>\n",
       "      <td>91.5</td>\n",
       "      <td>N</td>\n",
       "    </tr>\n",
       "  </tbody>\n",
       "</table>\n",
       "</div>"
      ],
      "text/plain": [
       "                   AtBat  Hits  HmRun  Runs  RBI  Walks  Years  CAtBat  CHits  \\\n",
       "-Andy Allanson       293    66      1    30   29     14      1     293     66   \n",
       "-Alan Ashby          315    81      7    24   38     39     14    3449    835   \n",
       "-Alvin Davis         479   130     18    66   72     76      3    1624    457   \n",
       "-Andre Dawson        496   141     20    65   78     37     11    5628   1575   \n",
       "-Andres Galarraga    321    87     10    39   42     30      2     396    101   \n",
       "\n",
       "                   CHmRun  CRuns  CRBI  CWalks League Division  PutOuts  \\\n",
       "-Andy Allanson          1     30    29      14      A        E      446   \n",
       "-Alan Ashby            69    321   414     375      N        W      632   \n",
       "-Alvin Davis           63    224   266     263      A        W      880   \n",
       "-Andre Dawson         225    828   838     354      N        E      200   \n",
       "-Andres Galarraga      12     48    46      33      N        E      805   \n",
       "\n",
       "                   Assists  Errors  Salary NewLeague  \n",
       "-Andy Allanson          33      20     NaN         A  \n",
       "-Alan Ashby             43      10   475.0         N  \n",
       "-Alvin Davis            82      14   480.0         A  \n",
       "-Andre Dawson           11       3   500.0         N  \n",
       "-Andres Galarraga       40       4    91.5         N  "
      ]
     },
     "execution_count": 60,
     "metadata": {},
     "output_type": "execute_result"
    }
   ],
   "source": [
    "df = pd.read_csv(f\"{datadir}{filename}\", index_col=0, verbose = False, encoding='latin-1')\n",
    "df.head()"
   ]
  },
  {
   "cell_type": "code",
   "execution_count": 61,
   "id": "f0765d62",
   "metadata": {},
   "outputs": [
    {
     "data": {
      "text/html": [
       "<div>\n",
       "<style scoped>\n",
       "    .dataframe tbody tr th:only-of-type {\n",
       "        vertical-align: middle;\n",
       "    }\n",
       "\n",
       "    .dataframe tbody tr th {\n",
       "        vertical-align: top;\n",
       "    }\n",
       "\n",
       "    .dataframe thead th {\n",
       "        text-align: right;\n",
       "    }\n",
       "</style>\n",
       "<table border=\"1\" class=\"dataframe\">\n",
       "  <thead>\n",
       "    <tr style=\"text-align: right;\">\n",
       "      <th></th>\n",
       "      <th>index</th>\n",
       "      <th>AtBat</th>\n",
       "      <th>Hits</th>\n",
       "      <th>HmRun</th>\n",
       "      <th>Runs</th>\n",
       "      <th>RBI</th>\n",
       "      <th>Walks</th>\n",
       "      <th>Years</th>\n",
       "      <th>CAtBat</th>\n",
       "      <th>CHits</th>\n",
       "      <th>...</th>\n",
       "      <th>CRuns</th>\n",
       "      <th>CRBI</th>\n",
       "      <th>CWalks</th>\n",
       "      <th>League</th>\n",
       "      <th>Division</th>\n",
       "      <th>PutOuts</th>\n",
       "      <th>Assists</th>\n",
       "      <th>Errors</th>\n",
       "      <th>Salary</th>\n",
       "      <th>NewLeague</th>\n",
       "    </tr>\n",
       "  </thead>\n",
       "  <tbody>\n",
       "    <tr>\n",
       "      <th>0</th>\n",
       "      <td>-Andy Allanson</td>\n",
       "      <td>293</td>\n",
       "      <td>66</td>\n",
       "      <td>1</td>\n",
       "      <td>30</td>\n",
       "      <td>29</td>\n",
       "      <td>14</td>\n",
       "      <td>1</td>\n",
       "      <td>293</td>\n",
       "      <td>66</td>\n",
       "      <td>...</td>\n",
       "      <td>30</td>\n",
       "      <td>29</td>\n",
       "      <td>14</td>\n",
       "      <td>A</td>\n",
       "      <td>E</td>\n",
       "      <td>446</td>\n",
       "      <td>33</td>\n",
       "      <td>20</td>\n",
       "      <td>NaN</td>\n",
       "      <td>A</td>\n",
       "    </tr>\n",
       "    <tr>\n",
       "      <th>1</th>\n",
       "      <td>-Alan Ashby</td>\n",
       "      <td>315</td>\n",
       "      <td>81</td>\n",
       "      <td>7</td>\n",
       "      <td>24</td>\n",
       "      <td>38</td>\n",
       "      <td>39</td>\n",
       "      <td>14</td>\n",
       "      <td>3449</td>\n",
       "      <td>835</td>\n",
       "      <td>...</td>\n",
       "      <td>321</td>\n",
       "      <td>414</td>\n",
       "      <td>375</td>\n",
       "      <td>N</td>\n",
       "      <td>W</td>\n",
       "      <td>632</td>\n",
       "      <td>43</td>\n",
       "      <td>10</td>\n",
       "      <td>475.0</td>\n",
       "      <td>N</td>\n",
       "    </tr>\n",
       "    <tr>\n",
       "      <th>2</th>\n",
       "      <td>-Alvin Davis</td>\n",
       "      <td>479</td>\n",
       "      <td>130</td>\n",
       "      <td>18</td>\n",
       "      <td>66</td>\n",
       "      <td>72</td>\n",
       "      <td>76</td>\n",
       "      <td>3</td>\n",
       "      <td>1624</td>\n",
       "      <td>457</td>\n",
       "      <td>...</td>\n",
       "      <td>224</td>\n",
       "      <td>266</td>\n",
       "      <td>263</td>\n",
       "      <td>A</td>\n",
       "      <td>W</td>\n",
       "      <td>880</td>\n",
       "      <td>82</td>\n",
       "      <td>14</td>\n",
       "      <td>480.0</td>\n",
       "      <td>A</td>\n",
       "    </tr>\n",
       "    <tr>\n",
       "      <th>3</th>\n",
       "      <td>-Andre Dawson</td>\n",
       "      <td>496</td>\n",
       "      <td>141</td>\n",
       "      <td>20</td>\n",
       "      <td>65</td>\n",
       "      <td>78</td>\n",
       "      <td>37</td>\n",
       "      <td>11</td>\n",
       "      <td>5628</td>\n",
       "      <td>1575</td>\n",
       "      <td>...</td>\n",
       "      <td>828</td>\n",
       "      <td>838</td>\n",
       "      <td>354</td>\n",
       "      <td>N</td>\n",
       "      <td>E</td>\n",
       "      <td>200</td>\n",
       "      <td>11</td>\n",
       "      <td>3</td>\n",
       "      <td>500.0</td>\n",
       "      <td>N</td>\n",
       "    </tr>\n",
       "    <tr>\n",
       "      <th>4</th>\n",
       "      <td>-Andres Galarraga</td>\n",
       "      <td>321</td>\n",
       "      <td>87</td>\n",
       "      <td>10</td>\n",
       "      <td>39</td>\n",
       "      <td>42</td>\n",
       "      <td>30</td>\n",
       "      <td>2</td>\n",
       "      <td>396</td>\n",
       "      <td>101</td>\n",
       "      <td>...</td>\n",
       "      <td>48</td>\n",
       "      <td>46</td>\n",
       "      <td>33</td>\n",
       "      <td>N</td>\n",
       "      <td>E</td>\n",
       "      <td>805</td>\n",
       "      <td>40</td>\n",
       "      <td>4</td>\n",
       "      <td>91.5</td>\n",
       "      <td>N</td>\n",
       "    </tr>\n",
       "    <tr>\n",
       "      <th>...</th>\n",
       "      <td>...</td>\n",
       "      <td>...</td>\n",
       "      <td>...</td>\n",
       "      <td>...</td>\n",
       "      <td>...</td>\n",
       "      <td>...</td>\n",
       "      <td>...</td>\n",
       "      <td>...</td>\n",
       "      <td>...</td>\n",
       "      <td>...</td>\n",
       "      <td>...</td>\n",
       "      <td>...</td>\n",
       "      <td>...</td>\n",
       "      <td>...</td>\n",
       "      <td>...</td>\n",
       "      <td>...</td>\n",
       "      <td>...</td>\n",
       "      <td>...</td>\n",
       "      <td>...</td>\n",
       "      <td>...</td>\n",
       "      <td>...</td>\n",
       "    </tr>\n",
       "    <tr>\n",
       "      <th>317</th>\n",
       "      <td>-Willie McGee</td>\n",
       "      <td>497</td>\n",
       "      <td>127</td>\n",
       "      <td>7</td>\n",
       "      <td>65</td>\n",
       "      <td>48</td>\n",
       "      <td>37</td>\n",
       "      <td>5</td>\n",
       "      <td>2703</td>\n",
       "      <td>806</td>\n",
       "      <td>...</td>\n",
       "      <td>379</td>\n",
       "      <td>311</td>\n",
       "      <td>138</td>\n",
       "      <td>N</td>\n",
       "      <td>E</td>\n",
       "      <td>325</td>\n",
       "      <td>9</td>\n",
       "      <td>3</td>\n",
       "      <td>700.0</td>\n",
       "      <td>N</td>\n",
       "    </tr>\n",
       "    <tr>\n",
       "      <th>318</th>\n",
       "      <td>-Willie Randolph</td>\n",
       "      <td>492</td>\n",
       "      <td>136</td>\n",
       "      <td>5</td>\n",
       "      <td>76</td>\n",
       "      <td>50</td>\n",
       "      <td>94</td>\n",
       "      <td>12</td>\n",
       "      <td>5511</td>\n",
       "      <td>1511</td>\n",
       "      <td>...</td>\n",
       "      <td>897</td>\n",
       "      <td>451</td>\n",
       "      <td>875</td>\n",
       "      <td>A</td>\n",
       "      <td>E</td>\n",
       "      <td>313</td>\n",
       "      <td>381</td>\n",
       "      <td>20</td>\n",
       "      <td>875.0</td>\n",
       "      <td>A</td>\n",
       "    </tr>\n",
       "    <tr>\n",
       "      <th>319</th>\n",
       "      <td>-Wayne Tolleson</td>\n",
       "      <td>475</td>\n",
       "      <td>126</td>\n",
       "      <td>3</td>\n",
       "      <td>61</td>\n",
       "      <td>43</td>\n",
       "      <td>52</td>\n",
       "      <td>6</td>\n",
       "      <td>1700</td>\n",
       "      <td>433</td>\n",
       "      <td>...</td>\n",
       "      <td>217</td>\n",
       "      <td>93</td>\n",
       "      <td>146</td>\n",
       "      <td>A</td>\n",
       "      <td>W</td>\n",
       "      <td>37</td>\n",
       "      <td>113</td>\n",
       "      <td>7</td>\n",
       "      <td>385.0</td>\n",
       "      <td>A</td>\n",
       "    </tr>\n",
       "    <tr>\n",
       "      <th>320</th>\n",
       "      <td>-Willie Upshaw</td>\n",
       "      <td>573</td>\n",
       "      <td>144</td>\n",
       "      <td>9</td>\n",
       "      <td>85</td>\n",
       "      <td>60</td>\n",
       "      <td>78</td>\n",
       "      <td>8</td>\n",
       "      <td>3198</td>\n",
       "      <td>857</td>\n",
       "      <td>...</td>\n",
       "      <td>470</td>\n",
       "      <td>420</td>\n",
       "      <td>332</td>\n",
       "      <td>A</td>\n",
       "      <td>E</td>\n",
       "      <td>1314</td>\n",
       "      <td>131</td>\n",
       "      <td>12</td>\n",
       "      <td>960.0</td>\n",
       "      <td>A</td>\n",
       "    </tr>\n",
       "    <tr>\n",
       "      <th>321</th>\n",
       "      <td>-Willie Wilson</td>\n",
       "      <td>631</td>\n",
       "      <td>170</td>\n",
       "      <td>9</td>\n",
       "      <td>77</td>\n",
       "      <td>44</td>\n",
       "      <td>31</td>\n",
       "      <td>11</td>\n",
       "      <td>4908</td>\n",
       "      <td>1457</td>\n",
       "      <td>...</td>\n",
       "      <td>775</td>\n",
       "      <td>357</td>\n",
       "      <td>249</td>\n",
       "      <td>A</td>\n",
       "      <td>W</td>\n",
       "      <td>408</td>\n",
       "      <td>4</td>\n",
       "      <td>3</td>\n",
       "      <td>1000.0</td>\n",
       "      <td>A</td>\n",
       "    </tr>\n",
       "  </tbody>\n",
       "</table>\n",
       "<p>322 rows × 21 columns</p>\n",
       "</div>"
      ],
      "text/plain": [
       "                 index  AtBat  Hits  HmRun  Runs  RBI  Walks  Years  CAtBat  \\\n",
       "0       -Andy Allanson    293    66      1    30   29     14      1     293   \n",
       "1          -Alan Ashby    315    81      7    24   38     39     14    3449   \n",
       "2         -Alvin Davis    479   130     18    66   72     76      3    1624   \n",
       "3        -Andre Dawson    496   141     20    65   78     37     11    5628   \n",
       "4    -Andres Galarraga    321    87     10    39   42     30      2     396   \n",
       "..                 ...    ...   ...    ...   ...  ...    ...    ...     ...   \n",
       "317      -Willie McGee    497   127      7    65   48     37      5    2703   \n",
       "318   -Willie Randolph    492   136      5    76   50     94     12    5511   \n",
       "319    -Wayne Tolleson    475   126      3    61   43     52      6    1700   \n",
       "320     -Willie Upshaw    573   144      9    85   60     78      8    3198   \n",
       "321     -Willie Wilson    631   170      9    77   44     31     11    4908   \n",
       "\n",
       "     CHits  ...  CRuns  CRBI  CWalks  League Division PutOuts  Assists  \\\n",
       "0       66  ...     30    29      14       A        E     446       33   \n",
       "1      835  ...    321   414     375       N        W     632       43   \n",
       "2      457  ...    224   266     263       A        W     880       82   \n",
       "3     1575  ...    828   838     354       N        E     200       11   \n",
       "4      101  ...     48    46      33       N        E     805       40   \n",
       "..     ...  ...    ...   ...     ...     ...      ...     ...      ...   \n",
       "317    806  ...    379   311     138       N        E     325        9   \n",
       "318   1511  ...    897   451     875       A        E     313      381   \n",
       "319    433  ...    217    93     146       A        W      37      113   \n",
       "320    857  ...    470   420     332       A        E    1314      131   \n",
       "321   1457  ...    775   357     249       A        W     408        4   \n",
       "\n",
       "     Errors  Salary  NewLeague  \n",
       "0        20     NaN          A  \n",
       "1        10   475.0          N  \n",
       "2        14   480.0          A  \n",
       "3         3   500.0          N  \n",
       "4         4    91.5          N  \n",
       "..      ...     ...        ...  \n",
       "317       3   700.0          N  \n",
       "318      20   875.0          A  \n",
       "319       7   385.0          A  \n",
       "320      12   960.0          A  \n",
       "321       3  1000.0          A  \n",
       "\n",
       "[322 rows x 21 columns]"
      ]
     },
     "execution_count": 61,
     "metadata": {},
     "output_type": "execute_result"
    }
   ],
   "source": [
    "df.reset_index()"
   ]
  },
  {
   "cell_type": "code",
   "execution_count": 62,
   "id": "97009fd5",
   "metadata": {},
   "outputs": [
    {
     "data": {
      "text/plain": [
       "['Salary']"
      ]
     },
     "execution_count": 62,
     "metadata": {},
     "output_type": "execute_result"
    }
   ],
   "source": [
    "# Vamos descobrir em que colunas há valores em falta\n",
    "[col for col in df.columns if df[col].isnull().sum()>0]"
   ]
  },
  {
   "cell_type": "code",
   "execution_count": 63,
   "id": "45bd963e",
   "metadata": {},
   "outputs": [],
   "source": [
    "# só a coluna salary tem valores em falta\n",
    "df.dropna(inplace = True)"
   ]
  },
  {
   "cell_type": "code",
   "execution_count": 64,
   "id": "62830c8a",
   "metadata": {},
   "outputs": [
    {
     "name": "stdout",
     "output_type": "stream",
     "text": [
      "['League', 'Division', 'NewLeague']\n"
     ]
    }
   ],
   "source": [
    "# vamos ver que colunas são do tipo Object\n",
    "qual_vars = [col for col in df.columns if df[col].dtype == 'O']\n",
    "print(qual_vars)"
   ]
  },
  {
   "cell_type": "code",
   "execution_count": 65,
   "id": "aa332144",
   "metadata": {},
   "outputs": [
    {
     "data": {
      "text/html": [
       "<div>\n",
       "<style scoped>\n",
       "    .dataframe tbody tr th:only-of-type {\n",
       "        vertical-align: middle;\n",
       "    }\n",
       "\n",
       "    .dataframe tbody tr th {\n",
       "        vertical-align: top;\n",
       "    }\n",
       "\n",
       "    .dataframe thead th {\n",
       "        text-align: right;\n",
       "    }\n",
       "</style>\n",
       "<table border=\"1\" class=\"dataframe\">\n",
       "  <thead>\n",
       "    <tr style=\"text-align: right;\">\n",
       "      <th></th>\n",
       "      <th>AtBat</th>\n",
       "      <th>Hits</th>\n",
       "      <th>HmRun</th>\n",
       "      <th>Runs</th>\n",
       "      <th>RBI</th>\n",
       "      <th>Walks</th>\n",
       "      <th>Years</th>\n",
       "      <th>CAtBat</th>\n",
       "      <th>CHits</th>\n",
       "      <th>CHmRun</th>\n",
       "      <th>CRuns</th>\n",
       "      <th>CRBI</th>\n",
       "      <th>CWalks</th>\n",
       "      <th>PutOuts</th>\n",
       "      <th>Assists</th>\n",
       "      <th>Errors</th>\n",
       "      <th>Salary</th>\n",
       "      <th>League_N</th>\n",
       "      <th>Division_W</th>\n",
       "      <th>NewLeague_N</th>\n",
       "    </tr>\n",
       "  </thead>\n",
       "  <tbody>\n",
       "    <tr>\n",
       "      <th>-Alan Ashby</th>\n",
       "      <td>315</td>\n",
       "      <td>81</td>\n",
       "      <td>7</td>\n",
       "      <td>24</td>\n",
       "      <td>38</td>\n",
       "      <td>39</td>\n",
       "      <td>14</td>\n",
       "      <td>3449</td>\n",
       "      <td>835</td>\n",
       "      <td>69</td>\n",
       "      <td>321</td>\n",
       "      <td>414</td>\n",
       "      <td>375</td>\n",
       "      <td>632</td>\n",
       "      <td>43</td>\n",
       "      <td>10</td>\n",
       "      <td>475.0</td>\n",
       "      <td>True</td>\n",
       "      <td>True</td>\n",
       "      <td>True</td>\n",
       "    </tr>\n",
       "    <tr>\n",
       "      <th>-Alvin Davis</th>\n",
       "      <td>479</td>\n",
       "      <td>130</td>\n",
       "      <td>18</td>\n",
       "      <td>66</td>\n",
       "      <td>72</td>\n",
       "      <td>76</td>\n",
       "      <td>3</td>\n",
       "      <td>1624</td>\n",
       "      <td>457</td>\n",
       "      <td>63</td>\n",
       "      <td>224</td>\n",
       "      <td>266</td>\n",
       "      <td>263</td>\n",
       "      <td>880</td>\n",
       "      <td>82</td>\n",
       "      <td>14</td>\n",
       "      <td>480.0</td>\n",
       "      <td>False</td>\n",
       "      <td>True</td>\n",
       "      <td>False</td>\n",
       "    </tr>\n",
       "    <tr>\n",
       "      <th>-Andre Dawson</th>\n",
       "      <td>496</td>\n",
       "      <td>141</td>\n",
       "      <td>20</td>\n",
       "      <td>65</td>\n",
       "      <td>78</td>\n",
       "      <td>37</td>\n",
       "      <td>11</td>\n",
       "      <td>5628</td>\n",
       "      <td>1575</td>\n",
       "      <td>225</td>\n",
       "      <td>828</td>\n",
       "      <td>838</td>\n",
       "      <td>354</td>\n",
       "      <td>200</td>\n",
       "      <td>11</td>\n",
       "      <td>3</td>\n",
       "      <td>500.0</td>\n",
       "      <td>True</td>\n",
       "      <td>False</td>\n",
       "      <td>True</td>\n",
       "    </tr>\n",
       "    <tr>\n",
       "      <th>-Andres Galarraga</th>\n",
       "      <td>321</td>\n",
       "      <td>87</td>\n",
       "      <td>10</td>\n",
       "      <td>39</td>\n",
       "      <td>42</td>\n",
       "      <td>30</td>\n",
       "      <td>2</td>\n",
       "      <td>396</td>\n",
       "      <td>101</td>\n",
       "      <td>12</td>\n",
       "      <td>48</td>\n",
       "      <td>46</td>\n",
       "      <td>33</td>\n",
       "      <td>805</td>\n",
       "      <td>40</td>\n",
       "      <td>4</td>\n",
       "      <td>91.5</td>\n",
       "      <td>True</td>\n",
       "      <td>False</td>\n",
       "      <td>True</td>\n",
       "    </tr>\n",
       "    <tr>\n",
       "      <th>-Alfredo Griffin</th>\n",
       "      <td>594</td>\n",
       "      <td>169</td>\n",
       "      <td>4</td>\n",
       "      <td>74</td>\n",
       "      <td>51</td>\n",
       "      <td>35</td>\n",
       "      <td>11</td>\n",
       "      <td>4408</td>\n",
       "      <td>1133</td>\n",
       "      <td>19</td>\n",
       "      <td>501</td>\n",
       "      <td>336</td>\n",
       "      <td>194</td>\n",
       "      <td>282</td>\n",
       "      <td>421</td>\n",
       "      <td>25</td>\n",
       "      <td>750.0</td>\n",
       "      <td>False</td>\n",
       "      <td>True</td>\n",
       "      <td>False</td>\n",
       "    </tr>\n",
       "  </tbody>\n",
       "</table>\n",
       "</div>"
      ],
      "text/plain": [
       "                   AtBat  Hits  HmRun  Runs  RBI  Walks  Years  CAtBat  CHits  \\\n",
       "-Alan Ashby          315    81      7    24   38     39     14    3449    835   \n",
       "-Alvin Davis         479   130     18    66   72     76      3    1624    457   \n",
       "-Andre Dawson        496   141     20    65   78     37     11    5628   1575   \n",
       "-Andres Galarraga    321    87     10    39   42     30      2     396    101   \n",
       "-Alfredo Griffin     594   169      4    74   51     35     11    4408   1133   \n",
       "\n",
       "                   CHmRun  CRuns  CRBI  CWalks  PutOuts  Assists  Errors  \\\n",
       "-Alan Ashby            69    321   414     375      632       43      10   \n",
       "-Alvin Davis           63    224   266     263      880       82      14   \n",
       "-Andre Dawson         225    828   838     354      200       11       3   \n",
       "-Andres Galarraga      12     48    46      33      805       40       4   \n",
       "-Alfredo Griffin       19    501   336     194      282      421      25   \n",
       "\n",
       "                   Salary  League_N  Division_W  NewLeague_N  \n",
       "-Alan Ashby         475.0      True        True         True  \n",
       "-Alvin Davis        480.0     False        True        False  \n",
       "-Andre Dawson       500.0      True       False         True  \n",
       "-Andres Galarraga    91.5      True       False         True  \n",
       "-Alfredo Griffin    750.0     False        True        False  "
      ]
     },
     "execution_count": 65,
     "metadata": {},
     "output_type": "execute_result"
    }
   ],
   "source": [
    "# e criar variáveis dummy para as nossas variáveis categóricas\n",
    "df = pd.get_dummies(df,columns= qual_vars,drop_first=True)\n",
    "df.head()"
   ]
  },
  {
   "cell_type": "code",
   "execution_count": 66,
   "id": "228e37eb",
   "metadata": {},
   "outputs": [],
   "source": [
    "# Separamos a coluna target das outras\n",
    "X = df.drop('Salary',axis = 1)\n",
    "y = df['Salary']"
   ]
  },
  {
   "cell_type": "code",
   "execution_count": 67,
   "id": "d93c732e",
   "metadata": {},
   "outputs": [],
   "source": [
    "from sklearn.preprocessing import StandardScaler\n",
    "\n",
    "# Como vemos nas colunas grandes diferenças de escala vamos standardizar\n",
    "scaler = StandardScaler()\n",
    "X = scaler.fit_transform(X)"
   ]
  },
  {
   "cell_type": "code",
   "execution_count": 68,
   "id": "0e5aae80",
   "metadata": {},
   "outputs": [
    {
     "name": "stdout",
     "output_type": "stream",
     "text": [
      "(184, 19)\n",
      "(79,)\n"
     ]
    }
   ],
   "source": [
    "from sklearn.model_selection import train_test_split\n",
    "\n",
    "X_train, X_test, y_train, y_test = train_test_split(X, y, test_size=0.3,random_state=2510) \n",
    "print(X_train.shape)\n",
    "print(y_test.shape)"
   ]
  },
  {
   "cell_type": "code",
   "execution_count": 69,
   "id": "b4b21145",
   "metadata": {},
   "outputs": [],
   "source": [
    "from sklearn.linear_model import Ridge\n",
    "\n",
    "# instancia o modelo de regressão Ridge\n",
    "# com um valor alfa \n",
    "model_ridge = Ridge(alpha=0.01)"
   ]
  },
  {
   "cell_type": "code",
   "execution_count": 70,
   "id": "fcdd05b3",
   "metadata": {},
   "outputs": [
    {
     "data": {
      "text/html": [
       "<style>#sk-container-id-5 {color: black;}#sk-container-id-5 pre{padding: 0;}#sk-container-id-5 div.sk-toggleable {background-color: white;}#sk-container-id-5 label.sk-toggleable__label {cursor: pointer;display: block;width: 100%;margin-bottom: 0;padding: 0.3em;box-sizing: border-box;text-align: center;}#sk-container-id-5 label.sk-toggleable__label-arrow:before {content: \"▸\";float: left;margin-right: 0.25em;color: #696969;}#sk-container-id-5 label.sk-toggleable__label-arrow:hover:before {color: black;}#sk-container-id-5 div.sk-estimator:hover label.sk-toggleable__label-arrow:before {color: black;}#sk-container-id-5 div.sk-toggleable__content {max-height: 0;max-width: 0;overflow: hidden;text-align: left;background-color: #f0f8ff;}#sk-container-id-5 div.sk-toggleable__content pre {margin: 0.2em;color: black;border-radius: 0.25em;background-color: #f0f8ff;}#sk-container-id-5 input.sk-toggleable__control:checked~div.sk-toggleable__content {max-height: 200px;max-width: 100%;overflow: auto;}#sk-container-id-5 input.sk-toggleable__control:checked~label.sk-toggleable__label-arrow:before {content: \"▾\";}#sk-container-id-5 div.sk-estimator input.sk-toggleable__control:checked~label.sk-toggleable__label {background-color: #d4ebff;}#sk-container-id-5 div.sk-label input.sk-toggleable__control:checked~label.sk-toggleable__label {background-color: #d4ebff;}#sk-container-id-5 input.sk-hidden--visually {border: 0;clip: rect(1px 1px 1px 1px);clip: rect(1px, 1px, 1px, 1px);height: 1px;margin: -1px;overflow: hidden;padding: 0;position: absolute;width: 1px;}#sk-container-id-5 div.sk-estimator {font-family: monospace;background-color: #f0f8ff;border: 1px dotted black;border-radius: 0.25em;box-sizing: border-box;margin-bottom: 0.5em;}#sk-container-id-5 div.sk-estimator:hover {background-color: #d4ebff;}#sk-container-id-5 div.sk-parallel-item::after {content: \"\";width: 100%;border-bottom: 1px solid gray;flex-grow: 1;}#sk-container-id-5 div.sk-label:hover label.sk-toggleable__label {background-color: #d4ebff;}#sk-container-id-5 div.sk-serial::before {content: \"\";position: absolute;border-left: 1px solid gray;box-sizing: border-box;top: 0;bottom: 0;left: 50%;z-index: 0;}#sk-container-id-5 div.sk-serial {display: flex;flex-direction: column;align-items: center;background-color: white;padding-right: 0.2em;padding-left: 0.2em;position: relative;}#sk-container-id-5 div.sk-item {position: relative;z-index: 1;}#sk-container-id-5 div.sk-parallel {display: flex;align-items: stretch;justify-content: center;background-color: white;position: relative;}#sk-container-id-5 div.sk-item::before, #sk-container-id-5 div.sk-parallel-item::before {content: \"\";position: absolute;border-left: 1px solid gray;box-sizing: border-box;top: 0;bottom: 0;left: 50%;z-index: -1;}#sk-container-id-5 div.sk-parallel-item {display: flex;flex-direction: column;z-index: 1;position: relative;background-color: white;}#sk-container-id-5 div.sk-parallel-item:first-child::after {align-self: flex-end;width: 50%;}#sk-container-id-5 div.sk-parallel-item:last-child::after {align-self: flex-start;width: 50%;}#sk-container-id-5 div.sk-parallel-item:only-child::after {width: 0;}#sk-container-id-5 div.sk-dashed-wrapped {border: 1px dashed gray;margin: 0 0.4em 0.5em 0.4em;box-sizing: border-box;padding-bottom: 0.4em;background-color: white;}#sk-container-id-5 div.sk-label label {font-family: monospace;font-weight: bold;display: inline-block;line-height: 1.2em;}#sk-container-id-5 div.sk-label-container {text-align: center;}#sk-container-id-5 div.sk-container {/* jupyter's `normalize.less` sets `[hidden] { display: none; }` but bootstrap.min.css set `[hidden] { display: none !important; }` so we also need the `!important` here to be able to override the default hidden behavior on the sphinx rendered scikit-learn.org. See: https://github.com/scikit-learn/scikit-learn/issues/21755 */display: inline-block !important;position: relative;}#sk-container-id-5 div.sk-text-repr-fallback {display: none;}</style><div id=\"sk-container-id-5\" class=\"sk-top-container\"><div class=\"sk-text-repr-fallback\"><pre>Ridge(alpha=0.01)</pre><b>In a Jupyter environment, please rerun this cell to show the HTML representation or trust the notebook. <br />On GitHub, the HTML representation is unable to render, please try loading this page with nbviewer.org.</b></div><div class=\"sk-container\" hidden><div class=\"sk-item\"><div class=\"sk-estimator sk-toggleable\"><input class=\"sk-toggleable__control sk-hidden--visually\" id=\"sk-estimator-id-5\" type=\"checkbox\" checked><label for=\"sk-estimator-id-5\" class=\"sk-toggleable__label sk-toggleable__label-arrow\">Ridge</label><div class=\"sk-toggleable__content\"><pre>Ridge(alpha=0.01)</pre></div></div></div></div></div>"
      ],
      "text/plain": [
       "Ridge(alpha=0.01)"
      ]
     },
     "execution_count": 70,
     "metadata": {},
     "output_type": "execute_result"
    }
   ],
   "source": [
    "model_ridge.fit(X_train, y_train) "
   ]
  },
  {
   "cell_type": "code",
   "execution_count": 71,
   "id": "f5c26758",
   "metadata": {},
   "outputs": [],
   "source": [
    "y_pred_ridgetrain= model_ridge.predict(X_train)"
   ]
  },
  {
   "cell_type": "code",
   "execution_count": 72,
   "id": "69983072",
   "metadata": {},
   "outputs": [],
   "source": [
    "y_pred_ridgetest= model_ridge.predict(X_test)"
   ]
  },
  {
   "cell_type": "code",
   "execution_count": 73,
   "id": "8a45ba18",
   "metadata": {},
   "outputs": [
    {
     "data": {
      "text/plain": [
       "array([1030.2147218 ,  683.12047816,  106.59809422])"
      ]
     },
     "execution_count": 73,
     "metadata": {},
     "output_type": "execute_result"
    }
   ],
   "source": [
    "y_pred_ridgetest[0:3]"
   ]
  },
  {
   "cell_type": "code",
   "execution_count": 74,
   "id": "8a86770a",
   "metadata": {},
   "outputs": [
    {
     "data": {
      "text/plain": [
       "-Frank White        750.0\n",
       "-Marty Barrett      575.0\n",
       "-Argenis Salazar    100.0\n",
       "Name: Salary, dtype: float64"
      ]
     },
     "execution_count": 74,
     "metadata": {},
     "output_type": "execute_result"
    }
   ],
   "source": [
    "y_test[0:3]"
   ]
  },
  {
   "cell_type": "code",
   "execution_count": 75,
   "id": "441ad78c",
   "metadata": {},
   "outputs": [
    {
     "name": "stdout",
     "output_type": "stream",
     "text": [
      "MSE nos dados de Treino: 300.4690694448532\n",
      "R2 nos dados de Treino: 0.5539698178486954\n",
      "MSE nos dados de Teste: 344.0400244671796\n",
      "R2 nos dados de Teste: 0.4164667980776514\n"
     ]
    }
   ],
   "source": [
    "from sklearn.metrics import mean_squared_error, r2_score\n",
    "\n",
    "print('MSE nos dados de Treino: {}' .format(np.sqrt(mean_squared_error(y_train,y_pred_ridgetrain))))\n",
    "print('R2 nos dados de Treino: {}' .format(r2_score(y_train, y_pred_ridgetrain)))\n",
    "\n",
    "print('MSE nos dados de Teste: {}' .format(np.sqrt(mean_squared_error(y_test,y_pred_ridgetest)))) \n",
    "print('R2 nos dados de Teste: {}' .format(r2_score(y_test, y_pred_ridgetest)))"
   ]
  },
  {
   "cell_type": "code",
   "execution_count": 76,
   "id": "b16818c5",
   "metadata": {},
   "outputs": [
    {
     "name": "stderr",
     "output_type": "stream",
     "text": [
      "C:\\anaconda3\\Lib\\site-packages\\seaborn\\_oldcore.py:1498: FutureWarning: is_categorical_dtype is deprecated and will be removed in a future version. Use isinstance(dtype, CategoricalDtype) instead\n",
      "  if pd.api.types.is_categorical_dtype(vector):\n",
      "C:\\anaconda3\\Lib\\site-packages\\seaborn\\_oldcore.py:1498: FutureWarning: is_categorical_dtype is deprecated and will be removed in a future version. Use isinstance(dtype, CategoricalDtype) instead\n",
      "  if pd.api.types.is_categorical_dtype(vector):\n"
     ]
    },
    {
     "data": {
      "image/png": "[encoded data removed]",
      "text/plain": [
       "<Figure size 1200x600 with 1 Axes>"
      ]
     },
     "metadata": {},
     "output_type": "display_data"
    }
   ],
   "source": [
    "import matplotlib.pyplot as plt\n",
    "import seaborn as sns\n",
    "\n",
    "\n",
    "plt.figure(figsize = (12,6))\n",
    "sns.scatterplot(x= y_test, y= y_pred_ridgetest)\n",
    "plt.xlim(0, 1000)\n",
    "plt.ylim(0, 1000)\n",
    "plt.title(\"Predictions\")\n",
    "plt.xlabel(\"y_test\")\n",
    "plt.ylabel(\"y_pred\")\n",
    "plt.show()"
   ]
  },
  {
   "cell_type": "markdown",
   "id": "cc4ac8e4",
   "metadata": {},
   "source": [
    "### 6.1.3 Explorar o alpha"
   ]
  },
  {
   "cell_type": "code",
   "execution_count": 77,
   "id": "2d3fc42c",
   "metadata": {},
   "outputs": [
    {
     "data": {
      "text/plain": [
       "array([1.00000000e-02, 1.32194115e-02, 1.74752840e-02, 2.31012970e-02,\n",
       "       3.05385551e-02, 4.03701726e-02, 5.33669923e-02, 7.05480231e-02,\n",
       "       9.32603347e-02, 1.23284674e-01, 1.62975083e-01, 2.15443469e-01,\n",
       "       2.84803587e-01, 3.76493581e-01, 4.97702356e-01, 6.57933225e-01,\n",
       "       8.69749003e-01, 1.14975700e+00, 1.51991108e+00, 2.00923300e+00,\n",
       "       2.65608778e+00, 3.51119173e+00, 4.64158883e+00, 6.13590727e+00,\n",
       "       8.11130831e+00, 1.07226722e+01, 1.41747416e+01, 1.87381742e+01,\n",
       "       2.47707636e+01, 3.27454916e+01, 4.32876128e+01, 5.72236766e+01,\n",
       "       7.56463328e+01, 1.00000000e+02, 1.32194115e+02, 1.74752840e+02,\n",
       "       2.31012970e+02, 3.05385551e+02, 4.03701726e+02, 5.33669923e+02,\n",
       "       7.05480231e+02, 9.32603347e+02, 1.23284674e+03, 1.62975083e+03,\n",
       "       2.15443469e+03, 2.84803587e+03, 3.76493581e+03, 4.97702356e+03,\n",
       "       6.57933225e+03, 8.69749003e+03, 1.14975700e+04, 1.51991108e+04,\n",
       "       2.00923300e+04, 2.65608778e+04, 3.51119173e+04, 4.64158883e+04,\n",
       "       6.13590727e+04, 8.11130831e+04, 1.07226722e+05, 1.41747416e+05,\n",
       "       1.87381742e+05, 2.47707636e+05, 3.27454916e+05, 4.32876128e+05,\n",
       "       5.72236766e+05, 7.56463328e+05, 1.00000000e+06, 1.32194115e+06,\n",
       "       1.74752840e+06, 2.31012970e+06, 3.05385551e+06, 4.03701726e+06,\n",
       "       5.33669923e+06, 7.05480231e+06, 9.32603347e+06, 1.23284674e+07,\n",
       "       1.62975083e+07, 2.15443469e+07, 2.84803587e+07, 3.76493581e+07,\n",
       "       4.97702356e+07, 6.57933225e+07, 8.69749003e+07, 1.14975700e+08,\n",
       "       1.51991108e+08, 2.00923300e+08, 2.65608778e+08, 3.51119173e+08,\n",
       "       4.64158883e+08, 6.13590727e+08, 8.11130831e+08, 1.07226722e+09,\n",
       "       1.41747416e+09, 1.87381742e+09, 2.47707636e+09, 3.27454916e+09,\n",
       "       4.32876128e+09, 5.72236766e+09, 7.56463328e+09, 1.00000000e+10])"
      ]
     },
     "execution_count": 77,
     "metadata": {},
     "output_type": "execute_result"
    }
   ],
   "source": [
    "list_alpha = 10**np.linspace(-2,10,100)\n",
    "list_alpha"
   ]
  },
  {
   "cell_type": "code",
   "execution_count": 78,
   "id": "e14603bb",
   "metadata": {},
   "outputs": [],
   "source": [
    "coeff_matrix = {}\n",
    "\n",
    "for alpha in list_alpha:\n",
    "    model = Ridge(alpha=alpha)\n",
    "    model.fit(X,y)\n",
    "    coeff_matrix[alpha] = list(model.coef_)"
   ]
  },
  {
   "cell_type": "code",
   "execution_count": 79,
   "id": "f67e1f53",
   "metadata": {},
   "outputs": [
    {
     "data": {
      "text/html": [
       "<div>\n",
       "<style scoped>\n",
       "    .dataframe tbody tr th:only-of-type {\n",
       "        vertical-align: middle;\n",
       "    }\n",
       "\n",
       "    .dataframe tbody tr th {\n",
       "        vertical-align: top;\n",
       "    }\n",
       "\n",
       "    .dataframe thead th {\n",
       "        text-align: right;\n",
       "    }\n",
       "</style>\n",
       "<table border=\"1\" class=\"dataframe\">\n",
       "  <thead>\n",
       "    <tr style=\"text-align: right;\">\n",
       "      <th></th>\n",
       "      <th>0</th>\n",
       "      <th>1</th>\n",
       "      <th>2</th>\n",
       "      <th>3</th>\n",
       "      <th>4</th>\n",
       "      <th>5</th>\n",
       "      <th>6</th>\n",
       "      <th>7</th>\n",
       "      <th>8</th>\n",
       "      <th>9</th>\n",
       "      <th>10</th>\n",
       "      <th>11</th>\n",
       "      <th>12</th>\n",
       "      <th>13</th>\n",
       "      <th>14</th>\n",
       "      <th>15</th>\n",
       "      <th>16</th>\n",
       "      <th>17</th>\n",
       "      <th>18</th>\n",
       "    </tr>\n",
       "  </thead>\n",
       "  <tbody>\n",
       "    <tr>\n",
       "      <th>1.000000e-02</th>\n",
       "      <td>-290.918728</td>\n",
       "      <td>337.229910</td>\n",
       "      <td>37.495419</td>\n",
       "      <td>-60.017790</td>\n",
       "      <td>-26.665375</td>\n",
       "      <td>134.928045</td>\n",
       "      <td>-17.051824</td>\n",
       "      <td>-388.777849</td>\n",
       "      <td>88.580588</td>\n",
       "      <td>-12.898994</td>\n",
       "      <td>477.601029</td>\n",
       "      <td>258.387712</td>\n",
       "      <td>-213.378990</td>\n",
       "      <td>78.761482</td>\n",
       "      <td>5.365672e+01</td>\n",
       "      <td>-2.219265e+01</td>\n",
       "      <td>3.125460e+01</td>\n",
       "      <td>-58.443824</td>\n",
       "      <td>-1.238497e+01</td>\n",
       "    </tr>\n",
       "    <tr>\n",
       "      <th>1.321941e-02</th>\n",
       "      <td>-290.862746</td>\n",
       "      <td>337.039648</td>\n",
       "      <td>37.381713</td>\n",
       "      <td>-59.842092</td>\n",
       "      <td>-26.560787</td>\n",
       "      <td>134.881689</td>\n",
       "      <td>-17.166596</td>\n",
       "      <td>-388.046721</td>\n",
       "      <td>89.164057</td>\n",
       "      <td>-12.494991</td>\n",
       "      <td>476.606154</td>\n",
       "      <td>257.661560</td>\n",
       "      <td>-213.216987</td>\n",
       "      <td>78.761568</td>\n",
       "      <td>5.363224e+01</td>\n",
       "      <td>-2.220266e+01</td>\n",
       "      <td>3.125631e+01</td>\n",
       "      <td>-58.453308</td>\n",
       "      <td>-1.239630e+01</td>\n",
       "    </tr>\n",
       "    <tr>\n",
       "      <th>1.747528e-02</th>\n",
       "      <td>-290.789150</td>\n",
       "      <td>336.790313</td>\n",
       "      <td>37.232619</td>\n",
       "      <td>-59.611894</td>\n",
       "      <td>-26.423634</td>\n",
       "      <td>134.820836</td>\n",
       "      <td>-17.317830</td>\n",
       "      <td>-387.078202</td>\n",
       "      <td>89.916997</td>\n",
       "      <td>-11.967363</td>\n",
       "      <td>475.303911</td>\n",
       "      <td>256.712435</td>\n",
       "      <td>-213.005133</td>\n",
       "      <td>78.761698</td>\n",
       "      <td>5.359983e+01</td>\n",
       "      <td>-2.221573e+01</td>\n",
       "      <td>3.125844e+01</td>\n",
       "      <td>-58.465774</td>\n",
       "      <td>-1.241105e+01</td>\n",
       "    </tr>\n",
       "    <tr>\n",
       "      <th>2.310130e-02</th>\n",
       "      <td>-290.692507</td>\n",
       "      <td>336.464367</td>\n",
       "      <td>37.037600</td>\n",
       "      <td>-59.311089</td>\n",
       "      <td>-26.244216</td>\n",
       "      <td>134.741106</td>\n",
       "      <td>-17.516885</td>\n",
       "      <td>-385.794898</td>\n",
       "      <td>90.881489</td>\n",
       "      <td>-11.280807</td>\n",
       "      <td>473.604369</td>\n",
       "      <td>255.476124</td>\n",
       "      <td>-212.728953</td>\n",
       "      <td>78.761896</td>\n",
       "      <td>5.355691e+01</td>\n",
       "      <td>-2.223273e+01</td>\n",
       "      <td>3.126106e+01</td>\n",
       "      <td>-58.482132</td>\n",
       "      <td>-1.243018e+01</td>\n",
       "    </tr>\n",
       "    <tr>\n",
       "      <th>3.053856e-02</th>\n",
       "      <td>-290.565733</td>\n",
       "      <td>336.039547</td>\n",
       "      <td>36.783312</td>\n",
       "      <td>-58.919331</td>\n",
       "      <td>-26.010245</td>\n",
       "      <td>134.636895</td>\n",
       "      <td>-17.778470</td>\n",
       "      <td>-384.094384</td>\n",
       "      <td>92.105310</td>\n",
       "      <td>-10.391640</td>\n",
       "      <td>471.394628</td>\n",
       "      <td>253.872789</td>\n",
       "      <td>-212.370325</td>\n",
       "      <td>78.762198</td>\n",
       "      <td>5.350006e+01</td>\n",
       "      <td>-2.225474e+01</td>\n",
       "      <td>3.126419e+01</td>\n",
       "      <td>-58.503548</td>\n",
       "      <td>-1.245482e+01</td>\n",
       "    </tr>\n",
       "    <tr>\n",
       "      <th>...</th>\n",
       "      <td>...</td>\n",
       "      <td>...</td>\n",
       "      <td>...</td>\n",
       "      <td>...</td>\n",
       "      <td>...</td>\n",
       "      <td>...</td>\n",
       "      <td>...</td>\n",
       "      <td>...</td>\n",
       "      <td>...</td>\n",
       "      <td>...</td>\n",
       "      <td>...</td>\n",
       "      <td>...</td>\n",
       "      <td>...</td>\n",
       "      <td>...</td>\n",
       "      <td>...</td>\n",
       "      <td>...</td>\n",
       "      <td>...</td>\n",
       "      <td>...</td>\n",
       "      <td>...</td>\n",
       "    </tr>\n",
       "    <tr>\n",
       "      <th>3.274549e+09</th>\n",
       "      <td>0.000014</td>\n",
       "      <td>0.000016</td>\n",
       "      <td>0.000012</td>\n",
       "      <td>0.000015</td>\n",
       "      <td>0.000016</td>\n",
       "      <td>0.000016</td>\n",
       "      <td>0.000014</td>\n",
       "      <td>0.000019</td>\n",
       "      <td>0.000020</td>\n",
       "      <td>0.000019</td>\n",
       "      <td>0.000020</td>\n",
       "      <td>0.000021</td>\n",
       "      <td>0.000018</td>\n",
       "      <td>0.000011</td>\n",
       "      <td>9.198538e-07</td>\n",
       "      <td>-1.953073e-07</td>\n",
       "      <td>-5.164761e-07</td>\n",
       "      <td>-0.000007</td>\n",
       "      <td>-1.025022e-07</td>\n",
       "    </tr>\n",
       "    <tr>\n",
       "      <th>4.328761e+09</th>\n",
       "      <td>0.000011</td>\n",
       "      <td>0.000012</td>\n",
       "      <td>0.000009</td>\n",
       "      <td>0.000011</td>\n",
       "      <td>0.000012</td>\n",
       "      <td>0.000012</td>\n",
       "      <td>0.000011</td>\n",
       "      <td>0.000014</td>\n",
       "      <td>0.000015</td>\n",
       "      <td>0.000014</td>\n",
       "      <td>0.000015</td>\n",
       "      <td>0.000016</td>\n",
       "      <td>0.000013</td>\n",
       "      <td>0.000008</td>\n",
       "      <td>6.958357e-07</td>\n",
       "      <td>-1.477427e-07</td>\n",
       "      <td>-3.906955e-07</td>\n",
       "      <td>-0.000005</td>\n",
       "      <td>-7.753936e-08</td>\n",
       "    </tr>\n",
       "    <tr>\n",
       "      <th>5.722368e+09</th>\n",
       "      <td>0.000008</td>\n",
       "      <td>0.000009</td>\n",
       "      <td>0.000007</td>\n",
       "      <td>0.000009</td>\n",
       "      <td>0.000009</td>\n",
       "      <td>0.000009</td>\n",
       "      <td>0.000008</td>\n",
       "      <td>0.000011</td>\n",
       "      <td>0.000011</td>\n",
       "      <td>0.000011</td>\n",
       "      <td>0.000012</td>\n",
       "      <td>0.000012</td>\n",
       "      <td>0.000010</td>\n",
       "      <td>0.000006</td>\n",
       "      <td>5.263742e-07</td>\n",
       "      <td>-1.117620e-07</td>\n",
       "      <td>-2.955470e-07</td>\n",
       "      <td>-0.000004</td>\n",
       "      <td>-5.865581e-08</td>\n",
       "    </tr>\n",
       "    <tr>\n",
       "      <th>7.564633e+09</th>\n",
       "      <td>0.000006</td>\n",
       "      <td>0.000007</td>\n",
       "      <td>0.000005</td>\n",
       "      <td>0.000007</td>\n",
       "      <td>0.000007</td>\n",
       "      <td>0.000007</td>\n",
       "      <td>0.000006</td>\n",
       "      <td>0.000008</td>\n",
       "      <td>0.000009</td>\n",
       "      <td>0.000008</td>\n",
       "      <td>0.000009</td>\n",
       "      <td>0.000009</td>\n",
       "      <td>0.000008</td>\n",
       "      <td>0.000005</td>\n",
       "      <td>3.981828e-07</td>\n",
       "      <td>-8.454381e-08</td>\n",
       "      <td>-2.235706e-07</td>\n",
       "      <td>-0.000003</td>\n",
       "      <td>-4.437104e-08</td>\n",
       "    </tr>\n",
       "    <tr>\n",
       "      <th>1.000000e+10</th>\n",
       "      <td>0.000005</td>\n",
       "      <td>0.000005</td>\n",
       "      <td>0.000004</td>\n",
       "      <td>0.000005</td>\n",
       "      <td>0.000005</td>\n",
       "      <td>0.000005</td>\n",
       "      <td>0.000005</td>\n",
       "      <td>0.000006</td>\n",
       "      <td>0.000007</td>\n",
       "      <td>0.000006</td>\n",
       "      <td>0.000007</td>\n",
       "      <td>0.000007</td>\n",
       "      <td>0.000006</td>\n",
       "      <td>0.000004</td>\n",
       "      <td>3.012107e-07</td>\n",
       "      <td>-6.395428e-08</td>\n",
       "      <td>-1.691230e-07</td>\n",
       "      <td>-0.000002</td>\n",
       "      <td>-3.356510e-08</td>\n",
       "    </tr>\n",
       "  </tbody>\n",
       "</table>\n",
       "<p>100 rows × 19 columns</p>\n",
       "</div>"
      ],
      "text/plain": [
       "                      0           1          2          3          4   \\\n",
       "1.000000e-02 -290.918728  337.229910  37.495419 -60.017790 -26.665375   \n",
       "1.321941e-02 -290.862746  337.039648  37.381713 -59.842092 -26.560787   \n",
       "1.747528e-02 -290.789150  336.790313  37.232619 -59.611894 -26.423634   \n",
       "2.310130e-02 -290.692507  336.464367  37.037600 -59.311089 -26.244216   \n",
       "3.053856e-02 -290.565733  336.039547  36.783312 -58.919331 -26.010245   \n",
       "...                  ...         ...        ...        ...        ...   \n",
       "3.274549e+09    0.000014    0.000016   0.000012   0.000015   0.000016   \n",
       "4.328761e+09    0.000011    0.000012   0.000009   0.000011   0.000012   \n",
       "5.722368e+09    0.000008    0.000009   0.000007   0.000009   0.000009   \n",
       "7.564633e+09    0.000006    0.000007   0.000005   0.000007   0.000007   \n",
       "1.000000e+10    0.000005    0.000005   0.000004   0.000005   0.000005   \n",
       "\n",
       "                      5          6           7          8          9   \\\n",
       "1.000000e-02  134.928045 -17.051824 -388.777849  88.580588 -12.898994   \n",
       "1.321941e-02  134.881689 -17.166596 -388.046721  89.164057 -12.494991   \n",
       "1.747528e-02  134.820836 -17.317830 -387.078202  89.916997 -11.967363   \n",
       "2.310130e-02  134.741106 -17.516885 -385.794898  90.881489 -11.280807   \n",
       "3.053856e-02  134.636895 -17.778470 -384.094384  92.105310 -10.391640   \n",
       "...                  ...        ...         ...        ...        ...   \n",
       "3.274549e+09    0.000016   0.000014    0.000019   0.000020   0.000019   \n",
       "4.328761e+09    0.000012   0.000011    0.000014   0.000015   0.000014   \n",
       "5.722368e+09    0.000009   0.000008    0.000011   0.000011   0.000011   \n",
       "7.564633e+09    0.000007   0.000006    0.000008   0.000009   0.000008   \n",
       "1.000000e+10    0.000005   0.000005    0.000006   0.000007   0.000006   \n",
       "\n",
       "                      10          11          12         13            14  \\\n",
       "1.000000e-02  477.601029  258.387712 -213.378990  78.761482  5.365672e+01   \n",
       "1.321941e-02  476.606154  257.661560 -213.216987  78.761568  5.363224e+01   \n",
       "1.747528e-02  475.303911  256.712435 -213.005133  78.761698  5.359983e+01   \n",
       "2.310130e-02  473.604369  255.476124 -212.728953  78.761896  5.355691e+01   \n",
       "3.053856e-02  471.394628  253.872789 -212.370325  78.762198  5.350006e+01   \n",
       "...                  ...         ...         ...        ...           ...   \n",
       "3.274549e+09    0.000020    0.000021    0.000018   0.000011  9.198538e-07   \n",
       "4.328761e+09    0.000015    0.000016    0.000013   0.000008  6.958357e-07   \n",
       "5.722368e+09    0.000012    0.000012    0.000010   0.000006  5.263742e-07   \n",
       "7.564633e+09    0.000009    0.000009    0.000008   0.000005  3.981828e-07   \n",
       "1.000000e+10    0.000007    0.000007    0.000006   0.000004  3.012107e-07   \n",
       "\n",
       "                        15            16         17            18  \n",
       "1.000000e-02 -2.219265e+01  3.125460e+01 -58.443824 -1.238497e+01  \n",
       "1.321941e-02 -2.220266e+01  3.125631e+01 -58.453308 -1.239630e+01  \n",
       "1.747528e-02 -2.221573e+01  3.125844e+01 -58.465774 -1.241105e+01  \n",
       "2.310130e-02 -2.223273e+01  3.126106e+01 -58.482132 -1.243018e+01  \n",
       "3.053856e-02 -2.225474e+01  3.126419e+01 -58.503548 -1.245482e+01  \n",
       "...                    ...           ...        ...           ...  \n",
       "3.274549e+09 -1.953073e-07 -5.164761e-07  -0.000007 -1.025022e-07  \n",
       "4.328761e+09 -1.477427e-07 -3.906955e-07  -0.000005 -7.753936e-08  \n",
       "5.722368e+09 -1.117620e-07 -2.955470e-07  -0.000004 -5.865581e-08  \n",
       "7.564633e+09 -8.454381e-08 -2.235706e-07  -0.000003 -4.437104e-08  \n",
       "1.000000e+10 -6.395428e-08 -1.691230e-07  -0.000002 -3.356510e-08  \n",
       "\n",
       "[100 rows x 19 columns]"
      ]
     },
     "execution_count": 79,
     "metadata": {},
     "output_type": "execute_result"
    }
   ],
   "source": [
    "tmp = pd.DataFrame(coeff_matrix).T\n",
    "tmp.index = list_alpha\n",
    "tmp"
   ]
  },
  {
   "cell_type": "code",
   "execution_count": 81,
   "id": "e01510ff",
   "metadata": {},
   "outputs": [
    {
     "data": {
      "text/plain": [
       "<matplotlib.legend.Legend at 0x249f1fa35d0>"
      ]
     },
     "execution_count": 81,
     "metadata": {},
     "output_type": "execute_result"
    },
    {
     "data": {
      "image/png": "[encoded data removed]",
      "text/plain": [
       "<Figure size 1600x800 with 1 Axes>"
      ]
     },
     "metadata": {},
     "output_type": "display_data"
    }
   ],
   "source": [
    "import warnings\n",
    "warnings.filterwarnings(\"ignore\", \"is_categorical_dtype\")\n",
    "warnings.filterwarnings(\"ignore\", \"use_inf_as_na\")\n",
    "\n",
    "plt.figure(figsize = (16,8))\n",
    "sns.lineplot(data = tmp, dashes=False)\n",
    "plt.axhline(y = 0,linestyle = 'dashed',lw = 0.1,color = 'black')\n",
    "plt.xscale('log')\n",
    "plt.xticks(list_alpha)\n",
    "plt.ylabel('Coeffients',fontsize = 14)\n",
    "plt.xlabel('Alpha')\n",
    "plt.legend(loc='right')"
   ]
  },
  {
   "cell_type": "code",
   "execution_count": 82,
   "id": "505cee9b",
   "metadata": {},
   "outputs": [
    {
     "name": "stdout",
     "output_type": "stream",
     "text": [
      "0.01\n",
      "0.023101297000831605\n",
      "5722367659.35022\n",
      "10000000000.0\n"
     ]
    }
   ],
   "source": [
    "print(list_alpha[0])\n",
    "print(list_alpha[3])\n",
    "print(list_alpha[97])\n",
    "print(list_alpha[99])"
   ]
  },
  {
   "cell_type": "code",
   "execution_count": 83,
   "id": "433fb6da",
   "metadata": {},
   "outputs": [
    {
     "name": "stdout",
     "output_type": "stream",
     "text": [
      "[-289.5186532702005, 332.67911842338134, 34.779441936712615, -55.84478229632183, -24.166567449871728, 133.80205477153615, -19.909741728267722, -369.74268750181517, 100.54237339904844, -3.614039922917079, 454.2056856599545, 241.5721434373845, -209.588450498816, 78.76557723285971, 53.019463960959904, -22.423285078782285, 31.278539444238827, -58.675558692721786, -12.638577929630834]\n"
     ]
    }
   ],
   "source": [
    "# para um valor baixo de alpha os coeficientes são elevados\n",
    "print(coeff_matrix[list_alpha[8]])"
   ]
  },
  {
   "cell_type": "code",
   "execution_count": 84,
   "id": "5db36d1e",
   "metadata": {},
   "outputs": [
    {
     "name": "stdout",
     "output_type": "stream",
     "text": [
      "[5.7633182487043e-05, 6.40427770922997e-05, 5.0079153502888385e-05, 6.129576852892078e-05, 6.561689194262844e-05, 6.480083916119167e-05, 5.8492473598104725e-05, 7.681124525639192e-05, 8.013609785207736e-05, 7.663536669557499e-05, 8.214613025072632e-05, 8.277213810215089e-05, 7.150981326993899e-05, 4.386760495701928e-05, 3.713461226222583e-06, -7.884609239667481e-07, -2.0850022653353327e-06, -2.810549748199537e-05, -4.1378878558150076e-07]\n"
     ]
    }
   ],
   "source": [
    "# para um valor elevado de alpha os coeficientes são próximos de zero\n",
    "# mas não realmente zero\n",
    "print(coeff_matrix[list_alpha[90]])"
   ]
  },
  {
   "cell_type": "code",
   "execution_count": 85,
   "id": "f2c6ed6d",
   "metadata": {},
   "outputs": [],
   "source": [
    "# linalg.norm(x, ord=None, axis=None, keepdims=False)\n",
    "# Calcula a norma matricial ou vetorial, dependendo do ord, 8 normas diferentes\n",
    "# Quando ord é None para um vector x retorna a 2-norm\n",
    "\n",
    "list_l2_norm = []\n",
    "\n",
    "for alpha in list_alpha:\n",
    "    list_l2_norm.append(np.linalg.norm(coeff_matrix[alpha]))"
   ]
  },
  {
   "cell_type": "code",
   "execution_count": 86,
   "id": "5bba7a9b",
   "metadata": {},
   "outputs": [
    {
     "name": "stdout",
     "output_type": "stream",
     "text": [
      "858.051663440268\n",
      "2.0720439677307483e-05\n"
     ]
    }
   ],
   "source": [
    "print(list_l2_norm[0])\n",
    "print(list_l2_norm[-1])"
   ]
  },
  {
   "cell_type": "code",
   "execution_count": 87,
   "id": "c49926ed",
   "metadata": {},
   "outputs": [
    {
     "data": {
      "text/plain": [
       "(0.0, 100.0)"
      ]
     },
     "execution_count": 87,
     "metadata": {},
     "output_type": "execute_result"
    },
    {
     "data": {
      "image/png": "[encoded data removed]",
      "text/plain": [
       "<Figure size 1400x600 with 1 Axes>"
      ]
     },
     "metadata": {},
     "output_type": "display_data"
    }
   ],
   "source": [
    "plt.figure(figsize = (14,6))\n",
    "plt.plot(list_alpha,list_l2_norm)\n",
    "plt.xlabel('Alpha')\n",
    "plt.ylabel('L2 Norm')\n",
    "plt.xlim(0,100)"
   ]
  },
  {
   "cell_type": "markdown",
   "id": "d167248e",
   "metadata": {},
   "source": [
    "### 6.1.4 Seleccionar o melhor Alpha"
   ]
  },
  {
   "cell_type": "code",
   "execution_count": 88,
   "id": "6c00af90",
   "metadata": {},
   "outputs": [],
   "source": [
    "# Usando o método de validação\n",
    "X_train,X_test,y_train,y_test = train_test_split(df.drop('Salary',axis = 1),df['Salary'],test_size = 0.7,random_state = 2023)"
   ]
  },
  {
   "cell_type": "code",
   "execution_count": 89,
   "id": "3a099bf2",
   "metadata": {},
   "outputs": [],
   "source": [
    "validation_score = []\n",
    "for alpha in list_alpha:\n",
    "    model = Ridge(alpha=alpha)\n",
    "    model.fit(X_train,y_train)\n",
    "    validation_score.append(mean_squared_error(model.predict(X_test),y_test)*len(y_test))"
   ]
  },
  {
   "cell_type": "code",
   "execution_count": 90,
   "id": "1d45a3c2",
   "metadata": {},
   "outputs": [
    {
     "data": {
      "text/plain": [
       "[31052293.077772092,\n",
       " 31048134.7338186,\n",
       " 31042671.000255834,\n",
       " 31035506.016067047,\n",
       " 31026134.030731667]"
      ]
     },
     "execution_count": 90,
     "metadata": {},
     "output_type": "execute_result"
    }
   ],
   "source": [
    "validation_score[:5]"
   ]
  },
  {
   "cell_type": "code",
   "execution_count": 91,
   "id": "7df60757",
   "metadata": {},
   "outputs": [
    {
     "data": {
      "image/png": "[encoded data removed]",
      "text/plain": [
       "<Figure size 640x480 with 1 Axes>"
      ]
     },
     "metadata": {},
     "output_type": "display_data"
    }
   ],
   "source": [
    "# visualização dos scores\n",
    "sns.lineplot(x=list_alpha,y=validation_score)\n",
    "plt.xscale('log')"
   ]
  },
  {
   "cell_type": "code",
   "execution_count": 92,
   "id": "cdd6f8bd",
   "metadata": {},
   "outputs": [
    {
     "data": {
      "text/plain": [
       "69"
      ]
     },
     "execution_count": 92,
     "metadata": {},
     "output_type": "execute_result"
    }
   ],
   "source": [
    "np.argmin(validation_score)"
   ]
  },
  {
   "cell_type": "code",
   "execution_count": 93,
   "id": "5f045a40",
   "metadata": {},
   "outputs": [
    {
     "data": {
      "text/plain": [
       "26893773.159507208"
      ]
     },
     "execution_count": 93,
     "metadata": {},
     "output_type": "execute_result"
    }
   ],
   "source": [
    "validation_score[69]"
   ]
  },
  {
   "cell_type": "code",
   "execution_count": 94,
   "id": "18b7914e",
   "metadata": {},
   "outputs": [
    {
     "data": {
      "text/plain": [
       "array([339.77849797, 601.88005904, 894.71461937])"
      ]
     },
     "execution_count": 94,
     "metadata": {},
     "output_type": "execute_result"
    }
   ],
   "source": [
    "model_ridge = Ridge(alpha=validation_score[69])\n",
    "model_ridge.fit(X_train, y_train) \n",
    "y_pred_ridgetrain= model_ridge.predict(X_train)\n",
    "y_pred_ridgetest= model_ridge.predict(X_test)\n",
    "y_pred_ridgetest[0:3]"
   ]
  },
  {
   "cell_type": "code",
   "execution_count": 95,
   "id": "7891ed61",
   "metadata": {},
   "outputs": [
    {
     "data": {
      "text/plain": [
       "-Ron Roenicke       191.000\n",
       "-Keith Moreland    1043.333\n",
       "-Phil Garner        450.000\n",
       "Name: Salary, dtype: float64"
      ]
     },
     "execution_count": 95,
     "metadata": {},
     "output_type": "execute_result"
    }
   ],
   "source": [
    "# reparem que como estamos a partir/split com seed diferente \n",
    "# temos diferentes elementos no conjunto de teste\n",
    "y_test[0:3]"
   ]
  },
  {
   "cell_type": "markdown",
   "id": "e03cfbf9",
   "metadata": {},
   "source": [
    "## 6.2 Regularização com Lasso"
   ]
  },
  {
   "cell_type": "markdown",
   "id": "d9e93d13",
   "metadata": {},
   "source": [
    "Lasso regression,ou Least Absolute Shrinkage and Selection Operator, é também uma modificação da regressão linear. No Lasso, a função de perda (loss) é modificada para minimizar a complexidade do modelo, limitando a soma dos valores absolutos dos coeficientes do modelo (também chamada de norma l1).\n",
    "\n",
    "\n",
    "**Função perda = OLS + alfa * somatório (valores absolutos da magnitude dos coeficientes)**\n",
    "\n",
    "Na função de perda acima, alfa é o parâmetro de penalização que precisamos selecionar. O uso de uma restrição de norma l1 força alguns coeficientes a assumir o valor zero para permitir que outros coeficientes assumam valores diferentes de zero.\n",
    "\n",
    "No scikit-learn, um modelo de regressão *LASSO* é construído usando a classe Lasso."
   ]
  },
  {
   "cell_type": "markdown",
   "id": "c34a9d33",
   "metadata": {},
   "source": [
    "### 6.2.1 Exemplo de Regularização usando Datasets do Scikit"
   ]
  },
  {
   "cell_type": "code",
   "execution_count": 96,
   "id": "a7149fde",
   "metadata": {},
   "outputs": [],
   "source": [
    "from sklearn.model_selection import train_test_split\n",
    "\n",
    "X_train, X_test, y_train, y_test = train_test_split(diabetes_X, diabetes_y, test_size=0.3,random_state=2510) "
   ]
  },
  {
   "cell_type": "code",
   "execution_count": 97,
   "id": "8d365678",
   "metadata": {},
   "outputs": [],
   "source": [
    "from sklearn.linear_model import Lasso\n",
    "\n",
    "# instancia o modelo de regressão Lasso\n",
    "# com um valor alfa \n",
    "model_lasso = Lasso(alpha=0.01)"
   ]
  },
  {
   "cell_type": "code",
   "execution_count": 98,
   "id": "594287e2",
   "metadata": {},
   "outputs": [
    {
     "data": {
      "text/html": [
       "<style>#sk-container-id-6 {color: black;}#sk-container-id-6 pre{padding: 0;}#sk-container-id-6 div.sk-toggleable {background-color: white;}#sk-container-id-6 label.sk-toggleable__label {cursor: pointer;display: block;width: 100%;margin-bottom: 0;padding: 0.3em;box-sizing: border-box;text-align: center;}#sk-container-id-6 label.sk-toggleable__label-arrow:before {content: \"▸\";float: left;margin-right: 0.25em;color: #696969;}#sk-container-id-6 label.sk-toggleable__label-arrow:hover:before {color: black;}#sk-container-id-6 div.sk-estimator:hover label.sk-toggleable__label-arrow:before {color: black;}#sk-container-id-6 div.sk-toggleable__content {max-height: 0;max-width: 0;overflow: hidden;text-align: left;background-color: #f0f8ff;}#sk-container-id-6 div.sk-toggleable__content pre {margin: 0.2em;color: black;border-radius: 0.25em;background-color: #f0f8ff;}#sk-container-id-6 input.sk-toggleable__control:checked~div.sk-toggleable__content {max-height: 200px;max-width: 100%;overflow: auto;}#sk-container-id-6 input.sk-toggleable__control:checked~label.sk-toggleable__label-arrow:before {content: \"▾\";}#sk-container-id-6 div.sk-estimator input.sk-toggleable__control:checked~label.sk-toggleable__label {background-color: #d4ebff;}#sk-container-id-6 div.sk-label input.sk-toggleable__control:checked~label.sk-toggleable__label {background-color: #d4ebff;}#sk-container-id-6 input.sk-hidden--visually {border: 0;clip: rect(1px 1px 1px 1px);clip: rect(1px, 1px, 1px, 1px);height: 1px;margin: -1px;overflow: hidden;padding: 0;position: absolute;width: 1px;}#sk-container-id-6 div.sk-estimator {font-family: monospace;background-color: #f0f8ff;border: 1px dotted black;border-radius: 0.25em;box-sizing: border-box;margin-bottom: 0.5em;}#sk-container-id-6 div.sk-estimator:hover {background-color: #d4ebff;}#sk-container-id-6 div.sk-parallel-item::after {content: \"\";width: 100%;border-bottom: 1px solid gray;flex-grow: 1;}#sk-container-id-6 div.sk-label:hover label.sk-toggleable__label {background-color: #d4ebff;}#sk-container-id-6 div.sk-serial::before {content: \"\";position: absolute;border-left: 1px solid gray;box-sizing: border-box;top: 0;bottom: 0;left: 50%;z-index: 0;}#sk-container-id-6 div.sk-serial {display: flex;flex-direction: column;align-items: center;background-color: white;padding-right: 0.2em;padding-left: 0.2em;position: relative;}#sk-container-id-6 div.sk-item {position: relative;z-index: 1;}#sk-container-id-6 div.sk-parallel {display: flex;align-items: stretch;justify-content: center;background-color: white;position: relative;}#sk-container-id-6 div.sk-item::before, #sk-container-id-6 div.sk-parallel-item::before {content: \"\";position: absolute;border-left: 1px solid gray;box-sizing: border-box;top: 0;bottom: 0;left: 50%;z-index: -1;}#sk-container-id-6 div.sk-parallel-item {display: flex;flex-direction: column;z-index: 1;position: relative;background-color: white;}#sk-container-id-6 div.sk-parallel-item:first-child::after {align-self: flex-end;width: 50%;}#sk-container-id-6 div.sk-parallel-item:last-child::after {align-self: flex-start;width: 50%;}#sk-container-id-6 div.sk-parallel-item:only-child::after {width: 0;}#sk-container-id-6 div.sk-dashed-wrapped {border: 1px dashed gray;margin: 0 0.4em 0.5em 0.4em;box-sizing: border-box;padding-bottom: 0.4em;background-color: white;}#sk-container-id-6 div.sk-label label {font-family: monospace;font-weight: bold;display: inline-block;line-height: 1.2em;}#sk-container-id-6 div.sk-label-container {text-align: center;}#sk-container-id-6 div.sk-container {/* jupyter's `normalize.less` sets `[hidden] { display: none; }` but bootstrap.min.css set `[hidden] { display: none !important; }` so we also need the `!important` here to be able to override the default hidden behavior on the sphinx rendered scikit-learn.org. See: https://github.com/scikit-learn/scikit-learn/issues/21755 */display: inline-block !important;position: relative;}#sk-container-id-6 div.sk-text-repr-fallback {display: none;}</style><div id=\"sk-container-id-6\" class=\"sk-top-container\"><div class=\"sk-text-repr-fallback\"><pre>Lasso(alpha=0.01)</pre><b>In a Jupyter environment, please rerun this cell to show the HTML representation or trust the notebook. <br />On GitHub, the HTML representation is unable to render, please try loading this page with nbviewer.org.</b></div><div class=\"sk-container\" hidden><div class=\"sk-item\"><div class=\"sk-estimator sk-toggleable\"><input class=\"sk-toggleable__control sk-hidden--visually\" id=\"sk-estimator-id-6\" type=\"checkbox\" checked><label for=\"sk-estimator-id-6\" class=\"sk-toggleable__label sk-toggleable__label-arrow\">Lasso</label><div class=\"sk-toggleable__content\"><pre>Lasso(alpha=0.01)</pre></div></div></div></div></div>"
      ],
      "text/plain": [
       "Lasso(alpha=0.01)"
      ]
     },
     "execution_count": 98,
     "metadata": {},
     "output_type": "execute_result"
    }
   ],
   "source": [
    "model_lasso.fit(X_train, y_train) "
   ]
  },
  {
   "cell_type": "code",
   "execution_count": 99,
   "id": "990f909d",
   "metadata": {},
   "outputs": [],
   "source": [
    "y_pred_lassotrain = model_lasso.predict(X_train)"
   ]
  },
  {
   "cell_type": "code",
   "execution_count": 100,
   "id": "b2514ea1",
   "metadata": {},
   "outputs": [],
   "source": [
    "y_pred_lassotest = model_lasso.predict(X_test)"
   ]
  },
  {
   "cell_type": "code",
   "execution_count": 101,
   "id": "21934da4",
   "metadata": {},
   "outputs": [
    {
     "data": {
      "text/plain": [
       "array([158.94237435, 120.834578  , 187.363952  , 254.68025769,\n",
       "        88.9552664 ])"
      ]
     },
     "execution_count": 101,
     "metadata": {},
     "output_type": "execute_result"
    }
   ],
   "source": [
    "y_pred_lassotest[:5]"
   ]
  },
  {
   "cell_type": "code",
   "execution_count": 102,
   "id": "c5799665",
   "metadata": {},
   "outputs": [
    {
     "data": {
      "text/plain": [
       "24     184.0\n",
       "241    177.0\n",
       "121    173.0\n",
       "138    336.0\n",
       "90      98.0\n",
       "Name: target, dtype: float64"
      ]
     },
     "execution_count": 102,
     "metadata": {},
     "output_type": "execute_result"
    }
   ],
   "source": [
    "y_test[:5]"
   ]
  },
  {
   "cell_type": "code",
   "execution_count": 103,
   "id": "88a17513",
   "metadata": {},
   "outputs": [
    {
     "name": "stdout",
     "output_type": "stream",
     "text": [
      "MSE nos dados de Treino: 53.834764417795725\n",
      "R2 nos dados de Treino: 0.5018822179496036\n",
      "MSE nos dados de Teste: 54.71440186020355\n",
      "R2 nos dados de Teste: 0.5026610748228949\n"
     ]
    }
   ],
   "source": [
    "from sklearn.metrics import mean_squared_error, r2_score\n",
    "\n",
    "print('MSE nos dados de Treino: {}' .format(np.sqrt(mean_squared_error(y_train,y_pred_lassotrain))))\n",
    "print('R2 nos dados de Treino: {}' .format(r2_score(y_train, y_pred_lassotrain)))\n",
    "\n",
    "print('MSE nos dados de Teste: {}' .format(np.sqrt(mean_squared_error(y_test,y_pred_lassotest)))) \n",
    "print('R2 nos dados de Teste: {}' .format(r2_score(y_test, y_pred_lassotest)))"
   ]
  },
  {
   "cell_type": "code",
   "execution_count": 104,
   "id": "ace13d56",
   "metadata": {},
   "outputs": [
    {
     "data": {
      "image/png": "[encoded data removed]",
      "text/plain": [
       "<Figure size 1200x600 with 1 Axes>"
      ]
     },
     "metadata": {},
     "output_type": "display_data"
    }
   ],
   "source": [
    "import matplotlib.pyplot as plt\n",
    "import seaborn as sns\n",
    "\n",
    "\n",
    "plt.figure(figsize = (12,6))\n",
    "sns.scatterplot(x= y_test, y= y_pred_lassotest)\n",
    "plt.xlim(0, 400)\n",
    "plt.ylim(0, 400)\n",
    "plt.title(\"Predictions\")\n",
    "plt.xlabel(\"y_test\")\n",
    "plt.ylabel(\"y_pred\")\n",
    "plt.show()"
   ]
  },
  {
   "cell_type": "markdown",
   "id": "c575e555",
   "metadata": {},
   "source": [
    "### 6.2.2 Exemplo de Exploração do Alpha"
   ]
  },
  {
   "cell_type": "code",
   "execution_count": 105,
   "id": "90a00f59",
   "metadata": {},
   "outputs": [
    {
     "data": {
      "text/html": [
       "<div>\n",
       "<style scoped>\n",
       "    .dataframe tbody tr th:only-of-type {\n",
       "        vertical-align: middle;\n",
       "    }\n",
       "\n",
       "    .dataframe tbody tr th {\n",
       "        vertical-align: top;\n",
       "    }\n",
       "\n",
       "    .dataframe thead th {\n",
       "        text-align: right;\n",
       "    }\n",
       "</style>\n",
       "<table border=\"1\" class=\"dataframe\">\n",
       "  <thead>\n",
       "    <tr style=\"text-align: right;\">\n",
       "      <th></th>\n",
       "      <th>AtBat</th>\n",
       "      <th>Hits</th>\n",
       "      <th>HmRun</th>\n",
       "      <th>Runs</th>\n",
       "      <th>RBI</th>\n",
       "      <th>Walks</th>\n",
       "      <th>Years</th>\n",
       "      <th>CAtBat</th>\n",
       "      <th>CHits</th>\n",
       "      <th>CHmRun</th>\n",
       "      <th>CRuns</th>\n",
       "      <th>CRBI</th>\n",
       "      <th>CWalks</th>\n",
       "      <th>PutOuts</th>\n",
       "      <th>Assists</th>\n",
       "      <th>Errors</th>\n",
       "      <th>Salary</th>\n",
       "      <th>League_N</th>\n",
       "      <th>Division_W</th>\n",
       "      <th>NewLeague_N</th>\n",
       "    </tr>\n",
       "  </thead>\n",
       "  <tbody>\n",
       "    <tr>\n",
       "      <th>-Alan Ashby</th>\n",
       "      <td>315</td>\n",
       "      <td>81</td>\n",
       "      <td>7</td>\n",
       "      <td>24</td>\n",
       "      <td>38</td>\n",
       "      <td>39</td>\n",
       "      <td>14</td>\n",
       "      <td>3449</td>\n",
       "      <td>835</td>\n",
       "      <td>69</td>\n",
       "      <td>321</td>\n",
       "      <td>414</td>\n",
       "      <td>375</td>\n",
       "      <td>632</td>\n",
       "      <td>43</td>\n",
       "      <td>10</td>\n",
       "      <td>475.0</td>\n",
       "      <td>True</td>\n",
       "      <td>True</td>\n",
       "      <td>True</td>\n",
       "    </tr>\n",
       "    <tr>\n",
       "      <th>-Alvin Davis</th>\n",
       "      <td>479</td>\n",
       "      <td>130</td>\n",
       "      <td>18</td>\n",
       "      <td>66</td>\n",
       "      <td>72</td>\n",
       "      <td>76</td>\n",
       "      <td>3</td>\n",
       "      <td>1624</td>\n",
       "      <td>457</td>\n",
       "      <td>63</td>\n",
       "      <td>224</td>\n",
       "      <td>266</td>\n",
       "      <td>263</td>\n",
       "      <td>880</td>\n",
       "      <td>82</td>\n",
       "      <td>14</td>\n",
       "      <td>480.0</td>\n",
       "      <td>False</td>\n",
       "      <td>True</td>\n",
       "      <td>False</td>\n",
       "    </tr>\n",
       "    <tr>\n",
       "      <th>-Andre Dawson</th>\n",
       "      <td>496</td>\n",
       "      <td>141</td>\n",
       "      <td>20</td>\n",
       "      <td>65</td>\n",
       "      <td>78</td>\n",
       "      <td>37</td>\n",
       "      <td>11</td>\n",
       "      <td>5628</td>\n",
       "      <td>1575</td>\n",
       "      <td>225</td>\n",
       "      <td>828</td>\n",
       "      <td>838</td>\n",
       "      <td>354</td>\n",
       "      <td>200</td>\n",
       "      <td>11</td>\n",
       "      <td>3</td>\n",
       "      <td>500.0</td>\n",
       "      <td>True</td>\n",
       "      <td>False</td>\n",
       "      <td>True</td>\n",
       "    </tr>\n",
       "    <tr>\n",
       "      <th>-Andres Galarraga</th>\n",
       "      <td>321</td>\n",
       "      <td>87</td>\n",
       "      <td>10</td>\n",
       "      <td>39</td>\n",
       "      <td>42</td>\n",
       "      <td>30</td>\n",
       "      <td>2</td>\n",
       "      <td>396</td>\n",
       "      <td>101</td>\n",
       "      <td>12</td>\n",
       "      <td>48</td>\n",
       "      <td>46</td>\n",
       "      <td>33</td>\n",
       "      <td>805</td>\n",
       "      <td>40</td>\n",
       "      <td>4</td>\n",
       "      <td>91.5</td>\n",
       "      <td>True</td>\n",
       "      <td>False</td>\n",
       "      <td>True</td>\n",
       "    </tr>\n",
       "    <tr>\n",
       "      <th>-Alfredo Griffin</th>\n",
       "      <td>594</td>\n",
       "      <td>169</td>\n",
       "      <td>4</td>\n",
       "      <td>74</td>\n",
       "      <td>51</td>\n",
       "      <td>35</td>\n",
       "      <td>11</td>\n",
       "      <td>4408</td>\n",
       "      <td>1133</td>\n",
       "      <td>19</td>\n",
       "      <td>501</td>\n",
       "      <td>336</td>\n",
       "      <td>194</td>\n",
       "      <td>282</td>\n",
       "      <td>421</td>\n",
       "      <td>25</td>\n",
       "      <td>750.0</td>\n",
       "      <td>False</td>\n",
       "      <td>True</td>\n",
       "      <td>False</td>\n",
       "    </tr>\n",
       "  </tbody>\n",
       "</table>\n",
       "</div>"
      ],
      "text/plain": [
       "                   AtBat  Hits  HmRun  Runs  RBI  Walks  Years  CAtBat  CHits  \\\n",
       "-Alan Ashby          315    81      7    24   38     39     14    3449    835   \n",
       "-Alvin Davis         479   130     18    66   72     76      3    1624    457   \n",
       "-Andre Dawson        496   141     20    65   78     37     11    5628   1575   \n",
       "-Andres Galarraga    321    87     10    39   42     30      2     396    101   \n",
       "-Alfredo Griffin     594   169      4    74   51     35     11    4408   1133   \n",
       "\n",
       "                   CHmRun  CRuns  CRBI  CWalks  PutOuts  Assists  Errors  \\\n",
       "-Alan Ashby            69    321   414     375      632       43      10   \n",
       "-Alvin Davis           63    224   266     263      880       82      14   \n",
       "-Andre Dawson         225    828   838     354      200       11       3   \n",
       "-Andres Galarraga      12     48    46      33      805       40       4   \n",
       "-Alfredo Griffin       19    501   336     194      282      421      25   \n",
       "\n",
       "                   Salary  League_N  Division_W  NewLeague_N  \n",
       "-Alan Ashby         475.0      True        True         True  \n",
       "-Alvin Davis        480.0     False        True        False  \n",
       "-Andre Dawson       500.0      True       False         True  \n",
       "-Andres Galarraga    91.5      True       False         True  \n",
       "-Alfredo Griffin    750.0     False        True        False  "
      ]
     },
     "execution_count": 105,
     "metadata": {},
     "output_type": "execute_result"
    }
   ],
   "source": [
    "df.head()"
   ]
  },
  {
   "cell_type": "code",
   "execution_count": 106,
   "id": "034cea1f",
   "metadata": {},
   "outputs": [],
   "source": [
    "# Separamos a coluna target das outras\n",
    "X = df.drop('Salary',axis = 1)\n",
    "y = df['Salary']"
   ]
  },
  {
   "cell_type": "code",
   "execution_count": 107,
   "id": "68568111",
   "metadata": {},
   "outputs": [],
   "source": [
    "from sklearn.preprocessing import StandardScaler\n",
    "\n",
    "# Como vemos nas colunas grandes diferenças de escala vamos standardizar\n",
    "scaler = StandardScaler()\n",
    "X = scaler.fit_transform(X)"
   ]
  },
  {
   "cell_type": "code",
   "execution_count": 108,
   "id": "98110f41",
   "metadata": {},
   "outputs": [
    {
     "name": "stdout",
     "output_type": "stream",
     "text": [
      "(210, 19)\n",
      "(53,)\n"
     ]
    }
   ],
   "source": [
    "from sklearn.model_selection import train_test_split\n",
    "\n",
    "X_train, X_test, y_train, y_test = train_test_split(X, y, test_size=0.2,random_state=2510) \n",
    "print(X_train.shape)\n",
    "print(y_test.shape)"
   ]
  },
  {
   "cell_type": "code",
   "execution_count": 109,
   "id": "de2f259b",
   "metadata": {},
   "outputs": [
    {
     "name": "stderr",
     "output_type": "stream",
     "text": [
      "C:\\anaconda3\\Lib\\site-packages\\sklearn\\linear_model\\_coordinate_descent.py:628: ConvergenceWarning: Objective did not converge. You might want to increase the number of iterations, check the scale of the features or consider increasing regularisation. Duality gap: 9.182e+06, tolerance: 5.332e+03\n",
      "  model = cd_fast.enet_coordinate_descent(\n",
      "C:\\anaconda3\\Lib\\site-packages\\sklearn\\linear_model\\_coordinate_descent.py:628: ConvergenceWarning: Objective did not converge. You might want to increase the number of iterations, check the scale of the features or consider increasing regularisation. Duality gap: 8.172e+06, tolerance: 5.332e+03\n",
      "  model = cd_fast.enet_coordinate_descent(\n",
      "C:\\anaconda3\\Lib\\site-packages\\sklearn\\linear_model\\_coordinate_descent.py:628: ConvergenceWarning: Objective did not converge. You might want to increase the number of iterations, check the scale of the features or consider increasing regularisation. Duality gap: 6.794e+06, tolerance: 5.332e+03\n",
      "  model = cd_fast.enet_coordinate_descent(\n",
      "C:\\anaconda3\\Lib\\site-packages\\sklearn\\linear_model\\_coordinate_descent.py:628: ConvergenceWarning: Objective did not converge. You might want to increase the number of iterations, check the scale of the features or consider increasing regularisation. Duality gap: 5.458e+06, tolerance: 5.332e+03\n",
      "  model = cd_fast.enet_coordinate_descent(\n",
      "C:\\anaconda3\\Lib\\site-packages\\sklearn\\linear_model\\_coordinate_descent.py:628: ConvergenceWarning: Objective did not converge. You might want to increase the number of iterations, check the scale of the features or consider increasing regularisation. Duality gap: 4.219e+06, tolerance: 5.332e+03\n",
      "  model = cd_fast.enet_coordinate_descent(\n",
      "C:\\anaconda3\\Lib\\site-packages\\sklearn\\linear_model\\_coordinate_descent.py:628: ConvergenceWarning: Objective did not converge. You might want to increase the number of iterations, check the scale of the features or consider increasing regularisation. Duality gap: 2.984e+06, tolerance: 5.332e+03\n",
      "  model = cd_fast.enet_coordinate_descent(\n",
      "C:\\anaconda3\\Lib\\site-packages\\sklearn\\linear_model\\_coordinate_descent.py:628: ConvergenceWarning: Objective did not converge. You might want to increase the number of iterations, check the scale of the features or consider increasing regularisation. Duality gap: 1.852e+06, tolerance: 5.332e+03\n",
      "  model = cd_fast.enet_coordinate_descent(\n",
      "C:\\anaconda3\\Lib\\site-packages\\sklearn\\linear_model\\_coordinate_descent.py:628: ConvergenceWarning: Objective did not converge. You might want to increase the number of iterations, check the scale of the features or consider increasing regularisation. Duality gap: 9.255e+05, tolerance: 5.332e+03\n",
      "  model = cd_fast.enet_coordinate_descent(\n",
      "C:\\anaconda3\\Lib\\site-packages\\sklearn\\linear_model\\_coordinate_descent.py:628: ConvergenceWarning: Objective did not converge. You might want to increase the number of iterations, check the scale of the features or consider increasing regularisation. Duality gap: 2.872e+05, tolerance: 5.332e+03\n",
      "  model = cd_fast.enet_coordinate_descent(\n",
      "C:\\anaconda3\\Lib\\site-packages\\sklearn\\linear_model\\_coordinate_descent.py:628: ConvergenceWarning: Objective did not converge. You might want to increase the number of iterations, check the scale of the features or consider increasing regularisation. Duality gap: 1.493e+05, tolerance: 5.332e+03\n",
      "  model = cd_fast.enet_coordinate_descent(\n",
      "C:\\anaconda3\\Lib\\site-packages\\sklearn\\linear_model\\_coordinate_descent.py:628: ConvergenceWarning: Objective did not converge. You might want to increase the number of iterations, check the scale of the features or consider increasing regularisation. Duality gap: 9.225e+04, tolerance: 5.332e+03\n",
      "  model = cd_fast.enet_coordinate_descent(\n",
      "C:\\anaconda3\\Lib\\site-packages\\sklearn\\linear_model\\_coordinate_descent.py:628: ConvergenceWarning: Objective did not converge. You might want to increase the number of iterations, check the scale of the features or consider increasing regularisation. Duality gap: 5.792e+04, tolerance: 5.332e+03\n",
      "  model = cd_fast.enet_coordinate_descent(\n",
      "C:\\anaconda3\\Lib\\site-packages\\sklearn\\linear_model\\_coordinate_descent.py:628: ConvergenceWarning: Objective did not converge. You might want to increase the number of iterations, check the scale of the features or consider increasing regularisation. Duality gap: 3.740e+04, tolerance: 5.332e+03\n",
      "  model = cd_fast.enet_coordinate_descent(\n",
      "C:\\anaconda3\\Lib\\site-packages\\sklearn\\linear_model\\_coordinate_descent.py:628: ConvergenceWarning: Objective did not converge. You might want to increase the number of iterations, check the scale of the features or consider increasing regularisation. Duality gap: 2.515e+04, tolerance: 5.332e+03\n",
      "  model = cd_fast.enet_coordinate_descent(\n",
      "C:\\anaconda3\\Lib\\site-packages\\sklearn\\linear_model\\_coordinate_descent.py:628: ConvergenceWarning: Objective did not converge. You might want to increase the number of iterations, check the scale of the features or consider increasing regularisation. Duality gap: 1.760e+04, tolerance: 5.332e+03\n",
      "  model = cd_fast.enet_coordinate_descent(\n",
      "C:\\anaconda3\\Lib\\site-packages\\sklearn\\linear_model\\_coordinate_descent.py:628: ConvergenceWarning: Objective did not converge. You might want to increase the number of iterations, check the scale of the features or consider increasing regularisation. Duality gap: 1.099e+04, tolerance: 5.332e+03\n",
      "  model = cd_fast.enet_coordinate_descent(\n"
     ]
    }
   ],
   "source": [
    "coeff_matrix_lasso = {}\n",
    "\n",
    "for alpha in list_alpha:\n",
    "    model = Lasso(alpha=alpha)\n",
    "    model.fit(X,y)\n",
    "    coeff_matrix_lasso[alpha] = list(model.coef_)"
   ]
  },
  {
   "cell_type": "code",
   "execution_count": 110,
   "id": "c9d5bf04",
   "metadata": {},
   "outputs": [
    {
     "data": {
      "text/html": [
       "<div>\n",
       "<style scoped>\n",
       "    .dataframe tbody tr th:only-of-type {\n",
       "        vertical-align: middle;\n",
       "    }\n",
       "\n",
       "    .dataframe tbody tr th {\n",
       "        vertical-align: top;\n",
       "    }\n",
       "\n",
       "    .dataframe thead th {\n",
       "        text-align: right;\n",
       "    }\n",
       "</style>\n",
       "<table border=\"1\" class=\"dataframe\">\n",
       "  <thead>\n",
       "    <tr style=\"text-align: right;\">\n",
       "      <th></th>\n",
       "      <th>0</th>\n",
       "      <th>1</th>\n",
       "      <th>2</th>\n",
       "      <th>3</th>\n",
       "      <th>4</th>\n",
       "      <th>5</th>\n",
       "      <th>6</th>\n",
       "      <th>7</th>\n",
       "      <th>8</th>\n",
       "      <th>9</th>\n",
       "      <th>10</th>\n",
       "      <th>11</th>\n",
       "      <th>12</th>\n",
       "      <th>13</th>\n",
       "      <th>14</th>\n",
       "      <th>15</th>\n",
       "      <th>16</th>\n",
       "      <th>17</th>\n",
       "      <th>18</th>\n",
       "    </tr>\n",
       "  </thead>\n",
       "  <tbody>\n",
       "    <tr>\n",
       "      <th>0.010000</th>\n",
       "      <td>-286.905007</td>\n",
       "      <td>331.363096</td>\n",
       "      <td>36.212359</td>\n",
       "      <td>-57.357808</td>\n",
       "      <td>-25.658648</td>\n",
       "      <td>133.787447</td>\n",
       "      <td>-14.313048</td>\n",
       "      <td>-422.215279</td>\n",
       "      <td>133.673334</td>\n",
       "      <td>-4.578178</td>\n",
       "      <td>464.460502</td>\n",
       "      <td>246.073678</td>\n",
       "      <td>-208.802960</td>\n",
       "      <td>78.639945</td>\n",
       "      <td>54.350452</td>\n",
       "      <td>-22.467425</td>\n",
       "      <td>31.583507</td>\n",
       "      <td>-58.365877</td>\n",
       "      <td>-12.672573</td>\n",
       "    </tr>\n",
       "    <tr>\n",
       "      <th>0.013219</th>\n",
       "      <td>-286.950122</td>\n",
       "      <td>331.325695</td>\n",
       "      <td>36.091031</td>\n",
       "      <td>-57.257930</td>\n",
       "      <td>-25.528647</td>\n",
       "      <td>133.747959</td>\n",
       "      <td>-14.398744</td>\n",
       "      <td>-420.990800</td>\n",
       "      <td>132.935083</td>\n",
       "      <td>-4.435307</td>\n",
       "      <td>464.206011</td>\n",
       "      <td>245.764342</td>\n",
       "      <td>-208.778380</td>\n",
       "      <td>78.644615</td>\n",
       "      <td>54.304079</td>\n",
       "      <td>-22.452758</td>\n",
       "      <td>31.554027</td>\n",
       "      <td>-58.363511</td>\n",
       "      <td>-12.643337</td>\n",
       "    </tr>\n",
       "    <tr>\n",
       "      <th>0.017475</th>\n",
       "      <td>-287.009869</td>\n",
       "      <td>331.275922</td>\n",
       "      <td>35.930298</td>\n",
       "      <td>-57.125588</td>\n",
       "      <td>-25.356432</td>\n",
       "      <td>133.695761</td>\n",
       "      <td>-14.512163</td>\n",
       "      <td>-419.372611</td>\n",
       "      <td>131.963418</td>\n",
       "      <td>-4.244520</td>\n",
       "      <td>463.867405</td>\n",
       "      <td>245.352140</td>\n",
       "      <td>-208.745736</td>\n",
       "      <td>78.650806</td>\n",
       "      <td>54.242814</td>\n",
       "      <td>-22.433398</td>\n",
       "      <td>31.515092</td>\n",
       "      <td>-58.360387</td>\n",
       "      <td>-12.604741</td>\n",
       "    </tr>\n",
       "    <tr>\n",
       "      <th>0.023101</th>\n",
       "      <td>-287.089063</td>\n",
       "      <td>331.210178</td>\n",
       "      <td>35.717682</td>\n",
       "      <td>-56.950581</td>\n",
       "      <td>-25.128615</td>\n",
       "      <td>133.626802</td>\n",
       "      <td>-14.662262</td>\n",
       "      <td>-417.232465</td>\n",
       "      <td>130.679408</td>\n",
       "      <td>-3.991625</td>\n",
       "      <td>463.419197</td>\n",
       "      <td>244.805989</td>\n",
       "      <td>-208.702686</td>\n",
       "      <td>78.659004</td>\n",
       "      <td>54.161818</td>\n",
       "      <td>-22.407810</td>\n",
       "      <td>31.463628</td>\n",
       "      <td>-58.356260</td>\n",
       "      <td>-12.553732</td>\n",
       "    </tr>\n",
       "    <tr>\n",
       "      <th>0.030539</th>\n",
       "      <td>-287.193575</td>\n",
       "      <td>331.122512</td>\n",
       "      <td>35.436185</td>\n",
       "      <td>-56.718727</td>\n",
       "      <td>-24.827025</td>\n",
       "      <td>133.535567</td>\n",
       "      <td>-14.860641</td>\n",
       "      <td>-414.406159</td>\n",
       "      <td>128.989613</td>\n",
       "      <td>-3.654757</td>\n",
       "      <td>462.823461</td>\n",
       "      <td>244.079779</td>\n",
       "      <td>-208.645293</td>\n",
       "      <td>78.669850</td>\n",
       "      <td>54.054836</td>\n",
       "      <td>-22.374038</td>\n",
       "      <td>31.395662</td>\n",
       "      <td>-58.350806</td>\n",
       "      <td>-12.486383</td>\n",
       "    </tr>\n",
       "  </tbody>\n",
       "</table>\n",
       "</div>"
      ],
      "text/plain": [
       "                  0           1          2          3          4           5   \\\n",
       "0.010000 -286.905007  331.363096  36.212359 -57.357808 -25.658648  133.787447   \n",
       "0.013219 -286.950122  331.325695  36.091031 -57.257930 -25.528647  133.747959   \n",
       "0.017475 -287.009869  331.275922  35.930298 -57.125588 -25.356432  133.695761   \n",
       "0.023101 -287.089063  331.210178  35.717682 -56.950581 -25.128615  133.626802   \n",
       "0.030539 -287.193575  331.122512  35.436185 -56.718727 -24.827025  133.535567   \n",
       "\n",
       "                 6           7           8         9           10          11  \\\n",
       "0.010000 -14.313048 -422.215279  133.673334 -4.578178  464.460502  246.073678   \n",
       "0.013219 -14.398744 -420.990800  132.935083 -4.435307  464.206011  245.764342   \n",
       "0.017475 -14.512163 -419.372611  131.963418 -4.244520  463.867405  245.352140   \n",
       "0.023101 -14.662262 -417.232465  130.679408 -3.991625  463.419197  244.805989   \n",
       "0.030539 -14.860641 -414.406159  128.989613 -3.654757  462.823461  244.079779   \n",
       "\n",
       "                  12         13         14         15         16         17  \\\n",
       "0.010000 -208.802960  78.639945  54.350452 -22.467425  31.583507 -58.365877   \n",
       "0.013219 -208.778380  78.644615  54.304079 -22.452758  31.554027 -58.363511   \n",
       "0.017475 -208.745736  78.650806  54.242814 -22.433398  31.515092 -58.360387   \n",
       "0.023101 -208.702686  78.659004  54.161818 -22.407810  31.463628 -58.356260   \n",
       "0.030539 -208.645293  78.669850  54.054836 -22.374038  31.395662 -58.350806   \n",
       "\n",
       "                 18  \n",
       "0.010000 -12.672573  \n",
       "0.013219 -12.643337  \n",
       "0.017475 -12.604741  \n",
       "0.023101 -12.553732  \n",
       "0.030539 -12.486383  "
      ]
     },
     "execution_count": 110,
     "metadata": {},
     "output_type": "execute_result"
    }
   ],
   "source": [
    "tmp = pd.DataFrame(coeff_matrix_lasso).T\n",
    "tmp.index = list_alpha\n",
    "tmp.head()"
   ]
  },
  {
   "cell_type": "code",
   "execution_count": 111,
   "id": "7f095bd0",
   "metadata": {},
   "outputs": [
    {
     "data": {
      "text/plain": [
       "<matplotlib.legend.Legend at 0x249f3659590>"
      ]
     },
     "execution_count": 111,
     "metadata": {},
     "output_type": "execute_result"
    },
    {
     "data": {
      "image/png": "[encoded data removed]",
      "text/plain": [
       "<Figure size 1600x800 with 1 Axes>"
      ]
     },
     "metadata": {},
     "output_type": "display_data"
    }
   ],
   "source": [
    "# Visualização dos Coeficientes usando Lasso\n",
    "plt.figure(figsize = (16,8))\n",
    "sns.lineplot(data = tmp, dashes=False)\n",
    "plt.axhline(y = 0,linestyle = 'dashed',lw = 0.1,color = 'black')\n",
    "plt.xscale('log')\n",
    "plt.xticks(list_alpha)\n",
    "plt.ylabel('Coeffients',fontsize = 14)\n",
    "plt.xlabel('Alpha')\n",
    "plt.legend(loc='right')"
   ]
  },
  {
   "cell_type": "code",
   "execution_count": 112,
   "id": "efb1e6a8",
   "metadata": {},
   "outputs": [
    {
     "name": "stdout",
     "output_type": "stream",
     "text": [
      "[-288.06252906937215, 330.3698119988711, 33.06222643992295, -54.759037031180114, -22.28462955849052, 132.76311903093188, -16.525200498348894, -390.6592305572671, 114.82688141722605, -0.8084173075286021, 457.7814835607475, 237.95136546687922, -208.1498760652225, 78.76080852606057, 53.15428784246432, -22.089840987640912, 30.823239242661025, -58.30463802012504, -11.918959657361917]\n"
     ]
    }
   ],
   "source": [
    "# para valores pequenos de alpha os coeficientes são grandes\n",
    "print(coeff_matrix_lasso[list_alpha[8]])"
   ]
  },
  {
   "cell_type": "code",
   "execution_count": 113,
   "id": "1f4ca620",
   "metadata": {},
   "outputs": [
    {
     "name": "stdout",
     "output_type": "stream",
     "text": [
      "[0.0, 74.03594663563692, 0.0, 0.0, 0.0, 41.19913426013348, 0.0, 0.0, 0.0, 0.0, 59.78901166959316, 121.68559725914021, 0.0, 42.40642835425778, 0.0, -0.0, 0.0, -27.73480891199421, 0.0]\n"
     ]
    }
   ],
   "source": [
    "# para valores maiores de alpha alguns coeficientes são zero\n",
    "print(coeff_matrix_lasso[list_alpha[30]])"
   ]
  },
  {
   "cell_type": "code",
   "execution_count": 114,
   "id": "b090d9a7",
   "metadata": {},
   "outputs": [
    {
     "name": "stdout",
     "output_type": "stream",
     "text": [
      "[5.7633182487043e-05, 6.40427770922997e-05, 5.0079153502888385e-05, 6.129576852892078e-05, 6.561689194262844e-05, 6.480083916119167e-05, 5.8492473598104725e-05, 7.681124525639192e-05, 8.013609785207736e-05, 7.663536669557499e-05, 8.214613025072632e-05, 8.277213810215089e-05, 7.150981326993899e-05, 4.386760495701928e-05, 3.713461226222583e-06, -7.884609239667481e-07, -2.0850022653353327e-06, -2.810549748199537e-05, -4.1378878558150076e-07]\n"
     ]
    }
   ],
   "source": [
    "# para valores suficientemente grandes de alpha\n",
    "# são todos encolhidos até ao zero \n",
    "# ao contrário do que sucedia com o Ridge em que se\n",
    "# aproximavam mas nunca eram mesmo zero\n",
    "print(coeff_matrix[list_alpha[90]])"
   ]
  },
  {
   "cell_type": "markdown",
   "id": "b4425c0d",
   "metadata": {},
   "source": [
    "## 6.3 Regularização usando ElasticNet Regression"
   ]
  },
  {
   "cell_type": "markdown",
   "id": "9a899ae7",
   "metadata": {},
   "source": [
    "ElasticNet combina as propriedades da regressão Ridge e Lasso. Funciona penalizando o modelo usando a norma l2 e a norma l1.\n",
    "\n",
    "No scikit-learn, um modelo de regressão ElasticNet é construído usando a classe ElasticNet."
   ]
  },
  {
   "cell_type": "code",
   "execution_count": 115,
   "id": "850af675",
   "metadata": {},
   "outputs": [],
   "source": [
    "from sklearn.model_selection import train_test_split\n",
    "\n",
    "X_train, X_test, y_train, y_test = train_test_split(diabetes_X, diabetes_y, test_size=0.3,random_state=2510) "
   ]
  },
  {
   "cell_type": "code",
   "execution_count": 116,
   "id": "c9bf09f3",
   "metadata": {},
   "outputs": [],
   "source": [
    "from sklearn.linear_model import ElasticNet\n",
    "\n",
    "# instancia o modelo de regressão ElasticNet\n",
    "# com um valor alfa \n",
    "model_elnet = ElasticNet(alpha = 0.01)"
   ]
  },
  {
   "cell_type": "code",
   "execution_count": 117,
   "id": "951929c1",
   "metadata": {},
   "outputs": [
    {
     "data": {
      "text/html": [
       "<style>#sk-container-id-7 {color: black;}#sk-container-id-7 pre{padding: 0;}#sk-container-id-7 div.sk-toggleable {background-color: white;}#sk-container-id-7 label.sk-toggleable__label {cursor: pointer;display: block;width: 100%;margin-bottom: 0;padding: 0.3em;box-sizing: border-box;text-align: center;}#sk-container-id-7 label.sk-toggleable__label-arrow:before {content: \"▸\";float: left;margin-right: 0.25em;color: #696969;}#sk-container-id-7 label.sk-toggleable__label-arrow:hover:before {color: black;}#sk-container-id-7 div.sk-estimator:hover label.sk-toggleable__label-arrow:before {color: black;}#sk-container-id-7 div.sk-toggleable__content {max-height: 0;max-width: 0;overflow: hidden;text-align: left;background-color: #f0f8ff;}#sk-container-id-7 div.sk-toggleable__content pre {margin: 0.2em;color: black;border-radius: 0.25em;background-color: #f0f8ff;}#sk-container-id-7 input.sk-toggleable__control:checked~div.sk-toggleable__content {max-height: 200px;max-width: 100%;overflow: auto;}#sk-container-id-7 input.sk-toggleable__control:checked~label.sk-toggleable__label-arrow:before {content: \"▾\";}#sk-container-id-7 div.sk-estimator input.sk-toggleable__control:checked~label.sk-toggleable__label {background-color: #d4ebff;}#sk-container-id-7 div.sk-label input.sk-toggleable__control:checked~label.sk-toggleable__label {background-color: #d4ebff;}#sk-container-id-7 input.sk-hidden--visually {border: 0;clip: rect(1px 1px 1px 1px);clip: rect(1px, 1px, 1px, 1px);height: 1px;margin: -1px;overflow: hidden;padding: 0;position: absolute;width: 1px;}#sk-container-id-7 div.sk-estimator {font-family: monospace;background-color: #f0f8ff;border: 1px dotted black;border-radius: 0.25em;box-sizing: border-box;margin-bottom: 0.5em;}#sk-container-id-7 div.sk-estimator:hover {background-color: #d4ebff;}#sk-container-id-7 div.sk-parallel-item::after {content: \"\";width: 100%;border-bottom: 1px solid gray;flex-grow: 1;}#sk-container-id-7 div.sk-label:hover label.sk-toggleable__label {background-color: #d4ebff;}#sk-container-id-7 div.sk-serial::before {content: \"\";position: absolute;border-left: 1px solid gray;box-sizing: border-box;top: 0;bottom: 0;left: 50%;z-index: 0;}#sk-container-id-7 div.sk-serial {display: flex;flex-direction: column;align-items: center;background-color: white;padding-right: 0.2em;padding-left: 0.2em;position: relative;}#sk-container-id-7 div.sk-item {position: relative;z-index: 1;}#sk-container-id-7 div.sk-parallel {display: flex;align-items: stretch;justify-content: center;background-color: white;position: relative;}#sk-container-id-7 div.sk-item::before, #sk-container-id-7 div.sk-parallel-item::before {content: \"\";position: absolute;border-left: 1px solid gray;box-sizing: border-box;top: 0;bottom: 0;left: 50%;z-index: -1;}#sk-container-id-7 div.sk-parallel-item {display: flex;flex-direction: column;z-index: 1;position: relative;background-color: white;}#sk-container-id-7 div.sk-parallel-item:first-child::after {align-self: flex-end;width: 50%;}#sk-container-id-7 div.sk-parallel-item:last-child::after {align-self: flex-start;width: 50%;}#sk-container-id-7 div.sk-parallel-item:only-child::after {width: 0;}#sk-container-id-7 div.sk-dashed-wrapped {border: 1px dashed gray;margin: 0 0.4em 0.5em 0.4em;box-sizing: border-box;padding-bottom: 0.4em;background-color: white;}#sk-container-id-7 div.sk-label label {font-family: monospace;font-weight: bold;display: inline-block;line-height: 1.2em;}#sk-container-id-7 div.sk-label-container {text-align: center;}#sk-container-id-7 div.sk-container {/* jupyter's `normalize.less` sets `[hidden] { display: none; }` but bootstrap.min.css set `[hidden] { display: none !important; }` so we also need the `!important` here to be able to override the default hidden behavior on the sphinx rendered scikit-learn.org. See: https://github.com/scikit-learn/scikit-learn/issues/21755 */display: inline-block !important;position: relative;}#sk-container-id-7 div.sk-text-repr-fallback {display: none;}</style><div id=\"sk-container-id-7\" class=\"sk-top-container\"><div class=\"sk-text-repr-fallback\"><pre>ElasticNet(alpha=0.01)</pre><b>In a Jupyter environment, please rerun this cell to show the HTML representation or trust the notebook. <br />On GitHub, the HTML representation is unable to render, please try loading this page with nbviewer.org.</b></div><div class=\"sk-container\" hidden><div class=\"sk-item\"><div class=\"sk-estimator sk-toggleable\"><input class=\"sk-toggleable__control sk-hidden--visually\" id=\"sk-estimator-id-7\" type=\"checkbox\" checked><label for=\"sk-estimator-id-7\" class=\"sk-toggleable__label sk-toggleable__label-arrow\">ElasticNet</label><div class=\"sk-toggleable__content\"><pre>ElasticNet(alpha=0.01)</pre></div></div></div></div></div>"
      ],
      "text/plain": [
       "ElasticNet(alpha=0.01)"
      ]
     },
     "execution_count": 117,
     "metadata": {},
     "output_type": "execute_result"
    }
   ],
   "source": [
    "model_elnet.fit(X_train, y_train) "
   ]
  },
  {
   "cell_type": "code",
   "execution_count": 118,
   "id": "a74693e8",
   "metadata": {},
   "outputs": [],
   "source": [
    "y_pred_elnettrain= model_elnet.predict(X_train)"
   ]
  },
  {
   "cell_type": "code",
   "execution_count": 119,
   "id": "37c002f0",
   "metadata": {},
   "outputs": [
    {
     "data": {
      "text/plain": [
       "array([140.35874213, 144.42566346, 169.09220213, 195.456184  ,\n",
       "       111.12064756])"
      ]
     },
     "execution_count": 119,
     "metadata": {},
     "output_type": "execute_result"
    }
   ],
   "source": [
    "y_pred_elnettest= model_elnet.predict(X_test)\n",
    "y_pred_elnettest[:5]"
   ]
  },
  {
   "cell_type": "code",
   "execution_count": 120,
   "id": "47f25b26",
   "metadata": {},
   "outputs": [
    {
     "data": {
      "text/plain": [
       "24     184.0\n",
       "241    177.0\n",
       "121    173.0\n",
       "138    336.0\n",
       "90      98.0\n",
       "Name: target, dtype: float64"
      ]
     },
     "execution_count": 120,
     "metadata": {},
     "output_type": "execute_result"
    }
   ],
   "source": [
    "y_test[:5]"
   ]
  },
  {
   "cell_type": "code",
   "execution_count": 121,
   "id": "15df71c8",
   "metadata": {},
   "outputs": [
    {
     "name": "stdout",
     "output_type": "stream",
     "text": [
      "MSE nos dados de Treino: 60.662341933166346\n",
      "R2 nos dados de Treino: 0.36752297059357386\n",
      "MSE nos dados de Teste: 62.49579343732485\n",
      "R2 nos dados de Teste: 0.3511404335037811\n"
     ]
    }
   ],
   "source": [
    "from sklearn.metrics import mean_squared_error, r2_score\n",
    "\n",
    "print('MSE nos dados de Treino: {}' .format(np.sqrt(mean_squared_error(y_train,y_pred_elnettrain))))\n",
    "print('R2 nos dados de Treino: {}' .format(r2_score(y_train, y_pred_elnettrain)))\n",
    "\n",
    "print('MSE nos dados de Teste: {}' .format(np.sqrt(mean_squared_error(y_test,y_pred_elnettest)))) \n",
    "print('R2 nos dados de Teste: {}' .format(r2_score(y_test, y_pred_elnettest)))"
   ]
  },
  {
   "cell_type": "code",
   "execution_count": 122,
   "id": "f3b25f2a",
   "metadata": {},
   "outputs": [
    {
     "data": {
      "image/png": "[encoded data removed]",
      "text/plain": [
       "<Figure size 1200x600 with 1 Axes>"
      ]
     },
     "metadata": {},
     "output_type": "display_data"
    }
   ],
   "source": [
    "import matplotlib.pyplot as plt\n",
    "import seaborn as sns\n",
    "\n",
    "\n",
    "plt.figure(figsize = (12,6))\n",
    "sns.scatterplot(x= y_test, y= y_pred_elnettest)\n",
    "plt.xlim(0, 400)\n",
    "plt.ylim(0, 400)\n",
    "plt.title(\"Predictions\")\n",
    "plt.xlabel(\"y_test\")\n",
    "plt.ylabel(\"y_pred\")\n",
    "plt.show()"
   ]
  },
  {
   "cell_type": "code",
   "execution_count": null,
   "id": "98e056e1",
   "metadata": {},
   "outputs": [],
   "source": []
  },
  {
   "cell_type": "code",
   "execution_count": null,
   "id": "fd48b50d",
   "metadata": {},
   "outputs": [],
   "source": []
  }
 ],
 "metadata": {
  "kernelspec": {
   "display_name": "Python 3 (ipykernel)",
   "language": "python",
   "name": "python3"
  },
  "language_info": {
   "codemirror_mode": {
    "name": "ipython",
    "version": 3
   },
   "file_extension": ".py",
   "mimetype": "text/x-python",
   "name": "python",
   "nbconvert_exporter": "python",
   "pygments_lexer": "ipython3",
   "version": "3.11.5"
  }
 },
 "nbformat": 4,
 "nbformat_minor": 5
}
