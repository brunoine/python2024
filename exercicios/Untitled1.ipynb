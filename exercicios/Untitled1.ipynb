{
 "cells": [
  {
   "cell_type": "markdown",
   "id": "2c94c698",
   "metadata": {},
   "source": [
    "# teste\n",
    "\n",
    "## subtitulo\n",
    "\n",
    "texto corrido"
   ]
  },
  {
   "cell_type": "code",
   "execution_count": null,
   "id": "169fab5b",
   "metadata": {},
   "outputs": [],
   "source": []
  },
  {
   "cell_type": "code",
   "execution_count": null,
   "id": "33bd6bfa",
   "metadata": {},
   "outputs": [],
   "source": []
  }
 ],
 "metadata": {
  "kernelspec": {
   "display_name": "Python 3 (ipykernel)",
   "language": "python",
   "name": "python3"
  },
  "language_info": {
   "codemirror_mode": {
    "name": "ipython",
    "version": 3
   },
   "file_extension": ".py",
   "mimetype": "text/x-python",
   "name": "python",
   "nbconvert_exporter": "python",
   "pygments_lexer": "ipython3",
   "version": "3.11.7"
  }
 },
 "nbformat": 4,
 "nbformat_minor": 5
}
