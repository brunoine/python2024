{
 "cells": [
  {
   "cell_type": "markdown",
   "id": "f789daac",
   "metadata": {},
   "source": [
    "# Links e Estrutura"
   ]
  },
  {
   "cell_type": "markdown",
   "id": "73d1d3ed",
   "metadata": {},
   "source": [
    "## Conteudo\n",
    "\n",
    "**Parte 1: Procedimentos de dados geográficos em GeoPandas\\Shapely**\n",
    "- Simplificar Dados\n",
    "- Spatial Relations e Alterações Geometria\n",
    "- Selection by Location (point BGRI)\n",
    "- Spatial Joins\n",
    "Spatial Operations (Intersections, Buffer, \n",
    "- Buffers e Overlay\n",
    "- Exportar Dados\n",
    "\n",
    "\n",
    "**Dataset a utilizar**\n",
    "- Freguesias AML: D:\\DADOS\\PYTHON_2023\\CAOPFR_AML.gpkg\\main.CAOPFR_AML\n",
    "- BGRI2021: D:\\DADOS\\PYTHON_2023\\BGRI2021_1106.gpkg\\main.BGRI2021_1106\n",
    "- Paragens de autocarro de OSM (download): GPK_CARRIS.gpkg\n",
    "- Dados de Input do OSM"
   ]
  },
  {
   "cell_type": "markdown",
   "id": "1fb2b8f6",
   "metadata": {},
   "source": [
    "## Links com informação\n",
    "\n",
    "**Notebooks gerais com apresentação de diferentes técnicas:**\n",
    "- Automating GIS Processes 2023 (formação geral, que aborda algumas técnicas mais avançadas): https://autogis-site.readthedocs.io/en/latest/index.html\n",
    "* Course Spatial Toughts (sem PYSAL): https://courses.spatialthoughts.com/python-dataviz.html\n",
    "* Introduction Pytohn-GIs Course 2018: https://automating-gis-processes.github.io/CSC/index.html\n",
    "* Não incluir na listagem: (Leveraging Geospatial Data in Python with GeoPandas - KDnuggets)[https://www.kdnuggets.com/leveraging-geospatial-data-in-python-with-geopandas]\n",
    "\n",
    "\n",
    "**Lista de Links alguns metódos referidos:**\n",
    "- [Kaggle Proximity Analysis](https://www.kaggle.com/code/alexisbcook/proximity-analysis)\n",
    "- [Retrieving Open Street Map Data in Python](https://blog.devgenius.io/retrieving-open-street-map-data-in-python-436d2a5d6804)\n",
    "\n",
    "- DataCamp\n",
    "    - Notebook  (part 2 e 3): https://datascience103579984.wordpress.com/2019/11/25/working-with-geospatial-data-in-python-from-datacamp/2/\n",
    "    - Automating GIS Process 2023: https://autogis-site.readthedocs.io/en/latest/index.html\n",
    "- Spatial Overlays and Joins: https://pygis.io/docs/e_vector_overlay.html\n",
    "- Spatial Joins: https://pygis.io/docs/e_spatial_joins.html"
   ]
  },
  {
   "cell_type": "markdown",
   "id": "db3d7109",
   "metadata": {},
   "source": [
    "# Manipular Dados Geográficos\n",
    "\n",
    "**Datasets**\n",
    "- BGRI2021\n",
    "- Paragens de autocarro de Carris (dados do OSM) "
   ]
  },
  {
   "cell_type": "markdown",
   "id": "616833a5",
   "metadata": {},
   "source": [
    "## Operações Sobre a Coluna GeoMetry"
   ]
  },
  {
   "cell_type": "markdown",
   "id": "d7b4ec15",
   "metadata": {},
   "source": [
    "### Simplificar\n",
    "- Simplificar é importante\n",
    "- Facilita a sua visualização\n",
    "\n",
    "_**Atenção pode criar situações indesejadas!**_"
   ]
  },
  {
   "cell_type": "code",
   "execution_count": null,
   "id": "e14d6e34",
   "metadata": {},
   "outputs": [],
   "source": [
    "import geopandas as gpd\n",
    "import folium\n",
    "\n",
    "# Simplify: https://geopandas.org/en/stable/docs/reference/api/geopandas.GeoSeries.simplify.html\n",
    "# Exemplo Importar os dados da BGRI2021 \n",
    "# Caminho para o arquivo GeoPackage\n",
    "gpk = r\"C:\\TEMP\\BGRI2021_1106.gpkg\"\n",
    "\n",
    "# Ler os dados do GeoPackage para um GeoDataFrame\n",
    "gdf1106 = gpd.read_file(gpk)\n",
    "gdf1106_2 = gpd.read_file(gpk)\n",
    "# Simplificar a geografia para uma precisão de 5 metros\n",
    "# Experimenta - diferentes valores para ver o efeito na geometria\n",
    "gdf1106_2['geometry'] = gdf1106_2['geometry'].simplify(tolerance=10)\n",
    "\n",
    "# ------------------\n",
    "# Mostrar a localização com Folium\n",
    "# Obter Centroid\n",
    "centroid = gdf1106.to_crs(epsg=4326).unary_union.centroid\n",
    "\n",
    "# Criar Listagem com localização de latitude  longitude\n",
    "center_map = [centroid.y, centroid.x]\n",
    "# Criar Mapa e mostrar\n",
    "folium_map = folium.Map(location=center_map, zoom_start=12, tiles='OpenStreetMap')\n",
    "\n",
    "# Adicionar Geografia folium map\n",
    "# folium.GeoJson constructor\n",
    "folium.GeoJson(gdf1106).add_to(folium_map)\n",
    "\n",
    "# Mudar a cor\n",
    "style_function = lambda x: {'fillColor': '#ffffff', 'color': '#000000'}\n",
    "folium.GeoJson(gdf1106_2, style_function=style_function).add_to(folium_map)\n",
    "\n",
    "#  Widget para controloar os diferentes layers:\n",
    "folium.LayerControl().add_to(folium_map)\n",
    "\n",
    "\n",
    "display(folium_map)\n",
    "\n",
    "# Visualizar o GeoDataFrame\n",
    "#gdf1106.plot(column = 'DTMNFR21',\n",
    "#              legend = False)"
   ]
  },
  {
   "cell_type": "markdown",
   "id": "e9fc442c",
   "metadata": {},
   "source": [
    "_**Lembra-se a maneira fácil e rápido de ver a geografia de uma GeoDataframe é explore()**_\n",
    "\n",
    "Explore(): https://geopandas.org/en/stable/docs/reference/api/geopandas.GeoDataFrame.explore.html\n",
    "\n",
    "_Note-se como fizemos um simplify de poligonos são criados gaps e overlays_"
   ]
  },
  {
   "cell_type": "code",
   "execution_count": null,
   "id": "efb2c7e3",
   "metadata": {},
   "outputs": [],
   "source": [
    "# Mostrar a geografia do GeoDataFrame\n",
    "gdf1106_2.explore(column = 'DTMNFR21',\n",
    "              legend = True,\n",
    "                  edgecolor = 'black')"
   ]
  },
  {
   "cell_type": "markdown",
   "id": "a06bffb2",
   "metadata": {},
   "source": [
    "### Utilizar a Área de cada elemento\n",
    "\n",
    "- Calcular População por M2"
   ]
  },
  {
   "cell_type": "code",
   "execution_count": null,
   "id": "990bf89a",
   "metadata": {
    "scrolled": true
   },
   "outputs": [],
   "source": [
    "print (gdf1106.info())"
   ]
  },
  {
   "cell_type": "code",
   "execution_count": null,
   "id": "12f131e2",
   "metadata": {},
   "outputs": [],
   "source": [
    "# Codigo que mostra como calcular a população por KM2\n",
    "\n",
    "# Verificar o CRS da GDF \n",
    "print (gdf1106.crs)\n",
    "# Area 1º registo\n",
    "print('BGRI21:', gdf1106.iloc[10].BGRI2021, 'Area:', gdf1106.iloc[10].geometry.area)\n",
    "\n",
    "# Adicionar nova coluna \n",
    "# Caso GDF está noutra CRS será necessario uma correção: gdf1106['geometry'].to_crs(epsg=3857).area\n",
    "gdf1106['AREA_KM2'] = gdf1106['geometry'].area / 1000000\n",
    "gdf1106['INDIV_KM2'] = gdf1106['N_INDIVIDUOS'] / gdf1106['AREA_KM2']\n",
    "\n",
    "# Mostrar resultado:\n",
    "print(gdf1106[['DTMNFR21', 'N_INDIVIDUOS','AREA_KM2', 'INDIV_KM2']].head(10))\n"
   ]
  },
  {
   "cell_type": "code",
   "execution_count": null,
   "id": "f3a064a4",
   "metadata": {},
   "outputs": [],
   "source": [
    "# Mostrar resultado como mapa\n",
    "# Import packages\n",
    "import matplotlib.pyplot as plt\n",
    "import pandas as pd\n",
    "import geopandas as gpd\n",
    "\n",
    "# Definir figura:\n",
    "f, ax = plt.subplots(1, figsize=(9, 9))\n",
    "\n",
    "# Definir Legenda \n",
    "lgnd_kwds = {'loc': 'upper left', \n",
    "             'bbox_to_anchor': (1, 1.03), \n",
    "             'ncol': 3}\n",
    "\n",
    "# Generate the choropleth and store the axis\n",
    "# natural_breaks\n",
    "gdf1106.plot(column=gdf1106.INDIV_KM2, \n",
    "              scheme='quantiles', # natural_breaks, quantiles, equal_interval \n",
    "              k=9, \n",
    "              cmap='PuBu', \n",
    "              legend=True,\n",
    "              edgecolor = 'None', # sem outline\n",
    "              legend_kwds  = lgnd_kwds,\n",
    "              ax = ax)\n",
    " \n",
    "# Remover frames, ticks e tick labels do axis\n",
    "ax.set_axis_off()\n",
    "\n",
    "plt.title('População por Km2')\n",
    "plt.show()\n"
   ]
  },
  {
   "cell_type": "markdown",
   "id": "3fcee141",
   "metadata": {},
   "source": [
    "### Alterar o tipo de Geometria\n"
   ]
  },
  {
   "cell_type": "code",
   "execution_count": null,
   "id": "0f9ed56d",
   "metadata": {},
   "outputs": [],
   "source": [
    "print(gdf1106.info())"
   ]
  },
  {
   "cell_type": "code",
   "execution_count": null,
   "id": "3149a8be",
   "metadata": {},
   "outputs": [],
   "source": [
    "import geopandas as gpd\n",
    "import folium\n",
    "\n",
    "# Criar um novo GeoDataFrame de pontos\n",
    "gdf1106_points = gdf1106.copy()\n",
    "\n",
    "# Neste momento a Geometria ainda é de Polygons:\n",
    "print (gdf1106_points['geometry'].iloc[0].geom_type)\n"
   ]
  },
  {
   "cell_type": "markdown",
   "id": "f51d98b1",
   "metadata": {},
   "source": [
    "_Converter para Pontos_"
   ]
  },
  {
   "cell_type": "code",
   "execution_count": null,
   "id": "213835de",
   "metadata": {},
   "outputs": [],
   "source": [
    "\n",
    "# Calcular o centróide de cada polígono\n",
    "gdf1106_points['geometry'] = gdf1106['geometry'].centroid\n",
    "\n",
    "# Calcular ponto dentro poligono\n",
    "#gdf1106_points['geometry'] = gdf1106['geometry'].representative_point()\n",
    "\n",
    "print(\"Geometria original e nova:\",gdf1106.iloc[0]['geometry'].geom_type,gdf1106_points.iloc[0]['geometry'].geom_type)\n"
   ]
  },
  {
   "cell_type": "markdown",
   "id": "7b523657",
   "metadata": {},
   "source": [
    "_Visualizar Resultado_"
   ]
  },
  {
   "cell_type": "code",
   "execution_count": null,
   "id": "05c85496",
   "metadata": {},
   "outputs": [],
   "source": [
    "# Fazer Seleção dos Registos para facilitar visualização\n",
    "gdf_pnt110657 = gdf1106_points[gdf1106_points['DTMNFR21'] == '110655']\n",
    "gdf_poly110657 = gdf1106[gdf1106['DTMNFR21'] == '110655']\n",
    "\n",
    "# --------------------------------------\n",
    "# Mostrar a localização com Folium\n",
    "# São muitos dados - visualização é lento\n",
    "centroid = gdf_pnt110657.to_crs(epsg=4326).unary_union.centroid\n",
    "\n",
    "# Criar Listagem com localização de latitude  longitude\n",
    "center_map = [centroid.y, centroid.x]\n",
    "# Criar Mapa e mostrar\n",
    "folium_map = folium.Map(location=center_map, zoom_start=15, tiles='OpenStreetMap')\n",
    "\n",
    "# Adicionar Geografia folium map\n",
    "# folium.GeoJson constructor\n",
    "folium.GeoJson(gdf_pnt110657).add_to(folium_map)\n",
    "folium.GeoJson(gdf_poly110657).add_to(folium_map)\n",
    "\n",
    "#  Widget para controloar os diferentes layers:\n",
    "folium.LayerControl().add_to(folium_map)\n",
    "\n",
    "display(folium_map)\n",
    "\n"
   ]
  },
  {
   "cell_type": "markdown",
   "id": "e869ea6f",
   "metadata": {},
   "source": [
    "### Criar nova Geografia a partir de um Dissolve\n"
   ]
  },
  {
   "cell_type": "code",
   "execution_count": null,
   "id": "b04c305f",
   "metadata": {},
   "outputs": [],
   "source": [
    "import geopandas as gpd\n",
    "\n",
    "# Codigo que mostra um dissolve das subsecções para freguesias\n",
    "# Utilizar argumento aggfunc (default = first)\n",
    "\n",
    "# Alternativa 1: DTMNFR21 passa a ser o index - sem reset_index()\n",
    "# gdf1106_freg = gdf1106.dissolve(by='DTMNFR21', aggfunc='sum')\n",
    "\n",
    "# Alternativa 2 reset_index para manter a coluna\n",
    "gdf1106_freg = gdf1106.dissolve(by='DTMNFR21', aggfunc='sum').reset_index()\n",
    "\n",
    "\n",
    "# Mostrar Resultado da nova gdf\n",
    "print(gdf1106_freg.info())\n",
    "\n",
    "# De seguido será necessária fazer limpeza e correção das colunas\n",
    "# Apagar Colunas desnecessários\n",
    "gdf1106_freg = gdf1106_freg.drop(columns=['BGRI2021','DTMNFRSEC21','SECNUM21','SSNUM21','SECSSNUM21','SUBSECCAO','NUTS1','NUTS2','NUTS3'])\n",
    "\n",
    "# Mudar os valores das colunas nivel superior a DTMNFR21\n",
    "gdf1106_freg['DTMN21'] = '1106'\n",
    "gdf1106_freg['DT21'] = '1106'\n",
    "\n",
    "gdf1106_freg.head()"
   ]
  },
  {
   "cell_type": "code",
   "execution_count": null,
   "id": "a19f6b60",
   "metadata": {},
   "outputs": [],
   "source": [
    "# Mostrar o resultado (a geografia do GeoDataFrame)\n",
    "gdf1106_freg.explore(column = 'DTMNFR21',\n",
    "              legend = True,\n",
    "                  edgecolor = 'black')"
   ]
  },
  {
   "cell_type": "markdown",
   "id": "76f9b3a5",
   "metadata": {},
   "source": [
    "## Operações entre diferentes Datasets\n",
    "- Seleções entre 2 datasets (select by location)\n",
    "- Spatial Joins entre 2 datasets\n"
   ]
  },
  {
   "cell_type": "markdown",
   "id": "7e14707b",
   "metadata": {},
   "source": [
    "### Efetuar Spatial Join\n",
    "- Importar dados dos paragens de autocarro em Lisboa\n",
    "- Efetuar o Spatial Join\n",
    "- Desenhar mapa com resultado\n",
    "- Fazer a seleção de nº de pontos\n",
    "\n",
    "Ajuda: \n",
    "- Spatial Joins em GeoPandas: https://geopandas.org/en/stable/gallery/spatial_joins.html \n",
    "- função SJOIN: https://geopandas.org/en/stable/docs/reference/api/geopandas.sjoin.html\n"
   ]
  },
  {
   "cell_type": "markdown",
   "id": "5dc69059",
   "metadata": {},
   "source": [
    "#### Importar um Dataset com Paragens de Autocarro de OSM"
   ]
  },
  {
   "cell_type": "code",
   "execution_count": null,
   "id": "7e8d8252",
   "metadata": {},
   "outputs": [],
   "source": [
    "import geopandas as gpd\n",
    "import folium\n",
    "\n",
    "# Importar Paragens de autocarro\n",
    "gpk = r\"c:\\temp\\GPK_CARRIS2.gpkg\"\n",
    "\n",
    "# Ler os dados do GeoPackage para um GeoDataFrame\n",
    "gdfCarris = gpd.read_file(gpk,encoding='utf-8')\n",
    "\n",
    "print(gdfCarris.head())\n",
    "# Total de 1983 registos\n",
    "print(gdfCarris.info())\n",
    "\n",
    "\n",
    "print('BGRI21:', gdfCarris.iloc[10].other_tags)\n",
    "\n",
    "# ------------------\n",
    "# Mostrar a localização \n",
    "gdfCarris.explore(legend = True,\n",
    "                  edgecolor = 'black',\n",
    "                  marker_type = 'marker')\n",
    "\n"
   ]
  },
  {
   "cell_type": "markdown",
   "id": "5a347d71",
   "metadata": {},
   "source": [
    "#### Spatial Join de Polygons para Points"
   ]
  },
  {
   "cell_type": "code",
   "execution_count": null,
   "id": "bd58cf83",
   "metadata": {},
   "outputs": [],
   "source": [
    "# Realizar o spatial join\n",
    "gdf_join = gpd.sjoin(gdf1106_freg, gdfCarris, how=\"inner\", predicate=\"contains\")\n",
    "\n",
    "# Limitar Colunas:\n",
    "# gdf_join = gpd.sjoin(gdf1106_freg[['DTMNFR21', 'geometry']], gdfCarris, how=\"left\", predicate=\"contains\")\n",
    "\n",
    "print (f\"Tipo de Geometria: {gdf_join['geometry'].iloc[0].geom_type}\")\n",
    "print (f\"Nº de Registos Input: {len(gdf1106_freg)}\")\n",
    "print (f\"Nº de Registos Output: {len(gdf_join)}\", \"\\n\")\n",
    "\n",
    "\n",
    "gdf_join.info()\n",
    "\n"
   ]
  },
  {
   "cell_type": "markdown",
   "id": "8c41eac0",
   "metadata": {},
   "source": [
    "#### Join de Points para Polygons\n",
    "\n",
    "- Obter a Freguesia para cada paragem de autocarro\n"
   ]
  },
  {
   "cell_type": "code",
   "execution_count": null,
   "id": "65e2e823",
   "metadata": {},
   "outputs": [],
   "source": [
    "import geopandas as gpd\n",
    "\n",
    "# Perform spatial join\n",
    "gdf_join = gpd.sjoin(gdfCarris, gdf1106_freg[['DTMNFR21', 'geometry']], how='left', predicate='within')\n",
    "\n",
    "# Mostrar Resultado\n",
    "print (f\"Tipo de Geometria: {gdf_join['geometry'].iloc[0].geom_type}\")\n",
    "print (f\"Nº de Registos Input: {len(gdfCarris)}\")\n",
    "print (f\"Nº de Registos Output: {len(gdf_join)}\", \"\\n\")\n",
    "\n",
    "gdf_join[['osm_id','DTMNFR21']].head()"
   ]
  },
  {
   "cell_type": "markdown",
   "id": "dd96048b",
   "metadata": {},
   "source": [
    "#### Juntar as 2 Operações\n",
    "\n",
    "- Obter a Contagem das paragens por Freguesia\n",
    "\n"
   ]
  },
  {
   "cell_type": "code",
   "execution_count": null,
   "id": "c9172bac",
   "metadata": {},
   "outputs": [],
   "source": [
    "gdf1106_freg.drop(columns=['n_paragens_x','n_paragens_y'], inplace=True)"
   ]
  },
  {
   "cell_type": "code",
   "execution_count": null,
   "id": "a81fe565",
   "metadata": {},
   "outputs": [],
   "source": [
    "# Realiza o spatial join\n",
    "'''\n",
    "1. Fazer sjoin: resultado um GDF com o memso numero de registos que os pontos\n",
    "2. Adicionar uma nova coluna n_paragens com total de registos existentes por Freguesia\n",
    "3. Obter Dataframe com numero de Valores unicos \n",
    "4. Fazer merge do novo valor obtido com Geodataframe original\n",
    "5. Apagar o objecto do join\n",
    "\n",
    "'''\n",
    "# Realizar o spatial join\n",
    "# Resultado terá o mesmo nº de registos que gdfCarris\n",
    "gdf_join = gpd.sjoin(gdf1106_freg, gdfCarris, how=\"inner\", predicate=\"contains\")\n",
    "\n",
    "print (f\"Nº de Registos Output Join: {len(gdf_join)}\")\n",
    "\n",
    "\n",
    "# Contar o número de pontos em cada polígono (novo atributo n_paragens)\n",
    "# Informação está duplicada para cada Freguesia\n",
    "gdf_join[\"n_paragens\"] = gdf_join.groupby(\"DTMNFR21\")[\"geometry\"].transform(\"size\")\n",
    "\n",
    "# # Selecionar o primeiro valor de 'n_paragens' dentro de cada grupo 'DTMNFR21'\n",
    "unique_values = gdf_join.groupby('DTMNFR21')['n_paragens'].first().reset_index()\n",
    "\n",
    "#print(unique_values.info())\n",
    "\n",
    "# Exibir o DataFrame resultante\n",
    "#print(unique_values.head())\n",
    "\n",
    "# Apagar coluna - caso repetir o codigo (o merge) sem recriar gdf1106\n",
    "# gdf1106_freg.drop(columns=['n_paragens','n_paragens_x','n_paragens_y'], inplace=True)\n",
    "gdf1106_freg = gdf1106_freg.merge(unique_values, on='DTMNFR21', how='left')\n",
    "\n",
    "del gdf_join\n",
    "\n",
    "\n",
    "# Exibir a GeoDataFrame resultante com o atributo 'n_paragens' adicionado\n",
    "print(gdf1106_freg.info())\n",
    "print(gdf1106_freg[['DTMNFR21', 'n_paragens']].head(10))\n",
    "\n"
   ]
  },
  {
   "cell_type": "code",
   "execution_count": null,
   "id": "bec92227",
   "metadata": {},
   "outputs": [],
   "source": [
    "# Desenhar mapa com resultado:\n",
    "import geopandas as gpd\n",
    "import matplotlib.pyplot as plt\n",
    "\n",
    "# Definir Legenda \n",
    "lgnd_kwds = {'loc': 'upper left', \n",
    "             'bbox_to_anchor': (1, 1.03), \n",
    "             'ncol': 2}\n",
    "\n",
    "# Generate the choropleth and store the axis\n",
    "# natural_breaks\n",
    "ax = gdf1106_freg.plot(column=gdf1106_freg.n_paragens, \n",
    "                      scheme='quantiles', # natural_breaks, quantiles, equal_interval \n",
    "                      k=5, \n",
    "                      cmap='YlGn', \n",
    "                      legend=True,\n",
    "                      edgecolor = 'None', \n",
    "                      legend_kwds  = lgnd_kwds)\n",
    " \n",
    "# Remover frames, ticks e tick labels do axis\n",
    "ax.set_axis_off()\n",
    "\n",
    "plt.title('Nº de paragens Carris')\n",
    "plt.show()\n",
    "\n",
    "\n"
   ]
  },
  {
   "cell_type": "markdown",
   "id": "08a1816e",
   "metadata": {},
   "source": [
    "#### Outra Possibilidade - Fazer seleção de nº de pontos para freguesia especifica"
   ]
  },
  {
   "cell_type": "code",
   "execution_count": null,
   "id": "1b1262b6",
   "metadata": {},
   "outputs": [],
   "source": [
    "# Fazer seleção de nº de pontos para freguesia especifica\n",
    "from geopandas.tools import sjoin\n",
    "\n",
    "# Selecionar o polígono específico da freguesia 110655 (Areeiro)\n",
    "poligono_especifico = gdf1106_freg[gdf1106_freg['DTMNFR21'] == '110655']\n",
    "\n",
    "# Fazer Join com gdfCArris para obter os pontos\n",
    "joined = sjoin(gdfCarris, poligono_especifico, how='inner', predicate='within')\n",
    "\n",
    "# Contar quantos pontos estão dentro do polígono específico\n",
    "quantidade_pontos = len(joined)\n",
    "\n",
    "# Mostrar o resultado\n",
    "print(f\"Quantidade de paragens de autocarro dentro a freguesia 110655: {quantidade_pontos}\")\n"
   ]
  },
  {
   "cell_type": "markdown",
   "id": "47f9e4c9",
   "metadata": {},
   "source": [
    "### Efetuar um Overlay\n",
    "\n",
    "- Experimentar diferentes opções de overlay\n",
    "\n",
    "Ajuda função overlay: https://geopandas.org/en/stable/docs/reference/api/geopandas.overlay.html\n",
    "\n",
    "_Exemplo de cortar um círculo (buffer) em volta de um ponto_"
   ]
  },
  {
   "cell_type": "code",
   "execution_count": null,
   "id": "f5728a58",
   "metadata": {},
   "outputs": [],
   "source": [
    "import geopandas as gpd\n",
    "import matplotlib.pyplot as plt\n",
    "import contextily as ctx\n",
    "from shapely.geometry import Point\n",
    "\n",
    "# Criar variáveis para a figura\n",
    "f, ax = plt.subplots(1, figsize=(9, 9))\n",
    "\n",
    "# Criar um objeto Point\n",
    "# Atenção primeiro o valor x (longitude) e depois o y (latitutde) - Google Maps devolve Latitude, Longitude\n",
    "ponto = Point(-9.184111016,38.768216306)\n",
    "# 38.76821630632057, -9.184111016081756\n",
    "# Cria um GeoDataFrame do ponto com CRS WGS84\n",
    "gdf_ponto = gpd.GeoDataFrame([1], geometry=[ponto], crs='EPSG:4326')\n",
    "\n",
    "# Mudar a projeção do pontos para a projeção da gdf1106:\n",
    "gdf_ponto = gdf_ponto.to_crs(gdf1106.crs)\n",
    "\n",
    "print (f\"Tipo de Geometria: {gdf_ponto['geometry'].iloc[0].geom_type}\")\n",
    "\n",
    "# Cria um buffer de 500 metros em volta do ponto\n",
    "gdf_ponto['geometry'] = gdf_ponto.geometry.buffer(1500)\n",
    "print (f\"Tipo de Geometria: {gdf_ponto['geometry'].iloc[0].geom_type}\")\n",
    "\n",
    "# Realiza a interseção entre o buffer e os polígonos\n",
    "# Opções: intersection’, ‘union’, ‘identity’, ‘symmetric_difference’ or ‘difference’ \n",
    "intersecao = gpd.overlay(gdf1106, gdf_ponto, how='symmetric_difference')\n",
    "\n",
    "# Visualizar o Resultado\n",
    "intersecao.plot(column = 'DTMNFR21',\n",
    "              legend = False,\n",
    "               ax = ax)\n",
    "\n",
    "# Add basemap do contextily\n",
    "ctx.add_basemap(\n",
    "    ax,\n",
    "    crs=intersecao.crs,\n",
    "    source=ctx.providers.CartoDB.VoyagerNoLabels,\n",
    ")\n",
    "\n",
    "\n",
    "ax.set_axis_off()\n"
   ]
  },
  {
   "cell_type": "markdown",
   "id": "5c778ee5",
   "metadata": {},
   "source": [
    "## Exportar Dados do GeoDataFrame\n",
    "\n",
    "Ajuda sobre processo exportação e importação: https://geopandas.org/en/stable/docs/user_guide/io.html\n",
    "Função GeoDataFrame.to_file: https://geopandas.org/en/stable/docs/reference/api/geopandas.GeoDataFrame.to_file.html#geopandas.GeoDataFrame.to_file\n",
    "\n",
    "\n",
    "Principais formatos de Output:\n",
    "- Shapefile: Sem necessidade de especificar driver\n",
    "- GeoJSON: driver='GeoJSON'\n",
    "- GeoPackage: driver='GPKG'\n"
   ]
  },
  {
   "cell_type": "code",
   "execution_count": null,
   "id": "7a9db7e8",
   "metadata": {},
   "outputs": [],
   "source": [
    "gdf1106_freg.to_file(r'c:\\temp\\c2021_fr1106.gpkg', layer='FR1106', driver=\"GPKG\")"
   ]
  },
  {
   "cell_type": "markdown",
   "id": "0224fc7b",
   "metadata": {},
   "source": [
    "_Listar os diferentes outputs possíveis_"
   ]
  },
  {
   "cell_type": "code",
   "execution_count": null,
   "id": "6d1deac1",
   "metadata": {},
   "outputs": [],
   "source": [
    "import fiona\n",
    "fiona.supported_drivers"
   ]
  },
  {
   "cell_type": "markdown",
   "id": "fb1f3d5c",
   "metadata": {},
   "source": [
    "## Exemplo obter informação a partir de uma seleção dentro um Buffer\n",
    "\n",
    "- Introduzir um ponto, valores latitude e longitude\n",
    "- Criar um Buffer em volta de um ponto\n",
    "- Fazer o cálculo da população nas subsecções envolventes\n",
    "\n"
   ]
  },
  {
   "cell_type": "markdown",
   "id": "f099b49b",
   "metadata": {},
   "source": [
    "### Importar o Dados\n",
    "\n",
    "Podem fazer download de outros GPK no site do INE: https://mapas.ine.pt/download/index2021.phtml\n"
   ]
  },
  {
   "cell_type": "code",
   "execution_count": null,
   "id": "0901e5a2",
   "metadata": {},
   "outputs": [],
   "source": [
    "import geopandas as gpd\n",
    "import matplotlib.pyplot as plt\n",
    "\n",
    "# Simplify: https://geopandas.org/en/stable/docs/reference/api/geopandas.GeoSeries.simplify.html\n",
    "# Exemplo Importar os dados da BGRI2021 \n",
    "# Caminho para o arquivo GeoPackage\n",
    "gpk = r'c:\\temp\\BGRI2021_1106.gpkg'\n",
    "\n",
    "# Ler os dados do GeoPackage para um GeoDataFrame\n",
    "gdf1106 = gpd.read_file(gpk,encoding='utf-8')\n",
    "\n",
    "\n",
    "\n"
   ]
  },
  {
   "cell_type": "markdown",
   "id": "2be2e4c5",
   "metadata": {},
   "source": [
    "### Função folium que mostra um mapa Folium"
   ]
  },
  {
   "cell_type": "code",
   "execution_count": null,
   "id": "6d903439",
   "metadata": {},
   "outputs": [],
   "source": [
    "# Function mostrar folium\n",
    "def mostrarFolium(gdfExtent,gdfDesenhar):\n",
    "    centroid = gdfExtent.to_crs(epsg=4326).unary_union.centroid\n",
    "\n",
    "    # Criar Listagem com localização de latitude  longitude\n",
    "    center_map = [centroid.y, centroid.x]\n",
    "    # Criar Mapa e mostrar\n",
    "    folium_map = folium.Map(location=center_map, zoom_start=15, tiles='OpenStreetMap')\n",
    "\n",
    "    # Adicionar Geografia folium map\n",
    "    # folium.GeoJson constructor\n",
    "    for lay in gdfDesenhar:\n",
    "        folium.GeoJson(lay).add_to(folium_map)\n",
    "    \n",
    "\n",
    "    display(folium_map)\n",
    "    \n",
    "    \n",
    "    "
   ]
  },
  {
   "cell_type": "markdown",
   "id": "aa73771c",
   "metadata": {},
   "source": [
    "### Executar o Buffer"
   ]
  },
  {
   "cell_type": "code",
   "execution_count": null,
   "id": "0780eb37",
   "metadata": {},
   "outputs": [],
   "source": [
    "from shapely.geometry import Point\n",
    "\n",
    "# Cria um objeto Point (podem escolher um ponto no google maps)\n",
    "# Atenção primeiro o valor x (longitude) e depois o y (latitutde)\n",
    "ponto = Point(-9.137616,38.738561)\n",
    "\n",
    "# Cria um GeoDataFrame do ponto com CRS WGS84\n",
    "gdf_ponto = gpd.GeoDataFrame([1], geometry=[ponto], crs='EPSG:4326')\n",
    "\n",
    "# Manteer ponto Original\n",
    "gdf_ponto_original = gdf_ponto.copy()\n",
    "\n",
    "\n",
    "# Mudar a projeção:\n",
    "gdf_ponto = gdf_ponto.to_crs(gdf1106.crs)\n",
    "\n",
    "# Fazer o Buffer\n",
    "gdf_ponto['geometry'] = gdf_ponto.geometry.buffer(500)\n",
    "\n",
    "# Executar o Spatial join entre o ponto e as subsecções da BGRI2021\n",
    "join = gpd.sjoin(gdf1106, gdf_ponto, how=\"inner\", predicate='intersects')\n",
    "\n",
    "# Somar os valores do atributo N_INDIVIDUOS\n",
    "soma = join['N_INDIVIDUOS'].sum()\n",
    "\n",
    "print(f\"Soma de N_INDIVIDUOS nos polígonos selecionados: {soma} em volta do ponto ({ponto.y},{ponto.x})\")\n",
    "\n",
    "\n",
    "#-----------------------------------------------------------------\n",
    "# Mostrar \n",
    "mostrarFolium(gdf_ponto,[gdf_ponto,gdf_ponto_original])\n",
    "\n",
    "\n",
    "\n",
    "\n"
   ]
  },
  {
   "attachments": {
    "image.png": {
     "image/png": "[encoded data removed]"
    }
   },
   "cell_type": "markdown",
   "id": "0b1e3b23",
   "metadata": {},
   "source": [
    "## Desafio\n",
    "\n",
    "1. Criar Sumatórios por Freguesia a partir dos dados do C2021 no portal do INE \n",
    "\n",
    "a. Faz download do gpk de um municipio no link: https://mapas.ine.pt/download/index2021.phtml\n",
    "\n",
    "> ![image.png](attachment:image.png)  \n",
    "\n",
    "b. Juntar as subsecções para criar a geografia por freguesia\n",
    "\n",
    "c. Exportar o GDF de resultado para um GeoPackage\n",
    "\n",
    "2. Repetir o processo de obter a população par aum ponto com dados de um outro municipio e outro ponto (ver §2.4)\n",
    "\n",
    "\n"
   ]
  },
  {
   "cell_type": "code",
   "execution_count": null,
   "id": "53dd84a1",
   "metadata": {},
   "outputs": [],
   "source": []
  }
 ],
 "metadata": {
  "kernelspec": {
   "display_name": "Python 3 (ipykernel)",
   "language": "python",
   "name": "python3"
  },
  "language_info": {
   "codemirror_mode": {
    "name": "ipython",
    "version": 3
   },
   "file_extension": ".py",
   "mimetype": "text/x-python",
   "name": "python",
   "nbconvert_exporter": "python",
   "pygments_lexer": "ipython3",
   "version": "3.11.5"
  },
  "toc": {
   "base_numbering": 1,
   "nav_menu": {},
   "number_sections": true,
   "sideBar": true,
   "skip_h1_title": false,
   "title_cell": "Table of Contents",
   "title_sidebar": "Contents",
   "toc_cell": false,
   "toc_position": {
    "height": "calc(100% - 180px)",
    "left": "10px",
    "top": "150px",
    "width": "329.323px"
   },
   "toc_section_display": true,
   "toc_window_display": true
  }
 },
 "nbformat": 4,
 "nbformat_minor": 5
}
