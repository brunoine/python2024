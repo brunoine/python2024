{
 "cells": [
  {
   "cell_type": "markdown",
   "id": "1aa8d108",
   "metadata": {},
   "source": [
    "# Parte 1 - Introdução Dados Geográficos\n",
    "\n",
    "**Listagem Topicos**\n",
    "- Dados Geográficos\n",
    "- Formatos\n",
    "- Projeções\n",
    "\n",
    "\n",
    "**Exercicios**\n",
    "- Preparar Ambiente\n",
    "- Brincar com Projeções"
   ]
  },
  {
   "cell_type": "markdown",
   "id": "d26e7583",
   "metadata": {},
   "source": [
    "## Links \n",
    "\n",
    "**Links Fontes de Dados Geográficos** \n",
    "- Repositório Nacional de Dados Geográficos – SNIG: https://snig.dgterritorio.gov.pt/rndg/srv/por/catalog.search#/home\n",
    "- INSPIRE GeoPortal: https://inspire-geoportal.ec.europa.eu/ \n",
    "- GISCO do Eurostat: https://ec.europa.eu/eurostat/web/gisco/geodata/reference-data\n",
    "- Natural Earth Data: https://www.naturalearthdata.com/downloads/\n",
    "    - Aceder estes dados ONLINE (geojson.xyz): http://d2ad6b4ur7yvpq.cloudfront.net/\n",
    "\n",
    "\n",
    "**Links Projeções**\n",
    "\n",
    "- [Cada Pessoa gosta projeção específica](https://imgs.xkcd.com/comics/map_projections.png)\n",
    "- Páginas de Pesquisa de códigos:\n",
    "    - [Site da organização global repsonsável pela atribuição de códigos EPSG](https://epsg.org/home.html)\n",
    "    - [Spatial Reference - inclusivo codigos ESRI](https://spatialreference.org/)\n",
    "    - [Pagina Comercial EPSG](https://epsg.io/)\n",
    "- [Pagina com conjunto de projeções do Mundo](https://guides.library.duke.edu/r-geospatial/CRS)\n",
    "- [Help GeoPandas Projections](https://geopandas.org/en/stable/docs/user_guide/projections.html)"
   ]
  },
  {
   "cell_type": "markdown",
   "id": "dcc68d12",
   "metadata": {},
   "source": [
    "## Exercicio 1 - Mostrar Influencia Projeção Geográfica\n",
    "\n",
    "**Exercicio 1**\n",
    "- O script Seguinte permite mostrar o mundo de acordo com diferentes projeções\n",
    "- Foi definido uma listagem com os código EPSG e ESRI de alguns Sistema de coordenadas\n",
    "- O objectivo é mudar as variáveis *mapa1* e *mapa2* que definam quais os Sistema de coordenadas a visualizar o resultado na forma do mundo\n",
    "\n",
    "\n",
    "**Desafio Adicional**\n",
    "- Criar uma figura MATPLOTLIB com mais colunas e linhas \n",
    "    - Adaptar código\n",
    "        ~~~Python\n",
    "        fig, ax = plt.subplots(1, 2, figsize=(15, 5))\n",
    "        ~~~\n",
    "    - Verificar exemplo no notebook da Formação BASIC para definir um loop\n",
    "\n",
    "\n",
    "**Sistema de coordenadas definidos na listagem:**\n",
    "1. WGS 84 (Lat/Lon): ['EPSG:4326','WGS 84 (Lat/Lon)']\n",
    "2. Web Mercator Metros: ['EPSG:3857','Web Mercator']\n",
    "3. Vander Grinten: ['ESRI:54029','World Robinson']\n",
    "5. Robinson: ['ESRI:54030','World Robinson - National Geographic']  \n",
    "6. Gall-Peters - ['ESRI:53016','Gall Stereographic']\n",
    "7. Peirce Quincuncial: ['ESRI:54091','Peirce quincuncial North Pole in a square']\n",
    "8. winkel-Tripel: ['ESRI:53018','Sphere Winkel I']\n",
    "9. Goode Homolosine (Molweide) - ['EPSG:7619','Interrupted Goode Homolonsine']\n",
    "10. Albers Equal Area: ['ESRI:102008','North America Albers Equal Area Conic']\n",
    "11. Eckert: ['ESRI:53010','Sphere Eckert VI']\n",
    "12. Portugal Continental: ['EPSG:3763','Portugal Continental: PT-TM06/ETRS89']\n",
    "13. Açores UTM Fuso 26: ['EPSG:5015','TRF93 / PTRA08 - UTM fuso 26 - Grupo Central e Oriental do Arquipélago dos Açores']\n",
    "\n",
    "\n"
   ]
  },
  {
   "cell_type": "code",
   "execution_count": null,
   "id": "cb03b1a6",
   "metadata": {},
   "outputs": [],
   "source": [
    "# Este Script Permite Visualizar diferentes Projeções\n",
    "import geopandas as gpd\n",
    "import matplotlib.pyplot as plt\n",
    "\n",
    "# Definir Figura do MtPLOTLIB\n",
    "# Conseguem mostrar mais SUBPLOTS alterando argumeto 2 (1,2)\n",
    "fig, ax = plt.subplots(1, 2, figsize=(15, 5))\n",
    "\n",
    "# Carregar a geogrfia do mundo a partir d eum shapefile dentro um ficheiro ZIP\n",
    "# Atenção Mudar o caminho!\n",
    "world = gpd.read_file(r\"C:\\TEMp\\ne_110m_admin_0_countries.zip\")\n",
    "\n",
    "# Alternativa - Ler os Dados de um Link GEOJSON:\n",
    "url = \"http://d2ad6b4ur7yvpq.cloudfront.net/naturalearth-3.3.0/ne_110m_land.geojson\"\n",
    "# Ler Ficheiro GEOJSON do URL\n",
    "world = gpd.read_file(url)\n",
    "\n",
    "# sistema de Coordenadas para Visualizar - 12 exemplos:\n",
    "sistcoord = [['EPSG:4326','WGS 84 (Lat/Lon)'], ['EPSG:3857','Web Mercator'],\n",
    "             ['ESRI:54029','World Robinson'], ['ESRI:54030','World Robinson - National Geographic'], \n",
    "             ['ESRI:53016','Gall Stereographic'], ['ESRI:54091','Peirce quincuncial North Pole in a square'],\n",
    "             ['ESRI:53018','Sphere Winkel I'],['EPSG:7619','Interrupted Goode Homolonsine'],\n",
    "             ['ESRI:102008','North America Albers Equal Area Conic'], ['ESRI:53010','Sphere Eckert VI'],\n",
    "             ['EPSG:3763','Portugal Continental: PT-TM06/ETRS89'], ['EPSG:5015','TRF93 / PTRA08 - UTM fuso 26 - Grupo Central e Oriental do Arquipélago dos Açores']]\n",
    "\n",
    "\n",
    "# Para mostrar\n",
    "mapa1 = 0\n",
    "mapa2 = 11\n",
    "\n",
    "# ------------------------------------------\n",
    "# Mudar Projeçoes na indicação da Listagem\n",
    "#world.to_crs(epsg=2264).plot(ax=ax[0])\n",
    "\n",
    "world.to_crs(sistcoord[mapa1][0]).plot(ax=ax[0])\n",
    "ax[0].set_title(sistcoord[mapa1][1])\n",
    "\n",
    "#world.to_crs(epsg=4087).plot(ax=ax[1])\n",
    "world.to_crs(sistcoord[mapa2][0]).plot(ax=ax[1])\n",
    "ax[1].set_title(sistcoord[mapa2][1])\n",
    "\n",
    "\n",
    "plt.tight_layout()\n",
    "plt.show()\n"
   ]
  },
  {
   "cell_type": "markdown",
   "id": "bedc6d5d",
   "metadata": {},
   "source": [
    "# Parte 2 - Aceder Dados e Visualização Inicial GEOPANDAS\n",
    "\n",
    "**Conteúdo**\n",
    "- Introdução GeoPandas\n",
    "- Ler Dados\n",
    "- Visualizar Dados\n",
    "\n",
    "\n",
    "**Links Úteis**\n",
    "- [GeoPandas](https://geopandas.org/en/stable/index.html)\n",
    "- [Geospatial adventures. Step 2: Pandas vs. GeoPandas](https://medium.com/towards-data-science/geospatial-adventures-step-2-pandas-vs-geopandas-16e842d0e3a7)\n",
    "- [Analyze Geospatial Data in Python: GeoPandas and Shapely – LearnDataSci](https://www.learndatasci.com/tutorials/geospatial-data-python-geopandas-shapely/)\n",
    "- [15 Python Libraries for GIS and Mapping](https://gisgeography.com/python-libraries-gis-mapping/)\n",
    "- [GeoPandas Tutorial — Part 1: Geospatial Data Handling and Visualization](https://python.plainenglish.io/geopandas-tutorial-geospatial-data-handling-and-visualization-0f02e9b23993)\n",
    "- [Customize your Maps in Python using Matplotlib: GIS in Python (aula de uma formação)](https://www.earthdatascience.org/courses/intro-to-earth-analytics/spatial-data-vector-shapefiles/python-customize-map-legends-geopandas/)"
   ]
  },
  {
   "cell_type": "markdown",
   "id": "f6818184",
   "metadata": {},
   "source": [
    "## Criar GeoPandas DataFrame\n"
   ]
  },
  {
   "cell_type": "code",
   "execution_count": null,
   "id": "188ab275",
   "metadata": {},
   "outputs": [],
   "source": [
    "# Importar GeoPandas\n",
    "import geopandas as gpd\n",
    "\n",
    "# Carregar Dados com read_file (Shapefile preferivel, GeoJSON -  Mais Lento)\n",
    "# Mudar Caminho para onde estão os dados - atenção de ter os ficheiros .shp\\.shx\\.dbf\\.prj\n",
    "file_path = r\"C:\\TEMp\\NUTS3_2015_PT.shp\"\n",
    "\n",
    "# Definir o encoding para evitar problemas de desenho dos nomes\n",
    "encoding = 'utf-8'  \n",
    "# Ler Shapefile:\n",
    "gdf_nuts3 = gpd.read_file(file_path, encoding=encoding)\n",
    "\n",
    "print(gdf_nuts3.info())\n",
    "print(gdf_nuts3.head())\n",
    "gdf_nuts3.loc[1,'geometry']"
   ]
  },
  {
   "cell_type": "markdown",
   "id": "8c6ad79f",
   "metadata": {},
   "source": [
    "**Mostrar Objecto Geometry**"
   ]
  },
  {
   "cell_type": "code",
   "execution_count": null,
   "id": "ef95d166",
   "metadata": {},
   "outputs": [],
   "source": [
    "# Informação de um Polygon\n",
    "print(gdf_nuts3.loc[1,'geometry'])"
   ]
  },
  {
   "cell_type": "markdown",
   "id": "8cef60a8",
   "metadata": {},
   "source": [
    "**Mostrar Geografia**\n",
    "- Geografia total\n",
    "- Fazer Seleção\n",
    "- Mostrar Seleção\n",
    "- Mostrar mapa com Formatação"
   ]
  },
  {
   "cell_type": "markdown",
   "id": "99fd318e",
   "metadata": {},
   "source": [
    "## Introdução Objecto de Geometria"
   ]
  },
  {
   "cell_type": "code",
   "execution_count": null,
   "id": "ca080113",
   "metadata": {},
   "outputs": [],
   "source": [
    "# Tipo Objecto GeoPandas\n",
    "print (type(gdf_nuts3))\n",
    "# Tipo de Dados da coluna de Geometria\n",
    "print (type(gdf_nuts3.geometry))\n"
   ]
  },
  {
   "cell_type": "markdown",
   "id": "f3fbeb1b",
   "metadata": {},
   "source": [
    "## Visualizar GDF\n"
   ]
  },
  {
   "cell_type": "code",
   "execution_count": null,
   "id": "30537003",
   "metadata": {},
   "outputs": [],
   "source": [
    "# Mostrar Geografia\n",
    "import geopandas as gpd\n",
    "import matplotlib.pyplot as plt\n",
    "\n",
    "gdf_nuts3.plot(column = 'NUTS3_DSG',\n",
    "              legend = False)\n",
    "plt.show()\n",
    "\n"
   ]
  },
  {
   "cell_type": "markdown",
   "id": "3b53218f",
   "metadata": {},
   "source": [
    "## Selecionar Registos de um GDF"
   ]
  },
  {
   "cell_type": "code",
   "execution_count": null,
   "id": "4aa20255",
   "metadata": {},
   "outputs": [],
   "source": [
    "# Selecção utilizando os operadores comuns\n",
    "# Selecção pode ser efetuada com ou sem a função LOC\n",
    "gdf_nuts3_continente = gdf_nuts3[gdf_nuts3['NUTS3'] < '2']\n",
    "gdf_nuts3_sel = gdf_nuts3.loc[gdf_nuts3.NUTS2 == '11']\n",
    "\n",
    "# Mostrar numero registos selecionados\n",
    "print(\"Nº registos Continente\", len(gdf_nuts3_continente))\n",
    "print(\"Nº registos NUTS2 11\", len(gdf_nuts3_sel))\n",
    "\n",
    "# Selecionar utilizando comparação de um String\n",
    "selected_rows_like = gdf_nuts3[gdf_nuts3['NUTS3'].str.startswith('11')]\n",
    "print('Nº registos que começam com 11',len(selected_rows_like))\n",
    "                        \n",
    "# Selecionar Linhas quando existem numa Listagem\n",
    "lista_selecao = ['11A', '11E','16E','170']\n",
    "selected_rows = gdf_nuts3[gdf_nuts3.NUTS3.isin(lista_selecao)] \n",
    "print('Nº registos que estão numa lista - vs 1',len(selected_rows))\n",
    "selected_rows = gdf_nuts3.loc[gdf_nuts3.NUTS3.isin(lista_selecao)] \n",
    "print('Nº registos que estão numa lista - vs 2',len(selected_rows))"
   ]
  },
  {
   "cell_type": "code",
   "execution_count": null,
   "id": "9b3025a6",
   "metadata": {},
   "outputs": [],
   "source": [
    "import matplotlib.pyplot as plt\n",
    "\n",
    "# Selecao dos Dados a Mostrar\n",
    "gdf_nuts3_sel = gdf_nuts3.loc[gdf_nuts3.NUTS2 == '11']\n",
    "gdf_nuts3_sel.plot(column = 'NUTS3_DSG',\n",
    "              legend = True,\n",
    "                  edgecolor = 'black')"
   ]
  },
  {
   "cell_type": "markdown",
   "id": "7ba349e2",
   "metadata": {},
   "source": [
    "## Visualização Interactiva com Explore\n",
    "\n",
    "**Ver:**  \n",
    "\n",
    "- [Help GEOPANDAS](https://geopandas.org/en/stable/docs/reference/api/geopandas.GeoDataFrame.explore.html)\n",
    "- [Quick Interactive Map using GeoPandas](https://medium.com/@leodpereda/quick-interactive-map-using-geopandas-00fa99a208f7)\n",
    "\n"
   ]
  },
  {
   "cell_type": "code",
   "execution_count": null,
   "id": "834632a3",
   "metadata": {},
   "outputs": [],
   "source": [
    "import geopandas as gpd\n",
    "\n",
    "# Selecao dos Dados a Mostrar\n",
    "gdf_nuts3_sel = gdf_nuts3.loc[gdf_nuts3.NUTS2 == '11']\n",
    "gdf_nuts3_sel.explore(column = 'NUTS3_DSG',\n",
    "              legend = True,\n",
    "                  edgecolor = 'black')"
   ]
  },
  {
   "cell_type": "markdown",
   "id": "80cce95c",
   "metadata": {},
   "source": [
    "## Mostrar Geografia"
   ]
  },
  {
   "cell_type": "code",
   "execution_count": null,
   "id": "5977c9cd",
   "metadata": {},
   "outputs": [],
   "source": [
    "# Mostrar Geografia\n",
    "import geopandas as gpd\n",
    "import matplotlib.pyplot as plt\n",
    "\n",
    "# Mostrar Áreas NUTS3 eiao Centro\n",
    "gdf_nuts3_sel = gdf_nuts3.loc[gdf_nuts3.NUTS2 == '16']\n",
    "\n",
    "# Definir Legenda \n",
    "# Definir Localização (loc), Localização em relação ao eixos (bbox_to_anchor), Nº colunas (ncol)\n",
    "lgnd_kwds = {'title': 'Nuts3 (Centro)',\n",
    "               'loc': 'upper left', \n",
    "             'bbox_to_anchor': (1, 1.03), \n",
    "             'ncol': 1}\n",
    "# Argumetnos: Atributo (column), Colormap (cmap), colocar Legenda (legend), \n",
    "#  Legenda definida (legend_kwds), \n",
    "gdf_nuts3_sel.plot(column = 'NUTS3_DSG',\n",
    "              cmap = 'tab20',\n",
    "              legend = True,\n",
    "              legend_kwds  = lgnd_kwds,\n",
    "              edgecolor = 'dimgray')\n",
    "\n",
    "# Rotulos  Eixos\n",
    "plt.xlabel('X')\n",
    "plt.ylabel('Y')\n",
    "plt.title('Áreas NUTS3 de Portugal Continental')\n",
    "\n",
    "plt.show()"
   ]
  },
  {
   "cell_type": "markdown",
   "id": "d491cd3a",
   "metadata": {},
   "source": [
    "## Exercicio 2:\n",
    "\n",
    "**Objectivo Exercício**\n",
    "1. Importar Bibiotecas Necessários\n",
    "2. Importar Dados CAOP num GDF\n",
    "3. Inspecionar os nomes dos Atributos\n",
    "4. Fazer a Seleção de municipios de um NUTS3/NUTS2/DISTRITO\n",
    "5. Criar Gráfico mostrando os nomes dos municpios \n",
    "    - Desafio: Mostrar Nomes e Códigos entre parêntesis)\n",
    "\n",
    "**Dicas**\n",
    "- Fazer download de todos os ficheiros do Shapefile\n",
    "- Ver codigo Anterior para criar GeoDataFrame\n",
    "- Inspecionar o DataFrame para ver os nomes dos atributos e valores, utilizar:\n",
    "    - *info()*\n",
    "    - *head()*\n",
    "    - *gdf.field.unique()*\n",
    "- Fazer seleção de conjunto de registos (ver código anterior ou exemplos PPT)\n",
    "- Copiar parte de mostrar de ultimo exemplo e muda os nomes das variáveis\n",
    "\n",
    "**Desafios Adicionais**\n",
    "- Rodar os xticks\n",
    "- Criar o mapa utilizando subplots - *fig, ax = plt.subplots()* \n",
    "\n",
    "**Links de Ajuda**: \n",
    "- [Matplotlib tutorial for beginners](https://www.kaggle.com/code/prashant111/matplotlib-tutorial-for-beginners)\n",
    "- [Plots with matplotlib — MTH 337 (buffalo.edu) ](http://www.math.buffalo.edu/~badzioch/MTH337/PT/PT-matplotlib_plots/PT-matplotlib_plots.html)\n",
    "- [MATPLOTLIB Cheat Sheet](https://matplotlib.org/cheatsheets/cheatsheets.pdf)\n",
    "- [Fazer Seleções num DataFrame Pandas](https://pandas.pydata.org/docs/getting_started/intro_tutorials/03_subset_data.html)"
   ]
  }
 ],
 "metadata": {
  "kernelspec": {
   "display_name": "Python 3 (ipykernel)",
   "language": "python",
   "name": "python3"
  },
  "language_info": {
   "codemirror_mode": {
    "name": "ipython",
    "version": 3
   },
   "file_extension": ".py",
   "mimetype": "text/x-python",
   "name": "python",
   "nbconvert_exporter": "python",
   "pygments_lexer": "ipython3",
   "version": "3.11.5"
  },
  "toc": {
   "base_numbering": 1,
   "nav_menu": {},
   "number_sections": true,
   "sideBar": true,
   "skip_h1_title": false,
   "title_cell": "Table of Contents",
   "title_sidebar": "Contents",
   "toc_cell": false,
   "toc_position": {
    "height": "calc(100% - 180px)",
    "left": "10px",
    "top": "150px",
    "width": "316.58px"
   },
   "toc_section_display": true,
   "toc_window_display": true
  }
 },
 "nbformat": 4,
 "nbformat_minor": 5
}
