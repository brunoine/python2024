{
 "cells": [
  {
   "cell_type": "markdown",
   "id": "a21796de",
   "metadata": {},
   "source": [
    "# 6. Introdução a Machine Learning: Regressão"
   ]
  },
  {
   "cell_type": "markdown",
   "id": "fd676d65",
   "metadata": {},
   "source": [
    "# Pergunta\n",
    "Com este conjunto de dados que inclui o número de médicos e enfermeiros em várias especialidades será que consigo estimar o nº de total de Enfermeiros - Especialistas - Em Saúde Infantil e Pediátrica em cada hospital? \n",
    "<br>Coluna **C31011**\n"
   ]
  },
  {
   "cell_type": "markdown",
   "id": "330d508d",
   "metadata": {},
   "source": [
    "# 7. Regressão Linear usando Statsmodels package"
   ]
  },
  {
   "cell_type": "code",
   "execution_count": 1,
   "id": "0abb088e",
   "metadata": {},
   "outputs": [],
   "source": [
    "import numpy as np\n",
    "import pandas as pd"
   ]
  },
  {
   "cell_type": "markdown",
   "id": "d05804e3",
   "metadata": {},
   "source": [
    "Before importing files is always wise to check the working directory."
   ]
  },
  {
   "cell_type": "code",
   "execution_count": 2,
   "id": "33fcbaf7",
   "metadata": {},
   "outputs": [
    {
     "data": {
      "text/plain": [
       "'C:\\\\Users\\\\sonia.quaresma\\\\PythonPlayground'"
      ]
     },
     "execution_count": 2,
     "metadata": {},
     "output_type": "execute_result"
    }
   ],
   "source": [
    "%pwd"
   ]
  },
  {
   "cell_type": "code",
   "execution_count": 3,
   "id": "d2d58cba",
   "metadata": {},
   "outputs": [],
   "source": [
    "datadir =\"datasets\\\\\"\n",
    "filename = \"df_prep.csv\""
   ]
  },
  {
   "cell_type": "markdown",
   "id": "2d0b1fa0",
   "metadata": {},
   "source": [
    "reading the file with pandas to be stored as a dataframe"
   ]
  },
  {
   "cell_type": "code",
   "execution_count": 4,
   "id": "778cd625",
   "metadata": {},
   "outputs": [
    {
     "data": {
      "text/html": [
       "<div>\n",
       "<style scoped>\n",
       "    .dataframe tbody tr th:only-of-type {\n",
       "        vertical-align: middle;\n",
       "    }\n",
       "\n",
       "    .dataframe tbody tr th {\n",
       "        vertical-align: top;\n",
       "    }\n",
       "\n",
       "    .dataframe thead th {\n",
       "        text-align: right;\n",
       "    }\n",
       "</style>\n",
       "<table border=\"1\" class=\"dataframe\">\n",
       "  <thead>\n",
       "    <tr style=\"text-align: right;\">\n",
       "      <th></th>\n",
       "      <th>NORDEM</th>\n",
       "      <th>NUTS2</th>\n",
       "      <th>C10001</th>\n",
       "      <th>C20001</th>\n",
       "      <th>C21001</th>\n",
       "      <th>C21011</th>\n",
       "      <th>C21021</th>\n",
       "      <th>C21031</th>\n",
       "      <th>C21041</th>\n",
       "      <th>C21061</th>\n",
       "      <th>...</th>\n",
       "      <th>C31001</th>\n",
       "      <th>C31011</th>\n",
       "      <th>C31021</th>\n",
       "      <th>C31031</th>\n",
       "      <th>C31041</th>\n",
       "      <th>C31051</th>\n",
       "      <th>C31061</th>\n",
       "      <th>C31071</th>\n",
       "      <th>C32001</th>\n",
       "      <th>t_cirurgia</th>\n",
       "    </tr>\n",
       "    <tr>\n",
       "      <th>ANO</th>\n",
       "      <th></th>\n",
       "      <th></th>\n",
       "      <th></th>\n",
       "      <th></th>\n",
       "      <th></th>\n",
       "      <th></th>\n",
       "      <th></th>\n",
       "      <th></th>\n",
       "      <th></th>\n",
       "      <th></th>\n",
       "      <th></th>\n",
       "      <th></th>\n",
       "      <th></th>\n",
       "      <th></th>\n",
       "      <th></th>\n",
       "      <th></th>\n",
       "      <th></th>\n",
       "      <th></th>\n",
       "      <th></th>\n",
       "      <th></th>\n",
       "      <th></th>\n",
       "    </tr>\n",
       "  </thead>\n",
       "  <tbody>\n",
       "    <tr>\n",
       "      <th>2012.0</th>\n",
       "      <td>229.0</td>\n",
       "      <td>17.0</td>\n",
       "      <td>1458.0</td>\n",
       "      <td>247.0</td>\n",
       "      <td>159.00</td>\n",
       "      <td>2.0</td>\n",
       "      <td>11.0</td>\n",
       "      <td>0.0</td>\n",
       "      <td>5.0</td>\n",
       "      <td>0.0</td>\n",
       "      <td>...</td>\n",
       "      <td>39.0</td>\n",
       "      <td>8.0</td>\n",
       "      <td>19.0</td>\n",
       "      <td>2.0</td>\n",
       "      <td>2.0</td>\n",
       "      <td>3.0</td>\n",
       "      <td>5.0</td>\n",
       "      <td>0.0</td>\n",
       "      <td>454.0</td>\n",
       "      <td>yes</td>\n",
       "    </tr>\n",
       "    <tr>\n",
       "      <th>2012.0</th>\n",
       "      <td>206.0</td>\n",
       "      <td>17.0</td>\n",
       "      <td>144.0</td>\n",
       "      <td>0.0</td>\n",
       "      <td>0.00</td>\n",
       "      <td>0.0</td>\n",
       "      <td>0.0</td>\n",
       "      <td>0.0</td>\n",
       "      <td>0.0</td>\n",
       "      <td>0.0</td>\n",
       "      <td>...</td>\n",
       "      <td>0.0</td>\n",
       "      <td>0.0</td>\n",
       "      <td>0.0</td>\n",
       "      <td>0.0</td>\n",
       "      <td>0.0</td>\n",
       "      <td>0.0</td>\n",
       "      <td>0.0</td>\n",
       "      <td>0.0</td>\n",
       "      <td>46.0</td>\n",
       "      <td>no</td>\n",
       "    </tr>\n",
       "    <tr>\n",
       "      <th>2012.0</th>\n",
       "      <td>65.0</td>\n",
       "      <td>16.0</td>\n",
       "      <td>894.0</td>\n",
       "      <td>111.0</td>\n",
       "      <td>38.25</td>\n",
       "      <td>0.0</td>\n",
       "      <td>8.0</td>\n",
       "      <td>0.0</td>\n",
       "      <td>5.0</td>\n",
       "      <td>0.0</td>\n",
       "      <td>...</td>\n",
       "      <td>0.0</td>\n",
       "      <td>0.0</td>\n",
       "      <td>0.0</td>\n",
       "      <td>0.0</td>\n",
       "      <td>0.0</td>\n",
       "      <td>0.0</td>\n",
       "      <td>0.0</td>\n",
       "      <td>0.0</td>\n",
       "      <td>337.0</td>\n",
       "      <td>yes</td>\n",
       "    </tr>\n",
       "    <tr>\n",
       "      <th>2012.0</th>\n",
       "      <td>106.0</td>\n",
       "      <td>17.0</td>\n",
       "      <td>801.0</td>\n",
       "      <td>166.0</td>\n",
       "      <td>108.00</td>\n",
       "      <td>0.0</td>\n",
       "      <td>12.0</td>\n",
       "      <td>0.0</td>\n",
       "      <td>7.0</td>\n",
       "      <td>0.0</td>\n",
       "      <td>...</td>\n",
       "      <td>36.0</td>\n",
       "      <td>4.0</td>\n",
       "      <td>16.0</td>\n",
       "      <td>5.0</td>\n",
       "      <td>2.0</td>\n",
       "      <td>2.0</td>\n",
       "      <td>7.0</td>\n",
       "      <td>0.0</td>\n",
       "      <td>228.0</td>\n",
       "      <td>yes</td>\n",
       "    </tr>\n",
       "    <tr>\n",
       "      <th>2012.0</th>\n",
       "      <td>209.0</td>\n",
       "      <td>11.0</td>\n",
       "      <td>221.0</td>\n",
       "      <td>13.0</td>\n",
       "      <td>13.00</td>\n",
       "      <td>0.0</td>\n",
       "      <td>0.0</td>\n",
       "      <td>0.0</td>\n",
       "      <td>0.0</td>\n",
       "      <td>0.0</td>\n",
       "      <td>...</td>\n",
       "      <td>8.0</td>\n",
       "      <td>0.0</td>\n",
       "      <td>0.0</td>\n",
       "      <td>1.0</td>\n",
       "      <td>0.0</td>\n",
       "      <td>1.0</td>\n",
       "      <td>6.0</td>\n",
       "      <td>0.0</td>\n",
       "      <td>80.0</td>\n",
       "      <td>yes</td>\n",
       "    </tr>\n",
       "  </tbody>\n",
       "</table>\n",
       "<p>5 rows × 62 columns</p>\n",
       "</div>"
      ],
      "text/plain": [
       "        NORDEM  NUTS2  C10001  C20001  C21001  C21011  C21021  C21031  C21041  \\\n",
       "ANO                                                                             \n",
       "2012.0   229.0   17.0  1458.0   247.0  159.00     2.0    11.0     0.0     5.0   \n",
       "2012.0   206.0   17.0   144.0     0.0    0.00     0.0     0.0     0.0     0.0   \n",
       "2012.0    65.0   16.0   894.0   111.0   38.25     0.0     8.0     0.0     5.0   \n",
       "2012.0   106.0   17.0   801.0   166.0  108.00     0.0    12.0     0.0     7.0   \n",
       "2012.0   209.0   11.0   221.0    13.0   13.00     0.0     0.0     0.0     0.0   \n",
       "\n",
       "        C21061  ...  C31001  C31011  C31021  C31031  C31041  C31051  C31061  \\\n",
       "ANO             ...                                                           \n",
       "2012.0     0.0  ...    39.0     8.0    19.0     2.0     2.0     3.0     5.0   \n",
       "2012.0     0.0  ...     0.0     0.0     0.0     0.0     0.0     0.0     0.0   \n",
       "2012.0     0.0  ...     0.0     0.0     0.0     0.0     0.0     0.0     0.0   \n",
       "2012.0     0.0  ...    36.0     4.0    16.0     5.0     2.0     2.0     7.0   \n",
       "2012.0     0.0  ...     8.0     0.0     0.0     1.0     0.0     1.0     6.0   \n",
       "\n",
       "        C31071  C32001  t_cirurgia  \n",
       "ANO                                 \n",
       "2012.0     0.0   454.0         yes  \n",
       "2012.0     0.0    46.0          no  \n",
       "2012.0     0.0   337.0         yes  \n",
       "2012.0     0.0   228.0         yes  \n",
       "2012.0     0.0    80.0         yes  \n",
       "\n",
       "[5 rows x 62 columns]"
      ]
     },
     "execution_count": 4,
     "metadata": {},
     "output_type": "execute_result"
    }
   ],
   "source": [
    "df_hosp = pd.read_csv(f\"{datadir}{filename}\", index_col=0, verbose = False, encoding='latin-1')\n",
    "df_hosp.head()"
   ]
  },
  {
   "cell_type": "code",
   "execution_count": 5,
   "id": "18c316f7",
   "metadata": {},
   "outputs": [
    {
     "data": {
      "text/html": [
       "<div>\n",
       "<style scoped>\n",
       "    .dataframe tbody tr th:only-of-type {\n",
       "        vertical-align: middle;\n",
       "    }\n",
       "\n",
       "    .dataframe tbody tr th {\n",
       "        vertical-align: top;\n",
       "    }\n",
       "\n",
       "    .dataframe thead th {\n",
       "        text-align: right;\n",
       "    }\n",
       "</style>\n",
       "<table border=\"1\" class=\"dataframe\">\n",
       "  <thead>\n",
       "    <tr style=\"text-align: right;\">\n",
       "      <th></th>\n",
       "      <th>NORDEM</th>\n",
       "      <th>NUTS2</th>\n",
       "      <th>C10001</th>\n",
       "      <th>C20001</th>\n",
       "      <th>C21001</th>\n",
       "      <th>C21011</th>\n",
       "      <th>C21021</th>\n",
       "      <th>C21031</th>\n",
       "      <th>C21041</th>\n",
       "      <th>C21061</th>\n",
       "      <th>...</th>\n",
       "      <th>C30001</th>\n",
       "      <th>C31001</th>\n",
       "      <th>C31011</th>\n",
       "      <th>C31021</th>\n",
       "      <th>C31031</th>\n",
       "      <th>C31041</th>\n",
       "      <th>C31051</th>\n",
       "      <th>C31061</th>\n",
       "      <th>C31071</th>\n",
       "      <th>C32001</th>\n",
       "    </tr>\n",
       "  </thead>\n",
       "  <tbody>\n",
       "    <tr>\n",
       "      <th>count</th>\n",
       "      <td>86.000000</td>\n",
       "      <td>86.000000</td>\n",
       "      <td>86.000000</td>\n",
       "      <td>86.000000</td>\n",
       "      <td>86.000000</td>\n",
       "      <td>86.000000</td>\n",
       "      <td>86.000000</td>\n",
       "      <td>86.000000</td>\n",
       "      <td>86.000000</td>\n",
       "      <td>86.000000</td>\n",
       "      <td>...</td>\n",
       "      <td>86.000000</td>\n",
       "      <td>86.000000</td>\n",
       "      <td>86.000000</td>\n",
       "      <td>86.000000</td>\n",
       "      <td>86.000000</td>\n",
       "      <td>86.000000</td>\n",
       "      <td>86.000000</td>\n",
       "      <td>86.000000</td>\n",
       "      <td>86.000000</td>\n",
       "      <td>86.000000</td>\n",
       "    </tr>\n",
       "    <tr>\n",
       "      <th>mean</th>\n",
       "      <td>118.081395</td>\n",
       "      <td>14.976744</td>\n",
       "      <td>642.744186</td>\n",
       "      <td>113.872093</td>\n",
       "      <td>73.979651</td>\n",
       "      <td>0.813953</td>\n",
       "      <td>6.941860</td>\n",
       "      <td>0.360465</td>\n",
       "      <td>2.953488</td>\n",
       "      <td>0.302326</td>\n",
       "      <td>...</td>\n",
       "      <td>212.290698</td>\n",
       "      <td>22.941860</td>\n",
       "      <td>3.127907</td>\n",
       "      <td>6.220930</td>\n",
       "      <td>4.476744</td>\n",
       "      <td>3.465116</td>\n",
       "      <td>0.965116</td>\n",
       "      <td>3.465116</td>\n",
       "      <td>1.220930</td>\n",
       "      <td>189.348837</td>\n",
       "    </tr>\n",
       "    <tr>\n",
       "      <th>std</th>\n",
       "      <td>68.264230</td>\n",
       "      <td>3.620129</td>\n",
       "      <td>809.928453</td>\n",
       "      <td>172.413511</td>\n",
       "      <td>108.256016</td>\n",
       "      <td>2.144825</td>\n",
       "      <td>10.384779</td>\n",
       "      <td>1.146994</td>\n",
       "      <td>5.346592</td>\n",
       "      <td>1.701693</td>\n",
       "      <td>...</td>\n",
       "      <td>255.792649</td>\n",
       "      <td>26.911775</td>\n",
       "      <td>4.752204</td>\n",
       "      <td>10.678622</td>\n",
       "      <td>5.740930</td>\n",
       "      <td>8.559409</td>\n",
       "      <td>1.482825</td>\n",
       "      <td>4.421066</td>\n",
       "      <td>2.783993</td>\n",
       "      <td>240.396475</td>\n",
       "    </tr>\n",
       "    <tr>\n",
       "      <th>min</th>\n",
       "      <td>3.000000</td>\n",
       "      <td>11.000000</td>\n",
       "      <td>0.000000</td>\n",
       "      <td>0.000000</td>\n",
       "      <td>0.000000</td>\n",
       "      <td>0.000000</td>\n",
       "      <td>0.000000</td>\n",
       "      <td>0.000000</td>\n",
       "      <td>0.000000</td>\n",
       "      <td>0.000000</td>\n",
       "      <td>...</td>\n",
       "      <td>0.000000</td>\n",
       "      <td>0.000000</td>\n",
       "      <td>0.000000</td>\n",
       "      <td>0.000000</td>\n",
       "      <td>0.000000</td>\n",
       "      <td>0.000000</td>\n",
       "      <td>0.000000</td>\n",
       "      <td>0.000000</td>\n",
       "      <td>0.000000</td>\n",
       "      <td>0.000000</td>\n",
       "    </tr>\n",
       "    <tr>\n",
       "      <th>25%</th>\n",
       "      <td>57.500000</td>\n",
       "      <td>11.000000</td>\n",
       "      <td>120.250000</td>\n",
       "      <td>7.750000</td>\n",
       "      <td>6.000000</td>\n",
       "      <td>0.000000</td>\n",
       "      <td>0.000000</td>\n",
       "      <td>0.000000</td>\n",
       "      <td>0.000000</td>\n",
       "      <td>0.000000</td>\n",
       "      <td>...</td>\n",
       "      <td>34.250000</td>\n",
       "      <td>3.250000</td>\n",
       "      <td>0.000000</td>\n",
       "      <td>0.000000</td>\n",
       "      <td>0.000000</td>\n",
       "      <td>0.000000</td>\n",
       "      <td>0.000000</td>\n",
       "      <td>0.000000</td>\n",
       "      <td>0.000000</td>\n",
       "      <td>30.000000</td>\n",
       "    </tr>\n",
       "    <tr>\n",
       "      <th>50%</th>\n",
       "      <td>119.000000</td>\n",
       "      <td>16.000000</td>\n",
       "      <td>338.500000</td>\n",
       "      <td>42.500000</td>\n",
       "      <td>33.000000</td>\n",
       "      <td>0.000000</td>\n",
       "      <td>2.000000</td>\n",
       "      <td>0.000000</td>\n",
       "      <td>0.000000</td>\n",
       "      <td>0.000000</td>\n",
       "      <td>...</td>\n",
       "      <td>102.500000</td>\n",
       "      <td>10.000000</td>\n",
       "      <td>0.000000</td>\n",
       "      <td>0.000000</td>\n",
       "      <td>3.000000</td>\n",
       "      <td>1.000000</td>\n",
       "      <td>0.000000</td>\n",
       "      <td>2.000000</td>\n",
       "      <td>0.000000</td>\n",
       "      <td>85.500000</td>\n",
       "    </tr>\n",
       "    <tr>\n",
       "      <th>75%</th>\n",
       "      <td>175.750000</td>\n",
       "      <td>17.000000</td>\n",
       "      <td>872.500000</td>\n",
       "      <td>162.500000</td>\n",
       "      <td>115.500000</td>\n",
       "      <td>0.000000</td>\n",
       "      <td>10.750000</td>\n",
       "      <td>0.000000</td>\n",
       "      <td>3.750000</td>\n",
       "      <td>0.000000</td>\n",
       "      <td>...</td>\n",
       "      <td>321.250000</td>\n",
       "      <td>35.750000</td>\n",
       "      <td>4.000000</td>\n",
       "      <td>11.000000</td>\n",
       "      <td>6.000000</td>\n",
       "      <td>3.000000</td>\n",
       "      <td>1.000000</td>\n",
       "      <td>5.000000</td>\n",
       "      <td>1.000000</td>\n",
       "      <td>282.250000</td>\n",
       "    </tr>\n",
       "    <tr>\n",
       "      <th>max</th>\n",
       "      <td>229.000000</td>\n",
       "      <td>30.000000</td>\n",
       "      <td>5325.000000</td>\n",
       "      <td>1161.000000</td>\n",
       "      <td>719.000000</td>\n",
       "      <td>13.000000</td>\n",
       "      <td>51.000000</td>\n",
       "      <td>6.000000</td>\n",
       "      <td>31.000000</td>\n",
       "      <td>13.000000</td>\n",
       "      <td>...</td>\n",
       "      <td>1515.000000</td>\n",
       "      <td>103.000000</td>\n",
       "      <td>21.000000</td>\n",
       "      <td>50.000000</td>\n",
       "      <td>28.000000</td>\n",
       "      <td>72.000000</td>\n",
       "      <td>6.000000</td>\n",
       "      <td>19.000000</td>\n",
       "      <td>15.000000</td>\n",
       "      <td>1515.000000</td>\n",
       "    </tr>\n",
       "  </tbody>\n",
       "</table>\n",
       "<p>8 rows × 61 columns</p>\n",
       "</div>"
      ],
      "text/plain": [
       "           NORDEM      NUTS2       C10001       C20001      C21001     C21011  \\\n",
       "count   86.000000  86.000000    86.000000    86.000000   86.000000  86.000000   \n",
       "mean   118.081395  14.976744   642.744186   113.872093   73.979651   0.813953   \n",
       "std     68.264230   3.620129   809.928453   172.413511  108.256016   2.144825   \n",
       "min      3.000000  11.000000     0.000000     0.000000    0.000000   0.000000   \n",
       "25%     57.500000  11.000000   120.250000     7.750000    6.000000   0.000000   \n",
       "50%    119.000000  16.000000   338.500000    42.500000   33.000000   0.000000   \n",
       "75%    175.750000  17.000000   872.500000   162.500000  115.500000   0.000000   \n",
       "max    229.000000  30.000000  5325.000000  1161.000000  719.000000  13.000000   \n",
       "\n",
       "          C21021     C21031     C21041     C21061  ...       C30001  \\\n",
       "count  86.000000  86.000000  86.000000  86.000000  ...    86.000000   \n",
       "mean    6.941860   0.360465   2.953488   0.302326  ...   212.290698   \n",
       "std    10.384779   1.146994   5.346592   1.701693  ...   255.792649   \n",
       "min     0.000000   0.000000   0.000000   0.000000  ...     0.000000   \n",
       "25%     0.000000   0.000000   0.000000   0.000000  ...    34.250000   \n",
       "50%     2.000000   0.000000   0.000000   0.000000  ...   102.500000   \n",
       "75%    10.750000   0.000000   3.750000   0.000000  ...   321.250000   \n",
       "max    51.000000   6.000000  31.000000  13.000000  ...  1515.000000   \n",
       "\n",
       "           C31001     C31011     C31021     C31031     C31041     C31051  \\\n",
       "count   86.000000  86.000000  86.000000  86.000000  86.000000  86.000000   \n",
       "mean    22.941860   3.127907   6.220930   4.476744   3.465116   0.965116   \n",
       "std     26.911775   4.752204  10.678622   5.740930   8.559409   1.482825   \n",
       "min      0.000000   0.000000   0.000000   0.000000   0.000000   0.000000   \n",
       "25%      3.250000   0.000000   0.000000   0.000000   0.000000   0.000000   \n",
       "50%     10.000000   0.000000   0.000000   3.000000   1.000000   0.000000   \n",
       "75%     35.750000   4.000000  11.000000   6.000000   3.000000   1.000000   \n",
       "max    103.000000  21.000000  50.000000  28.000000  72.000000   6.000000   \n",
       "\n",
       "          C31061     C31071       C32001  \n",
       "count  86.000000  86.000000    86.000000  \n",
       "mean    3.465116   1.220930   189.348837  \n",
       "std     4.421066   2.783993   240.396475  \n",
       "min     0.000000   0.000000     0.000000  \n",
       "25%     0.000000   0.000000    30.000000  \n",
       "50%     2.000000   0.000000    85.500000  \n",
       "75%     5.000000   1.000000   282.250000  \n",
       "max    19.000000  15.000000  1515.000000  \n",
       "\n",
       "[8 rows x 61 columns]"
      ]
     },
     "execution_count": 5,
     "metadata": {},
     "output_type": "execute_result"
    }
   ],
   "source": [
    "df_hosp.describe()"
   ]
  },
  {
   "cell_type": "code",
   "execution_count": 6,
   "id": "cb002211",
   "metadata": {},
   "outputs": [],
   "source": [
    "df_hosp = df_hosp.reset_index()"
   ]
  },
  {
   "cell_type": "code",
   "execution_count": 8,
   "id": "b2f5aff0",
   "metadata": {},
   "outputs": [],
   "source": [
    "# Definimos y como o nosso target\n",
    "X = df_hosp.drop(columns=['t_cirurgia'])\n",
    "y = df_hosp['t_cirurgia'].values"
   ]
  },
  {
   "cell_type": "code",
   "execution_count": 9,
   "id": "6d2627a4",
   "metadata": {},
   "outputs": [],
   "source": [
    "# criação de matriz de correlação e selecão do triângulo superior\n",
    "cor_matrix = X.corr().abs()\n",
    "upper_tri = cor_matrix.where(np.triu(np.ones(cor_matrix.shape),k=1).astype(bool))"
   ]
  },
  {
   "cell_type": "code",
   "execution_count": 10,
   "id": "561aadfd",
   "metadata": {},
   "outputs": [
    {
     "name": "stdout",
     "output_type": "stream",
     "text": [
      "['C20001', 'C21001', 'C21021', 'C21071', 'C21251', 'C21421', 'C21431', 'C23001', 'C24001', 'C30001', 'C32001']\n"
     ]
    }
   ],
   "source": [
    "# seleciona para remover as colunas altamente correlacionadas\n",
    "to_drop = [column for column in upper_tri.columns if any(upper_tri[column] > 0.9)]\n",
    "print(to_drop)"
   ]
  },
  {
   "cell_type": "code",
   "execution_count": 11,
   "id": "386d0595",
   "metadata": {},
   "outputs": [],
   "source": [
    "df_hosp = df_hosp.drop(columns=to_drop, axis=1)"
   ]
  },
  {
   "cell_type": "code",
   "execution_count": 12,
   "id": "bbd6dcb0",
   "metadata": {},
   "outputs": [
    {
     "data": {
      "text/html": [
       "<div>\n",
       "<style scoped>\n",
       "    .dataframe tbody tr th:only-of-type {\n",
       "        vertical-align: middle;\n",
       "    }\n",
       "\n",
       "    .dataframe tbody tr th {\n",
       "        vertical-align: top;\n",
       "    }\n",
       "\n",
       "    .dataframe thead th {\n",
       "        text-align: right;\n",
       "    }\n",
       "</style>\n",
       "<table border=\"1\" class=\"dataframe\">\n",
       "  <thead>\n",
       "    <tr style=\"text-align: right;\">\n",
       "      <th></th>\n",
       "      <th>ANO</th>\n",
       "      <th>NORDEM</th>\n",
       "      <th>NUTS2</th>\n",
       "      <th>C10001</th>\n",
       "      <th>C21011</th>\n",
       "      <th>C21031</th>\n",
       "      <th>C21041</th>\n",
       "      <th>C21061</th>\n",
       "      <th>C21081</th>\n",
       "      <th>C21091</th>\n",
       "      <th>...</th>\n",
       "      <th>C22001</th>\n",
       "      <th>C31001</th>\n",
       "      <th>C31011</th>\n",
       "      <th>C31021</th>\n",
       "      <th>C31031</th>\n",
       "      <th>C31041</th>\n",
       "      <th>C31051</th>\n",
       "      <th>C31061</th>\n",
       "      <th>C31071</th>\n",
       "      <th>t_cirurgia</th>\n",
       "    </tr>\n",
       "  </thead>\n",
       "  <tbody>\n",
       "    <tr>\n",
       "      <th>0</th>\n",
       "      <td>2012.0</td>\n",
       "      <td>229.0</td>\n",
       "      <td>17.0</td>\n",
       "      <td>1458.0</td>\n",
       "      <td>2.0</td>\n",
       "      <td>0.0</td>\n",
       "      <td>5.0</td>\n",
       "      <td>0.0</td>\n",
       "      <td>0.0</td>\n",
       "      <td>0.0</td>\n",
       "      <td>...</td>\n",
       "      <td>4.0</td>\n",
       "      <td>39.0</td>\n",
       "      <td>8.0</td>\n",
       "      <td>19.0</td>\n",
       "      <td>2.0</td>\n",
       "      <td>2.0</td>\n",
       "      <td>3.0</td>\n",
       "      <td>5.0</td>\n",
       "      <td>0.0</td>\n",
       "      <td>yes</td>\n",
       "    </tr>\n",
       "    <tr>\n",
       "      <th>1</th>\n",
       "      <td>2012.0</td>\n",
       "      <td>206.0</td>\n",
       "      <td>17.0</td>\n",
       "      <td>144.0</td>\n",
       "      <td>0.0</td>\n",
       "      <td>0.0</td>\n",
       "      <td>0.0</td>\n",
       "      <td>0.0</td>\n",
       "      <td>0.0</td>\n",
       "      <td>0.0</td>\n",
       "      <td>...</td>\n",
       "      <td>0.0</td>\n",
       "      <td>0.0</td>\n",
       "      <td>0.0</td>\n",
       "      <td>0.0</td>\n",
       "      <td>0.0</td>\n",
       "      <td>0.0</td>\n",
       "      <td>0.0</td>\n",
       "      <td>0.0</td>\n",
       "      <td>0.0</td>\n",
       "      <td>no</td>\n",
       "    </tr>\n",
       "    <tr>\n",
       "      <th>2</th>\n",
       "      <td>2012.0</td>\n",
       "      <td>65.0</td>\n",
       "      <td>16.0</td>\n",
       "      <td>894.0</td>\n",
       "      <td>0.0</td>\n",
       "      <td>0.0</td>\n",
       "      <td>5.0</td>\n",
       "      <td>0.0</td>\n",
       "      <td>0.0</td>\n",
       "      <td>0.0</td>\n",
       "      <td>...</td>\n",
       "      <td>0.0</td>\n",
       "      <td>0.0</td>\n",
       "      <td>0.0</td>\n",
       "      <td>0.0</td>\n",
       "      <td>0.0</td>\n",
       "      <td>0.0</td>\n",
       "      <td>0.0</td>\n",
       "      <td>0.0</td>\n",
       "      <td>0.0</td>\n",
       "      <td>yes</td>\n",
       "    </tr>\n",
       "    <tr>\n",
       "      <th>3</th>\n",
       "      <td>2012.0</td>\n",
       "      <td>106.0</td>\n",
       "      <td>17.0</td>\n",
       "      <td>801.0</td>\n",
       "      <td>0.0</td>\n",
       "      <td>0.0</td>\n",
       "      <td>7.0</td>\n",
       "      <td>0.0</td>\n",
       "      <td>0.0</td>\n",
       "      <td>0.0</td>\n",
       "      <td>...</td>\n",
       "      <td>7.0</td>\n",
       "      <td>36.0</td>\n",
       "      <td>4.0</td>\n",
       "      <td>16.0</td>\n",
       "      <td>5.0</td>\n",
       "      <td>2.0</td>\n",
       "      <td>2.0</td>\n",
       "      <td>7.0</td>\n",
       "      <td>0.0</td>\n",
       "      <td>yes</td>\n",
       "    </tr>\n",
       "    <tr>\n",
       "      <th>4</th>\n",
       "      <td>2012.0</td>\n",
       "      <td>209.0</td>\n",
       "      <td>11.0</td>\n",
       "      <td>221.0</td>\n",
       "      <td>0.0</td>\n",
       "      <td>0.0</td>\n",
       "      <td>0.0</td>\n",
       "      <td>0.0</td>\n",
       "      <td>0.0</td>\n",
       "      <td>0.0</td>\n",
       "      <td>...</td>\n",
       "      <td>0.0</td>\n",
       "      <td>8.0</td>\n",
       "      <td>0.0</td>\n",
       "      <td>0.0</td>\n",
       "      <td>1.0</td>\n",
       "      <td>0.0</td>\n",
       "      <td>1.0</td>\n",
       "      <td>6.0</td>\n",
       "      <td>0.0</td>\n",
       "      <td>yes</td>\n",
       "    </tr>\n",
       "  </tbody>\n",
       "</table>\n",
       "<p>5 rows × 52 columns</p>\n",
       "</div>"
      ],
      "text/plain": [
       "      ANO  NORDEM  NUTS2  C10001  C21011  C21031  C21041  C21061  C21081  \\\n",
       "0  2012.0   229.0   17.0  1458.0     2.0     0.0     5.0     0.0     0.0   \n",
       "1  2012.0   206.0   17.0   144.0     0.0     0.0     0.0     0.0     0.0   \n",
       "2  2012.0    65.0   16.0   894.0     0.0     0.0     5.0     0.0     0.0   \n",
       "3  2012.0   106.0   17.0   801.0     0.0     0.0     7.0     0.0     0.0   \n",
       "4  2012.0   209.0   11.0   221.0     0.0     0.0     0.0     0.0     0.0   \n",
       "\n",
       "   C21091  ...  C22001  C31001  C31011  C31021  C31031  C31041  C31051  \\\n",
       "0     0.0  ...     4.0    39.0     8.0    19.0     2.0     2.0     3.0   \n",
       "1     0.0  ...     0.0     0.0     0.0     0.0     0.0     0.0     0.0   \n",
       "2     0.0  ...     0.0     0.0     0.0     0.0     0.0     0.0     0.0   \n",
       "3     0.0  ...     7.0    36.0     4.0    16.0     5.0     2.0     2.0   \n",
       "4     0.0  ...     0.0     8.0     0.0     0.0     1.0     0.0     1.0   \n",
       "\n",
       "   C31061  C31071  t_cirurgia  \n",
       "0     5.0     0.0         yes  \n",
       "1     0.0     0.0          no  \n",
       "2     0.0     0.0         yes  \n",
       "3     7.0     0.0         yes  \n",
       "4     6.0     0.0         yes  \n",
       "\n",
       "[5 rows x 52 columns]"
      ]
     },
     "execution_count": 12,
     "metadata": {},
     "output_type": "execute_result"
    }
   ],
   "source": [
    "df_hosp.head()"
   ]
  },
  {
   "cell_type": "code",
   "execution_count": 13,
   "id": "1eabf568",
   "metadata": {},
   "outputs": [
    {
     "name": "stdout",
     "output_type": "stream",
     "text": [
      "                            OLS Regression Results                            \n",
      "==============================================================================\n",
      "Dep. Variable:                 C31011   R-squared:                       0.679\n",
      "Model:                            OLS   Adj. R-squared:                  0.675\n",
      "Method:                 Least Squares   F-statistic:                     177.9\n",
      "Date:                Mon, 23 Oct 2023   Prob (F-statistic):           1.89e-22\n",
      "Time:                        10:29:40   Log-Likelihood:                -206.66\n",
      "No. Observations:                  86   AIC:                             417.3\n",
      "Df Residuals:                      84   BIC:                             422.2\n",
      "Df Model:                           1                                         \n",
      "Covariance Type:            nonrobust                                         \n",
      "==============================================================================\n",
      "                 coef    std err          t      P>|t|      [0.025      0.975]\n",
      "------------------------------------------------------------------------------\n",
      "Intercept     -0.2111      0.385     -0.549      0.585      -0.976       0.554\n",
      "C31001         0.1455      0.011     13.339      0.000       0.124       0.167\n",
      "==============================================================================\n",
      "Omnibus:                       27.749   Durbin-Watson:                   2.131\n",
      "Prob(Omnibus):                  0.000   Jarque-Bera (JB):              128.206\n",
      "Skew:                          -0.795   Prob(JB):                     1.45e-28\n",
      "Kurtosis:                       8.766   Cond. No.                         46.4\n",
      "==============================================================================\n",
      "\n",
      "Notes:\n",
      "[1] Standard Errors assume that the covariance matrix of the errors is correctly specified.\n"
     ]
    }
   ],
   "source": [
    "import statsmodels.formula.api as smf\n",
    "\n",
    "est = smf.ols('C31011 ~ C31001',data = df_hosp).fit()\n",
    "print(est.summary())"
   ]
  },
  {
   "cell_type": "code",
   "execution_count": 14,
   "id": "4e81f26b",
   "metadata": {},
   "outputs": [
    {
     "data": {
      "text/plain": [
       "0.8242029193194886"
      ]
     },
     "execution_count": 14,
     "metadata": {},
     "output_type": "execute_result"
    }
   ],
   "source": [
    "# Este é o R entre as 2 variáveis\n",
    "r = cor_matrix.loc['C31001','C31011']\n",
    "r"
   ]
  },
  {
   "cell_type": "code",
   "execution_count": 15,
   "id": "243a31c8",
   "metadata": {},
   "outputs": [
    {
     "data": {
      "text/plain": [
       "0.6793104522147675"
      ]
     },
     "execution_count": 15,
     "metadata": {},
     "output_type": "execute_result"
    }
   ],
   "source": [
    "# E este é o r quadrado\n",
    "r2 = r**2\n",
    "r2"
   ]
  },
  {
   "cell_type": "code",
   "execution_count": 16,
   "id": "fac3ec38",
   "metadata": {},
   "outputs": [
    {
     "name": "stdout",
     "output_type": "stream",
     "text": [
      "                            OLS Regression Results                            \n",
      "==============================================================================\n",
      "Dep. Variable:                 C31011   R-squared:                       0.681\n",
      "Model:                            OLS   Adj. R-squared:                  0.673\n",
      "Method:                 Least Squares   F-statistic:                     88.60\n",
      "Date:                Mon, 23 Oct 2023   Prob (F-statistic):           2.55e-21\n",
      "Time:                        10:30:00   Log-Likelihood:                -206.43\n",
      "No. Observations:                  86   AIC:                             418.9\n",
      "Df Residuals:                      83   BIC:                             426.2\n",
      "Df Model:                           2                                         \n",
      "Covariance Type:            nonrobust                                         \n",
      "==============================================================================\n",
      "                 coef    std err          t      P>|t|      [0.025      0.975]\n",
      "------------------------------------------------------------------------------\n",
      "Intercept     -0.2542      0.391     -0.650      0.518      -1.032       0.524\n",
      "C31001         0.1441      0.011     12.916      0.000       0.122       0.166\n",
      "C21011         0.0935      0.140      0.668      0.506      -0.185       0.372\n",
      "==============================================================================\n",
      "Omnibus:                       25.855   Durbin-Watson:                   2.130\n",
      "Prob(Omnibus):                  0.000   Jarque-Bera (JB):              118.604\n",
      "Skew:                          -0.715   Prob(JB):                     1.76e-26\n",
      "Kurtosis:                       8.573   Cond. No.                         47.2\n",
      "==============================================================================\n",
      "\n",
      "Notes:\n",
      "[1] Standard Errors assume that the covariance matrix of the errors is correctly specified.\n"
     ]
    }
   ],
   "source": [
    "import statsmodels.formula.api as smf\n",
    "\n",
    "est = smf.ols('C31011 ~ C31001 + C21011',data = df_hosp).fit()\n",
    "print(est.summary())"
   ]
  },
  {
   "cell_type": "code",
   "execution_count": 17,
   "id": "d0d29c46",
   "metadata": {},
   "outputs": [
    {
     "name": "stdout",
     "output_type": "stream",
     "text": [
      "                            OLS Regression Results                            \n",
      "==============================================================================\n",
      "Dep. Variable:                 C31011   R-squared:                       0.697\n",
      "Model:                            OLS   Adj. R-squared:                  0.689\n",
      "Method:                 Least Squares   F-statistic:                     95.36\n",
      "Date:                Mon, 23 Oct 2023   Prob (F-statistic):           3.12e-22\n",
      "Time:                        10:30:01   Log-Likelihood:                -204.26\n",
      "No. Observations:                  86   AIC:                             414.5\n",
      "Df Residuals:                      83   BIC:                             421.9\n",
      "Df Model:                           2                                         \n",
      "Covariance Type:            nonrobust                                         \n",
      "==============================================================================\n",
      "                 coef    std err          t      P>|t|      [0.025      0.975]\n",
      "------------------------------------------------------------------------------\n",
      "Intercept     -0.2519      0.377     -0.669      0.505      -1.001       0.497\n",
      "C31001         0.1263      0.014      9.138      0.000       0.099       0.154\n",
      "C21361         0.0760      0.035      2.186      0.032       0.007       0.145\n",
      "==============================================================================\n",
      "Omnibus:                       23.605   Durbin-Watson:                   2.008\n",
      "Prob(Omnibus):                  0.000   Jarque-Bera (JB):               93.192\n",
      "Skew:                          -0.684   Prob(JB):                     5.80e-21\n",
      "Kurtosis:                       7.913   Cond. No.                         48.2\n",
      "==============================================================================\n",
      "\n",
      "Notes:\n",
      "[1] Standard Errors assume that the covariance matrix of the errors is correctly specified.\n"
     ]
    }
   ],
   "source": [
    "import statsmodels.formula.api as smf\n",
    "\n",
    "est = smf.ols('C31011 ~ C31001 + C21361',data = df_hosp).fit()\n",
    "print(est.summary())"
   ]
  },
  {
   "cell_type": "code",
   "execution_count": 18,
   "id": "1a964240",
   "metadata": {},
   "outputs": [
    {
     "data": {
      "text/html": [
       "<div>\n",
       "<style scoped>\n",
       "    .dataframe tbody tr th:only-of-type {\n",
       "        vertical-align: middle;\n",
       "    }\n",
       "\n",
       "    .dataframe tbody tr th {\n",
       "        vertical-align: top;\n",
       "    }\n",
       "\n",
       "    .dataframe thead th {\n",
       "        text-align: right;\n",
       "    }\n",
       "</style>\n",
       "<table border=\"1\" class=\"dataframe\">\n",
       "  <thead>\n",
       "    <tr style=\"text-align: right;\">\n",
       "      <th></th>\n",
       "      <th>ANO</th>\n",
       "      <th>NORDEM</th>\n",
       "      <th>NUTS2</th>\n",
       "      <th>C10001</th>\n",
       "      <th>C21011</th>\n",
       "      <th>C21031</th>\n",
       "      <th>C21041</th>\n",
       "      <th>C21061</th>\n",
       "      <th>C21081</th>\n",
       "      <th>C21091</th>\n",
       "      <th>...</th>\n",
       "      <th>C22001</th>\n",
       "      <th>C31001</th>\n",
       "      <th>C31021</th>\n",
       "      <th>C31031</th>\n",
       "      <th>C31041</th>\n",
       "      <th>C31051</th>\n",
       "      <th>C31061</th>\n",
       "      <th>C31071</th>\n",
       "      <th>t_cirurgia</th>\n",
       "      <th>C31011</th>\n",
       "    </tr>\n",
       "  </thead>\n",
       "  <tbody>\n",
       "    <tr>\n",
       "      <th>0</th>\n",
       "      <td>2012.0</td>\n",
       "      <td>229.0</td>\n",
       "      <td>17.0</td>\n",
       "      <td>1458.0</td>\n",
       "      <td>2.0</td>\n",
       "      <td>0.0</td>\n",
       "      <td>5.0</td>\n",
       "      <td>0.0</td>\n",
       "      <td>0.0</td>\n",
       "      <td>0.0</td>\n",
       "      <td>...</td>\n",
       "      <td>4.0</td>\n",
       "      <td>39.0</td>\n",
       "      <td>19.0</td>\n",
       "      <td>2.0</td>\n",
       "      <td>2.0</td>\n",
       "      <td>3.0</td>\n",
       "      <td>5.0</td>\n",
       "      <td>0.0</td>\n",
       "      <td>yes</td>\n",
       "      <td>8.0</td>\n",
       "    </tr>\n",
       "    <tr>\n",
       "      <th>1</th>\n",
       "      <td>2012.0</td>\n",
       "      <td>206.0</td>\n",
       "      <td>17.0</td>\n",
       "      <td>144.0</td>\n",
       "      <td>0.0</td>\n",
       "      <td>0.0</td>\n",
       "      <td>0.0</td>\n",
       "      <td>0.0</td>\n",
       "      <td>0.0</td>\n",
       "      <td>0.0</td>\n",
       "      <td>...</td>\n",
       "      <td>0.0</td>\n",
       "      <td>0.0</td>\n",
       "      <td>0.0</td>\n",
       "      <td>0.0</td>\n",
       "      <td>0.0</td>\n",
       "      <td>0.0</td>\n",
       "      <td>0.0</td>\n",
       "      <td>0.0</td>\n",
       "      <td>no</td>\n",
       "      <td>0.0</td>\n",
       "    </tr>\n",
       "    <tr>\n",
       "      <th>2</th>\n",
       "      <td>2012.0</td>\n",
       "      <td>65.0</td>\n",
       "      <td>16.0</td>\n",
       "      <td>894.0</td>\n",
       "      <td>0.0</td>\n",
       "      <td>0.0</td>\n",
       "      <td>5.0</td>\n",
       "      <td>0.0</td>\n",
       "      <td>0.0</td>\n",
       "      <td>0.0</td>\n",
       "      <td>...</td>\n",
       "      <td>0.0</td>\n",
       "      <td>0.0</td>\n",
       "      <td>0.0</td>\n",
       "      <td>0.0</td>\n",
       "      <td>0.0</td>\n",
       "      <td>0.0</td>\n",
       "      <td>0.0</td>\n",
       "      <td>0.0</td>\n",
       "      <td>yes</td>\n",
       "      <td>0.0</td>\n",
       "    </tr>\n",
       "    <tr>\n",
       "      <th>3</th>\n",
       "      <td>2012.0</td>\n",
       "      <td>106.0</td>\n",
       "      <td>17.0</td>\n",
       "      <td>801.0</td>\n",
       "      <td>0.0</td>\n",
       "      <td>0.0</td>\n",
       "      <td>7.0</td>\n",
       "      <td>0.0</td>\n",
       "      <td>0.0</td>\n",
       "      <td>0.0</td>\n",
       "      <td>...</td>\n",
       "      <td>7.0</td>\n",
       "      <td>36.0</td>\n",
       "      <td>16.0</td>\n",
       "      <td>5.0</td>\n",
       "      <td>2.0</td>\n",
       "      <td>2.0</td>\n",
       "      <td>7.0</td>\n",
       "      <td>0.0</td>\n",
       "      <td>yes</td>\n",
       "      <td>4.0</td>\n",
       "    </tr>\n",
       "    <tr>\n",
       "      <th>4</th>\n",
       "      <td>2012.0</td>\n",
       "      <td>209.0</td>\n",
       "      <td>11.0</td>\n",
       "      <td>221.0</td>\n",
       "      <td>0.0</td>\n",
       "      <td>0.0</td>\n",
       "      <td>0.0</td>\n",
       "      <td>0.0</td>\n",
       "      <td>0.0</td>\n",
       "      <td>0.0</td>\n",
       "      <td>...</td>\n",
       "      <td>0.0</td>\n",
       "      <td>8.0</td>\n",
       "      <td>0.0</td>\n",
       "      <td>1.0</td>\n",
       "      <td>0.0</td>\n",
       "      <td>1.0</td>\n",
       "      <td>6.0</td>\n",
       "      <td>0.0</td>\n",
       "      <td>yes</td>\n",
       "      <td>0.0</td>\n",
       "    </tr>\n",
       "  </tbody>\n",
       "</table>\n",
       "<p>5 rows × 52 columns</p>\n",
       "</div>"
      ],
      "text/plain": [
       "      ANO  NORDEM  NUTS2  C10001  C21011  C21031  C21041  C21061  C21081  \\\n",
       "0  2012.0   229.0   17.0  1458.0     2.0     0.0     5.0     0.0     0.0   \n",
       "1  2012.0   206.0   17.0   144.0     0.0     0.0     0.0     0.0     0.0   \n",
       "2  2012.0    65.0   16.0   894.0     0.0     0.0     5.0     0.0     0.0   \n",
       "3  2012.0   106.0   17.0   801.0     0.0     0.0     7.0     0.0     0.0   \n",
       "4  2012.0   209.0   11.0   221.0     0.0     0.0     0.0     0.0     0.0   \n",
       "\n",
       "   C21091  ...  C22001  C31001  C31021  C31031  C31041  C31051  C31061  \\\n",
       "0     0.0  ...     4.0    39.0    19.0     2.0     2.0     3.0     5.0   \n",
       "1     0.0  ...     0.0     0.0     0.0     0.0     0.0     0.0     0.0   \n",
       "2     0.0  ...     0.0     0.0     0.0     0.0     0.0     0.0     0.0   \n",
       "3     0.0  ...     7.0    36.0    16.0     5.0     2.0     2.0     7.0   \n",
       "4     0.0  ...     0.0     8.0     0.0     1.0     0.0     1.0     6.0   \n",
       "\n",
       "   C31071  t_cirurgia  C31011  \n",
       "0     0.0         yes     8.0  \n",
       "1     0.0          no     0.0  \n",
       "2     0.0         yes     0.0  \n",
       "3     0.0         yes     4.0  \n",
       "4     0.0         yes     0.0  \n",
       "\n",
       "[5 rows x 52 columns]"
      ]
     },
     "execution_count": 18,
     "metadata": {},
     "output_type": "execute_result"
    }
   ],
   "source": [
    "# reorganiza as colunas para colocar a coluna target no fim\n",
    "last_cols = ['C31011']\n",
    "first_cols = [col for col in df_hosp.columns if col not in last_cols]\n",
    "\n",
    "df = df_hosp[first_cols+last_cols]\n",
    "df.head()"
   ]
  },
  {
   "cell_type": "code",
   "execution_count": 19,
   "id": "c7531a1e",
   "metadata": {},
   "outputs": [
    {
     "name": "stdout",
     "output_type": "stream",
     "text": [
      "                            OLS Regression Results                            \n",
      "==============================================================================\n",
      "Dep. Variable:                 C31011   R-squared:                       1.000\n",
      "Model:                            OLS   Adj. R-squared:                  1.000\n",
      "Method:                 Least Squares   F-statistic:                 9.076e+26\n",
      "Date:                Mon, 23 Oct 2023   Prob (F-statistic):          2.36e-279\n",
      "Time:                        10:30:03   Log-Likelihood:                 2019.4\n",
      "No. Observations:                  71   AIC:                            -3939.\n",
      "Df Residuals:                      21   BIC:                            -3826.\n",
      "Df Model:                          49                                         \n",
      "Covariance Type:            nonrobust                                         \n",
      "=====================================================================================\n",
      "                        coef    std err          t      P>|t|      [0.025      0.975]\n",
      "-------------------------------------------------------------------------------------\n",
      "Intercept          6.698e-18   5.77e-20    116.121      0.000    6.58e-18    6.82e-18\n",
      "t_cirurgia[T.yes]  9.215e-15   8.06e-14      0.114      0.910   -1.58e-13    1.77e-13\n",
      "ANO                -7.15e-17   1.16e-16     -0.616      0.544   -3.13e-16     1.7e-16\n",
      "NORDEM            -1.891e-16   8.19e-16     -0.231      0.820   -1.89e-15    1.51e-15\n",
      "NUTS2              1.152e-15   1.11e-14      0.104      0.918   -2.19e-14    2.42e-14\n",
      "C10001             4.163e-17   6.11e-16      0.068      0.946   -1.23e-15    1.31e-15\n",
      "C21011            -8.882e-15   2.81e-13     -0.032      0.975   -5.94e-13    5.76e-13\n",
      "C21031            -8.327e-15   2.17e-13     -0.038      0.970    -4.6e-13    4.43e-13\n",
      "C21041            -3.608e-15   4.53e-14     -0.080      0.937   -9.78e-14    9.06e-14\n",
      "C21061             1.954e-14   1.68e-13      0.116      0.909   -3.31e-13     3.7e-13\n",
      "C21081             4.441e-14      1e-12      0.044      0.965   -2.04e-12    2.13e-12\n",
      "C21091            -1.044e-14   4.39e-13     -0.024      0.981   -9.23e-13    9.02e-13\n",
      "C21101             1.277e-14   2.11e-13      0.061      0.952   -4.25e-13    4.51e-13\n",
      "C21111              1.11e-15   1.05e-13      0.011      0.992   -2.17e-13    2.19e-13\n",
      "C21121             1.658e-15   2.05e-14      0.081      0.936   -4.09e-14    4.42e-14\n",
      "C21131            -5.884e-15   2.25e-13     -0.026      0.979   -4.74e-13    4.62e-13\n",
      "C21141             9.104e-15   9.51e-14      0.096      0.925   -1.89e-13    2.07e-13\n",
      "C21151             1.421e-14   1.42e-13      0.100      0.921   -2.82e-13     3.1e-13\n",
      "C21161                     0   1.11e-12          0      1.000   -2.31e-12    2.31e-12\n",
      "C21171             5.357e-15   2.96e-14      0.181      0.858   -5.63e-14     6.7e-14\n",
      "C21181            -1.454e-14   1.01e-13     -0.144      0.887   -2.25e-13    1.96e-13\n",
      "C21191              1.61e-15   9.59e-14      0.017      0.987   -1.98e-13    2.01e-13\n",
      "C21201            -8.549e-15   1.01e-13     -0.084      0.934   -2.19e-13    2.02e-13\n",
      "C21211            -2.043e-13   7.27e-13     -0.281      0.781   -1.72e-12    1.31e-12\n",
      "C21221             2.154e-14   2.52e-13      0.085      0.933   -5.03e-13    5.46e-13\n",
      "C21231             8.327e-15   5.92e-14      0.141      0.889   -1.15e-13    1.31e-13\n",
      "C21241            -1.332e-15   5.17e-14     -0.026      0.980   -1.09e-13    1.06e-13\n",
      "C21261             8.527e-14   6.01e-13      0.142      0.888   -1.16e-12    1.33e-12\n",
      "C21271            -6.661e-15   6.88e-14     -0.097      0.924    -1.5e-13    1.36e-13\n",
      "C21281            -8.882e-16   2.88e-13     -0.003      0.998      -6e-13    5.98e-13\n",
      "C21291            -1.565e-14   8.41e-14     -0.186      0.854   -1.91e-13    1.59e-13\n",
      "C21301            -8.882e-15   1.53e-13     -0.058      0.954   -3.28e-13     3.1e-13\n",
      "C21311             3.941e-15   5.25e-14      0.075      0.941   -1.05e-13    1.13e-13\n",
      "C21321              8.66e-15   1.37e-13      0.063      0.950   -2.76e-13    2.93e-13\n",
      "C21331            -1.193e-15   1.95e-14     -0.061      0.952   -4.17e-14    3.93e-14\n",
      "C21341            -8.882e-15   8.34e-14     -0.106      0.916   -1.82e-13    1.65e-13\n",
      "C21351             1.221e-14   5.17e-14      0.236      0.816   -9.54e-14     1.2e-13\n",
      "C21361            -3.275e-15   4.27e-14     -0.077      0.940    -9.2e-14    8.55e-14\n",
      "C21371             1.665e-16   2.43e-14      0.007      0.995   -5.03e-14    5.06e-14\n",
      "C21381             2.408e-15   1.46e-14      0.164      0.871    -2.8e-14    3.29e-14\n",
      "C21391             6.328e-15   1.22e-13      0.052      0.959   -2.47e-13     2.6e-13\n",
      "C21401             1.665e-16   4.52e-14      0.004      0.997   -9.38e-14    9.42e-14\n",
      "C21411            -2.665e-15   2.54e-13     -0.010      0.992   -5.32e-13    5.26e-13\n",
      "C21441             8.221e-18   4.02e-28   2.05e+10      0.000    8.22e-18    8.22e-18\n",
      "C22001             4.718e-16   1.89e-14      0.025      0.980   -3.89e-14    3.98e-14\n",
      "C31001                1.0000   4.42e-14   2.26e+13      0.000       1.000       1.000\n",
      "C31021               -1.0000    5.1e-14  -1.96e+13      0.000      -1.000      -1.000\n",
      "C31031               -1.0000   2.89e-14  -3.46e+13      0.000      -1.000      -1.000\n",
      "C31041               -1.0000   4.51e-14  -2.22e+13      0.000      -1.000      -1.000\n",
      "C31051               -1.0000   6.88e-14  -1.45e+13      0.000      -1.000      -1.000\n",
      "C31061               -1.0000   5.38e-14  -1.86e+13      0.000      -1.000      -1.000\n",
      "C31071               -1.0000   7.16e-14   -1.4e+13      0.000      -1.000      -1.000\n",
      "==============================================================================\n",
      "Omnibus:                       36.508   Durbin-Watson:                   1.033\n",
      "Prob(Omnibus):                  0.000   Jarque-Bera (JB):               86.351\n",
      "Skew:                          -1.722   Prob(JB):                     1.77e-19\n",
      "Kurtosis:                       7.162   Cond. No.                     2.14e+19\n",
      "==============================================================================\n",
      "\n",
      "Notes:\n",
      "[1] Standard Errors assume that the covariance matrix of the errors is correctly specified.\n",
      "[2] The smallest eigenvalue is 7.24e-31. This might indicate that there are\n",
      "strong multicollinearity problems or that the design matrix is singular.\n"
     ]
    }
   ],
   "source": [
    "import statsmodels.formula.api as smf\n",
    "\n",
    "string_cols = ' + '.join(df.columns[:-1])\n",
    "est = smf.ols('C31011 ~ {}'.format(string_cols),data = df).fit()\n",
    "print(est.summary())"
   ]
  },
  {
   "cell_type": "markdown",
   "id": "d4b8688f",
   "metadata": {},
   "source": [
    "# Isto será possível? Comente os resultados!"
   ]
  },
  {
   "cell_type": "code",
   "execution_count": 20,
   "id": "121574c0",
   "metadata": {},
   "outputs": [
    {
     "data": {
      "text/html": [
       "<div>\n",
       "<style scoped>\n",
       "    .dataframe tbody tr th:only-of-type {\n",
       "        vertical-align: middle;\n",
       "    }\n",
       "\n",
       "    .dataframe tbody tr th {\n",
       "        vertical-align: top;\n",
       "    }\n",
       "\n",
       "    .dataframe thead th {\n",
       "        text-align: right;\n",
       "    }\n",
       "</style>\n",
       "<table border=\"1\" class=\"dataframe\">\n",
       "  <thead>\n",
       "    <tr style=\"text-align: right;\">\n",
       "      <th></th>\n",
       "      <th>ANO</th>\n",
       "      <th>NORDEM</th>\n",
       "      <th>NUTS2</th>\n",
       "      <th>C10001</th>\n",
       "      <th>C21011</th>\n",
       "      <th>C21031</th>\n",
       "      <th>C21041</th>\n",
       "      <th>C21061</th>\n",
       "      <th>C21081</th>\n",
       "      <th>C21091</th>\n",
       "      <th>...</th>\n",
       "      <th>C21441</th>\n",
       "      <th>C22001</th>\n",
       "      <th>C31021</th>\n",
       "      <th>C31031</th>\n",
       "      <th>C31041</th>\n",
       "      <th>C31051</th>\n",
       "      <th>C31061</th>\n",
       "      <th>C31071</th>\n",
       "      <th>t_cirurgia</th>\n",
       "      <th>C31011</th>\n",
       "    </tr>\n",
       "  </thead>\n",
       "  <tbody>\n",
       "    <tr>\n",
       "      <th>0</th>\n",
       "      <td>2012.0</td>\n",
       "      <td>229.0</td>\n",
       "      <td>17.0</td>\n",
       "      <td>1458.0</td>\n",
       "      <td>2.0</td>\n",
       "      <td>0.0</td>\n",
       "      <td>5.0</td>\n",
       "      <td>0.0</td>\n",
       "      <td>0.0</td>\n",
       "      <td>0.0</td>\n",
       "      <td>...</td>\n",
       "      <td>0.0</td>\n",
       "      <td>4.0</td>\n",
       "      <td>19.0</td>\n",
       "      <td>2.0</td>\n",
       "      <td>2.0</td>\n",
       "      <td>3.0</td>\n",
       "      <td>5.0</td>\n",
       "      <td>0.0</td>\n",
       "      <td>yes</td>\n",
       "      <td>8.0</td>\n",
       "    </tr>\n",
       "    <tr>\n",
       "      <th>1</th>\n",
       "      <td>2012.0</td>\n",
       "      <td>206.0</td>\n",
       "      <td>17.0</td>\n",
       "      <td>144.0</td>\n",
       "      <td>0.0</td>\n",
       "      <td>0.0</td>\n",
       "      <td>0.0</td>\n",
       "      <td>0.0</td>\n",
       "      <td>0.0</td>\n",
       "      <td>0.0</td>\n",
       "      <td>...</td>\n",
       "      <td>0.0</td>\n",
       "      <td>0.0</td>\n",
       "      <td>0.0</td>\n",
       "      <td>0.0</td>\n",
       "      <td>0.0</td>\n",
       "      <td>0.0</td>\n",
       "      <td>0.0</td>\n",
       "      <td>0.0</td>\n",
       "      <td>no</td>\n",
       "      <td>0.0</td>\n",
       "    </tr>\n",
       "    <tr>\n",
       "      <th>2</th>\n",
       "      <td>2012.0</td>\n",
       "      <td>65.0</td>\n",
       "      <td>16.0</td>\n",
       "      <td>894.0</td>\n",
       "      <td>0.0</td>\n",
       "      <td>0.0</td>\n",
       "      <td>5.0</td>\n",
       "      <td>0.0</td>\n",
       "      <td>0.0</td>\n",
       "      <td>0.0</td>\n",
       "      <td>...</td>\n",
       "      <td>0.0</td>\n",
       "      <td>0.0</td>\n",
       "      <td>0.0</td>\n",
       "      <td>0.0</td>\n",
       "      <td>0.0</td>\n",
       "      <td>0.0</td>\n",
       "      <td>0.0</td>\n",
       "      <td>0.0</td>\n",
       "      <td>yes</td>\n",
       "      <td>0.0</td>\n",
       "    </tr>\n",
       "    <tr>\n",
       "      <th>3</th>\n",
       "      <td>2012.0</td>\n",
       "      <td>106.0</td>\n",
       "      <td>17.0</td>\n",
       "      <td>801.0</td>\n",
       "      <td>0.0</td>\n",
       "      <td>0.0</td>\n",
       "      <td>7.0</td>\n",
       "      <td>0.0</td>\n",
       "      <td>0.0</td>\n",
       "      <td>0.0</td>\n",
       "      <td>...</td>\n",
       "      <td>0.0</td>\n",
       "      <td>7.0</td>\n",
       "      <td>16.0</td>\n",
       "      <td>5.0</td>\n",
       "      <td>2.0</td>\n",
       "      <td>2.0</td>\n",
       "      <td>7.0</td>\n",
       "      <td>0.0</td>\n",
       "      <td>yes</td>\n",
       "      <td>4.0</td>\n",
       "    </tr>\n",
       "    <tr>\n",
       "      <th>4</th>\n",
       "      <td>2012.0</td>\n",
       "      <td>209.0</td>\n",
       "      <td>11.0</td>\n",
       "      <td>221.0</td>\n",
       "      <td>0.0</td>\n",
       "      <td>0.0</td>\n",
       "      <td>0.0</td>\n",
       "      <td>0.0</td>\n",
       "      <td>0.0</td>\n",
       "      <td>0.0</td>\n",
       "      <td>...</td>\n",
       "      <td>0.0</td>\n",
       "      <td>0.0</td>\n",
       "      <td>0.0</td>\n",
       "      <td>1.0</td>\n",
       "      <td>0.0</td>\n",
       "      <td>1.0</td>\n",
       "      <td>6.0</td>\n",
       "      <td>0.0</td>\n",
       "      <td>yes</td>\n",
       "      <td>0.0</td>\n",
       "    </tr>\n",
       "  </tbody>\n",
       "</table>\n",
       "<p>5 rows × 51 columns</p>\n",
       "</div>"
      ],
      "text/plain": [
       "      ANO  NORDEM  NUTS2  C10001  C21011  C21031  C21041  C21061  C21081  \\\n",
       "0  2012.0   229.0   17.0  1458.0     2.0     0.0     5.0     0.0     0.0   \n",
       "1  2012.0   206.0   17.0   144.0     0.0     0.0     0.0     0.0     0.0   \n",
       "2  2012.0    65.0   16.0   894.0     0.0     0.0     5.0     0.0     0.0   \n",
       "3  2012.0   106.0   17.0   801.0     0.0     0.0     7.0     0.0     0.0   \n",
       "4  2012.0   209.0   11.0   221.0     0.0     0.0     0.0     0.0     0.0   \n",
       "\n",
       "   C21091  ...  C21441  C22001  C31021  C31031  C31041  C31051  C31061  \\\n",
       "0     0.0  ...     0.0     4.0    19.0     2.0     2.0     3.0     5.0   \n",
       "1     0.0  ...     0.0     0.0     0.0     0.0     0.0     0.0     0.0   \n",
       "2     0.0  ...     0.0     0.0     0.0     0.0     0.0     0.0     0.0   \n",
       "3     0.0  ...     0.0     7.0    16.0     5.0     2.0     2.0     7.0   \n",
       "4     0.0  ...     0.0     0.0     0.0     1.0     0.0     1.0     6.0   \n",
       "\n",
       "   C31071  t_cirurgia  C31011  \n",
       "0     0.0         yes     8.0  \n",
       "1     0.0          no     0.0  \n",
       "2     0.0         yes     0.0  \n",
       "3     0.0         yes     4.0  \n",
       "4     0.0         yes     0.0  \n",
       "\n",
       "[5 rows x 51 columns]"
      ]
     },
     "execution_count": 20,
     "metadata": {},
     "output_type": "execute_result"
    }
   ],
   "source": [
    "df = df.drop(columns='C31001', axis=1)\n",
    "df.head()"
   ]
  },
  {
   "cell_type": "code",
   "execution_count": 21,
   "id": "6569ad8d",
   "metadata": {},
   "outputs": [
    {
     "name": "stdout",
     "output_type": "stream",
     "text": [
      "                            OLS Regression Results                            \n",
      "==============================================================================\n",
      "Dep. Variable:                 C31011   R-squared:                       0.988\n",
      "Model:                            OLS   Adj. R-squared:                  0.963\n",
      "Method:                 Least Squares   F-statistic:                     39.38\n",
      "Date:                Mon, 23 Oct 2023   Prob (F-statistic):           1.05e-13\n",
      "Time:                        10:30:16   Log-Likelihood:                -55.748\n",
      "No. Observations:                  71   AIC:                             209.5\n",
      "Df Residuals:                      22   BIC:                             320.4\n",
      "Df Model:                          48                                         \n",
      "Covariance Type:            nonrobust                                         \n",
      "=====================================================================================\n",
      "                        coef    std err          t      P>|t|      [0.025      0.975]\n",
      "-------------------------------------------------------------------------------------\n",
      "Intercept           6.22e-07   2.44e-07      2.544      0.018    1.15e-07    1.13e-06\n",
      "t_cirurgia[T.yes]    -0.4189      0.378     -1.108      0.280      -1.203       0.365\n",
      "ANO                   0.0013      0.000      2.544      0.018       0.000       0.002\n",
      "NORDEM               -0.0108      0.003     -3.364      0.003      -0.017      -0.004\n",
      "NUTS2                -0.0718      0.051     -1.399      0.176      -0.178       0.035\n",
      "C10001                0.0082      0.002      3.480      0.002       0.003       0.013\n",
      "C21011                4.9274      0.857      5.750      0.000       3.150       6.705\n",
      "C21031               -2.0528      0.951     -2.159      0.042      -4.024      -0.081\n",
      "C21041                0.2306      0.213      1.084      0.290      -0.211       0.672\n",
      "C21061               -1.6767      0.730     -2.298      0.031      -3.190      -0.164\n",
      "C21081                8.8434      4.456      1.985      0.060      -0.397      18.084\n",
      "C21091               -7.3059      1.433     -5.097      0.000     -10.278      -4.333\n",
      "C21101               -1.4882      0.965     -1.542      0.137      -3.490       0.514\n",
      "C21111               -1.0788      0.451     -2.394      0.026      -2.013      -0.144\n",
      "C21121               -0.1928      0.090     -2.150      0.043      -0.379      -0.007\n",
      "C21131                1.5267      1.035      1.475      0.154      -0.619       3.673\n",
      "C21141                0.2519      0.456      0.553      0.586      -0.693       1.197\n",
      "C21151               -2.7579      0.354     -7.788      0.000      -3.492      -2.023\n",
      "C21161                6.1177      5.197      1.177      0.252      -4.660      16.895\n",
      "C21171               -0.3612      0.120     -2.998      0.007      -0.611      -0.111\n",
      "C21181                0.4058      0.480      0.845      0.407      -0.590       1.402\n",
      "C21191               -0.3214      0.457     -0.703      0.490      -1.270       0.627\n",
      "C21201                0.3619      0.482      0.750      0.461      -0.638       1.362\n",
      "C21211                5.3379      3.315      1.610      0.122      -1.537      12.213\n",
      "C21221               -2.4970      1.093     -2.285      0.032      -4.763      -0.231\n",
      "C21231               -0.8779      0.215     -4.077      0.000      -1.324      -0.431\n",
      "C21241                0.5824      0.216      2.692      0.013       0.134       1.031\n",
      "C21261               -2.2529      2.856     -0.789      0.439      -8.176       3.670\n",
      "C21271                0.4035      0.320      1.259      0.221      -0.261       1.068\n",
      "C21281                0.1880      1.389      0.135      0.894      -2.692       3.068\n",
      "C21291                1.1723      0.320      3.668      0.001       0.510       1.835\n",
      "C21301               -0.0261      0.739     -0.035      0.972      -1.558       1.506\n",
      "C21311               -0.5173      0.228     -2.272      0.033      -0.989      -0.045\n",
      "C21321                0.1573      0.659      0.239      0.814      -1.209       1.524\n",
      "C21331                0.1142      0.091      1.259      0.221      -0.074       0.302\n",
      "C21341                0.6779      0.375      1.806      0.085      -0.101       1.457\n",
      "C21351               -0.4512      0.230     -1.959      0.063      -0.929       0.026\n",
      "C21361                0.8000      0.115      6.943      0.000       0.561       1.039\n",
      "C21371                0.1325      0.114      1.167      0.256      -0.103       0.368\n",
      "C21381               -0.2458      0.047     -5.195      0.000      -0.344      -0.148\n",
      "C21391                0.0751      0.588      0.128      0.899      -1.145       1.295\n",
      "C21401               -0.2867      0.209     -1.370      0.185      -0.721       0.147\n",
      "C21411               -4.0923      0.862     -4.748      0.000      -5.880      -2.305\n",
      "C21441              2.62e-15   7.57e-16      3.459      0.002    1.05e-15    4.19e-15\n",
      "C22001               -0.2374      0.076     -3.129      0.005      -0.395      -0.080\n",
      "C31021                0.0500      0.102      0.490      0.629      -0.162       0.262\n",
      "C31031               -0.4693      0.082     -5.756      0.000      -0.638      -0.300\n",
      "C31041                0.0147      0.020      0.731      0.473      -0.027       0.057\n",
      "C31051                0.2098      0.209      1.006      0.326      -0.223       0.642\n",
      "C31061                0.1607      0.079      2.047      0.053      -0.002       0.324\n",
      "C31071                0.4654      0.147      3.158      0.005       0.160       0.771\n",
      "==============================================================================\n",
      "Omnibus:                        3.460   Durbin-Watson:                   2.030\n",
      "Prob(Omnibus):                  0.177   Jarque-Bera (JB):                3.515\n",
      "Skew:                          -0.073   Prob(JB):                        0.172\n",
      "Kurtosis:                       4.080   Cond. No.                     2.30e+19\n",
      "==============================================================================\n",
      "\n",
      "Notes:\n",
      "[1] Standard Errors assume that the covariance matrix of the errors is correctly specified.\n",
      "[2] The smallest eigenvalue is 6.28e-31. This might indicate that there are\n",
      "strong multicollinearity problems or that the design matrix is singular.\n"
     ]
    }
   ],
   "source": [
    "import statsmodels.formula.api as smf\n",
    "\n",
    "string_cols = ' + '.join(df.columns[:-1])\n",
    "est = smf.ols('C31011 ~ {}'.format(string_cols),data = df).fit()\n",
    "print(est.summary())"
   ]
  },
  {
   "cell_type": "markdown",
   "id": "73934f82",
   "metadata": {},
   "source": [
    "# 8. Regressão Linear usando Scikit package"
   ]
  },
  {
   "cell_type": "code",
   "execution_count": 22,
   "id": "ad424198",
   "metadata": {},
   "outputs": [
    {
     "data": {
      "text/html": [
       "<div>\n",
       "<style scoped>\n",
       "    .dataframe tbody tr th:only-of-type {\n",
       "        vertical-align: middle;\n",
       "    }\n",
       "\n",
       "    .dataframe tbody tr th {\n",
       "        vertical-align: top;\n",
       "    }\n",
       "\n",
       "    .dataframe thead th {\n",
       "        text-align: right;\n",
       "    }\n",
       "</style>\n",
       "<table border=\"1\" class=\"dataframe\">\n",
       "  <thead>\n",
       "    <tr style=\"text-align: right;\">\n",
       "      <th></th>\n",
       "      <th>ANO</th>\n",
       "      <th>NORDEM</th>\n",
       "      <th>NUTS2</th>\n",
       "      <th>C10001</th>\n",
       "      <th>C21011</th>\n",
       "      <th>C21031</th>\n",
       "      <th>C21041</th>\n",
       "      <th>C21061</th>\n",
       "      <th>C21081</th>\n",
       "      <th>C21091</th>\n",
       "      <th>...</th>\n",
       "      <th>C22001</th>\n",
       "      <th>C31001</th>\n",
       "      <th>C31011</th>\n",
       "      <th>C31021</th>\n",
       "      <th>C31031</th>\n",
       "      <th>C31041</th>\n",
       "      <th>C31051</th>\n",
       "      <th>C31061</th>\n",
       "      <th>C31071</th>\n",
       "      <th>t_cirurgia</th>\n",
       "    </tr>\n",
       "  </thead>\n",
       "  <tbody>\n",
       "    <tr>\n",
       "      <th>0</th>\n",
       "      <td>2012.0</td>\n",
       "      <td>229.0</td>\n",
       "      <td>17.0</td>\n",
       "      <td>1458.0</td>\n",
       "      <td>2.0</td>\n",
       "      <td>0.0</td>\n",
       "      <td>5.0</td>\n",
       "      <td>0.0</td>\n",
       "      <td>0.0</td>\n",
       "      <td>0.0</td>\n",
       "      <td>...</td>\n",
       "      <td>4.0</td>\n",
       "      <td>39.0</td>\n",
       "      <td>8.0</td>\n",
       "      <td>19.0</td>\n",
       "      <td>2.0</td>\n",
       "      <td>2.0</td>\n",
       "      <td>3.0</td>\n",
       "      <td>5.0</td>\n",
       "      <td>0.0</td>\n",
       "      <td>yes</td>\n",
       "    </tr>\n",
       "    <tr>\n",
       "      <th>1</th>\n",
       "      <td>2012.0</td>\n",
       "      <td>206.0</td>\n",
       "      <td>17.0</td>\n",
       "      <td>144.0</td>\n",
       "      <td>0.0</td>\n",
       "      <td>0.0</td>\n",
       "      <td>0.0</td>\n",
       "      <td>0.0</td>\n",
       "      <td>0.0</td>\n",
       "      <td>0.0</td>\n",
       "      <td>...</td>\n",
       "      <td>0.0</td>\n",
       "      <td>0.0</td>\n",
       "      <td>0.0</td>\n",
       "      <td>0.0</td>\n",
       "      <td>0.0</td>\n",
       "      <td>0.0</td>\n",
       "      <td>0.0</td>\n",
       "      <td>0.0</td>\n",
       "      <td>0.0</td>\n",
       "      <td>no</td>\n",
       "    </tr>\n",
       "    <tr>\n",
       "      <th>2</th>\n",
       "      <td>2012.0</td>\n",
       "      <td>65.0</td>\n",
       "      <td>16.0</td>\n",
       "      <td>894.0</td>\n",
       "      <td>0.0</td>\n",
       "      <td>0.0</td>\n",
       "      <td>5.0</td>\n",
       "      <td>0.0</td>\n",
       "      <td>0.0</td>\n",
       "      <td>0.0</td>\n",
       "      <td>...</td>\n",
       "      <td>0.0</td>\n",
       "      <td>0.0</td>\n",
       "      <td>0.0</td>\n",
       "      <td>0.0</td>\n",
       "      <td>0.0</td>\n",
       "      <td>0.0</td>\n",
       "      <td>0.0</td>\n",
       "      <td>0.0</td>\n",
       "      <td>0.0</td>\n",
       "      <td>yes</td>\n",
       "    </tr>\n",
       "    <tr>\n",
       "      <th>3</th>\n",
       "      <td>2012.0</td>\n",
       "      <td>106.0</td>\n",
       "      <td>17.0</td>\n",
       "      <td>801.0</td>\n",
       "      <td>0.0</td>\n",
       "      <td>0.0</td>\n",
       "      <td>7.0</td>\n",
       "      <td>0.0</td>\n",
       "      <td>0.0</td>\n",
       "      <td>0.0</td>\n",
       "      <td>...</td>\n",
       "      <td>7.0</td>\n",
       "      <td>36.0</td>\n",
       "      <td>4.0</td>\n",
       "      <td>16.0</td>\n",
       "      <td>5.0</td>\n",
       "      <td>2.0</td>\n",
       "      <td>2.0</td>\n",
       "      <td>7.0</td>\n",
       "      <td>0.0</td>\n",
       "      <td>yes</td>\n",
       "    </tr>\n",
       "    <tr>\n",
       "      <th>4</th>\n",
       "      <td>2012.0</td>\n",
       "      <td>209.0</td>\n",
       "      <td>11.0</td>\n",
       "      <td>221.0</td>\n",
       "      <td>0.0</td>\n",
       "      <td>0.0</td>\n",
       "      <td>0.0</td>\n",
       "      <td>0.0</td>\n",
       "      <td>0.0</td>\n",
       "      <td>0.0</td>\n",
       "      <td>...</td>\n",
       "      <td>0.0</td>\n",
       "      <td>8.0</td>\n",
       "      <td>0.0</td>\n",
       "      <td>0.0</td>\n",
       "      <td>1.0</td>\n",
       "      <td>0.0</td>\n",
       "      <td>1.0</td>\n",
       "      <td>6.0</td>\n",
       "      <td>0.0</td>\n",
       "      <td>yes</td>\n",
       "    </tr>\n",
       "  </tbody>\n",
       "</table>\n",
       "<p>5 rows × 52 columns</p>\n",
       "</div>"
      ],
      "text/plain": [
       "      ANO  NORDEM  NUTS2  C10001  C21011  C21031  C21041  C21061  C21081  \\\n",
       "0  2012.0   229.0   17.0  1458.0     2.0     0.0     5.0     0.0     0.0   \n",
       "1  2012.0   206.0   17.0   144.0     0.0     0.0     0.0     0.0     0.0   \n",
       "2  2012.0    65.0   16.0   894.0     0.0     0.0     5.0     0.0     0.0   \n",
       "3  2012.0   106.0   17.0   801.0     0.0     0.0     7.0     0.0     0.0   \n",
       "4  2012.0   209.0   11.0   221.0     0.0     0.0     0.0     0.0     0.0   \n",
       "\n",
       "   C21091  ...  C22001  C31001  C31011  C31021  C31031  C31041  C31051  \\\n",
       "0     0.0  ...     4.0    39.0     8.0    19.0     2.0     2.0     3.0   \n",
       "1     0.0  ...     0.0     0.0     0.0     0.0     0.0     0.0     0.0   \n",
       "2     0.0  ...     0.0     0.0     0.0     0.0     0.0     0.0     0.0   \n",
       "3     0.0  ...     7.0    36.0     4.0    16.0     5.0     2.0     2.0   \n",
       "4     0.0  ...     0.0     8.0     0.0     0.0     1.0     0.0     1.0   \n",
       "\n",
       "   C31061  C31071  t_cirurgia  \n",
       "0     5.0     0.0         yes  \n",
       "1     0.0     0.0          no  \n",
       "2     0.0     0.0         yes  \n",
       "3     7.0     0.0         yes  \n",
       "4     6.0     0.0         yes  \n",
       "\n",
       "[5 rows x 52 columns]"
      ]
     },
     "execution_count": 22,
     "metadata": {},
     "output_type": "execute_result"
    }
   ],
   "source": [
    "df_hosp.head()"
   ]
  },
  {
   "cell_type": "code",
   "execution_count": 23,
   "id": "1b9346ec",
   "metadata": {},
   "outputs": [],
   "source": [
    "# seleciona para remover as colunas ano e ordem\n",
    "to_drop = ['ANO','NORDEM']\n",
    "df = df_hosp.drop(columns=to_drop, axis=1)"
   ]
  },
  {
   "cell_type": "code",
   "execution_count": 24,
   "id": "0587be53",
   "metadata": {},
   "outputs": [],
   "source": [
    "df1 = df.dropna()"
   ]
  },
  {
   "cell_type": "code",
   "execution_count": 25,
   "id": "4a961253",
   "metadata": {},
   "outputs": [],
   "source": [
    "# define a variável target e as features\n",
    "X = df1.drop(columns=['C31011'])\n",
    "y = df1['C31011'].values"
   ]
  },
  {
   "cell_type": "code",
   "execution_count": 26,
   "id": "3fb4cddd",
   "metadata": {},
   "outputs": [
    {
     "data": {
      "text/plain": [
       "NUTS2         category\n",
       "C10001         float64\n",
       "C21011         float64\n",
       "C21031         float64\n",
       "C21041         float64\n",
       "C21061         float64\n",
       "C21081         float64\n",
       "C21091         float64\n",
       "C21101         float64\n",
       "C21111         float64\n",
       "C21121         float64\n",
       "C21131         float64\n",
       "C21141         float64\n",
       "C21151         float64\n",
       "C21161         float64\n",
       "C21171         float64\n",
       "C21181         float64\n",
       "C21191         float64\n",
       "C21201         float64\n",
       "C21211         float64\n",
       "C21221         float64\n",
       "C21231         float64\n",
       "C21241         float64\n",
       "C21261         float64\n",
       "C21271         float64\n",
       "C21281         float64\n",
       "C21291         float64\n",
       "C21301         float64\n",
       "C21311         float64\n",
       "C21321         float64\n",
       "C21331         float64\n",
       "C21341         float64\n",
       "C21351         float64\n",
       "C21361         float64\n",
       "C21371         float64\n",
       "C21381         float64\n",
       "C21391         float64\n",
       "C21401         float64\n",
       "C21411         float64\n",
       "C21441         float64\n",
       "C22001         float64\n",
       "C31001         float64\n",
       "C31021         float64\n",
       "C31031         float64\n",
       "C31041         float64\n",
       "C31051         float64\n",
       "C31061         float64\n",
       "C31071         float64\n",
       "t_cirurgia      object\n",
       "dtype: object"
      ]
     },
     "execution_count": 26,
     "metadata": {},
     "output_type": "execute_result"
    }
   ],
   "source": [
    "## Typecast da coluna para categoria em pandas\n",
    "X['NUTS2'] = pd.Categorical(X.NUTS2)\n",
    "X.dtypes"
   ]
  },
  {
   "cell_type": "code",
   "execution_count": 27,
   "id": "776733f1",
   "metadata": {},
   "outputs": [
    {
     "data": {
      "text/plain": [
       "(71, 49)"
      ]
     },
     "execution_count": 27,
     "metadata": {},
     "output_type": "execute_result"
    }
   ],
   "source": [
    "X.shape"
   ]
  },
  {
   "cell_type": "code",
   "execution_count": 28,
   "id": "61f3a367",
   "metadata": {},
   "outputs": [],
   "source": [
    "# cria variáveis dummy e faz drop da baseline\n",
    "X = pd.get_dummies(X, drop_first = True)"
   ]
  },
  {
   "cell_type": "code",
   "execution_count": 29,
   "id": "91c3ca0e",
   "metadata": {},
   "outputs": [
    {
     "data": {
      "text/plain": [
       "(71, 54)"
      ]
     },
     "execution_count": 29,
     "metadata": {},
     "output_type": "execute_result"
    }
   ],
   "source": [
    "X.shape"
   ]
  },
  {
   "cell_type": "code",
   "execution_count": 30,
   "id": "81286d69",
   "metadata": {},
   "outputs": [],
   "source": [
    "from sklearn.feature_selection import VarianceThreshold # Feature selector\n",
    "\n",
    "thresholder = VarianceThreshold(threshold=.2)\n",
    "X = thresholder.fit_transform(X)"
   ]
  },
  {
   "cell_type": "code",
   "execution_count": 31,
   "id": "16ac0da9",
   "metadata": {},
   "outputs": [
    {
     "data": {
      "text/plain": [
       "(71, 45)"
      ]
     },
     "execution_count": 31,
     "metadata": {},
     "output_type": "execute_result"
    }
   ],
   "source": [
    "X.shape"
   ]
  },
  {
   "cell_type": "code",
   "execution_count": 32,
   "id": "d36253aa",
   "metadata": {},
   "outputs": [
    {
     "name": "stdout",
     "output_type": "stream",
     "text": [
      "(56, 45)\n",
      "(15, 45)\n"
     ]
    }
   ],
   "source": [
    "from sklearn.model_selection import train_test_split \n",
    "\n",
    "#Split data for machine learning\n",
    "X_train, X_test, y_train, y_test = train_test_split(X,  y, test_size = 0.2 ,random_state = 2002)\n",
    "print(X_train.shape)\n",
    "print(X_test.shape)"
   ]
  },
  {
   "cell_type": "code",
   "execution_count": 33,
   "id": "b080bb72",
   "metadata": {},
   "outputs": [],
   "source": [
    "from sklearn.preprocessing import StandardScaler\n",
    "\n",
    "scaler = StandardScaler().fit(X_train)"
   ]
  },
  {
   "cell_type": "code",
   "execution_count": 34,
   "id": "229d2001",
   "metadata": {},
   "outputs": [
    {
     "data": {
      "text/plain": [
       "array([7.34839286e+02, 1.00000000e+00, 4.82142857e-01, 3.57142857e+00,\n",
       "       4.64285714e-01, 2.32142857e-01, 3.92857143e-01, 1.25000000e+00,\n",
       "       8.92857143e-01, 6.78571429e-01, 6.25000000e-01, 1.78571429e+00,\n",
       "       6.01785714e+00, 8.57142857e-01, 5.17857143e-01, 1.19642857e+00,\n",
       "       2.67857143e-01, 1.48214286e+00, 7.85714286e-01, 1.96428571e-01,\n",
       "       1.37500000e+00, 4.46428571e-01, 1.41071429e+00, 4.28571429e-01,\n",
       "       1.92857143e+00, 1.07142857e+00, 4.41071429e+00, 1.87500000e+00,\n",
       "       2.57142857e+00, 7.46428571e+00, 2.78571429e+00, 3.94642857e+00,\n",
       "       4.64285714e-01, 2.66071429e+00, 5.00000000e-01, 3.26785714e+00,\n",
       "       2.59821429e+01, 7.67857143e+00, 5.00000000e+00, 3.28571429e+00,\n",
       "       1.19642857e+00, 3.60714286e+00, 1.44642857e+00, 2.67857143e-01,\n",
       "       6.42857143e-01])"
      ]
     },
     "execution_count": 34,
     "metadata": {},
     "output_type": "execute_result"
    }
   ],
   "source": [
    "scaler.mean_"
   ]
  },
  {
   "cell_type": "code",
   "execution_count": 35,
   "id": "eda76151",
   "metadata": {},
   "outputs": [
    {
     "data": {
      "text/plain": [
       "array([8.74428584e+02, 2.52133751e+00, 1.33618689e+00, 6.04110072e+00,\n",
       "       2.07849779e+00, 9.99840549e-01, 1.31852964e+00, 2.49463711e+00,\n",
       "       3.02772057e+00, 1.94667430e+00, 2.03155904e+00, 3.17756806e+00,\n",
       "       9.61303258e+00, 2.59414569e+00, 1.79275398e+00, 2.14991398e+00,\n",
       "       6.67914436e-01, 1.98198198e+00, 3.08634253e+00, 7.65777916e-01,\n",
       "       3.85710152e+00, 2.14575697e+00, 3.19473219e+00, 1.56817846e+00,\n",
       "       4.09205302e+00, 2.73115061e+00, 5.38442458e+00, 2.92197646e+00,\n",
       "       5.15425325e+00, 1.15123603e+01, 6.52663304e+00, 8.26658429e+00,\n",
       "       9.99362041e-01, 4.31888207e+00, 2.01777813e+00, 7.27395322e+00,\n",
       "       2.81339215e+01, 1.19658848e+01, 6.17888108e+00, 4.58535824e+00,\n",
       "       1.65205114e+00, 4.30397894e+00, 2.98160816e+00, 4.42842742e-01,\n",
       "       4.79157424e-01])"
      ]
     },
     "execution_count": 35,
     "metadata": {},
     "output_type": "execute_result"
    }
   ],
   "source": [
    "scaler.scale_"
   ]
  },
  {
   "cell_type": "code",
   "execution_count": 36,
   "id": "cee1c6d0",
   "metadata": {},
   "outputs": [],
   "source": [
    "X_scaled = scaler.transform(X_train)"
   ]
  },
  {
   "cell_type": "code",
   "execution_count": 37,
   "id": "4facc6cd",
   "metadata": {},
   "outputs": [
    {
     "data": {
      "text/plain": [
       "array([[5.325e+03, 1.300e+01, 6.000e+00, ..., 0.000e+00, 0.000e+00,\n",
       "        0.000e+00],\n",
       "       [3.840e+02, 0.000e+00, 0.000e+00, ..., 1.000e+00, 0.000e+00,\n",
       "        1.000e+00],\n",
       "       [1.880e+03, 4.000e+00, 0.000e+00, ..., 6.000e+00, 0.000e+00,\n",
       "        1.000e+00],\n",
       "       ...,\n",
       "       [2.720e+02, 0.000e+00, 0.000e+00, ..., 0.000e+00, 0.000e+00,\n",
       "        1.000e+00],\n",
       "       [5.860e+02, 0.000e+00, 0.000e+00, ..., 2.000e+00, 0.000e+00,\n",
       "        1.000e+00],\n",
       "       [1.190e+02, 0.000e+00, 0.000e+00, ..., 1.000e+00, 1.000e+00,\n",
       "        0.000e+00]])"
      ]
     },
     "execution_count": 37,
     "metadata": {},
     "output_type": "execute_result"
    }
   ],
   "source": [
    "X_train"
   ]
  },
  {
   "cell_type": "code",
   "execution_count": 38,
   "id": "c84762ac",
   "metadata": {},
   "outputs": [
    {
     "data": {
      "text/plain": [
       "array([[ 5.24932601,  4.75937868,  4.12955491, ..., -0.48511692,\n",
       "        -0.60485838, -1.34164079],\n",
       "       [-0.4012212 , -0.39661489, -0.3608349 , ..., -0.14972744,\n",
       "        -0.60485838,  0.74535599],\n",
       "       [ 1.30961034,  1.18984467, -0.3608349 , ...,  1.52721994,\n",
       "        -0.60485838,  0.74535599],\n",
       "       ...,\n",
       "       [-0.52930484, -0.39661489, -0.3608349 , ..., -0.48511692,\n",
       "        -0.60485838,  0.74535599],\n",
       "       [-0.1702132 , -0.39661489, -0.3608349 , ...,  0.18566203,\n",
       "        -0.60485838,  0.74535599],\n",
       "       [-0.70427625, -0.39661489, -0.3608349 , ..., -0.14972744,\n",
       "         1.65327957, -1.34164079]])"
      ]
     },
     "execution_count": 38,
     "metadata": {},
     "output_type": "execute_result"
    }
   ],
   "source": [
    "X_scaled"
   ]
  },
  {
   "cell_type": "code",
   "execution_count": 39,
   "id": "19ce41ae",
   "metadata": {},
   "outputs": [
    {
     "data": {
      "text/html": [
       "<style>#sk-container-id-1 {color: black;}#sk-container-id-1 pre{padding: 0;}#sk-container-id-1 div.sk-toggleable {background-color: white;}#sk-container-id-1 label.sk-toggleable__label {cursor: pointer;display: block;width: 100%;margin-bottom: 0;padding: 0.3em;box-sizing: border-box;text-align: center;}#sk-container-id-1 label.sk-toggleable__label-arrow:before {content: \"▸\";float: left;margin-right: 0.25em;color: #696969;}#sk-container-id-1 label.sk-toggleable__label-arrow:hover:before {color: black;}#sk-container-id-1 div.sk-estimator:hover label.sk-toggleable__label-arrow:before {color: black;}#sk-container-id-1 div.sk-toggleable__content {max-height: 0;max-width: 0;overflow: hidden;text-align: left;background-color: #f0f8ff;}#sk-container-id-1 div.sk-toggleable__content pre {margin: 0.2em;color: black;border-radius: 0.25em;background-color: #f0f8ff;}#sk-container-id-1 input.sk-toggleable__control:checked~div.sk-toggleable__content {max-height: 200px;max-width: 100%;overflow: auto;}#sk-container-id-1 input.sk-toggleable__control:checked~label.sk-toggleable__label-arrow:before {content: \"▾\";}#sk-container-id-1 div.sk-estimator input.sk-toggleable__control:checked~label.sk-toggleable__label {background-color: #d4ebff;}#sk-container-id-1 div.sk-label input.sk-toggleable__control:checked~label.sk-toggleable__label {background-color: #d4ebff;}#sk-container-id-1 input.sk-hidden--visually {border: 0;clip: rect(1px 1px 1px 1px);clip: rect(1px, 1px, 1px, 1px);height: 1px;margin: -1px;overflow: hidden;padding: 0;position: absolute;width: 1px;}#sk-container-id-1 div.sk-estimator {font-family: monospace;background-color: #f0f8ff;border: 1px dotted black;border-radius: 0.25em;box-sizing: border-box;margin-bottom: 0.5em;}#sk-container-id-1 div.sk-estimator:hover {background-color: #d4ebff;}#sk-container-id-1 div.sk-parallel-item::after {content: \"\";width: 100%;border-bottom: 1px solid gray;flex-grow: 1;}#sk-container-id-1 div.sk-label:hover label.sk-toggleable__label {background-color: #d4ebff;}#sk-container-id-1 div.sk-serial::before {content: \"\";position: absolute;border-left: 1px solid gray;box-sizing: border-box;top: 0;bottom: 0;left: 50%;z-index: 0;}#sk-container-id-1 div.sk-serial {display: flex;flex-direction: column;align-items: center;background-color: white;padding-right: 0.2em;padding-left: 0.2em;position: relative;}#sk-container-id-1 div.sk-item {position: relative;z-index: 1;}#sk-container-id-1 div.sk-parallel {display: flex;align-items: stretch;justify-content: center;background-color: white;position: relative;}#sk-container-id-1 div.sk-item::before, #sk-container-id-1 div.sk-parallel-item::before {content: \"\";position: absolute;border-left: 1px solid gray;box-sizing: border-box;top: 0;bottom: 0;left: 50%;z-index: -1;}#sk-container-id-1 div.sk-parallel-item {display: flex;flex-direction: column;z-index: 1;position: relative;background-color: white;}#sk-container-id-1 div.sk-parallel-item:first-child::after {align-self: flex-end;width: 50%;}#sk-container-id-1 div.sk-parallel-item:last-child::after {align-self: flex-start;width: 50%;}#sk-container-id-1 div.sk-parallel-item:only-child::after {width: 0;}#sk-container-id-1 div.sk-dashed-wrapped {border: 1px dashed gray;margin: 0 0.4em 0.5em 0.4em;box-sizing: border-box;padding-bottom: 0.4em;background-color: white;}#sk-container-id-1 div.sk-label label {font-family: monospace;font-weight: bold;display: inline-block;line-height: 1.2em;}#sk-container-id-1 div.sk-label-container {text-align: center;}#sk-container-id-1 div.sk-container {/* jupyter's `normalize.less` sets `[hidden] { display: none; }` but bootstrap.min.css set `[hidden] { display: none !important; }` so we also need the `!important` here to be able to override the default hidden behavior on the sphinx rendered scikit-learn.org. See: https://github.com/scikit-learn/scikit-learn/issues/21755 */display: inline-block !important;position: relative;}#sk-container-id-1 div.sk-text-repr-fallback {display: none;}</style><div id=\"sk-container-id-1\" class=\"sk-top-container\"><div class=\"sk-text-repr-fallback\"><pre>LinearRegression()</pre><b>In a Jupyter environment, please rerun this cell to show the HTML representation or trust the notebook. <br />On GitHub, the HTML representation is unable to render, please try loading this page with nbviewer.org.</b></div><div class=\"sk-container\" hidden><div class=\"sk-item\"><div class=\"sk-estimator sk-toggleable\"><input class=\"sk-toggleable__control sk-hidden--visually\" id=\"sk-estimator-id-1\" type=\"checkbox\" checked><label for=\"sk-estimator-id-1\" class=\"sk-toggleable__label sk-toggleable__label-arrow\">LinearRegression</label><div class=\"sk-toggleable__content\"><pre>LinearRegression()</pre></div></div></div></div></div>"
      ],
      "text/plain": [
       "LinearRegression()"
      ]
     },
     "execution_count": 39,
     "metadata": {},
     "output_type": "execute_result"
    }
   ],
   "source": [
    "from sklearn.linear_model import LinearRegression \n",
    "\n",
    "lr = LinearRegression()\n",
    "lr.fit(X_scaled,y_train)"
   ]
  },
  {
   "cell_type": "code",
   "execution_count": 40,
   "id": "28734fe5",
   "metadata": {},
   "outputs": [
    {
     "data": {
      "text/plain": [
       "array([ 1.02332032e-14, -1.44045339e-14, -2.44564061e-14, -1.40628255e-14,\n",
       "        1.19349209e-15,  8.30694357e-15,  3.22868001e-14,  1.91783016e-14,\n",
       "        5.58976680e-15, -4.99556601e-14, -2.00913071e-15, -6.49906453e-15,\n",
       "       -4.23016518e-15, -2.52947747e-15,  1.20583095e-14,  1.46103472e-14,\n",
       "        5.92535903e-15, -4.89915568e-15, -6.88000160e-15,  1.56858111e-14,\n",
       "       -8.06762658e-15,  7.94561462e-16, -2.88722876e-14,  8.15760854e-15,\n",
       "       -2.23355592e-14, -1.12181660e-14, -1.19353394e-16,  5.71435038e-15,\n",
       "       -1.45024808e-14, -1.02193579e-15,  4.51335941e-17,  2.52723815e-15,\n",
       "        7.31669348e-15,  3.66871988e-15,  1.59886615e-15,  1.50188228e-15,\n",
       "        2.81339215e+01, -1.19658848e+01, -6.17888108e+00, -4.58535824e+00,\n",
       "       -1.65205114e+00, -4.30397894e+00, -2.98160816e+00,  4.90527727e-15,\n",
       "        5.80943174e-15])"
      ]
     },
     "execution_count": 40,
     "metadata": {},
     "output_type": "execute_result"
    }
   ],
   "source": [
    "lr.coef_"
   ]
  },
  {
   "cell_type": "code",
   "execution_count": 41,
   "id": "57e29bf8",
   "metadata": {},
   "outputs": [],
   "source": [
    "y_pred = lr.predict(X_test)"
   ]
  },
  {
   "cell_type": "code",
   "execution_count": 42,
   "id": "12a348e0",
   "metadata": {},
   "outputs": [
    {
     "data": {
      "text/plain": [
       "-45066.183733734906"
      ]
     },
     "execution_count": 42,
     "metadata": {},
     "output_type": "execute_result"
    }
   ],
   "source": [
    "from sklearn.metrics import r2_score\n",
    "\n",
    "r2_score(y_test, y_pred)"
   ]
  },
  {
   "cell_type": "code",
   "execution_count": 44,
   "id": "c2619606",
   "metadata": {},
   "outputs": [
    {
     "data": {
      "image/png": "[encoded data removed]",
      "text/plain": [
       "<Figure size 1200x600 with 1 Axes>"
      ]
     },
     "metadata": {},
     "output_type": "display_data"
    }
   ],
   "source": [
    "import matplotlib.pyplot as plt\n",
    "import seaborn as sns\n",
    "\n",
    "import warnings\n",
    "warnings.filterwarnings(\"ignore\", \"is_categorical_dtype\")\n",
    "warnings.filterwarnings(\"ignore\", \"use_inf_as_na\")\n",
    "\n",
    "plt.figure(figsize = (12,6))\n",
    "sns.scatterplot(x= y_test, y= y_pred)\n",
    "plt.xlim(0, 10)\n",
    "plt.ylim(0, 1000)\n",
    "plt.title(\"Predictions\")\n",
    "plt.xlabel(\"y_test\")\n",
    "plt.ylabel(\"y_pred\")\n",
    "plt.show()"
   ]
  },
  {
   "cell_type": "markdown",
   "id": "ab3edc83",
   "metadata": {},
   "source": [
    "# Vamos tentar de outra forma..."
   ]
  },
  {
   "cell_type": "code",
   "execution_count": 45,
   "id": "8780eab3",
   "metadata": {},
   "outputs": [],
   "source": [
    "# define a variável target e os predictors\n",
    "X_2nd = df1.drop(columns=['C31011'])\n",
    "y_2nd = df1['C31011'].values"
   ]
  },
  {
   "cell_type": "code",
   "execution_count": 46,
   "id": "6db72d97",
   "metadata": {},
   "outputs": [],
   "source": [
    "## Typecast da coluna para categoria em pandas\n",
    "X_2nd['NUTS2'] = pd.Categorical(X_2nd.NUTS2)\n",
    "# cria variáveis dummy e faz drop da baseline\n",
    "X_2nd = pd.get_dummies(X_2nd, drop_first = True)"
   ]
  },
  {
   "cell_type": "code",
   "execution_count": 47,
   "id": "bc0cd798",
   "metadata": {
    "scrolled": true
   },
   "outputs": [
    {
     "name": "stdout",
     "output_type": "stream",
     "text": [
      "(56, 54)\n",
      "(15, 54)\n"
     ]
    }
   ],
   "source": [
    "#Split data for machine learning\n",
    "X_2nd_train, X_2nd_test, y_2nd_train, y_2nd_test = train_test_split(X_2nd,  y_2nd, test_size = 0.2 ,random_state = 2002)\n",
    "print(X_2nd_train.shape)\n",
    "print(X_2nd_test.shape)"
   ]
  },
  {
   "cell_type": "code",
   "execution_count": 48,
   "id": "b44d3834",
   "metadata": {},
   "outputs": [
    {
     "data": {
      "text/html": [
       "<style>#sk-container-id-2 {color: black;}#sk-container-id-2 pre{padding: 0;}#sk-container-id-2 div.sk-toggleable {background-color: white;}#sk-container-id-2 label.sk-toggleable__label {cursor: pointer;display: block;width: 100%;margin-bottom: 0;padding: 0.3em;box-sizing: border-box;text-align: center;}#sk-container-id-2 label.sk-toggleable__label-arrow:before {content: \"▸\";float: left;margin-right: 0.25em;color: #696969;}#sk-container-id-2 label.sk-toggleable__label-arrow:hover:before {color: black;}#sk-container-id-2 div.sk-estimator:hover label.sk-toggleable__label-arrow:before {color: black;}#sk-container-id-2 div.sk-toggleable__content {max-height: 0;max-width: 0;overflow: hidden;text-align: left;background-color: #f0f8ff;}#sk-container-id-2 div.sk-toggleable__content pre {margin: 0.2em;color: black;border-radius: 0.25em;background-color: #f0f8ff;}#sk-container-id-2 input.sk-toggleable__control:checked~div.sk-toggleable__content {max-height: 200px;max-width: 100%;overflow: auto;}#sk-container-id-2 input.sk-toggleable__control:checked~label.sk-toggleable__label-arrow:before {content: \"▾\";}#sk-container-id-2 div.sk-estimator input.sk-toggleable__control:checked~label.sk-toggleable__label {background-color: #d4ebff;}#sk-container-id-2 div.sk-label input.sk-toggleable__control:checked~label.sk-toggleable__label {background-color: #d4ebff;}#sk-container-id-2 input.sk-hidden--visually {border: 0;clip: rect(1px 1px 1px 1px);clip: rect(1px, 1px, 1px, 1px);height: 1px;margin: -1px;overflow: hidden;padding: 0;position: absolute;width: 1px;}#sk-container-id-2 div.sk-estimator {font-family: monospace;background-color: #f0f8ff;border: 1px dotted black;border-radius: 0.25em;box-sizing: border-box;margin-bottom: 0.5em;}#sk-container-id-2 div.sk-estimator:hover {background-color: #d4ebff;}#sk-container-id-2 div.sk-parallel-item::after {content: \"\";width: 100%;border-bottom: 1px solid gray;flex-grow: 1;}#sk-container-id-2 div.sk-label:hover label.sk-toggleable__label {background-color: #d4ebff;}#sk-container-id-2 div.sk-serial::before {content: \"\";position: absolute;border-left: 1px solid gray;box-sizing: border-box;top: 0;bottom: 0;left: 50%;z-index: 0;}#sk-container-id-2 div.sk-serial {display: flex;flex-direction: column;align-items: center;background-color: white;padding-right: 0.2em;padding-left: 0.2em;position: relative;}#sk-container-id-2 div.sk-item {position: relative;z-index: 1;}#sk-container-id-2 div.sk-parallel {display: flex;align-items: stretch;justify-content: center;background-color: white;position: relative;}#sk-container-id-2 div.sk-item::before, #sk-container-id-2 div.sk-parallel-item::before {content: \"\";position: absolute;border-left: 1px solid gray;box-sizing: border-box;top: 0;bottom: 0;left: 50%;z-index: -1;}#sk-container-id-2 div.sk-parallel-item {display: flex;flex-direction: column;z-index: 1;position: relative;background-color: white;}#sk-container-id-2 div.sk-parallel-item:first-child::after {align-self: flex-end;width: 50%;}#sk-container-id-2 div.sk-parallel-item:last-child::after {align-self: flex-start;width: 50%;}#sk-container-id-2 div.sk-parallel-item:only-child::after {width: 0;}#sk-container-id-2 div.sk-dashed-wrapped {border: 1px dashed gray;margin: 0 0.4em 0.5em 0.4em;box-sizing: border-box;padding-bottom: 0.4em;background-color: white;}#sk-container-id-2 div.sk-label label {font-family: monospace;font-weight: bold;display: inline-block;line-height: 1.2em;}#sk-container-id-2 div.sk-label-container {text-align: center;}#sk-container-id-2 div.sk-container {/* jupyter's `normalize.less` sets `[hidden] { display: none; }` but bootstrap.min.css set `[hidden] { display: none !important; }` so we also need the `!important` here to be able to override the default hidden behavior on the sphinx rendered scikit-learn.org. See: https://github.com/scikit-learn/scikit-learn/issues/21755 */display: inline-block !important;position: relative;}#sk-container-id-2 div.sk-text-repr-fallback {display: none;}</style><div id=\"sk-container-id-2\" class=\"sk-top-container\"><div class=\"sk-text-repr-fallback\"><pre>LinearRegression()</pre><b>In a Jupyter environment, please rerun this cell to show the HTML representation or trust the notebook. <br />On GitHub, the HTML representation is unable to render, please try loading this page with nbviewer.org.</b></div><div class=\"sk-container\" hidden><div class=\"sk-item\"><div class=\"sk-estimator sk-toggleable\"><input class=\"sk-toggleable__control sk-hidden--visually\" id=\"sk-estimator-id-2\" type=\"checkbox\" checked><label for=\"sk-estimator-id-2\" class=\"sk-toggleable__label sk-toggleable__label-arrow\">LinearRegression</label><div class=\"sk-toggleable__content\"><pre>LinearRegression()</pre></div></div></div></div></div>"
      ],
      "text/plain": [
       "LinearRegression()"
      ]
     },
     "execution_count": 48,
     "metadata": {},
     "output_type": "execute_result"
    }
   ],
   "source": [
    "lr2 = LinearRegression()\n",
    "lr2.fit(X_2nd_train,y_2nd_train)"
   ]
  },
  {
   "cell_type": "code",
   "execution_count": 49,
   "id": "c435ae6f",
   "metadata": {},
   "outputs": [
    {
     "data": {
      "text/plain": [
       "array([-1.94368049e-16,  1.15740750e-14,  3.65124597e-14, -5.35682609e-14,\n",
       "        4.23966418e-14,  1.88377092e-13, -1.38195011e-12, -2.77805556e-13,\n",
       "        1.91402449e-13,  2.22044605e-15,  4.28074243e-13, -3.64153152e-14,\n",
       "       -6.58084698e-14, -6.10952261e-13,  8.82627305e-15, -8.14626144e-15,\n",
       "        3.89965837e-14,  2.38975506e-14, -5.86435414e-13, -1.49324997e-13,\n",
       "       -5.03069808e-16,  5.49560397e-15, -6.99412750e-13,  8.01858580e-14,\n",
       "        4.98212582e-13, -1.86101135e-14, -2.15188978e-13,  7.42461648e-16,\n",
       "       -2.53824739e-14,  8.99280650e-15,  1.99840144e-15,  3.91700561e-14,\n",
       "       -3.00454106e-15,  1.96093142e-14, -6.99440506e-15,  4.83502127e-14,\n",
       "        1.44051437e-14,  2.33799091e-13, -5.55111512e-17,  7.66053887e-15,\n",
       "        1.00000000e+00, -1.00000000e+00, -1.00000000e+00, -1.00000000e+00,\n",
       "       -1.00000000e+00, -1.00000000e+00, -1.00000000e+00, -1.99840144e-15,\n",
       "        2.41404119e-14,  4.50056659e-14, -1.65222003e-13,  3.51866106e-13,\n",
       "       -2.44946424e-12,  1.95815586e-14])"
      ]
     },
     "execution_count": 49,
     "metadata": {},
     "output_type": "execute_result"
    }
   ],
   "source": [
    "lr2.coef_"
   ]
  },
  {
   "cell_type": "code",
   "execution_count": 50,
   "id": "6e1c5e2c",
   "metadata": {},
   "outputs": [],
   "source": [
    "y_2nd_pred = lr2.predict(X_2nd_test)"
   ]
  },
  {
   "cell_type": "code",
   "execution_count": 51,
   "id": "8a08ff7e",
   "metadata": {},
   "outputs": [
    {
     "data": {
      "image/png": "[encoded data removed]",
      "text/plain": [
       "<Figure size 1200x600 with 1 Axes>"
      ]
     },
     "metadata": {},
     "output_type": "display_data"
    }
   ],
   "source": [
    "# we choose the x axis as index, chossing year will give a discrete plot\n",
    "plt.figure(figsize = (12,6))\n",
    "sns.scatterplot(x= y_2nd_test, y= y_2nd_pred)\n",
    "plt.xlim(-2, 20)\n",
    "plt.ylim(-2, 20)\n",
    "plt.title(\"Predictions\")\n",
    "plt.xlabel(\"y_test\")\n",
    "plt.ylabel(\"y_pred\")\n",
    "plt.show()"
   ]
  },
  {
   "cell_type": "code",
   "execution_count": 52,
   "id": "8bb34dae",
   "metadata": {},
   "outputs": [
    {
     "data": {
      "text/plain": [
       "array([ 0.,  4.,  0.,  0.,  8.,  2.,  0.,  1.,  0.,  2.,  8., 12.,  0.,\n",
       "        0.,  4.])"
      ]
     },
     "execution_count": 52,
     "metadata": {},
     "output_type": "execute_result"
    }
   ],
   "source": [
    "y_2nd_test"
   ]
  },
  {
   "cell_type": "code",
   "execution_count": 53,
   "id": "6f555ec7",
   "metadata": {},
   "outputs": [
    {
     "data": {
      "text/plain": [
       "array([-1.40554235e-13,  4.00000000e+00, -4.72538675e-15, -2.49509441e-12,\n",
       "        8.00000000e+00,  2.00000000e+00, -4.27435864e-14,  1.00000000e+00,\n",
       "        4.87725222e-15,  2.00000000e+00,  8.00000000e+00,  1.20000000e+01,\n",
       "        4.03843625e-14,  2.20386234e-14,  4.00000000e+00])"
      ]
     },
     "execution_count": 53,
     "metadata": {},
     "output_type": "execute_result"
    }
   ],
   "source": [
    "y_2nd_pred"
   ]
  },
  {
   "cell_type": "code",
   "execution_count": 54,
   "id": "5005679b",
   "metadata": {},
   "outputs": [
    {
     "data": {
      "text/plain": [
       "1.0"
      ]
     },
     "execution_count": 54,
     "metadata": {},
     "output_type": "execute_result"
    }
   ],
   "source": [
    "r2_score(y_2nd_test, y_2nd_pred)"
   ]
  },
  {
   "cell_type": "markdown",
   "id": "26252847",
   "metadata": {},
   "source": [
    "# C31001 :)"
   ]
  },
  {
   "cell_type": "code",
   "execution_count": 55,
   "id": "2bea87cf",
   "metadata": {},
   "outputs": [],
   "source": [
    "# define a variável target e os predictors\n",
    "X_3rd = df1.drop(columns=['C31011', 'C31001'])\n",
    "y_3rd = df1['C31011'].values"
   ]
  },
  {
   "cell_type": "code",
   "execution_count": 56,
   "id": "bb2b79d4",
   "metadata": {},
   "outputs": [],
   "source": [
    "## Typecast da coluna para categoria em pandas\n",
    "X_3rd['NUTS2'] = pd.Categorical(X_3rd.NUTS2)\n",
    "# cria variáveis dummy e faz drop da baseline\n",
    "X_3rd = pd.get_dummies(X_3rd, drop_first = True)"
   ]
  },
  {
   "cell_type": "code",
   "execution_count": 57,
   "id": "087a3fc9",
   "metadata": {},
   "outputs": [
    {
     "name": "stdout",
     "output_type": "stream",
     "text": [
      "(56, 53)\n",
      "(15, 53)\n"
     ]
    }
   ],
   "source": [
    "#Split data for machine learning\n",
    "X_3rd_train, X_3rd_test, y_3rd_train, y_3rd_test = train_test_split(X_3rd,  y_3rd, test_size = 0.2 ,random_state = 2002)\n",
    "print(X_3rd_train.shape)\n",
    "print(X_3rd_test.shape)"
   ]
  },
  {
   "cell_type": "code",
   "execution_count": 58,
   "id": "cfabc7cf",
   "metadata": {},
   "outputs": [
    {
     "data": {
      "text/plain": [
       "array([-2.89065165e-03,  5.41320479e+00,  7.52508894e+00, -2.51991314e+00,\n",
       "       -1.38806027e+00,  3.89513026e+01, -6.38321113e+01, -1.85914497e+01,\n",
       "        1.39598080e+01,  1.13122965e-01,  2.48179866e+01,  2.76124915e+00,\n",
       "       -9.72914071e+00,  1.57918396e+01,  8.85392279e-01,  1.35181584e+00,\n",
       "        1.49772845e-01,  1.77607406e+00, -2.73519188e+01, -1.50593912e+01,\n",
       "        1.73988830e-01,  1.28398713e+00, -1.93473069e+01,  3.98023055e+00,\n",
       "        1.29523386e+01, -3.31543616e+00, -1.49145538e+01, -3.28300461e-02,\n",
       "       -2.80431048e+00,  7.84716044e-01,  1.85229891e+00,  2.71964178e+00,\n",
       "       -2.34258012e-01,  9.26484042e-01, -4.03718916e-01, -8.32495907e-01,\n",
       "        1.32607411e+00, -1.49737685e+00, -3.09974268e-13,  5.15923351e-01,\n",
       "       -8.48951953e-01, -1.25860009e-01,  1.97142581e-01, -2.58385488e-01,\n",
       "       -4.37086520e-02, -1.17080763e-01, -3.85317775e+00,  4.22138930e-01,\n",
       "        1.70055611e+00, -7.94168448e+00,  8.94329198e+00, -1.63172288e+02,\n",
       "        1.23030119e+00])"
      ]
     },
     "execution_count": 58,
     "metadata": {},
     "output_type": "execute_result"
    }
   ],
   "source": [
    "lr3 = LinearRegression()\n",
    "lr3.fit(X_3rd_train,y_3rd_train)\n",
    "lr3.coef_"
   ]
  },
  {
   "cell_type": "code",
   "execution_count": 59,
   "id": "a5a09a38",
   "metadata": {},
   "outputs": [],
   "source": [
    "y_3rd_pred = lr3.predict(X_3rd_test)"
   ]
  },
  {
   "cell_type": "markdown",
   "id": "778d7ee9",
   "metadata": {},
   "source": [
    "# 9. Avaliação de Modelos de Regressão"
   ]
  },
  {
   "cell_type": "code",
   "execution_count": 60,
   "id": "806243e8",
   "metadata": {},
   "outputs": [],
   "source": [
    "from sklearn.metrics import r2_score, mean_squared_error, mean_absolute_error, median_absolute_error"
   ]
  },
  {
   "cell_type": "code",
   "execution_count": 61,
   "id": "e729402f",
   "metadata": {},
   "outputs": [
    {
     "name": "stdout",
     "output_type": "stream",
     "text": [
      "                   MAE             MSE           RMSE          MedAE         R2\n",
      "     1ª Tentativa 553.426660102 603699.9634376756 776.98131473 364.80029201 -45066.18373373\n",
      "     2º Tentativa: 0.000000000001 0.0000000000 0.0000000000 0.0000000000 1.000000000000\n",
      "     3º Tentativa: 48.28875523857 10947.82465799 104.63185298 5.86979198 -816.27290911\n"
     ]
    }
   ],
   "source": [
    "print(\"                   MAE             MSE           RMSE          MedAE         R2\")\n",
    "print(\"     1ª Tentativa {:.12} {:.10f} {:.8f} {:.8f} {:.8f}\"\n",
    "        .format(mean_absolute_error(y_test, y_pred),\n",
    "                mean_squared_error(y_test,y_pred),\n",
    "                mean_squared_error(y_test,y_pred,squared=False),\n",
    "                median_absolute_error(y_test,y_pred),\n",
    "                r2_score(y_test,y_pred)))\n",
    "print(\"     2º Tentativa: {:.12f} {:.10f} {:.10f} {:.10f} {:.12f}\"\n",
    "        .format(mean_absolute_error(y_2nd_test, y_2nd_pred),\n",
    "                mean_squared_error(y_2nd_test,y_2nd_pred),\n",
    "                mean_squared_error(y_2nd_test,y_2nd_pred,squared=False),\n",
    "                median_absolute_error(y_2nd_test,y_2nd_pred),\n",
    "                r2_score(y_2nd_test,y_2nd_pred)))\n",
    "print(\"     3º Tentativa: {:.11f} {:.8f} {:.8f} {:.8f} {:.8f}\"\n",
    "        .format(mean_absolute_error(y_3rd_test, y_3rd_pred),\n",
    "                mean_squared_error(y_3rd_test,y_3rd_pred),\n",
    "                mean_squared_error(y_3rd_test,y_3rd_pred,squared=False),\n",
    "                median_absolute_error(y_3rd_test,y_3rd_pred),\n",
    "                r2_score(y_3rd_test,y_3rd_pred)))"
   ]
  },
  {
   "cell_type": "markdown",
   "id": "d5f6cc86",
   "metadata": {},
   "source": [
    "# Gravar o modelo"
   ]
  },
  {
   "cell_type": "code",
   "execution_count": 62,
   "id": "3a369388",
   "metadata": {},
   "outputs": [],
   "source": [
    "import pickle\n",
    "\n",
    "# escolher o nome do ficheiro\n",
    "filename = \"linearRegression_SK.pickle\"\n",
    "\n",
    "# gravar o modelo\n",
    "pickle.dump(lr3, open(filename, \"wb\"))"
   ]
  },
  {
   "cell_type": "code",
   "execution_count": 63,
   "id": "6d219c0f",
   "metadata": {},
   "outputs": [],
   "source": [
    "# fazer load do modelo\n",
    "loaded_model = pickle.load(open(filename, \"rb\"))"
   ]
  },
  {
   "cell_type": "code",
   "execution_count": 64,
   "id": "265281e8",
   "metadata": {},
   "outputs": [
    {
     "data": {
      "text/html": [
       "<style>#sk-container-id-3 {color: black;}#sk-container-id-3 pre{padding: 0;}#sk-container-id-3 div.sk-toggleable {background-color: white;}#sk-container-id-3 label.sk-toggleable__label {cursor: pointer;display: block;width: 100%;margin-bottom: 0;padding: 0.3em;box-sizing: border-box;text-align: center;}#sk-container-id-3 label.sk-toggleable__label-arrow:before {content: \"▸\";float: left;margin-right: 0.25em;color: #696969;}#sk-container-id-3 label.sk-toggleable__label-arrow:hover:before {color: black;}#sk-container-id-3 div.sk-estimator:hover label.sk-toggleable__label-arrow:before {color: black;}#sk-container-id-3 div.sk-toggleable__content {max-height: 0;max-width: 0;overflow: hidden;text-align: left;background-color: #f0f8ff;}#sk-container-id-3 div.sk-toggleable__content pre {margin: 0.2em;color: black;border-radius: 0.25em;background-color: #f0f8ff;}#sk-container-id-3 input.sk-toggleable__control:checked~div.sk-toggleable__content {max-height: 200px;max-width: 100%;overflow: auto;}#sk-container-id-3 input.sk-toggleable__control:checked~label.sk-toggleable__label-arrow:before {content: \"▾\";}#sk-container-id-3 div.sk-estimator input.sk-toggleable__control:checked~label.sk-toggleable__label {background-color: #d4ebff;}#sk-container-id-3 div.sk-label input.sk-toggleable__control:checked~label.sk-toggleable__label {background-color: #d4ebff;}#sk-container-id-3 input.sk-hidden--visually {border: 0;clip: rect(1px 1px 1px 1px);clip: rect(1px, 1px, 1px, 1px);height: 1px;margin: -1px;overflow: hidden;padding: 0;position: absolute;width: 1px;}#sk-container-id-3 div.sk-estimator {font-family: monospace;background-color: #f0f8ff;border: 1px dotted black;border-radius: 0.25em;box-sizing: border-box;margin-bottom: 0.5em;}#sk-container-id-3 div.sk-estimator:hover {background-color: #d4ebff;}#sk-container-id-3 div.sk-parallel-item::after {content: \"\";width: 100%;border-bottom: 1px solid gray;flex-grow: 1;}#sk-container-id-3 div.sk-label:hover label.sk-toggleable__label {background-color: #d4ebff;}#sk-container-id-3 div.sk-serial::before {content: \"\";position: absolute;border-left: 1px solid gray;box-sizing: border-box;top: 0;bottom: 0;left: 50%;z-index: 0;}#sk-container-id-3 div.sk-serial {display: flex;flex-direction: column;align-items: center;background-color: white;padding-right: 0.2em;padding-left: 0.2em;position: relative;}#sk-container-id-3 div.sk-item {position: relative;z-index: 1;}#sk-container-id-3 div.sk-parallel {display: flex;align-items: stretch;justify-content: center;background-color: white;position: relative;}#sk-container-id-3 div.sk-item::before, #sk-container-id-3 div.sk-parallel-item::before {content: \"\";position: absolute;border-left: 1px solid gray;box-sizing: border-box;top: 0;bottom: 0;left: 50%;z-index: -1;}#sk-container-id-3 div.sk-parallel-item {display: flex;flex-direction: column;z-index: 1;position: relative;background-color: white;}#sk-container-id-3 div.sk-parallel-item:first-child::after {align-self: flex-end;width: 50%;}#sk-container-id-3 div.sk-parallel-item:last-child::after {align-self: flex-start;width: 50%;}#sk-container-id-3 div.sk-parallel-item:only-child::after {width: 0;}#sk-container-id-3 div.sk-dashed-wrapped {border: 1px dashed gray;margin: 0 0.4em 0.5em 0.4em;box-sizing: border-box;padding-bottom: 0.4em;background-color: white;}#sk-container-id-3 div.sk-label label {font-family: monospace;font-weight: bold;display: inline-block;line-height: 1.2em;}#sk-container-id-3 div.sk-label-container {text-align: center;}#sk-container-id-3 div.sk-container {/* jupyter's `normalize.less` sets `[hidden] { display: none; }` but bootstrap.min.css set `[hidden] { display: none !important; }` so we also need the `!important` here to be able to override the default hidden behavior on the sphinx rendered scikit-learn.org. See: https://github.com/scikit-learn/scikit-learn/issues/21755 */display: inline-block !important;position: relative;}#sk-container-id-3 div.sk-text-repr-fallback {display: none;}</style><div id=\"sk-container-id-3\" class=\"sk-top-container\"><div class=\"sk-text-repr-fallback\"><pre>LinearRegression()</pre><b>In a Jupyter environment, please rerun this cell to show the HTML representation or trust the notebook. <br />On GitHub, the HTML representation is unable to render, please try loading this page with nbviewer.org.</b></div><div class=\"sk-container\" hidden><div class=\"sk-item\"><div class=\"sk-estimator sk-toggleable\"><input class=\"sk-toggleable__control sk-hidden--visually\" id=\"sk-estimator-id-3\" type=\"checkbox\" checked><label for=\"sk-estimator-id-3\" class=\"sk-toggleable__label sk-toggleable__label-arrow\">LinearRegression</label><div class=\"sk-toggleable__content\"><pre>LinearRegression()</pre></div></div></div></div></div>"
      ],
      "text/plain": [
       "LinearRegression()"
      ]
     },
     "execution_count": 64,
     "metadata": {},
     "output_type": "execute_result"
    }
   ],
   "source": [
    "loaded_model"
   ]
  },
  {
   "cell_type": "code",
   "execution_count": null,
   "id": "62e80d7b",
   "metadata": {},
   "outputs": [],
   "source": []
  },
  {
   "cell_type": "code",
   "execution_count": null,
   "id": "5bd3d33d",
   "metadata": {},
   "outputs": [],
   "source": []
  }
 ],
 "metadata": {
  "kernelspec": {
   "display_name": "Python 3 (ipykernel)",
   "language": "python",
   "name": "python3"
  },
  "language_info": {
   "codemirror_mode": {
    "name": "ipython",
    "version": 3
   },
   "file_extension": ".py",
   "mimetype": "text/x-python",
   "name": "python",
   "nbconvert_exporter": "python",
   "pygments_lexer": "ipython3",
   "version": "3.11.5"
  }
 },
 "nbformat": 4,
 "nbformat_minor": 5
}
