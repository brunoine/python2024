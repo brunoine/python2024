{
 "cells": [
  {
   "cell_type": "markdown",
   "id": "1a637fa2",
   "metadata": {},
   "source": [
    "# 7. Cross Validation\n",
    "\n",
    "Validação cruzada (CV) é uma técnica usada em Machine Learning para avaliar a capacidade de generalização e o desempenho de um modelo de ML.<br><br>\n",
    "Isto envolve a criação de vários subconjuntos de dados com:\n",
    "- apenas um data point, \n",
    "- ou p data points,\n",
    "- ou k blocos <br>\n",
    "\n",
    "que abranjam a totalidade dos dados e a execução iterativa de treino e avaliação de modelos nos diferentes conjuntos de dados de treino e teste em cada execução. \n",
    "Os resultados obtidos são depois agrupados."
   ]
  },
  {
   "cell_type": "markdown",
   "id": "11426e62",
   "metadata": {},
   "source": [
    "## 7.1 Hold-Out"
   ]
  },
  {
   "cell_type": "code",
   "execution_count": 1,
   "id": "3506240f",
   "metadata": {},
   "outputs": [
    {
     "data": {
      "text/plain": [
       "(150, 4)"
      ]
     },
     "execution_count": 1,
     "metadata": {},
     "output_type": "execute_result"
    }
   ],
   "source": [
    "from sklearn import datasets\n",
    "from sklearn.tree import DecisionTreeClassifier\n",
    "from sklearn.model_selection import train_test_split\n",
    "\n",
    "# Load the X and y data from the iris dataset\n",
    "iris = datasets.load_iris()\n",
    "X = iris.data\n",
    "y = iris.target\n",
    "\n",
    "X.shape"
   ]
  },
  {
   "cell_type": "code",
   "execution_count": 2,
   "id": "42eefe8d",
   "metadata": {},
   "outputs": [
    {
     "data": {
      "text/plain": [
       "(97, 4)"
      ]
     },
     "execution_count": 2,
     "metadata": {},
     "output_type": "execute_result"
    }
   ],
   "source": [
    "X_train, X_test, y_train, y_test = train_test_split(X,y,test_size=0.35,random_state=2023)\n",
    "X_train.shape"
   ]
  },
  {
   "cell_type": "code",
   "execution_count": 3,
   "id": "1ded42f2",
   "metadata": {},
   "outputs": [
    {
     "data": {
      "text/plain": [
       "0.9622641509433962"
      ]
     },
     "execution_count": 3,
     "metadata": {},
     "output_type": "execute_result"
    }
   ],
   "source": [
    "model=DecisionTreeClassifier()\n",
    "model.fit(X_train,y_train)\n",
    "mod_score = model.score( X_test, y_test)\n",
    "mod_score"
   ]
  },
  {
   "cell_type": "markdown",
   "id": "ba05de69",
   "metadata": {},
   "source": [
    "## 7.2 Leave-One-Out"
   ]
  },
  {
   "cell_type": "markdown",
   "id": "5af6dd4c",
   "metadata": {},
   "source": [
    "### 7.2.1 Verifica as partições"
   ]
  },
  {
   "cell_type": "code",
   "execution_count": 4,
   "id": "11b00910",
   "metadata": {},
   "outputs": [
    {
     "name": "stdout",
     "output_type": "stream",
     "text": [
      "LeaveOneOut()\n",
      "Fold 0:\n",
      "  Train: index=[1 2 3]\n",
      "  Test:  index=[0]\n",
      "Fold 1:\n",
      "  Train: index=[0 2 3]\n",
      "  Test:  index=[1]\n",
      "Fold 2:\n",
      "  Train: index=[0 1 3]\n",
      "  Test:  index=[2]\n",
      "Fold 3:\n",
      "  Train: index=[0 1 2]\n",
      "  Test:  index=[3]\n"
     ]
    }
   ],
   "source": [
    "import numpy as np\n",
    "from sklearn.model_selection import LeaveOneOut\n",
    "\n",
    "X = np.array([[1, 2], [3, 4], [5, 6], [7, 8]])\n",
    "y = np.array([1, 2, 3, 4])\n",
    "\n",
    "loo = LeaveOneOut()\n",
    "# métodos que dá o número de splits para cross validadtion\n",
    "loo.get_n_splits(X)\n",
    "\n",
    "print(loo)\n",
    "\n",
    "# a função split faz os splits\n",
    "for i, (train_index, test_index) in enumerate(loo.split(X)):\n",
    "    print(f\"Fold {i}:\")\n",
    "    print(f\"  Train: index={train_index}\")\n",
    "    print(f\"  Test:  index={test_index}\")"
   ]
  },
  {
   "cell_type": "markdown",
   "id": "c8772069",
   "metadata": {},
   "source": [
    "### 7.2.2 Exemplo para calcular Score"
   ]
  },
  {
   "cell_type": "code",
   "execution_count": 5,
   "id": "17df1fd2",
   "metadata": {},
   "outputs": [
    {
     "data": {
      "text/plain": [
       "(150, 4)"
      ]
     },
     "execution_count": 5,
     "metadata": {},
     "output_type": "execute_result"
    }
   ],
   "source": [
    "import numpy as np\n",
    "from sklearn import datasets\n",
    "from sklearn.model_selection import LeaveOneOut\n",
    "from sklearn.tree import DecisionTreeClassifier\n",
    "from sklearn.model_selection import cross_val_score\n",
    "\n",
    "# Load the X and y data from the iris dataset\n",
    "iris = datasets.load_iris()\n",
    "X = iris.data\n",
    "y = iris.target\n",
    "\n",
    "X.shape"
   ]
  },
  {
   "cell_type": "code",
   "execution_count": 6,
   "id": "69f4d7f4",
   "metadata": {},
   "outputs": [
    {
     "data": {
      "text/plain": [
       "LeaveOneOut()"
      ]
     },
     "execution_count": 6,
     "metadata": {},
     "output_type": "execute_result"
    }
   ],
   "source": [
    "model = DecisionTreeClassifier()\n",
    "\n",
    "leave_val = LeaveOneOut()\n",
    "leave_val"
   ]
  },
  {
   "cell_type": "code",
   "execution_count": 7,
   "id": "b1047713",
   "metadata": {},
   "outputs": [
    {
     "data": {
      "text/plain": [
       "array([1., 1., 1., 1., 1., 1., 1., 1., 1., 1., 1., 1., 1., 1., 1., 1., 1.,\n",
       "       1., 1., 1., 1., 1., 1., 1., 1., 1., 1., 1., 1., 1., 1., 1., 1., 1.,\n",
       "       1., 1., 1., 1., 1., 1., 1., 1., 1., 1., 1., 1., 1., 1., 1., 1., 1.,\n",
       "       1., 1., 1., 1., 1., 1., 0., 1., 1., 1., 1., 1., 1., 1., 1., 1., 1.,\n",
       "       1., 1., 0., 1., 1., 1., 1., 1., 1., 0., 1., 1., 1., 1., 1., 0., 1.,\n",
       "       1., 1., 1., 1., 1., 1., 1., 1., 1., 1., 1., 1., 1., 1., 1., 1., 1.,\n",
       "       1., 1., 1., 1., 0., 1., 1., 1., 1., 1., 1., 1., 1., 1., 1., 1., 1.,\n",
       "       0., 1., 1., 1., 1., 1., 1., 1., 1., 1., 0., 1., 1., 1., 0., 1., 1.,\n",
       "       1., 1., 0., 1., 1., 1., 1., 1., 1., 1., 1., 1., 1., 1.])"
      ]
     },
     "execution_count": 7,
     "metadata": {},
     "output_type": "execute_result"
    }
   ],
   "source": [
    "mod_score = cross_val_score( model, X, y, cv = leave_val)\n",
    "mod_score"
   ]
  },
  {
   "cell_type": "code",
   "execution_count": 8,
   "id": "cf2c5b07",
   "metadata": {},
   "outputs": [
    {
     "name": "stdout",
     "output_type": "stream",
     "text": [
      "0.94\n"
     ]
    }
   ],
   "source": [
    "print(np.mean(mod_score))"
   ]
  },
  {
   "cell_type": "markdown",
   "id": "6d9dc0ff",
   "metadata": {},
   "source": [
    "## 7.3 Leave-P-Out"
   ]
  },
  {
   "cell_type": "markdown",
   "id": "f3559993",
   "metadata": {},
   "source": [
    "### 7.3.1 Verifica as partições"
   ]
  },
  {
   "cell_type": "code",
   "execution_count": 9,
   "id": "00509328",
   "metadata": {},
   "outputs": [
    {
     "name": "stdout",
     "output_type": "stream",
     "text": [
      "LeavePOut(p=2)\n",
      "Fold 0:\n",
      "  Train: index=[2 3]\n",
      "  Test:  index=[0 1]\n",
      "Fold 1:\n",
      "  Train: index=[1 3]\n",
      "  Test:  index=[0 2]\n",
      "Fold 2:\n",
      "  Train: index=[1 2]\n",
      "  Test:  index=[0 3]\n",
      "Fold 3:\n",
      "  Train: index=[0 3]\n",
      "  Test:  index=[1 2]\n",
      "Fold 4:\n",
      "  Train: index=[0 2]\n",
      "  Test:  index=[1 3]\n",
      "Fold 5:\n",
      "  Train: index=[0 1]\n",
      "  Test:  index=[2 3]\n"
     ]
    }
   ],
   "source": [
    "import numpy as np\n",
    "from sklearn.model_selection import LeavePOut\n",
    "\n",
    "X = np.array([[1, 2], [3, 4], [5, 6], [7, 8]])\n",
    "y = np.array([1, 2, 3, 4])\n",
    "\n",
    "lpo = LeavePOut(2)\n",
    "# métodos que dá o número de splits para cross validadtion\n",
    "lpo.get_n_splits(X)\n",
    "\n",
    "print(lpo)\n",
    "\n",
    "# a função split faz os splits\n",
    "for i, (train_index, test_index) in enumerate(lpo.split(X)):\n",
    "    print(f\"Fold {i}:\")\n",
    "    print(f\"  Train: index={train_index}\")\n",
    "    print(f\"  Test:  index={test_index}\")"
   ]
  },
  {
   "cell_type": "markdown",
   "id": "009c0502",
   "metadata": {},
   "source": [
    "### 7.3.2 Exemplo para calcular Score"
   ]
  },
  {
   "cell_type": "code",
   "execution_count": 10,
   "id": "056718d9",
   "metadata": {},
   "outputs": [
    {
     "data": {
      "text/plain": [
       "(150, 4)"
      ]
     },
     "execution_count": 10,
     "metadata": {},
     "output_type": "execute_result"
    }
   ],
   "source": [
    "import numpy as np\n",
    "from sklearn import datasets\n",
    "from sklearn.model_selection import LeavePOut\n",
    "from sklearn.tree import DecisionTreeClassifier\n",
    "from sklearn.model_selection import cross_val_score\n",
    "\n",
    "# Load the X and y data from the iris dataset\n",
    "iris = datasets.load_iris()\n",
    "X = iris.data\n",
    "y = iris.target\n",
    "\n",
    "X.shape"
   ]
  },
  {
   "cell_type": "code",
   "execution_count": 11,
   "id": "04c32182",
   "metadata": {},
   "outputs": [
    {
     "data": {
      "text/plain": [
       "LeavePOut(p=2)"
      ]
     },
     "execution_count": 11,
     "metadata": {},
     "output_type": "execute_result"
    }
   ],
   "source": [
    "model = DecisionTreeClassifier()\n",
    "\n",
    "leave_val = LeavePOut(2)\n",
    "leave_val"
   ]
  },
  {
   "cell_type": "code",
   "execution_count": 12,
   "id": "91477ff7",
   "metadata": {},
   "outputs": [
    {
     "data": {
      "text/plain": [
       "array([1., 1., 1., ..., 1., 1., 1.])"
      ]
     },
     "execution_count": 12,
     "metadata": {},
     "output_type": "execute_result"
    }
   ],
   "source": [
    "mod_score = cross_val_score( model, X, y, cv = leave_val)\n",
    "mod_score"
   ]
  },
  {
   "cell_type": "code",
   "execution_count": 13,
   "id": "b946ec88",
   "metadata": {},
   "outputs": [
    {
     "name": "stdout",
     "output_type": "stream",
     "text": [
      "0.9495749440715884\n"
     ]
    }
   ],
   "source": [
    "print(np.mean(mod_score))"
   ]
  },
  {
   "cell_type": "markdown",
   "id": "616a0666",
   "metadata": {},
   "source": [
    "## 7.4 K-Fold\n",
    "### 7.4.1 Verifica as partições"
   ]
  },
  {
   "cell_type": "code",
   "execution_count": 14,
   "id": "c83179b5",
   "metadata": {},
   "outputs": [
    {
     "data": {
      "text/plain": [
       "2"
      ]
     },
     "execution_count": 14,
     "metadata": {},
     "output_type": "execute_result"
    }
   ],
   "source": [
    "import numpy as np\n",
    "from sklearn.model_selection import KFold\n",
    "\n",
    "X = np.array([[1, 2], [3, 4], [1, 2], [3, 4]])\n",
    "y = np.array([1, 2, 3, 4])\n",
    "\n",
    "kf = KFold(n_splits=2)\n",
    "kf.get_n_splits(X)"
   ]
  },
  {
   "cell_type": "code",
   "execution_count": 15,
   "id": "88b32eba",
   "metadata": {},
   "outputs": [
    {
     "name": "stdout",
     "output_type": "stream",
     "text": [
      "KFold(n_splits=2, random_state=None, shuffle=False)\n",
      "Fold 0:\n",
      "  Train: index=[2 3]\n",
      "  Test:  index=[0 1]\n",
      "Fold 1:\n",
      "  Train: index=[0 1]\n",
      "  Test:  index=[2 3]\n"
     ]
    }
   ],
   "source": [
    "print(kf)\n",
    "\n",
    "KFold(n_splits=2, random_state=None, shuffle=False)\n",
    "for i, (train_index, test_index) in enumerate(kf.split(X)):\n",
    "    print(f\"Fold {i}:\")\n",
    "    print(f\"  Train: index={train_index}\")\n",
    "    print(f\"  Test:  index={test_index}\")"
   ]
  },
  {
   "cell_type": "markdown",
   "id": "f1ccc347",
   "metadata": {},
   "source": [
    "### 7.4.2 Exemplo com treino do Modelo\n",
    "\n",
    "Nos exemplo anteriores temos estado a calcular o score, mas sem fazermos o fit não podemos usar as funções de predict e predict_proba, este é um exemplo completo que faz realmente o fit do modelo com todos os folds."
   ]
  },
  {
   "cell_type": "code",
   "execution_count": 16,
   "id": "588b9ceb",
   "metadata": {},
   "outputs": [
    {
     "data": {
      "text/plain": [
       "(150, 4)"
      ]
     },
     "execution_count": 16,
     "metadata": {},
     "output_type": "execute_result"
    }
   ],
   "source": [
    "from sklearn.model_selection import KFold\n",
    "from sklearn.tree import DecisionTreeClassifier\n",
    "from sklearn import datasets\n",
    "\n",
    "# Load the X and y data from the iris dataset\n",
    "iris = datasets.load_iris()\n",
    "X = iris.data\n",
    "y = iris.target\n",
    "\n",
    "X.shape"
   ]
  },
  {
   "cell_type": "code",
   "execution_count": 17,
   "id": "99b7021e",
   "metadata": {},
   "outputs": [
    {
     "data": {
      "text/plain": [
       "KFold(n_splits=5, random_state=1972, shuffle=True)"
      ]
     },
     "execution_count": 17,
     "metadata": {},
     "output_type": "execute_result"
    }
   ],
   "source": [
    "# K-fold split\n",
    "k_folds = 5\n",
    "kf = KFold(n_splits=k_folds, shuffle=True, random_state=1972)\n",
    "\n",
    "kf"
   ]
  },
  {
   "cell_type": "code",
   "execution_count": 18,
   "id": "8c322998",
   "metadata": {},
   "outputs": [
    {
     "name": "stdout",
     "output_type": "stream",
     "text": [
      "0.9466666666666667\n"
     ]
    }
   ],
   "source": [
    "# se quisessemos só calcular o score\n",
    "model=DecisionTreeClassifier()\n",
    "\n",
    "mod_score =  cross_val_score( model, X, y, cv = kf)\n",
    "\n",
    "print(np.mean(mod_score))"
   ]
  },
  {
   "cell_type": "code",
   "execution_count": 43,
   "id": "b50211a9",
   "metadata": {},
   "outputs": [
    {
     "name": "stdout",
     "output_type": "stream",
     "text": [
      "(120, 4)\n",
      "[1.0, 0.9333333333333333, 0.9333333333333333, 0.9666666666666667, 0.9333333333333333]\n",
      "0.9533333333333334\n"
     ]
    }
   ],
   "source": [
    "from sklearn.tree import DecisionTreeClassifier\n",
    "\n",
    "scores = []\n",
    "# Reparem que só estamos a obter os indices de split\n",
    "# por isso servem tanto para X como para y\n",
    "for train_idx, test_idx in kf.split(X):\n",
    "    X_train, X_test = X[train_idx], X[test_idx]\n",
    "    y_train, y_test = y[train_idx], y[test_idx]\n",
    "    #... treina o modelo, etc\n",
    "    model=DecisionTreeClassifier()\n",
    "    model.fit(X_train, y_train)\n",
    "    mod_score = model.score(X_test, y_test)\n",
    "    scores.append(mod_score)\n",
    "    \n",
    "    \n",
    "print(X_train.shape)\n",
    "print(scores)\n",
    "print(np.mean(scores))"
   ]
  },
  {
   "cell_type": "code",
   "execution_count": 44,
   "id": "77c1ac4d",
   "metadata": {},
   "outputs": [
    {
     "data": {
      "text/plain": [
       "array([0, 0, 0, 0, 0, 0, 0, 0, 0, 2, 1, 1, 1, 2, 1, 1, 1, 1, 2, 2, 2, 2,\n",
       "       2, 2, 2, 2, 2, 2, 2, 2])"
      ]
     },
     "execution_count": 44,
     "metadata": {},
     "output_type": "execute_result"
    }
   ],
   "source": [
    "preds = model.predict(X_test)\n",
    "preds"
   ]
  },
  {
   "cell_type": "markdown",
   "id": "7ee2a0cb",
   "metadata": {},
   "source": [
    "## 7.5 Repeated K-Fold\n",
    "\n",
    "Semelhante ao K-Fold mas repetindo a técnica:\n",
    "\n",
    "1. Escolher n_repeats – número de vezes que o modelo será treinado\n",
    "2. Escolher um número de amostras que serão o conjunto de teste\n",
    "3. Dividir o conjunto de dados\n",
    "4. Treinar usando o conjunto de treino. A cada iteração de validação cruzada, um novo modelo deve ser treinado\n",
    "5. Validar no conjunto de testes\n",
    "6. Guardar o resultado da validação\n",
    "7. Repita as etapas 3-6 um número n_repeats de vezes\n",
    "8. Para obter a pontuação final, calcular a média dos resultados obtidos nas etapas 6\n",
    "\n",
    "### 7.5.1 Verifica as Partições"
   ]
  },
  {
   "cell_type": "code",
   "execution_count": 45,
   "id": "0b0facad",
   "metadata": {},
   "outputs": [
    {
     "data": {
      "text/plain": [
       "10"
      ]
     },
     "execution_count": 45,
     "metadata": {},
     "output_type": "execute_result"
    }
   ],
   "source": [
    "import numpy as np\n",
    "from sklearn.model_selection import RepeatedKFold\n",
    "\n",
    "X = np.array([[1, 2], [3, 4], [1, 2], [3, 4], [1, 1], [2, 2]])\n",
    "y = np.array([0, 0, 1, 1, 0, 1])\n",
    "\n",
    "\n",
    "rkf = RepeatedKFold(n_splits=2, n_repeats=5, random_state=2652124)\n",
    "rkf.get_n_splits(X, y)"
   ]
  },
  {
   "cell_type": "code",
   "execution_count": 46,
   "id": "e01ec0f9",
   "metadata": {},
   "outputs": [
    {
     "name": "stdout",
     "output_type": "stream",
     "text": [
      "Fold 0:\n",
      "  Train: index=[0 4 5]\n",
      "  Test:  index=[1 2 3]\n",
      "Fold 1:\n",
      "  Train: index=[1 2 3]\n",
      "  Test:  index=[0 4 5]\n",
      "Fold 2:\n",
      "  Train: index=[1 3 5]\n",
      "  Test:  index=[0 2 4]\n",
      "Fold 3:\n",
      "  Train: index=[0 2 4]\n",
      "  Test:  index=[1 3 5]\n",
      "Fold 4:\n",
      "  Train: index=[0 3 5]\n",
      "  Test:  index=[1 2 4]\n",
      "Fold 5:\n",
      "  Train: index=[1 2 4]\n",
      "  Test:  index=[0 3 5]\n",
      "Fold 6:\n",
      "  Train: index=[0 3 4]\n",
      "  Test:  index=[1 2 5]\n",
      "Fold 7:\n",
      "  Train: index=[1 2 5]\n",
      "  Test:  index=[0 3 4]\n",
      "Fold 8:\n",
      "  Train: index=[0 2 3]\n",
      "  Test:  index=[1 4 5]\n",
      "Fold 9:\n",
      "  Train: index=[1 4 5]\n",
      "  Test:  index=[0 2 3]\n"
     ]
    }
   ],
   "source": [
    "RepeatedKFold(n_repeats=2, n_splits=2, random_state=2652124)\n",
    "for i, (train_index, test_index) in enumerate(rkf.split(X)):\n",
    "    print(f\"Fold {i}:\")\n",
    "    print(f\"  Train: index={train_index}\")\n",
    "    print(f\"  Test:  index={test_index}\")"
   ]
  },
  {
   "cell_type": "markdown",
   "id": "eeee09ce",
   "metadata": {},
   "source": [
    "### 7.5.2 Exemplo para calcular Score"
   ]
  },
  {
   "cell_type": "code",
   "execution_count": 47,
   "id": "a306a8b0",
   "metadata": {},
   "outputs": [
    {
     "data": {
      "text/plain": [
       "(150, 4)"
      ]
     },
     "execution_count": 47,
     "metadata": {},
     "output_type": "execute_result"
    }
   ],
   "source": [
    "import numpy as np\n",
    "from sklearn.model_selection import RepeatedKFold\n",
    "from sklearn.tree import DecisionTreeClassifier\n",
    "from sklearn.model_selection import cross_val_score\n",
    "from sklearn import datasets\n",
    "\n",
    "# Load the X and y data from the iris dataset\n",
    "iris = datasets.load_iris()\n",
    "X = iris.data\n",
    "y = iris.target\n",
    "\n",
    "X.shape"
   ]
  },
  {
   "cell_type": "code",
   "execution_count": 48,
   "id": "346b9b5c",
   "metadata": {},
   "outputs": [
    {
     "data": {
      "text/plain": [
       "RepeatedKFold(n_repeats=2, n_splits=10, random_state=2020)"
      ]
     },
     "execution_count": 48,
     "metadata": {},
     "output_type": "execute_result"
    }
   ],
   "source": [
    "model = DecisionTreeClassifier()\n",
    "\n",
    "rkf = RepeatedKFold(n_splits=10, n_repeats=2, random_state=2020)\n",
    "rkf"
   ]
  },
  {
   "cell_type": "code",
   "execution_count": 49,
   "id": "2222deaf",
   "metadata": {},
   "outputs": [
    {
     "name": "stdout",
     "output_type": "stream",
     "text": [
      "[0.86666667 0.8        1.         1.         1.         1.\n",
      " 0.93333333 0.93333333 1.         1.         0.93333333 1.\n",
      " 1.         0.86666667 0.93333333 0.86666667 1.         1.\n",
      " 1.         0.93333333]\n"
     ]
    }
   ],
   "source": [
    "mod_score = cross_val_score( model, X, y, cv = rkf)\n",
    "print(mod_score)"
   ]
  },
  {
   "cell_type": "code",
   "execution_count": 50,
   "id": "b84f9802",
   "metadata": {},
   "outputs": [
    {
     "name": "stdout",
     "output_type": "stream",
     "text": [
      "0.9533333333333334\n"
     ]
    }
   ],
   "source": [
    "print(np.mean(mod_score))"
   ]
  },
  {
   "cell_type": "markdown",
   "id": "87868bf1",
   "metadata": {},
   "source": [
    "## 7.6 Stratified K-Fold\n",
    "### 7.6.1 A importância de Estratificar"
   ]
  },
  {
   "cell_type": "code",
   "execution_count": 51,
   "id": "3bfc3798",
   "metadata": {},
   "outputs": [
    {
     "data": {
      "text/html": [
       "<div>\n",
       "<style scoped>\n",
       "    .dataframe tbody tr th:only-of-type {\n",
       "        vertical-align: middle;\n",
       "    }\n",
       "\n",
       "    .dataframe tbody tr th {\n",
       "        vertical-align: top;\n",
       "    }\n",
       "\n",
       "    .dataframe thead th {\n",
       "        text-align: right;\n",
       "    }\n",
       "</style>\n",
       "<table border=\"1\" class=\"dataframe\">\n",
       "  <thead>\n",
       "    <tr style=\"text-align: right;\">\n",
       "      <th></th>\n",
       "      <th>0</th>\n",
       "      <th>1</th>\n",
       "      <th>2</th>\n",
       "      <th>target</th>\n",
       "    </tr>\n",
       "  </thead>\n",
       "  <tbody>\n",
       "    <tr>\n",
       "      <th>0</th>\n",
       "      <td>0.035466</td>\n",
       "      <td>-0.892312</td>\n",
       "      <td>-0.380444</td>\n",
       "      <td>2</td>\n",
       "    </tr>\n",
       "    <tr>\n",
       "      <th>1</th>\n",
       "      <td>0.906985</td>\n",
       "      <td>1.563291</td>\n",
       "      <td>-1.761234</td>\n",
       "      <td>0</td>\n",
       "    </tr>\n",
       "    <tr>\n",
       "      <th>2</th>\n",
       "      <td>0.710053</td>\n",
       "      <td>0.307698</td>\n",
       "      <td>-0.325675</td>\n",
       "      <td>0</td>\n",
       "    </tr>\n",
       "    <tr>\n",
       "      <th>3</th>\n",
       "      <td>-0.725445</td>\n",
       "      <td>-0.957154</td>\n",
       "      <td>-0.799394</td>\n",
       "      <td>2</td>\n",
       "    </tr>\n",
       "    <tr>\n",
       "      <th>4</th>\n",
       "      <td>-0.413388</td>\n",
       "      <td>0.582738</td>\n",
       "      <td>1.417160</td>\n",
       "      <td>1</td>\n",
       "    </tr>\n",
       "  </tbody>\n",
       "</table>\n",
       "</div>"
      ],
      "text/plain": [
       "          0         1         2  target\n",
       "0  0.035466 -0.892312 -0.380444       2\n",
       "1  0.906985  1.563291 -1.761234       0\n",
       "2  0.710053  0.307698 -0.325675       0\n",
       "3 -0.725445 -0.957154 -0.799394       2\n",
       "4 -0.413388  0.582738  1.417160       1"
      ]
     },
     "execution_count": 51,
     "metadata": {},
     "output_type": "execute_result"
    }
   ],
   "source": [
    "import pandas as pd\n",
    "from sklearn.datasets import make_classification\n",
    "from sklearn.model_selection import train_test_split, StratifiedKFold, StratifiedShuffleSplit, KFold\n",
    "\n",
    "make_class = make_classification(n_samples=500,n_features=3,\n",
    "                                 n_redundant=0,n_informative=2,\n",
    "                                 n_classes=3,n_clusters_per_class=1,\n",
    "                                 random_state=11)\n",
    "\n",
    "data = pd.DataFrame(make_class[0],columns=range(make_class[0].shape[1]))\n",
    "data['target'] = make_class[1]\n",
    "data.head()"
   ]
  },
  {
   "cell_type": "code",
   "execution_count": 52,
   "id": "22e9a9e0",
   "metadata": {},
   "outputs": [
    {
     "name": "stdout",
     "output_type": "stream",
     "text": [
      "PROPORTION OF TARGET IN THE ORIGINAL DATA\n",
      "1    0.342\n",
      "2    0.330\n",
      "0    0.328\n",
      "Name: target, dtype: float64\n",
      "\n",
      "PROPORTION OF TARGET IN THE TRAINING SET\n",
      "1    0.345\n",
      "2    0.345\n",
      "0    0.310\n",
      "Name: target, dtype: float64\n",
      "\n",
      "PROPORTION OF TARGET IN THE TEST SET\n",
      "0    0.40\n",
      "1    0.33\n",
      "2    0.27\n",
      "Name: target, dtype: float64\n"
     ]
    }
   ],
   "source": [
    "train_df,test_df = train_test_split(data,test_size=0.2,random_state=11)\n",
    "print(f'PROPORTION OF TARGET IN THE ORIGINAL DATA\\n{data[\"target\"].value_counts() / len(data)}\\n\\n'+\n",
    "      f'PROPORTION OF TARGET IN THE TRAINING SET\\n{train_df[\"target\"].value_counts() / len(train_df)}\\n\\n'+\n",
    "      f'PROPORTION OF TARGET IN THE TEST SET\\n{test_df[\"target\"].value_counts() / len(test_df)}')"
   ]
  },
  {
   "cell_type": "code",
   "execution_count": 53,
   "id": "07adfa21",
   "metadata": {},
   "outputs": [
    {
     "name": "stdout",
     "output_type": "stream",
     "text": [
      "PROPORTION OF TARGET IN THE ORIGINAL DATA\n",
      "1    0.342\n",
      "2    0.330\n",
      "0    0.328\n",
      "Name: target, dtype: float64\n",
      "\n",
      "PROPORTION OF TARGET IN THE TRAINING SET\n",
      "1    0.3425\n",
      "2    0.3300\n",
      "0    0.3275\n",
      "Name: target, dtype: float64\n",
      "\n",
      "PROPORTION OF TARGET IN THE TEST SET\n",
      "1    0.34\n",
      "0    0.33\n",
      "2    0.33\n",
      "Name: target, dtype: float64\n"
     ]
    }
   ],
   "source": [
    "train_df,test_df = train_test_split(data,test_size=0.2,stratify=data['target'],random_state=11)\n",
    "print(f'PROPORTION OF TARGET IN THE ORIGINAL DATA\\n{data[\"target\"].value_counts() / len(data)}\\n\\n'+\n",
    "      f'PROPORTION OF TARGET IN THE TRAINING SET\\n{train_df[\"target\"].value_counts() / len(train_df)}\\n\\n'+\n",
    "      f'PROPORTION OF TARGET IN THE TEST SET\\n{test_df[\"target\"].value_counts() / len(test_df)}')"
   ]
  },
  {
   "cell_type": "markdown",
   "id": "a5af0dcb",
   "metadata": {},
   "source": [
    "### 7.6.2 Exemplo com o treino do Modelo"
   ]
  },
  {
   "cell_type": "code",
   "execution_count": 54,
   "id": "a4b4c36a",
   "metadata": {},
   "outputs": [
    {
     "data": {
      "text/plain": [
       "(150, 4)"
      ]
     },
     "execution_count": 54,
     "metadata": {},
     "output_type": "execute_result"
    }
   ],
   "source": [
    "import numpy as np\n",
    "from sklearn.model_selection import StratifiedKFold\n",
    "from sklearn.tree import DecisionTreeClassifier\n",
    "from sklearn.model_selection import cross_val_score\n",
    "from sklearn import datasets\n",
    "\n",
    "# Load the X and y data from the iris dataset\n",
    "iris = datasets.load_iris()\n",
    "X = iris.data\n",
    "y = iris.target\n",
    "\n",
    "X.shape"
   ]
  },
  {
   "cell_type": "code",
   "execution_count": 55,
   "id": "ad494fa8",
   "metadata": {},
   "outputs": [
    {
     "data": {
      "text/plain": [
       "StratifiedKFold(n_splits=5, random_state=None, shuffle=True)"
      ]
     },
     "execution_count": 55,
     "metadata": {},
     "output_type": "execute_result"
    }
   ],
   "source": [
    "k = 5 # numero de blocos\n",
    "skf = StratifiedKFold(n_splits=k, shuffle=True)\n",
    "skf"
   ]
  },
  {
   "cell_type": "code",
   "execution_count": 56,
   "id": "b7d09711",
   "metadata": {},
   "outputs": [
    {
     "data": {
      "text/plain": [
       "array([1.        , 0.86666667, 0.93333333, 0.96666667, 0.9       ])"
      ]
     },
     "execution_count": 56,
     "metadata": {},
     "output_type": "execute_result"
    }
   ],
   "source": [
    "model = DecisionTreeClassifier()\n",
    "mod_score = cross_val_score(model, X, y,cv=skf)\n",
    "mod_score"
   ]
  },
  {
   "cell_type": "code",
   "execution_count": 57,
   "id": "4521634f",
   "metadata": {},
   "outputs": [
    {
     "name": "stdout",
     "output_type": "stream",
     "text": [
      "0.9333333333333333\n"
     ]
    }
   ],
   "source": [
    "print(np.mean(mod_score))"
   ]
  },
  {
   "cell_type": "code",
   "execution_count": 58,
   "id": "1d602008",
   "metadata": {},
   "outputs": [
    {
     "name": "stdout",
     "output_type": "stream",
     "text": [
      "(120, 4)\n",
      "[1.0, 0.9333333333333333, 1.0, 1.0, 0.9]\n",
      "0.9666666666666668\n"
     ]
    }
   ],
   "source": [
    "scores = []\n",
    "\n",
    "# o split do stratified recebe 2 argumentos\n",
    "for train_idx, test_idx in skf.split(X, y):\n",
    "    X_train, X_test = X[train_idx], X[test_idx]\n",
    "    y_train, y_test = y[train_idx], y[test_idx]\n",
    "    #... treina o modelo, etc\n",
    "    model=DecisionTreeClassifier()\n",
    "    model.fit(X_train, y_train)\n",
    "    mod_score = model.score(X_test, y_test)\n",
    "    scores.append(mod_score)\n",
    "    \n",
    "    \n",
    "print(X_train.shape)\n",
    "print(scores)\n",
    "print(np.mean(scores))"
   ]
  },
  {
   "cell_type": "markdown",
   "id": "fa98c8dc",
   "metadata": {},
   "source": [
    "# 8. Random Forests\n",
    "## 8.1 Construir e usar uma Random Forest"
   ]
  },
  {
   "cell_type": "code",
   "execution_count": 136,
   "id": "3abaa8c4",
   "metadata": {},
   "outputs": [
    {
     "name": "stdout",
     "output_type": "stream",
     "text": [
      "[[-0.7258982  -1.42320717  0.64305431  1.72172679]\n",
      " [-1.4487145  -0.44491724 -0.11411215 -1.23583606]\n",
      " [-1.37781872 -1.15842881 -0.06984053 -0.57754508]\n",
      " ...\n",
      " [ 0.81862226  1.43403615 -0.10109398  0.14017051]\n",
      " [ 0.00464745  0.64213701 -0.9925751   1.10380488]\n",
      " [ 1.36364585  0.64119485 -0.41160897 -0.24608312]]\n",
      "[0 0 0 0 0 0 0 0 0 0 0 0 0 0 0 0 0 0 0 0 0 0 0 0 0 0 0 0 0 0 0 0 0 0 0 0 0\n",
      " 0 0 0 0 0 0 0 0 0 0 0 0 0 0 0 0 0 0 0 0 0 0 0 0 0 0 0 0 0 0 0 0 0 0 0 0 0\n",
      " 0 0 0 0 0 0 0 0 0 0 0 0 0 0 0 0 0 0 0 0 0 0 0 0 0 0 0 0 0 0 0 0 0 0 0 0 0\n",
      " 0 0 0 0 0 0 0 0 0 0 0 0 0 0 0 0 0 0 0 0 0 0 0 0 0 0 0 0 0 0 0 0 0 0 0 0 0\n",
      " 0 0 0 0 0 0 0 0 0 0 0 0 0 0 0 0 0 0 0 0 0 0 0 0 0 0 0 0 0 0 0 0 0 0 0 0 0\n",
      " 0 0 0 0 0 0 0 0 0 0 0 0 0 0 0 0 0 0 0 0 0 0 0 0 0 0 0 0 0 0 0 0 0 0 0 0 0\n",
      " 0 0 0 0 0 0 0 0 0 0 0 0 0 0 0 0 0 0 0 0 0 0 0 0 0 0 0 0 1 1 1 1 1 1 1 1 1\n",
      " 1 1 1 1 1 1 1 1 1 1 1 1 1 1 1 1 1 1 1 1 1 1 1 1 1 1 1 1 1 1 1 1 1 1 1 1 1\n",
      " 1 1 1 1 1 1 1 1 1 1 1 1 1 1 1 1 1 1 1 1 1 1 1 1 1 1 1 1 1 0 1 1 1 1 1 1 1\n",
      " 1 1 1 1 1 1 1 1 1 1 1 1 1 1 1 1 1 1 1 1 1 1 1 1 1 1 1 1 1 1 1 1 1 1 1 1 1\n",
      " 1 1 1 1 1 1 1 1 1 1 1 1 1 1 1 1 1 1 1 1 1 1 1 1 1 1 1 1 1 1 1 1 1 1 1 1 1\n",
      " 1 1 1 1 1 1 1 1 1 1 1 1 1 1 1 1 1 1 1 1 1 1 1 1 1 1 1 1 1 1 1 1 1 1 1 1 1\n",
      " 1 1 1 1 1 1 1 1 1 1 1 1 1 1 1 1 1 1 1 1 1 1 1 1 1 1 1 1 1 1 1 1 1 1 1 1 1\n",
      " 1 1 1 1 1 1 1 1 1 1 1 1 1 1 1 1 1 1 1 0 0 0 0 0 0 0 0 0 0 0 0 0 0 0 0 0 0\n",
      " 0 0 0 0 0 0 0 0 0 0 0 0 0 0 0 0 0 0 0 0 0 0 0 0 0 0 0 0 0 0 0 0 0 0 0 0 0\n",
      " 0 0 0 0 0 0 0 0 0 0 0 0 0 0 0 0 0 0 0 0 0 0 0 0 0 0 0 0 0 0 0 0 0 0 0 0 0\n",
      " 0 0 0 0 0 0 0 0 0 0 0 0 0 0 0 0 0 0 0 0 0 0 0 1 0 0 0 0 0 0 0 1 0 0 1 0 0\n",
      " 0 0 0 0 0 0 0 0 0 0 0 0 0 0 0 0 0 0 0 0 0 0 0 0 0 0 0 0 0 0 0 0 0 0 0 0 0\n",
      " 0 0 0 0 0 0 0 0 0 0 0 0 0 0 0 0 0 0 0 0 0 0 0 0 0 0 0 0 0 0 0 0 0 0 0 0 0\n",
      " 0 0 0 0 0 0 0 0 0 0 0 0 0 0 0 0 0 0 0 0 0 0 0 0 0 0 0 0 0 0 0 0 0 0 0 0 0\n",
      " 0 0 0 0 0 0 0 0 0 0 1 1 1 1 1 1 1 1 1 1 1 1 1 1 1 1 1 1 1 1 1 1 1 1 1 1 1\n",
      " 1 1 1 1 1 1 1 1 1 1 1 1 1 1 1 1 1 1 1 1 1 1 1 1 1 1 1 1 1 1 1 1 1 1 1 1 1\n",
      " 1 1 1 1 1 1 1 1 1 1 1 1 1 1 1 1 1 1 1 1 1 1 1 1 1 1 1 1 1 1 1 1 1 1 1 1 1\n",
      " 1 1 1 1 1 1 1 1 1 1 1 1 1 1 1 1 1 1 1 1 1 1 1 1 1 1 1 1 1 1 1 1 1 1 1 1 1\n",
      " 1 1 1 1 1 1 1 1 1 1 1 1 1 1 1 1 1 1 1 1 1 1 1 1 1 1 1 1 1 1 1 1 1 1 1 1 1\n",
      " 1 1 1 1 1 1 1 1 1 1 1 1 1 1 1 0 1 1 1 1 1 1 1 1 0 1 1 1 1 1 1 1 1 1 1 1 1\n",
      " 1 1 1 1 1 1 1 1 1 1 1 1 1 1 1 1 1 1 1 1 1 1 1 1 1 1 1 1 1 1 1 1 1 1 1 1 1\n",
      " 1]\n"
     ]
    }
   ],
   "source": [
    "from sklearn.ensemble import RandomForestClassifier\n",
    "from sklearn.datasets import make_classification\n",
    "\n",
    "X, y = make_classification(n_samples=1000, n_features=4,\n",
    "                            n_informative=2, n_redundant=0,\n",
    "                            random_state=2023, shuffle=False)\n",
    "print(X)\n",
    "print(y)"
   ]
  },
  {
   "cell_type": "code",
   "execution_count": 137,
   "id": "cc75666f",
   "metadata": {},
   "outputs": [
    {
     "data": {
      "text/plain": [
       "RandomForestClassifier(max_depth=2, oob_score=True, random_state=2023)"
      ]
     },
     "execution_count": 137,
     "metadata": {},
     "output_type": "execute_result"
    }
   ],
   "source": [
    "clf = RandomForestClassifier(max_depth=2, oob_score=True,random_state=2023)\n",
    "clf.fit(X, y)"
   ]
  },
  {
   "cell_type": "code",
   "execution_count": 138,
   "id": "f345118b",
   "metadata": {},
   "outputs": [
    {
     "data": {
      "text/plain": [
       "0.924"
      ]
     },
     "execution_count": 138,
     "metadata": {},
     "output_type": "execute_result"
    }
   ],
   "source": [
    "clf.score(X, y)"
   ]
  },
  {
   "cell_type": "code",
   "execution_count": 139,
   "id": "06fd7f2d",
   "metadata": {},
   "outputs": [
    {
     "data": {
      "text/plain": [
       "0.922"
      ]
     },
     "execution_count": 139,
     "metadata": {},
     "output_type": "execute_result"
    }
   ],
   "source": [
    "clf.oob_score_"
   ]
  },
  {
   "cell_type": "code",
   "execution_count": 140,
   "id": "e48f1f0d",
   "metadata": {},
   "outputs": [
    {
     "name": "stdout",
     "output_type": "stream",
     "text": [
      "[1]\n",
      "[[0.15366738 0.84633262]]\n"
     ]
    }
   ],
   "source": [
    "print(clf.predict([[0.8, 1.43, 0.65, 2.1]]))\n",
    "print(clf.predict_proba([[0.8, 1.43, 0.65, 2.1]]))"
   ]
  },
  {
   "cell_type": "code",
   "execution_count": 141,
   "id": "bcddcf92",
   "metadata": {},
   "outputs": [
    {
     "name": "stdout",
     "output_type": "stream",
     "text": [
      "[0]\n"
     ]
    }
   ],
   "source": [
    "print(clf.predict([[0.5, -0.3, -0.25, 0.1]]))"
   ]
  },
  {
   "cell_type": "markdown",
   "id": "ea339ebc",
   "metadata": {},
   "source": [
    "## Avaliar o Out-Of-Bag error de uma Random Forest"
   ]
  },
  {
   "cell_type": "code",
   "execution_count": 129,
   "id": "ec248ed8",
   "metadata": {},
   "outputs": [
    {
     "data": {
      "text/plain": [
       "array([[-1.03507303,  0.74316058, -2.45157401, ...,  0.5779369 ,\n",
       "        -1.49098328, -1.03897662],\n",
       "       [ 0.02242699,  1.29471708, -1.90010424, ...,  0.64932473,\n",
       "        -2.84355268,  0.05187387],\n",
       "       [-0.37973513, -1.04108384, -0.94793872, ..., -4.20918979,\n",
       "        -0.75214391, -2.2830426 ],\n",
       "       ...,\n",
       "       [-2.77479227, -4.93285359,  1.08000128, ..., -0.23486044,\n",
       "         0.84228215, -1.57101225],\n",
       "       [ 1.38102277,  0.28753157, -1.17678184, ...,  1.26890482,\n",
       "        -2.42740796, -0.84212714],\n",
       "       [ 1.54576985,  3.46133511,  0.96445593, ...,  1.62788345,\n",
       "         0.89764588, -0.93738213]])"
      ]
     },
     "execution_count": 129,
     "metadata": {},
     "output_type": "execute_result"
    }
   ],
   "source": [
    "from collections import OrderedDict\n",
    "\n",
    "import matplotlib.pyplot as plt\n",
    "\n",
    "from sklearn.datasets import make_classification\n",
    "from sklearn.ensemble import RandomForestClassifier\n",
    "\n",
    "RANDOM_STATE = 2023\n",
    "\n",
    "# Fazer a classificação com 500 datapoints\n",
    "X, y = make_classification(\n",
    "    n_samples=500,\n",
    "    n_features=25,\n",
    "    n_clusters_per_class=1,\n",
    "    n_informative=15,\n",
    "    random_state=RANDOM_STATE,\n",
    ")\n",
    "\n",
    "# X tem 25 features/colunas\n",
    "X"
   ]
  },
  {
   "cell_type": "markdown",
   "id": "bf2b73cf",
   "metadata": {},
   "source": [
    "**Parâmetros Importantes**\n",
    "- n_estimators será o número de árvores a crescer na floresta, por omissão 100\n",
    "- max_depth será o máximo para cada árvore, se vazio continua a crescer a árvore até atingir folhas puras ou até que todas as folhas tenham menos que min_samples_split exemplos nas folhas\n",
    "- min_samples_split será o minimo de exemplo num nó para fazer um split e continuar a crescer a árvore\n",
    "- max_features será o número de features/colunas a considerar quando procuramos o melhor split para cada crescimento da árvore\n",
    "- oob_score se quisermos ter o erro out-of-bag tem de estar a True, por omissão está a false e usa o accuracy_score"
   ]
  },
  {
   "cell_type": "code",
   "execution_count": 130,
   "id": "8dc49984",
   "metadata": {},
   "outputs": [
    {
     "data": {
      "text/plain": [
       "OrderedDict([(\"RandomForestClassifier, max_features='sqrt'\",\n",
       "              [(15, 0.14400000000000002),\n",
       "               (20, 0.11199999999999999),\n",
       "               (25, 0.09999999999999998),\n",
       "               (30, 0.08799999999999997),\n",
       "               (35, 0.09599999999999997),\n",
       "               (40, 0.09199999999999997),\n",
       "               (45, 0.08599999999999997),\n",
       "               (50, 0.08599999999999997),\n",
       "               (55, 0.08399999999999996),\n",
       "               (60, 0.08799999999999997),\n",
       "               (65, 0.08199999999999996),\n",
       "               (70, 0.07999999999999996),\n",
       "               (75, 0.07799999999999996),\n",
       "               (80, 0.07799999999999996),\n",
       "               (85, 0.07999999999999996),\n",
       "               (90, 0.07799999999999996),\n",
       "               (95, 0.07799999999999996),\n",
       "               (100, 0.07999999999999996),\n",
       "               (105, 0.07799999999999996),\n",
       "               (110, 0.07599999999999996),\n",
       "               (115, 0.07799999999999996),\n",
       "               (120, 0.07999999999999996),\n",
       "               (125, 0.07399999999999995),\n",
       "               (130, 0.07399999999999995),\n",
       "               (135, 0.07199999999999995),\n",
       "               (140, 0.06999999999999995),\n",
       "               (145, 0.07199999999999995),\n",
       "               (150, 0.06999999999999995)]),\n",
       "             (\"RandomForestClassifier, max_features='log2'\",\n",
       "              [(15, 0.14),\n",
       "               (20, 0.118),\n",
       "               (25, 0.118),\n",
       "               (30, 0.10399999999999998),\n",
       "               (35, 0.09599999999999997),\n",
       "               (40, 0.09199999999999997),\n",
       "               (45, 0.08999999999999997),\n",
       "               (50, 0.08199999999999996),\n",
       "               (55, 0.09199999999999997),\n",
       "               (60, 0.08199999999999996),\n",
       "               (65, 0.08599999999999997),\n",
       "               (70, 0.08799999999999997),\n",
       "               (75, 0.09399999999999997),\n",
       "               (80, 0.09199999999999997),\n",
       "               (85, 0.08799999999999997),\n",
       "               (90, 0.08599999999999997),\n",
       "               (95, 0.08799999999999997),\n",
       "               (100, 0.08399999999999996),\n",
       "               (105, 0.07999999999999996),\n",
       "               (110, 0.07799999999999996),\n",
       "               (115, 0.07799999999999996),\n",
       "               (120, 0.07799999999999996),\n",
       "               (125, 0.07399999999999995),\n",
       "               (130, 0.07399999999999995),\n",
       "               (135, 0.07599999999999996),\n",
       "               (140, 0.07599999999999996),\n",
       "               (145, 0.07599999999999996),\n",
       "               (150, 0.07599999999999996)]),\n",
       "             ('RandomForestClassifier, max_features=None',\n",
       "              [(15, 0.124),\n",
       "               (20, 0.124),\n",
       "               (25, 0.122),\n",
       "               (30, 0.09999999999999998),\n",
       "               (35, 0.10799999999999998),\n",
       "               (40, 0.09599999999999997),\n",
       "               (45, 0.10599999999999998),\n",
       "               (50, 0.10599999999999998),\n",
       "               (55, 0.10599999999999998),\n",
       "               (60, 0.10199999999999998),\n",
       "               (65, 0.09799999999999998),\n",
       "               (70, 0.09999999999999998),\n",
       "               (75, 0.09999999999999998),\n",
       "               (80, 0.10199999999999998),\n",
       "               (85, 0.10199999999999998),\n",
       "               (90, 0.10199999999999998),\n",
       "               (95, 0.10199999999999998),\n",
       "               (100, 0.09599999999999997),\n",
       "               (105, 0.09599999999999997),\n",
       "               (110, 0.09599999999999997),\n",
       "               (115, 0.09399999999999997),\n",
       "               (120, 0.08999999999999997),\n",
       "               (125, 0.09399999999999997),\n",
       "               (130, 0.09399999999999997),\n",
       "               (135, 0.09199999999999997),\n",
       "               (140, 0.09199999999999997),\n",
       "               (145, 0.09799999999999998),\n",
       "               (150, 0.09199999999999997)])])"
      ]
     },
     "execution_count": 130,
     "metadata": {},
     "output_type": "execute_result"
    }
   ],
   "source": [
    "# warm_start a True impede a paralelização mas é necessário \n",
    "# para registar o OOB error durante o treino\n",
    "ensemble_clfs = [\n",
    "    (\n",
    "        \"RandomForestClassifier, max_features='sqrt'\",\n",
    "        RandomForestClassifier(\n",
    "            warm_start=True,\n",
    "            oob_score=True,\n",
    "            max_features=\"sqrt\",\n",
    "            random_state=RANDOM_STATE,\n",
    "        ),\n",
    "    ),\n",
    "    (\n",
    "        \"RandomForestClassifier, max_features='log2'\",\n",
    "        RandomForestClassifier(\n",
    "            warm_start=True,\n",
    "            max_features=\"log2\",\n",
    "            oob_score=True,\n",
    "            random_state=RANDOM_STATE,\n",
    "        ),\n",
    "    ),\n",
    "    (\n",
    "        \"RandomForestClassifier, max_features=None\",\n",
    "        RandomForestClassifier(\n",
    "            warm_start=True,\n",
    "            max_features=None,\n",
    "            oob_score=True,\n",
    "            random_state=RANDOM_STATE,\n",
    "        ),\n",
    "    ),\n",
    "]\n",
    "\n",
    "# Mapear o nome do classificador para uma lista de pares (<n_estimators>, <error rate>) \n",
    "error_rate = OrderedDict((label, []) for label, _ in ensemble_clfs)\n",
    "\n",
    "# Range dos valores de `n_estimators` a explorar\n",
    "min_estimators = 15\n",
    "max_estimators = 150\n",
    "\n",
    "for label, clf in ensemble_clfs:\n",
    "    for i in range(min_estimators, max_estimators + 1, 5):\n",
    "        clf.set_params(n_estimators=i)\n",
    "        clf.fit(X, y)\n",
    "\n",
    "        # Regista o erro OOB para cada setting `n_estimators=i` \n",
    "        oob_error = 1 - clf.oob_score_\n",
    "        error_rate[label].append((i, oob_error))\n",
    "\n",
    "\n",
    "error_rate"
   ]
  },
  {
   "cell_type": "code",
   "execution_count": 131,
   "id": "1c11bc1c",
   "metadata": {},
   "outputs": [
    {
     "data": {
      "image/png": "[encoded data removed]",
      "text/plain": [
       "<Figure size 432x288 with 1 Axes>"
      ]
     },
     "metadata": {
      "needs_background": "light"
     },
     "output_type": "display_data"
    }
   ],
   "source": [
    "# Prepara o gráfico \"OOB error rate\" vs. \"n_estimators\" \n",
    "for label, clf_err in error_rate.items():\n",
    "    xs, ys = zip(*clf_err)\n",
    "    plt.plot(xs, ys, label=label)\n",
    "\n",
    "plt.xlim(min_estimators, max_estimators)\n",
    "plt.xlabel(\"n_estimators\")\n",
    "plt.ylabel(\"OOB error rate\")\n",
    "plt.legend(loc=\"upper right\")\n",
    "plt.show()"
   ]
  },
  {
   "cell_type": "markdown",
   "id": "da1f3582",
   "metadata": {},
   "source": [
    "# 9. Tuning dos Hyperparametros\n",
    "Grid Search e Randomized Search são as duas técnicas mais amplamente utilizadas no ajuste de hiperparâmetros. \n",
    "\n",
    "## 9.1 Tuning Com GridSearch\n",
    "Grid Search pesquisa exaustivamente cada combinação dos valores de hiperparâmetros especificados."
   ]
  },
  {
   "cell_type": "code",
   "execution_count": 80,
   "id": "a3ad3bf9",
   "metadata": {},
   "outputs": [],
   "source": [
    "import pandas as pd\n",
    "import numpy as np\n",
    "from sklearn.linear_model import LogisticRegression\n",
    "from sklearn.model_selection import GridSearchCV\n",
    "from sklearn import datasets\n",
    "\n",
    "# Load  X e y data a partir do dataset\n",
    "cancer = datasets.load_breast_cancer()"
   ]
  },
  {
   "cell_type": "code",
   "execution_count": 75,
   "id": "9e8b2291",
   "metadata": {},
   "outputs": [
    {
     "data": {
      "text/plain": [
       "dict_keys(['data', 'target', 'frame', 'target_names', 'DESCR', 'feature_names', 'filename'])"
      ]
     },
     "execution_count": 75,
     "metadata": {},
     "output_type": "execute_result"
    }
   ],
   "source": [
    "cancer.keys()"
   ]
  },
  {
   "cell_type": "code",
   "execution_count": 76,
   "id": "bbece446",
   "metadata": {},
   "outputs": [
    {
     "data": {
      "text/plain": [
       "array(['mean radius', 'mean texture', 'mean perimeter', 'mean area',\n",
       "       'mean smoothness', 'mean compactness', 'mean concavity',\n",
       "       'mean concave points', 'mean symmetry', 'mean fractal dimension',\n",
       "       'radius error', 'texture error', 'perimeter error', 'area error',\n",
       "       'smoothness error', 'compactness error', 'concavity error',\n",
       "       'concave points error', 'symmetry error',\n",
       "       'fractal dimension error', 'worst radius', 'worst texture',\n",
       "       'worst perimeter', 'worst area', 'worst smoothness',\n",
       "       'worst compactness', 'worst concavity', 'worst concave points',\n",
       "       'worst symmetry', 'worst fractal dimension'], dtype='<U23')"
      ]
     },
     "execution_count": 76,
     "metadata": {},
     "output_type": "execute_result"
    }
   ],
   "source": [
    "cancer['feature_names']"
   ]
  },
  {
   "cell_type": "code",
   "execution_count": 77,
   "id": "aca5d920",
   "metadata": {},
   "outputs": [
    {
     "data": {
      "text/plain": [
       "array(['malignant', 'benign'], dtype='<U9')"
      ]
     },
     "execution_count": 77,
     "metadata": {},
     "output_type": "execute_result"
    }
   ],
   "source": [
    "cancer['target_names']"
   ]
  },
  {
   "cell_type": "code",
   "execution_count": 71,
   "id": "57e9588a",
   "metadata": {},
   "outputs": [
    {
     "data": {
      "text/plain": [
       "(569, 30)"
      ]
     },
     "execution_count": 71,
     "metadata": {},
     "output_type": "execute_result"
    }
   ],
   "source": [
    "X = cancer.data\n",
    "y = cancer.target\n",
    "\n",
    "X.shape"
   ]
  },
  {
   "cell_type": "code",
   "execution_count": 74,
   "id": "c8c37b37",
   "metadata": {},
   "outputs": [
    {
     "data": {
      "text/plain": [
       "array([[1.799e+01, 1.038e+01, 1.228e+02, ..., 2.654e-01, 4.601e-01,\n",
       "        1.189e-01],\n",
       "       [2.057e+01, 1.777e+01, 1.329e+02, ..., 1.860e-01, 2.750e-01,\n",
       "        8.902e-02],\n",
       "       [1.969e+01, 2.125e+01, 1.300e+02, ..., 2.430e-01, 3.613e-01,\n",
       "        8.758e-02],\n",
       "       ...,\n",
       "       [1.660e+01, 2.808e+01, 1.083e+02, ..., 1.418e-01, 2.218e-01,\n",
       "        7.820e-02],\n",
       "       [2.060e+01, 2.933e+01, 1.401e+02, ..., 2.650e-01, 4.087e-01,\n",
       "        1.240e-01],\n",
       "       [7.760e+00, 2.454e+01, 4.792e+01, ..., 0.000e+00, 2.871e-01,\n",
       "        7.039e-02]])"
      ]
     },
     "execution_count": 74,
     "metadata": {},
     "output_type": "execute_result"
    }
   ],
   "source": [
    "X"
   ]
  },
  {
   "cell_type": "code",
   "execution_count": 93,
   "id": "c184acc2",
   "metadata": {},
   "outputs": [
    {
     "data": {
      "text/plain": [
       "[{'penalty': ['l1', 'l2', 'elasticnet', 'none'],\n",
       "  'C': array([1.00000000e-04, 2.63665090e-04, 6.95192796e-04, 1.83298071e-03,\n",
       "         4.83293024e-03, 1.27427499e-02, 3.35981829e-02, 8.85866790e-02,\n",
       "         2.33572147e-01, 6.15848211e-01, 1.62377674e+00, 4.28133240e+00,\n",
       "         1.12883789e+01, 2.97635144e+01, 7.84759970e+01, 2.06913808e+02,\n",
       "         5.45559478e+02, 1.43844989e+03, 3.79269019e+03, 1.00000000e+04]),\n",
       "  'solver': ['lbfgs', 'newton-cg', 'liblinear', 'sag', 'saga'],\n",
       "  'max_iter': [100, 1000, 2500, 5000]}]"
      ]
     },
     "execution_count": 93,
     "metadata": {},
     "output_type": "execute_result"
    }
   ],
   "source": [
    "logModel = LogisticRegression()\n",
    "\n",
    "# Contruimos a grid de parâmetros\n",
    "param_grid = [    \n",
    "    {'penalty' : ['l1', 'l2', 'elasticnet', 'none'],\n",
    "    'C' : np.logspace(-4, 4, 20),\n",
    "    'solver' : ['lbfgs','newton-cg','liblinear','sag','saga'],\n",
    "    'max_iter' : [100, 1000,2500, 5000]\n",
    "    }\n",
    "]\n",
    "\n",
    "param_grid"
   ]
  },
  {
   "cell_type": "markdown",
   "id": "3882ce8d",
   "metadata": {},
   "source": [
    "GridSearchCV tem um parâmetro **refit** que por omissão é True<br>\n",
    "\n",
    "Isto significa que o GridSearchCV executará o treino em todo o conjunto de treino usando os melhores hiperparâmetros encontrados após a validação cruzada.<br>\n",
    "Em seguida, retornará o objeto estimador treinado, no qual se pode chamar diretamente o método de previsão."
   ]
  },
  {
   "cell_type": "code",
   "execution_count": 94,
   "id": "8c8cd1d3",
   "metadata": {},
   "outputs": [
    {
     "data": {
      "text/plain": [
       "GridSearchCV(cv=3, estimator=LogisticRegression(), n_jobs=-1,\n",
       "             param_grid=[{'C': array([1.00000000e-04, 2.63665090e-04, 6.95192796e-04, 1.83298071e-03,\n",
       "       4.83293024e-03, 1.27427499e-02, 3.35981829e-02, 8.85866790e-02,\n",
       "       2.33572147e-01, 6.15848211e-01, 1.62377674e+00, 4.28133240e+00,\n",
       "       1.12883789e+01, 2.97635144e+01, 7.84759970e+01, 2.06913808e+02,\n",
       "       5.45559478e+02, 1.43844989e+03, 3.79269019e+03, 1.00000000e+04]),\n",
       "                          'max_iter': [100, 1000, 2500, 5000],\n",
       "                          'penalty': ['l1', 'l2', 'elasticnet', 'none'],\n",
       "                          'solver': ['lbfgs', 'newton-cg', 'liblinear', 'sag',\n",
       "                                     'saga']}],\n",
       "             verbose=True)"
      ]
     },
     "execution_count": 94,
     "metadata": {},
     "output_type": "execute_result"
    }
   ],
   "source": [
    "# por omissão refit = True\n",
    "clf = GridSearchCV(logModel, param_grid = param_grid, cv = 3, verbose=True, n_jobs=-1)\n",
    "clf"
   ]
  },
  {
   "cell_type": "markdown",
   "id": "b4da7d77",
   "metadata": {},
   "source": [
    "Vamos fazer o fit para 3 Folds de:\n",
    "- 20 valores possíveis de C\n",
    "- 4 possíveis penalty\n",
    "- 5 possíveis solvers\n",
    "- 4 máximos para iterações <br>\n",
    "Portanto no total vamos fazer 20x4x5x4 = 1600 candidatos x número de folds (3)<br>\n",
    "Ou seja 4800 fits"
   ]
  },
  {
   "cell_type": "code",
   "execution_count": 95,
   "id": "5c0cbe7f",
   "metadata": {},
   "outputs": [
    {
     "name": "stdout",
     "output_type": "stream",
     "text": [
      "Fitting 3 folds for each of 1600 candidates, totalling 4800 fits\n"
     ]
    },
    {
     "name": "stderr",
     "output_type": "stream",
     "text": [
      "C:\\Users\\sonia.quaresma\\Anaconda3\\lib\\site-packages\\sklearn\\model_selection\\_search.py:918: UserWarning: One or more of the test scores are non-finite: [       nan        nan 0.3725796  ...        nan 0.92091339 0.92267706]\n",
      "  warnings.warn(\n"
     ]
    }
   ],
   "source": [
    "best_clf = clf.fit(X,y)"
   ]
  },
  {
   "cell_type": "code",
   "execution_count": 96,
   "id": "68fbcf76",
   "metadata": {},
   "outputs": [
    {
     "data": {
      "text/plain": [
       "LogisticRegression(C=3792.690190732246, max_iter=1000, solver='newton-cg')"
      ]
     },
     "execution_count": 96,
     "metadata": {},
     "output_type": "execute_result"
    }
   ],
   "source": [
    "best_clf.best_estimator_"
   ]
  },
  {
   "cell_type": "code",
   "execution_count": 97,
   "id": "988c74bc",
   "metadata": {},
   "outputs": [
    {
     "name": "stdout",
     "output_type": "stream",
     "text": [
      "Accuracy : 0.984\n"
     ]
    }
   ],
   "source": [
    "print (f'Accuracy : {best_clf.score(X,y):.3f}')"
   ]
  },
  {
   "cell_type": "markdown",
   "id": "2abb8c35",
   "metadata": {},
   "source": [
    "Vamos então fazer a previsão usando o primeiro array do nosso X"
   ]
  },
  {
   "cell_type": "code",
   "execution_count": 100,
   "id": "e78d1bea",
   "metadata": {},
   "outputs": [
    {
     "data": {
      "text/plain": [
       "array([1.799e+01, 1.038e+01, 1.228e+02, 1.001e+03, 1.184e-01, 2.776e-01,\n",
       "       3.001e-01, 1.471e-01, 2.419e-01, 7.871e-02, 1.095e+00, 9.053e-01,\n",
       "       8.589e+00, 1.534e+02, 6.399e-03, 4.904e-02, 5.373e-02, 1.587e-02,\n",
       "       3.003e-02, 6.193e-03, 2.538e+01, 1.733e+01, 1.846e+02, 2.019e+03,\n",
       "       1.622e-01, 6.656e-01, 7.119e-01, 2.654e-01, 4.601e-01, 1.189e-01])"
      ]
     },
     "execution_count": 100,
     "metadata": {},
     "output_type": "execute_result"
    }
   ],
   "source": [
    "X[0]"
   ]
  },
  {
   "cell_type": "code",
   "execution_count": 107,
   "id": "b1d8c322",
   "metadata": {},
   "outputs": [
    {
     "data": {
      "text/plain": [
       "0"
      ]
     },
     "execution_count": 107,
     "metadata": {},
     "output_type": "execute_result"
    }
   ],
   "source": [
    "pred = clf.predict(X[0].reshape(1, -1))\n",
    "pred[0]"
   ]
  },
  {
   "cell_type": "code",
   "execution_count": 109,
   "id": "0761d736",
   "metadata": {},
   "outputs": [
    {
     "data": {
      "text/plain": [
       "array([[1.0000000e+00, 6.9541328e-24]])"
      ]
     },
     "execution_count": 109,
     "metadata": {},
     "output_type": "execute_result"
    }
   ],
   "source": [
    "pred_prob = clf.predict_proba(X[0].reshape(1, -1))\n",
    "pred_prob"
   ]
  },
  {
   "cell_type": "markdown",
   "id": "b0e29903",
   "metadata": {},
   "source": [
    "## 9.2 Tuning com RandomizedSearchCV\n",
    "Em contraste com a pesquisa em grid, nem todos os valores de parâmetros fornecidos são testados na pesquisa aleatória.<br>\n",
    "Em vez disso, um número fixo de configurações de parâmetros é selecionado das distribuições especificadas. <br>\n",
    "- A amostragem sem reposição é realizada se todos os parâmetros forem apresentados em forma de lista. <br>\n",
    "- A amostragem com substituição é usada se pelo menos um parâmetro for fornecido como distribuição. A forma como será feita a amostragem numa RandomizedSearch pode ser especificada previamente.<br>\n",
    "\n",
    "Para cada hiperparâmetro, pode ser especificada uma distribuição sobre valores possíveis ou uma lista de valores discretos (a serem amostrados uniformemente). Para os hiperparâmetros com valores contínuos, uma distribuição contínua deve ser especificada para aproveitar ao máximo a randomização. <br><br>\n",
    "\n",
    "O principal benefício desta pesquisa é a diminuição do tempo de processamento"
   ]
  },
  {
   "cell_type": "code",
   "execution_count": 144,
   "id": "45c6b9a9",
   "metadata": {},
   "outputs": [
    {
     "data": {
      "text/plain": [
       "<scipy.stats._distn_infrastructure.rv_frozen at 0x2074d914f70>"
      ]
     },
     "execution_count": 144,
     "metadata": {},
     "output_type": "execute_result"
    }
   ],
   "source": [
    "from scipy.stats import randint as sp_randint\n",
    "\n",
    "exemplo = sp_randint(1, 11)\n",
    "exemplo"
   ]
  },
  {
   "cell_type": "code",
   "execution_count": 145,
   "id": "3c78b340",
   "metadata": {},
   "outputs": [
    {
     "data": {
      "text/plain": [
       "array([1, 2, 1, 9, 7, 4, 2, 9, 6, 2, 2, 3, 6, 4, 7, 8, 1, 7, 3, 3])"
      ]
     },
     "execution_count": 145,
     "metadata": {},
     "output_type": "execute_result"
    }
   ],
   "source": [
    "# sp_randint pode ser usado nos parâmetros \n",
    "# exemplo é um objecto da rv_class\n",
    "# o método rvs vai gerar random variate sample\n",
    "# random_state pode ser usado\n",
    "exemplo.rvs(20)"
   ]
  },
  {
   "cell_type": "markdown",
   "id": "1c577863",
   "metadata": {},
   "source": [
    "Em principio qualquer rvs pode ser passado"
   ]
  },
  {
   "cell_type": "code",
   "execution_count": 197,
   "id": "190bc32f",
   "metadata": {},
   "outputs": [
    {
     "data": {
      "text/plain": [
       "array([0.10091793, 0.10051865, 0.03362819, 0.01477418, 0.03232137,\n",
       "       0.05834885, 0.00848315, 0.1066834 , 0.03880981, 0.3643341 ])"
      ]
     },
     "execution_count": 197,
     "metadata": {},
     "output_type": "execute_result"
    }
   ],
   "source": [
    "import scipy\n",
    "\n",
    "a = scipy.stats.expon(scale=.1)\n",
    "a.rvs(10)"
   ]
  },
  {
   "cell_type": "code",
   "execution_count": 201,
   "id": "3cd3eb5f",
   "metadata": {},
   "outputs": [
    {
     "data": {
      "text/plain": [
       "array([0.29136392, 0.26450879, 0.32098493, 0.30378852, 0.34268256,\n",
       "       0.2611498 , 0.28616111, 0.28696801, 0.31057475, 0.29971306])"
      ]
     },
     "execution_count": 201,
     "metadata": {},
     "output_type": "execute_result"
    }
   ],
   "source": [
    "# distribuição normal com mean .25 stddev 0.1, entre 0 e 1\n",
    "b = scipy.stats.truncnorm(a=0, b=1, loc=0.25, scale=0.1)\n",
    "b.rvs(10)"
   ]
  },
  {
   "cell_type": "code",
   "execution_count": 202,
   "id": "09275cf3",
   "metadata": {},
   "outputs": [
    {
     "data": {
      "text/plain": [
       "array([0.13449872, 0.20424494, 0.09027806, 0.17745511, 0.06906543,\n",
       "       0.02339161, 0.02288703, 0.18387275, 0.11842659, 0.1326488 ])"
      ]
     },
     "execution_count": 202,
     "metadata": {},
     "output_type": "execute_result"
    }
   ],
   "source": [
    "# distribuição uniforme entre .01 e .2\n",
    "c = scipy.stats.uniform(0.01, 0.199)\n",
    "c.rvs(10)"
   ]
  },
  {
   "cell_type": "code",
   "execution_count": 180,
   "id": "507cad14",
   "metadata": {},
   "outputs": [],
   "source": [
    "import pandas as pd\n",
    "import numpy as np\n",
    "from sklearn.ensemble import RandomForestClassifier\n",
    "from sklearn.model_selection import RandomizedSearchCV\n",
    "from sklearn.model_selection import train_test_split\n",
    "from sklearn.metrics import confusion_matrix\n",
    "from sklearn import datasets\n",
    "\n",
    "# Load the X and y data from the dataset\n",
    "cancer = datasets.load_breast_cancer()"
   ]
  },
  {
   "cell_type": "code",
   "execution_count": 148,
   "id": "1d84c64a",
   "metadata": {},
   "outputs": [
    {
     "data": {
      "text/plain": [
       "(569, 30)"
      ]
     },
     "execution_count": 148,
     "metadata": {},
     "output_type": "execute_result"
    }
   ],
   "source": [
    "X = cancer.data\n",
    "y = cancer.target\n",
    "\n",
    "X.shape"
   ]
  },
  {
   "cell_type": "code",
   "execution_count": 150,
   "id": "b2b2cb1b",
   "metadata": {},
   "outputs": [
    {
     "data": {
      "text/plain": [
       "{'max_depth': [3, 5],\n",
       " 'max_features': <scipy.stats._distn_infrastructure.rv_frozen at 0x2074d90e0d0>,\n",
       " 'min_samples_split': <scipy.stats._distn_infrastructure.rv_frozen at 0x2074d90e700>,\n",
       " 'bootstrap': [True, False],\n",
       " 'criterion': ['gini', 'entropy']}"
      ]
     },
     "execution_count": 150,
     "metadata": {},
     "output_type": "execute_result"
    }
   ],
   "source": [
    "param_dist = {\"max_depth\": [3, 5], \n",
    "    \"max_features\": sp_randint(1, 11), \n",
    "    \"min_samples_split\": sp_randint(2, 11), \n",
    "    \"bootstrap\": [True, False], \n",
    "    \"criterion\": [\"gini\", \"entropy\"]} \n",
    "\n",
    "param_dist"
   ]
  },
  {
   "cell_type": "code",
   "execution_count": 163,
   "id": "ce281375",
   "metadata": {},
   "outputs": [
    {
     "data": {
      "text/plain": [
       "RandomForestClassifier(n_estimators=50)"
      ]
     },
     "execution_count": 163,
     "metadata": {},
     "output_type": "execute_result"
    }
   ],
   "source": [
    "# construir o classificador indicando o nº \n",
    "# de árvores a crescer na floresta\n",
    "clf = RandomForestClassifier(n_estimators=50)\n",
    "clf"
   ]
  },
  {
   "cell_type": "code",
   "execution_count": 164,
   "id": "dd4ebb7a",
   "metadata": {},
   "outputs": [
    {
     "data": {
      "text/plain": [
       "(483, 30)"
      ]
     },
     "execution_count": 164,
     "metadata": {},
     "output_type": "execute_result"
    }
   ],
   "source": [
    "X_train, X_test, y_train, y_test = train_test_split(X,y,test_size=0.15,random_state=2023)\n",
    "X_train.shape"
   ]
  },
  {
   "cell_type": "code",
   "execution_count": 166,
   "id": "20f65875",
   "metadata": {},
   "outputs": [
    {
     "name": "stdout",
     "output_type": "stream",
     "text": [
      "{'bootstrap': False, 'criterion': 'entropy', 'max_depth': 5, 'max_features': 4, 'min_samples_split': 5}\n"
     ]
    }
   ],
   "source": [
    "random_search = RandomizedSearchCV(clf, \n",
    "                                   param_distributions=param_dist, \n",
    "                                   n_iter=20, \n",
    "                                   cv=5) \n",
    "\n",
    "random_search.fit(X_train, y_train)\n",
    "print(random_search.best_params_)"
   ]
  },
  {
   "cell_type": "code",
   "execution_count": 167,
   "id": "5cda411f",
   "metadata": {},
   "outputs": [
    {
     "data": {
      "text/plain": [
       "array([1.152e+01, 1.493e+01, 7.387e+01, 4.063e+02, 1.013e-01, 7.808e-02,\n",
       "       4.328e-02, 2.929e-02, 1.883e-01, 6.168e-02, 2.562e-01, 1.038e+00,\n",
       "       1.686e+00, 1.862e+01, 6.662e-03, 1.228e-02, 2.105e-02, 1.006e-02,\n",
       "       1.677e-02, 2.784e-03, 1.265e+01, 2.119e+01, 8.088e+01, 4.918e+02,\n",
       "       1.389e-01, 1.582e-01, 1.804e-01, 9.608e-02, 2.664e-01, 7.809e-02])"
      ]
     },
     "execution_count": 167,
     "metadata": {},
     "output_type": "execute_result"
    }
   ],
   "source": [
    "X_test[12]"
   ]
  },
  {
   "cell_type": "code",
   "execution_count": 168,
   "id": "277cae42",
   "metadata": {},
   "outputs": [
    {
     "data": {
      "text/plain": [
       "1"
      ]
     },
     "execution_count": 168,
     "metadata": {},
     "output_type": "execute_result"
    }
   ],
   "source": [
    "y_test[12]"
   ]
  },
  {
   "cell_type": "code",
   "execution_count": 178,
   "id": "69e31c41",
   "metadata": {},
   "outputs": [
    {
     "data": {
      "text/plain": [
       "1"
      ]
     },
     "execution_count": 178,
     "metadata": {},
     "output_type": "execute_result"
    }
   ],
   "source": [
    "random_search.predict(X_test[12].reshape(1, -1))[0]"
   ]
  },
  {
   "cell_type": "code",
   "execution_count": 182,
   "id": "9d664774",
   "metadata": {},
   "outputs": [
    {
     "name": "stdout",
     "output_type": "stream",
     "text": [
      "         pred: 0  pred: 1\n",
      "real: 0       29        4\n",
      "real: 1        0       53\n"
     ]
    }
   ],
   "source": [
    "cm = confusion_matrix(y_test, random_search.predict(X_test))\n",
    "print(pd.DataFrame(cm,columns = ['pred: 0','pred: 1'],\n",
    "                   index = ['real: 0','real: 1']))"
   ]
  },
  {
   "cell_type": "markdown",
   "id": "bbc20e15",
   "metadata": {},
   "source": [
    "## 9.3 Tuning com Nested CV\n",
    "A validação cruzada pode ser usada tanto para ajuste de hiperparâmetros quanto para estimativa do desempenho de generalização do modelo. No entanto, usar a mesma validação cruzada para ambos os fins simultaneamente pode levar a um aumento de bias, especialmente quando o tamanho do conjunto de dados é pequeno. <br>Os modelos podem facilmente ajustar demais o conjunto de dados com ajuste de hiperparâmetros, e o mesmo modelo será escolhido para avaliação. <br>Para evitar esse bias, é usada nested validação cruzada, que incorpora um loop adicional de validação cruzada para seleção de modelo. <br>\n",
    "\n",
    "\n",
    "Este método envolve dois níveis de validação cruzada:\n",
    "- CV externo para seleção do melhor modelo\n",
    "- e um CV interno para pesquisa de parâmetros \n",
    "\n",
    "O loop CV externo define as divisões do conjunto de dados que o loop CV interno usa para encontrar o melhor conjunto de hiperparâmetros executando GridSearchCV ou RandomSearchCV. Em seguida, as melhores pontuações, parâmetros e modelos são armazenados e usados para treinar um modelo final em todo o conjunto de dados.\n",
    "\n",
    "Desta forma, o nested CV fornece uma boa estimativa do desempenho do modelo, evitando o overfitting."
   ]
  },
  {
   "cell_type": "code",
   "execution_count": 192,
   "id": "ef8de0d1",
   "metadata": {},
   "outputs": [
    {
     "data": {
      "text/plain": [
       "array([[-5.09180894,  0.62982401, -1.56637522, ..., -5.75139697,\n",
       "        -1.26632999,  1.38003548],\n",
       "       [ 1.79142035,  1.53228466,  2.15499957, ..., -3.36234377,\n",
       "         1.54280911,  1.45120234],\n",
       "       [-7.57085584, -0.2920971 , -3.63471958, ..., -4.34397246,\n",
       "        -1.96120901,  3.26295049],\n",
       "       ...,\n",
       "       [ 6.52439854,  0.63786484,  1.25975251, ..., -2.64387023,\n",
       "         1.58504635,  1.77162916],\n",
       "       [ 2.97193516,  2.78895124, -0.8083023 , ...,  4.84079601,\n",
       "        -1.78274376, -0.14141052],\n",
       "       [ 1.38863762,  0.18337514,  3.10736912, ..., -1.83700097,\n",
       "         2.09963137, -1.76449296]])"
      ]
     },
     "execution_count": 192,
     "metadata": {},
     "output_type": "execute_result"
    }
   ],
   "source": [
    "import numpy as np\n",
    "from sklearn.datasets import make_classification\n",
    "from sklearn.model_selection import KFold\n",
    "from sklearn.model_selection import GridSearchCV\n",
    "from sklearn.ensemble import RandomForestClassifier\n",
    "from sklearn.metrics import accuracy_score\n",
    "\n",
    "# cria o dataset\n",
    "X, y = make_classification(n_samples=1000, n_features=20, random_state=1, n_informative=10, n_redundant=10)\n",
    "\n",
    "X"
   ]
  },
  {
   "cell_type": "code",
   "execution_count": 188,
   "id": "02975f66",
   "metadata": {},
   "outputs": [
    {
     "data": {
      "text/plain": [
       "[]"
      ]
     },
     "execution_count": 188,
     "metadata": {},
     "output_type": "execute_result"
    }
   ],
   "source": [
    "# configura o loop exterior\n",
    "cv_outer = KFold(n_splits=10, shuffle=True, random_state=1999)\n",
    "\n",
    "# prepara a lista para o loop exterior\n",
    "outer_results = list()\n",
    "outer_results"
   ]
  },
  {
   "cell_type": "code",
   "execution_count": 190,
   "id": "a8d7082f",
   "metadata": {},
   "outputs": [],
   "source": [
    "# configura o loop CV interior\n",
    "cv_inner = KFold(n_splits=3, shuffle=True, random_state=1999)\n",
    "\n",
    "\n",
    "# define o espaço de procura\n",
    "param_grid = {'n_estimators':  [10, 100, 500],\n",
    "              'max_features': [2, 4, 6] }"
   ]
  },
  {
   "cell_type": "code",
   "execution_count": 189,
   "id": "49071687",
   "metadata": {},
   "outputs": [],
   "source": [
    "# define o modelo\n",
    "model = RandomForestClassifier(random_state=1999)"
   ]
  },
  {
   "cell_type": "code",
   "execution_count": 193,
   "id": "0213bd1a",
   "metadata": {},
   "outputs": [
    {
     "name": "stdout",
     "output_type": "stream",
     "text": [
      ">acc=0.980, est=0.926, cfg={'max_features': 2, 'n_estimators': 100}\n",
      ">acc=0.930, est=0.930, cfg={'max_features': 2, 'n_estimators': 500}\n",
      ">acc=0.930, est=0.918, cfg={'max_features': 2, 'n_estimators': 100}\n",
      ">acc=0.950, est=0.920, cfg={'max_features': 4, 'n_estimators': 500}\n",
      ">acc=0.930, est=0.928, cfg={'max_features': 2, 'n_estimators': 500}\n",
      ">acc=0.940, est=0.920, cfg={'max_features': 4, 'n_estimators': 500}\n",
      ">acc=0.880, est=0.933, cfg={'max_features': 2, 'n_estimators': 500}\n",
      ">acc=0.910, est=0.939, cfg={'max_features': 6, 'n_estimators': 100}\n",
      ">acc=0.920, est=0.929, cfg={'max_features': 2, 'n_estimators': 100}\n",
      ">acc=0.930, est=0.924, cfg={'max_features': 4, 'n_estimators': 100}\n",
      "Accuracy: 0.930 (0.024)\n"
     ]
    }
   ],
   "source": [
    "# para o loop exterior em que vamos ter KFold (10 blocos)\n",
    "for train_idx, test_idx in cv_outer.split(X):\n",
    "    \n",
    "    # split dos dados com os indexes dados pelo split\n",
    "    X_train, X_test = X[train_idx, :], X[test_idx, :]\n",
    "    y_train, y_test = y[train_idx], y[test_idx]\n",
    "    \n",
    "    # define a procura dos hyperparâmetros\n",
    "    search = GridSearchCV(model, param_grid, \n",
    "                          scoring='accuracy',\n",
    "                          cv=cv_inner,\n",
    "                          refit=True)\n",
    "    # executa a procura fazendo o fit\n",
    "    result = search.fit(X_train, y_train)\n",
    "    \n",
    "    # regista o melhor fit\n",
    "    best_model = result.best_estimator_\n",
    "    # prevê com o modelo usando o hold-out dataset\n",
    "    y_pred = best_model.predict(X_test)\n",
    "    # avalia o modelo\n",
    "    acc = accuracy_score(y_test, y_pred)\n",
    "    \n",
    "    # regista os resultados do outer CV na lista\n",
    "    outer_results.append(acc)\n",
    "    # reporta o progresso\n",
    "    print('>acc=%.3f, est=%.3f, cfg=%s' % (acc, result.best_score_, result.best_params_))\n",
    "    \n",
    "# sumariza a performance estimada do modelo\n",
    "print('Accuracy: %.3f (%.3f)' % (np.mean(outer_results), np.std(outer_results)))"
   ]
  },
  {
   "cell_type": "markdown",
   "id": "08c6a2b8",
   "metadata": {},
   "source": [
    "#### De uma forma mais condensada"
   ]
  },
  {
   "cell_type": "code",
   "execution_count": 186,
   "id": "af844c99",
   "metadata": {},
   "outputs": [
    {
     "name": "stdout",
     "output_type": "stream",
     "text": [
      "Accuracy: 0.958 (0.011)\n"
     ]
    }
   ],
   "source": [
    "import numpy as np\n",
    "from sklearn.model_selection import cross_val_score, KFold\n",
    "from sklearn.ensemble import RandomForestClassifier\n",
    "from sklearn.model_selection import GridSearchCV\n",
    "from sklearn import datasets\n",
    "\n",
    "# Carrega os Dados\n",
    "cancer = datasets.load_breast_cancer()\n",
    "\n",
    "X = cancer.data\n",
    "y = cancer.target\n",
    "\n",
    "# escolhe o modelo\n",
    "rf = RandomForestClassifier()\n",
    "\n",
    "# define a grid\n",
    "param_grid = {'n_estimators': [50, 100, 200],\n",
    "              'max_depth': [None, 5, 10],\n",
    "              'min_samples_split': [2, 5, 10]}\n",
    "\n",
    "# define os loops de CV\n",
    "outer_cv = KFold(n_splits=3, shuffle=True, random_state=2023)\n",
    "inner_cv = KFold(n_splits=5, shuffle=True, random_state=2023)\n",
    "\n",
    "# Define a procura de hyperparâmetros do loop interior de CV \n",
    "model = GridSearchCV(\n",
    "    estimator=rf, param_grid=param_grid, cv=inner_cv, n_jobs=-1\n",
    ")\n",
    "\n",
    "# Define a seleção e avaliação de modelo no loop exterior de CV \n",
    "scores = cross_val_score(model, X, y,\n",
    "                        scoring='accuracy',\n",
    "                        cv=outer_cv, n_jobs=-1)\n",
    "\n",
    "print('Accuracy: %.3f (%.3f)' % (np.mean(scores), np.std(scores)))"
   ]
  }
 ],
 "metadata": {
  "kernelspec": {
   "display_name": "Python 3",
   "language": "python",
   "name": "python3"
  },
  "language_info": {
   "codemirror_mode": {
    "name": "ipython",
    "version": 3
   },
   "file_extension": ".py",
   "mimetype": "text/x-python",
   "name": "python",
   "nbconvert_exporter": "python",
   "pygments_lexer": "ipython3",
   "version": "3.8.8"
  }
 },
 "nbformat": 4,
 "nbformat_minor": 5
}
