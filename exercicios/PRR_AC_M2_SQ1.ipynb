{
 "cells": [
  {
   "cell_type": "markdown",
   "id": "9ff1762f",
   "metadata": {},
   "source": [
    "# Advanced Data Science"
   ]
  },
  {
   "cell_type": "markdown",
   "id": "e722d5d9",
   "metadata": {},
   "source": [
    "# 1. Modelos KNN"
   ]
  },
  {
   "cell_type": "markdown",
   "id": "30ca819d",
   "metadata": {},
   "source": [
    "A função make_blobs() pode ser usada para gerar blobs de pontos com uma distribuição gaussiana. Você pode controlar quantos blobs serão gerados e o número de amostras a serem geradas, bem como uma série de outras propriedades."
   ]
  },
  {
   "cell_type": "code",
   "execution_count": 1,
   "id": "95128e00",
   "metadata": {},
   "outputs": [],
   "source": [
    "from sklearn.datasets import make_blobs\n",
    "import matplotlib.pyplot as plt\n",
    "import numpy as np\n",
    "\n",
    "centers = [[2, 3], [5, 5], [1, 8]]\n",
    "n_classes = len(centers)\n",
    "data, labels = make_blobs(n_samples=150, \n",
    "                          centers=np.array(centers),\n",
    "                          random_state=1)"
   ]
  },
  {
   "cell_type": "code",
   "execution_count": 2,
   "id": "a9c8ba9c",
   "metadata": {},
   "outputs": [
    {
     "data": {
      "image/png": "[encoded data removed]",
      "text/plain": [
       "<Figure size 640x480 with 1 Axes>"
      ]
     },
     "metadata": {},
     "output_type": "display_data"
    }
   ],
   "source": [
    "import matplotlib.pyplot as plt\n",
    "\n",
    "colours = ('green', 'red', 'blue')\n",
    "# n_classes = 3\n",
    "\n",
    "fig, ax = plt.subplots()\n",
    "for n_class in range(0, n_classes):\n",
    "    ax.scatter(data[labels==n_class, 0], data[labels==n_class, 1], \n",
    "               c=colours[n_class], s=10, label=str(n_class))\n",
    "\n",
    "\n",
    "\n",
    "ax.legend(loc='upper right');"
   ]
  },
  {
   "cell_type": "code",
   "execution_count": 3,
   "id": "93ce01b1",
   "metadata": {},
   "outputs": [],
   "source": [
    "from sklearn.model_selection import train_test_split\n",
    "\n",
    "X_train, X_test, y_train, y_test = train_test_split(data, labels,\n",
    "                                                    train_size=0.8, test_size=0.2, random_state=1)"
   ]
  },
  {
   "cell_type": "code",
   "execution_count": 4,
   "id": "c7147b62",
   "metadata": {},
   "outputs": [
    {
     "data": {
      "text/plain": [
       "array([0, 0, 1, 0, 1, 1, 1, 1, 1, 0, 2, 0, 1, 1, 1, 1, 2, 1, 1, 1, 2, 2,\n",
       "       2, 2, 1, 0, 0, 0, 0, 2, 1, 1, 0, 1, 2, 2, 0, 1, 1, 2, 2, 1, 2, 0,\n",
       "       0, 1, 0, 0, 0, 2, 0, 2, 0, 1, 2, 1, 2, 2, 2, 0, 2, 0, 2, 0, 2, 2,\n",
       "       2, 2, 2, 1, 1, 1, 2, 2, 0, 2, 1, 0, 1, 0, 0, 0, 2, 1, 0, 1, 0, 0,\n",
       "       1, 0, 0, 2, 1, 2, 2, 2, 0, 2, 2, 1, 2, 1, 1, 1, 0, 2, 2, 0, 0, 2,\n",
       "       2, 1, 1, 1, 1, 2, 0, 0, 2, 1])"
      ]
     },
     "execution_count": 4,
     "metadata": {},
     "output_type": "execute_result"
    }
   ],
   "source": [
    "y_train"
   ]
  },
  {
   "cell_type": "code",
   "execution_count": 5,
   "id": "b908958e",
   "metadata": {},
   "outputs": [
    {
     "name": "stdout",
     "output_type": "stream",
     "text": [
      "Previsões do classificador:\n",
      "[2 2 2 0 0 1 1 2 2 1 0 1 0 0 2 0 0 0 1 0 0 1 1 2 0 0 0 1 2 1]\n",
      "Target:\n",
      "[2 2 2 0 0 1 1 2 2 1 0 1 0 0 2 0 0 0 1 0 0 1 1 2 0 0 0 1 2 1]\n"
     ]
    }
   ],
   "source": [
    "# Create and fit a nearest-neighbor classifier\n",
    "from sklearn.neighbors import KNeighborsClassifier\n",
    "\n",
    "# a instância do KNN está a ser criada sem parâmetros\n",
    "knn = KNeighborsClassifier()\n",
    "knn.fit(X_train, y_train) \n",
    "\n",
    "y_pred = knn.predict(X_test)\n",
    "print(\"Previsões do classificador:\")\n",
    "print(y_pred)\n",
    "print(\"Target:\")\n",
    "print(y_test)"
   ]
  },
  {
   "cell_type": "code",
   "execution_count": 6,
   "id": "98a33e21",
   "metadata": {},
   "outputs": [
    {
     "name": "stdout",
     "output_type": "stream",
     "text": [
      "1.0\n"
     ]
    }
   ],
   "source": [
    "from sklearn.metrics import accuracy_score\n",
    "\n",
    "print(accuracy_score(y_pred, y_test))"
   ]
  },
  {
   "cell_type": "code",
   "execution_count": 7,
   "id": "9a0a34a2",
   "metadata": {},
   "outputs": [
    {
     "name": "stdout",
     "output_type": "stream",
     "text": [
      "0.5714285714285714\n"
     ]
    }
   ],
   "source": [
    "from sklearn.metrics import accuracy_score\n",
    "\n",
    "example_predictions = [0, 2, 1, 3, 2, 0, 1]\n",
    "example_labels      = [0, 1, 2, 3, 2, 1, 1]\n",
    "print(accuracy_score(example_predictions, example_labels))"
   ]
  },
  {
   "cell_type": "markdown",
   "id": "ebab2f2f",
   "metadata": {},
   "source": [
    "## 1.1 KNN com parâmetros e Dataset Iris"
   ]
  },
  {
   "cell_type": "code",
   "execution_count": 8,
   "id": "e87f4829",
   "metadata": {},
   "outputs": [],
   "source": [
    "from sklearn import datasets\n",
    "from sklearn.model_selection import train_test_split\n",
    "\n",
    "iris = datasets.load_iris()\n",
    "data, labels = iris.data, iris.target\n",
    "\n",
    "X_train, X_test, y_train, y_test = train_test_split(data, labels, train_size=0.7, test_size=0.3, random_state=1)"
   ]
  },
  {
   "cell_type": "code",
   "execution_count": 9,
   "id": "dde636e6",
   "metadata": {},
   "outputs": [
    {
     "data": {
      "image/png": "[encoded data removed]",
      "text/plain": [
       "<Figure size 640x480 with 1 Axes>"
      ]
     },
     "metadata": {},
     "output_type": "display_data"
    }
   ],
   "source": [
    "import matplotlib.pyplot as plt\n",
    "\n",
    "colours = ('purple', 'red', 'blue')\n",
    "n_classes = 3\n",
    "\n",
    "fig, ax = plt.subplots()\n",
    "for n_class in range(0, n_classes):\n",
    "    ax.scatter(data[labels==n_class, 0], data[labels==n_class, 1], \n",
    "               c=colours[n_class], s=10, label=str(n_class))\n",
    "\n",
    "\n",
    "\n",
    "ax.legend(loc='upper right');"
   ]
  },
  {
   "cell_type": "code",
   "execution_count": 10,
   "id": "ea78a1af",
   "metadata": {},
   "outputs": [],
   "source": [
    "# Create and fit a nearest-neighbor classifier\n",
    "from sklearn.neighbors import KNeighborsClassifier\n",
    "\n",
    "# instanciação com parâmetros\n",
    "knn2 = KNeighborsClassifier(algorithm='auto', \n",
    "                           leaf_size=30, \n",
    "                           metric='minkowski',\n",
    "                           p=2,\n",
    "                           metric_params=None, \n",
    "                           n_jobs=1, \n",
    "                           n_neighbors=2, \n",
    "                           weights='uniform')"
   ]
  },
  {
   "cell_type": "code",
   "execution_count": 11,
   "id": "20693be6",
   "metadata": {},
   "outputs": [
    {
     "name": "stdout",
     "output_type": "stream",
     "text": [
      "Previsões do classificador:\n",
      "[0 1 1 0 2 1 2 0 0 2 1 0 2 1 1 0 1 1 0 0 1 1 1 0 2 1 0 0 1 2 1 2 1 2 2 0 1\n",
      " 0 1 2 2 0 1 2 1]\n",
      "Target:\n",
      "[0 1 1 0 2 1 2 0 0 2 1 0 2 1 1 0 1 1 0 0 1 1 1 0 2 1 0 0 1 2 1 2 1 2 2 0 1\n",
      " 0 1 2 2 0 2 2 1]\n"
     ]
    }
   ],
   "source": [
    "knn2.fit(X_train, y_train) \n",
    "\n",
    "y_pred = knn2.predict(X_test)\n",
    "print(\"Previsões do classificador:\")\n",
    "print(y_pred)\n",
    "print(\"Target:\")\n",
    "print(y_test)"
   ]
  },
  {
   "cell_type": "code",
   "execution_count": 12,
   "id": "2b909f67",
   "metadata": {},
   "outputs": [
    {
     "name": "stdout",
     "output_type": "stream",
     "text": [
      "0.9777777777777777\n"
     ]
    }
   ],
   "source": [
    "from sklearn.metrics import accuracy_score\n",
    "\n",
    "print(accuracy_score(y_pred, y_test))"
   ]
  },
  {
   "cell_type": "markdown",
   "id": "1654c854",
   "metadata": {},
   "source": [
    "**Proposta**- Varie o nº de vizinhos e também o nº de elementos nos conjuntos de treino e de teste"
   ]
  },
  {
   "cell_type": "code",
   "execution_count": 13,
   "id": "e749e092",
   "metadata": {},
   "outputs": [
    {
     "data": {
      "text/plain": [
       "array([[1. , 0. , 0. ],\n",
       "       [0. , 1. , 0. ],\n",
       "       [0. , 1. , 0. ],\n",
       "       [1. , 0. , 0. ],\n",
       "       [0. , 0. , 1. ],\n",
       "       [0. , 0.5, 0.5],\n",
       "       [0. , 0. , 1. ],\n",
       "       [1. , 0. , 0. ],\n",
       "       [1. , 0. , 0. ],\n",
       "       [0. , 0. , 1. ]])"
      ]
     },
     "execution_count": 13,
     "metadata": {},
     "output_type": "execute_result"
    }
   ],
   "source": [
    "y_test_proba = knn2.predict_proba(X_test)\n",
    "y_test_proba[:10]"
   ]
  },
  {
   "cell_type": "code",
   "execution_count": 14,
   "id": "6b6e0d3d",
   "metadata": {},
   "outputs": [
    {
     "name": "stdout",
     "output_type": "stream",
     "text": [
      "         pred: 0  pred: 1  pred: 2\n",
      "real: 0       14        0        0\n",
      "real: 1        0       18        0\n",
      "real: 2        0        1       12\n"
     ]
    }
   ],
   "source": [
    "from sklearn.metrics import confusion_matrix\n",
    "import pandas as pd\n",
    "\n",
    "cm_thr50 = confusion_matrix(y_test, y_pred)\n",
    "print(pd.DataFrame(cm_thr50,columns = ['pred: 0','pred: 1','pred: 2'],\n",
    "                   index = ['real: 0','real: 1','real: 2']))"
   ]
  },
  {
   "cell_type": "code",
   "execution_count": 15,
   "id": "f67acf38",
   "metadata": {},
   "outputs": [
    {
     "name": "stdout",
     "output_type": "stream",
     "text": [
      "Precision: 0.978\n",
      "Recall: 0.978\n",
      "Accuracy: 0.978\n"
     ]
    }
   ],
   "source": [
    "from sklearn.metrics import precision_score, recall_score, accuracy_score\n",
    "\n",
    "# por omissão average='binary' mas pode também ser None 'micro', 'macro' e 'weighted'\n",
    "print('Precision: %.3f' % precision_score(y_test, y_pred, average='micro'))\n",
    "print('Recall: %.3f' % recall_score(y_test, y_pred, average='micro'))\n",
    "print('Accuracy: %.3f' % accuracy_score(y_test, y_pred))"
   ]
  },
  {
   "cell_type": "code",
   "execution_count": 16,
   "id": "d72d3530",
   "metadata": {},
   "outputs": [
    {
     "name": "stdout",
     "output_type": "stream",
     "text": [
      "Classification report for classifier KNeighborsClassifier(n_jobs=1, n_neighbors=2):\n",
      "              precision    recall  f1-score   support\n",
      "\n",
      "           0       1.00      1.00      1.00        14\n",
      "           1       0.95      1.00      0.97        18\n",
      "           2       1.00      0.92      0.96        13\n",
      "\n",
      "    accuracy                           0.98        45\n",
      "   macro avg       0.98      0.97      0.98        45\n",
      "weighted avg       0.98      0.98      0.98        45\n",
      "\n",
      "\n"
     ]
    }
   ],
   "source": [
    "from sklearn.metrics import classification_report\n",
    "\n",
    "print(\n",
    "    f\"Classification report for classifier {knn2}:\\n\"\n",
    "    f\"{classification_report(y_test, y_pred)}\\n\"\n",
    ")"
   ]
  },
  {
   "cell_type": "markdown",
   "id": "0557c594",
   "metadata": {},
   "source": [
    "The precision is the ratio tp / (tp + fp) where tp is the number of true positives and fp the number of false positives. The precision is intuitively the ability of the classifier not to label a negative sample as positive.<br> <br>\n",
    "\n",
    "The recall is the ratio tp / (tp + fn) where tp is the number of true positives and fn the number of false negatives. The recall is intuitively the ability of the classifier to find all the positive samples.<br> <br>\n",
    "\n",
    "The F-beta score can be interpreted as a weighted harmonic mean of the precision and recall, where an F-beta score reaches its best value at 1 and worst score at 0. The F-beta score weights recall more than precision by a factor of beta. beta == 1.0 means recall and precision are equally important.<br> <br>\n",
    "\n",
    "The support is the number of occurrences of each class in y_test."
   ]
  },
  {
   "cell_type": "markdown",
   "id": "e14283b1",
   "metadata": {},
   "source": [
    "# 2. Avaliação de Modelos\n",
    "\n",
    "Imaginem que estamos a dar uma festa para 200 pessoas. Algumas pessoas gostam mais de doces outras mais de salgados. <br>\n",
    "Vamos tentar prever se uma pessoa gosta mais de doces ou de salgados usando as preferências dos seus vizinhos usando o KNN"
   ]
  },
  {
   "cell_type": "code",
   "execution_count": 17,
   "id": "fa679c65",
   "metadata": {},
   "outputs": [],
   "source": [
    "from sklearn.datasets import make_blobs\n",
    "import matplotlib.pyplot as plt\n",
    "import numpy as np\n",
    "\n",
    "centers = [[2, 3], [5, 5]]\n",
    "n_classes = len(centers)\n",
    "data, labels = make_blobs(n_samples=200, \n",
    "                          centers=np.array(centers),\n",
    "                          random_state=1)"
   ]
  },
  {
   "cell_type": "code",
   "execution_count": 18,
   "id": "19cc7ab9",
   "metadata": {},
   "outputs": [
    {
     "data": {
      "image/png": "[encoded data removed]",
      "text/plain": [
       "<Figure size 640x480 with 1 Axes>"
      ]
     },
     "metadata": {},
     "output_type": "display_data"
    }
   ],
   "source": [
    "import matplotlib.pyplot as plt\n",
    "\n",
    "colours = ('orange', 'blue')\n",
    "# n_classes = 2\n",
    "\n",
    "fig, ax = plt.subplots()\n",
    "for n_class in range(0, n_classes):\n",
    "    ax.scatter(data[labels==n_class, 0], data[labels==n_class, 1], \n",
    "               c=colours[n_class], s=10, label=str(n_class))\n",
    "\n",
    "\n",
    "\n",
    "ax.legend(loc='upper right');"
   ]
  },
  {
   "cell_type": "code",
   "execution_count": 19,
   "id": "ded9084a",
   "metadata": {},
   "outputs": [],
   "source": [
    "from sklearn.model_selection import train_test_split\n",
    "\n",
    "X_train, X_test, y_train, y_test = train_test_split(data, labels, train_size=0.8, test_size=0.2, random_state=1)"
   ]
  },
  {
   "cell_type": "code",
   "execution_count": 20,
   "id": "316dc5a7",
   "metadata": {},
   "outputs": [
    {
     "data": {
      "text/plain": [
       "array([0, 0, 1, 1, 1, 1, 1, 1, 0, 1, 0, 0, 0, 1, 1, 0, 1, 1, 0, 1])"
      ]
     },
     "execution_count": 20,
     "metadata": {},
     "output_type": "execute_result"
    }
   ],
   "source": [
    "y_train[:20]"
   ]
  },
  {
   "cell_type": "code",
   "execution_count": 21,
   "id": "0def9fea",
   "metadata": {},
   "outputs": [],
   "source": [
    "# Create and fit a nearest-neighbor classifier\n",
    "from sklearn.neighbors import KNeighborsClassifier\n",
    "from sklearn import metrics\n",
    "\n",
    "# vamos aumentar a complexidade aumentando o nº de vizinhos\n",
    "k_range = range(1,20)\n",
    "scores = {}\n",
    "scores_list = []\n",
    "\n",
    "for k in k_range:\n",
    "    knn = KNeighborsClassifier(n_neighbors = k)\n",
    "    knn.fit(X_train, y_train)\n",
    "    y_pred = knn.predict(X_test)\n",
    "    scores[k] = metrics.accuracy_score(y_test, y_pred)\n",
    "    scores_list.append(metrics.accuracy_score(y_test, y_pred))\n",
    "    "
   ]
  },
  {
   "cell_type": "code",
   "execution_count": 22,
   "id": "994978b1",
   "metadata": {},
   "outputs": [
    {
     "data": {
      "text/plain": [
       "{1: 0.9,\n",
       " 2: 0.875,\n",
       " 3: 0.9,\n",
       " 4: 0.925,\n",
       " 5: 0.95,\n",
       " 6: 0.925,\n",
       " 7: 0.95,\n",
       " 8: 0.95,\n",
       " 9: 0.95,\n",
       " 10: 0.95,\n",
       " 11: 0.95,\n",
       " 12: 0.95,\n",
       " 13: 0.95,\n",
       " 14: 0.95,\n",
       " 15: 0.95,\n",
       " 16: 0.95,\n",
       " 17: 0.95,\n",
       " 18: 0.95,\n",
       " 19: 0.95}"
      ]
     },
     "execution_count": 22,
     "metadata": {},
     "output_type": "execute_result"
    }
   ],
   "source": [
    "scores"
   ]
  },
  {
   "cell_type": "code",
   "execution_count": 23,
   "id": "5858acb8",
   "metadata": {},
   "outputs": [
    {
     "name": "stdout",
     "output_type": "stream",
     "text": [
      "0.9, 0.875, 0.9, 0.925, 0.95, 0.925, 0.95, 0.95, 0.95, 0.95, 0.95, 0.95, 0.95, 0.95, 0.95, 0.95, 0.95, 0.95, 0.95\n"
     ]
    }
   ],
   "source": [
    "print(*scores_list, sep = \", \")"
   ]
  },
  {
   "cell_type": "code",
   "execution_count": 24,
   "id": "f3dd7b45",
   "metadata": {},
   "outputs": [
    {
     "data": {
      "image/png": "[encoded data removed]",
      "text/plain": [
       "<Figure size 640x480 with 1 Axes>"
      ]
     },
     "metadata": {},
     "output_type": "display_data"
    }
   ],
   "source": [
    "import matplotlib.pyplot as plt\n",
    "\n",
    "# vamos fazer o plot da relação entre o aumento do nº de vizinhos k\n",
    "# e o valor da accuracy medido nos dados de Teste\n",
    "plt.plot(k_range, scores_list)\n",
    "plt.xlabel(\"Valor de k no KNN\")\n",
    "plt.ylabel(\"Testing Accuracy\")\n",
    "plt.show()"
   ]
  },
  {
   "cell_type": "code",
   "execution_count": 25,
   "id": "1087615a",
   "metadata": {},
   "outputs": [
    {
     "name": "stdout",
     "output_type": "stream",
     "text": [
      "O elemento [5.88213357, 3.75041164] gosta mais de salgados\n",
      "O elemento [1.6546771, 3.6924546] gosta mais de doces\n"
     ]
    }
   ],
   "source": [
    "# parece não haver ganhos a partir dos 8 vizinhos\n",
    "knn = KNeighborsClassifier(n_neighbors = 8)\n",
    "knn.fit(X_train, y_train) \n",
    "\n",
    "classes = {0: 'doces', 1: 'salgados'}\n",
    "\n",
    "x_new = [[5.88213357, 3.75041164], [1.6546771, 3.6924546 ]]\n",
    "y_predict = knn.predict(x_new)\n",
    "y_predict_prob = knn.predict_proba(x_new)\n",
    "\n",
    "print('O elemento {0} gosta mais de {1}'.format(x_new[0],classes[y_predict[0]]))\n",
    "print('O elemento {0} gosta mais de {1}'.format(x_new[1],classes[y_predict[1]]))"
   ]
  },
  {
   "cell_type": "markdown",
   "id": "317a4a87",
   "metadata": {},
   "source": [
    "# 3. Matriz de Confusão"
   ]
  },
  {
   "cell_type": "code",
   "execution_count": 60,
   "id": "919bef4d",
   "metadata": {},
   "outputs": [],
   "source": [
    "from sklearn.datasets import make_blobs\n",
    "import matplotlib.pyplot as plt\n",
    "import numpy as np\n",
    "\n",
    "centers = [[2, 3], [5, 5]]\n",
    "n_classes = len(centers)\n",
    "data, labels = make_blobs(n_samples=200, \n",
    "                          centers=np.array(centers),\n",
    "                          random_state=1)"
   ]
  },
  {
   "cell_type": "code",
   "execution_count": 61,
   "id": "d9d27c33",
   "metadata": {},
   "outputs": [
    {
     "data": {
      "image/png": "[encoded data removed]",
      "text/plain": [
       "<Figure size 640x480 with 1 Axes>"
      ]
     },
     "metadata": {},
     "output_type": "display_data"
    }
   ],
   "source": [
    "import matplotlib.pyplot as plt\n",
    "\n",
    "colours = ('orange', 'blue')\n",
    "# n_classes = 2\n",
    "\n",
    "fig, ax = plt.subplots()\n",
    "for n_class in range(0, n_classes):\n",
    "    ax.scatter(data[labels==n_class, 0], data[labels==n_class, 1], \n",
    "               c=colours[n_class], s=10, label=str(n_class))\n",
    "\n",
    "\n",
    "\n",
    "ax.legend(loc='upper right');"
   ]
  },
  {
   "cell_type": "code",
   "execution_count": 62,
   "id": "8444e3c4",
   "metadata": {},
   "outputs": [],
   "source": [
    "from sklearn.model_selection import train_test_split\n",
    "\n",
    "X_train, X_test, y_train, y_test = train_test_split(data, labels, train_size=0.8, test_size=0.2, random_state=1)"
   ]
  },
  {
   "cell_type": "code",
   "execution_count": 63,
   "id": "57174c98",
   "metadata": {},
   "outputs": [
    {
     "data": {
      "text/plain": [
       "0.925"
      ]
     },
     "execution_count": 63,
     "metadata": {},
     "output_type": "execute_result"
    }
   ],
   "source": [
    "# Create and fit a nearest-neighbor classifier\n",
    "from sklearn.neighbors import KNeighborsClassifier\n",
    "from sklearn import metrics\n",
    "\n",
    "knn = KNeighborsClassifier(n_neighbors = 6)\n",
    "    \n",
    "knn.fit(X_train, y_train)\n",
    "\n",
    "y_pred = knn.predict(X_test)\n",
    "\n",
    "score = metrics.accuracy_score(y_test, y_pred)\n",
    "score"
   ]
  },
  {
   "cell_type": "code",
   "execution_count": 64,
   "id": "3c3afab3",
   "metadata": {},
   "outputs": [
    {
     "data": {
      "text/plain": [
       "array([1.        , 0.16666667, 0.66666667, 0.        , 1.        ,\n",
       "       1.        , 1.        , 0.5       , 0.        , 0.        ,\n",
       "       1.        , 1.        , 1.        , 1.        , 1.        ,\n",
       "       0.16666667, 1.        , 1.        , 1.        , 0.16666667,\n",
       "       0.        , 0.66666667, 0.        , 1.        , 1.        ,\n",
       "       1.        , 0.16666667, 1.        , 0.        , 0.83333333,\n",
       "       1.        , 0.        , 1.        , 1.        , 0.        ,\n",
       "       1.        , 0.33333333, 0.        , 1.        , 0.16666667])"
      ]
     },
     "execution_count": 64,
     "metadata": {},
     "output_type": "execute_result"
    }
   ],
   "source": [
    "knn.predict_proba(X_test)[:, 1]"
   ]
  },
  {
   "cell_type": "code",
   "execution_count": 65,
   "id": "21ea83b8",
   "metadata": {},
   "outputs": [
    {
     "data": {
      "text/plain": [
       "array([[14,  1],\n",
       "       [ 2, 23]], dtype=int64)"
      ]
     },
     "execution_count": 65,
     "metadata": {},
     "output_type": "execute_result"
    }
   ],
   "source": [
    "from sklearn.metrics import confusion_matrix\n",
    "\n",
    "confusion_matrix(y_test, y_pred)"
   ]
  },
  {
   "cell_type": "code",
   "execution_count": 66,
   "id": "da8fb7e5",
   "metadata": {},
   "outputs": [
    {
     "data": {
      "text/plain": [
       "array([1, 0, 1, 0, 1, 1, 1, 1, 1, 0, 1, 1, 1, 1, 1, 0, 1, 1, 1, 0, 0, 1,\n",
       "       0, 1, 1, 1, 0, 1, 0, 0, 1, 0, 1, 1, 0, 1, 0, 0, 1, 0])"
      ]
     },
     "execution_count": 66,
     "metadata": {},
     "output_type": "execute_result"
    }
   ],
   "source": [
    "y_test"
   ]
  },
  {
   "cell_type": "code",
   "execution_count": 67,
   "id": "cf2c1c24",
   "metadata": {},
   "outputs": [
    {
     "name": "stdout",
     "output_type": "stream",
     "text": [
      "           pred: No  pred: Yes\n",
      "real: No         14          1\n",
      "real: Yes         2         23\n"
     ]
    }
   ],
   "source": [
    "cm = confusion_matrix(y_test, y_pred)\n",
    "print(pd.DataFrame(cm,columns = ['pred: No','pred: Yes'],\n",
    "                   index = ['real: No','real: Yes']))"
   ]
  },
  {
   "cell_type": "code",
   "execution_count": 68,
   "id": "016df97f",
   "metadata": {},
   "outputs": [
    {
     "name": "stdout",
     "output_type": "stream",
     "text": [
      "Precision: 0.958\n",
      "Recall: 0.920\n",
      "Accuracy: 0.925\n"
     ]
    }
   ],
   "source": [
    "from sklearn.metrics import precision_score, recall_score, accuracy_score\n",
    "\n",
    "print('Precision: %.3f' % precision_score(y_test, y_pred))\n",
    "print('Recall: %.3f' % recall_score(y_test, y_pred))\n",
    "print('Accuracy: %.3f' % accuracy_score(y_test, y_pred))"
   ]
  },
  {
   "cell_type": "markdown",
   "id": "33beb8da",
   "metadata": {},
   "source": [
    "### Vamos calcular manualmente usando as fórmulas"
   ]
  },
  {
   "cell_type": "code",
   "execution_count": 69,
   "id": "782fdda9",
   "metadata": {},
   "outputs": [
    {
     "data": {
      "text/plain": [
       "0.925"
      ]
     },
     "execution_count": 69,
     "metadata": {},
     "output_type": "execute_result"
    }
   ],
   "source": [
    "# Accuracy = TP + TN / P + N\n",
    "f_acc = (23 + 14)/ (( 2 + 23) + (14 + 1))\n",
    "f_acc"
   ]
  },
  {
   "cell_type": "code",
   "execution_count": 70,
   "id": "2b3dbec3",
   "metadata": {},
   "outputs": [
    {
     "data": {
      "text/plain": [
       "0.92"
      ]
     },
     "execution_count": 70,
     "metadata": {},
     "output_type": "execute_result"
    }
   ],
   "source": [
    "# Recall ou sensitivity ou TPR - linha yes da matriz\n",
    "# Dos que são positivos quantos previu?\n",
    "# TPR = TP / P\n",
    "f_recall = 23 / 25\n",
    "f_recall"
   ]
  },
  {
   "cell_type": "code",
   "execution_count": 71,
   "id": "8a1f7d8d",
   "metadata": {},
   "outputs": [
    {
     "name": "stdout",
     "output_type": "stream",
     "text": [
      "           pred: No  pred: Yes\n",
      "real: No         14          1\n",
      "real: Yes         2         23\n"
     ]
    }
   ],
   "source": [
    "print(pd.DataFrame(cm,columns = ['pred: No','pred: Yes'], index = ['real: No','real: Yes']))"
   ]
  },
  {
   "cell_type": "code",
   "execution_count": 73,
   "id": "bc050356",
   "metadata": {},
   "outputs": [
    {
     "data": {
      "text/plain": [
       "0.9583333333333334"
      ]
     },
     "execution_count": 73,
     "metadata": {},
     "output_type": "execute_result"
    }
   ],
   "source": [
    "# Precision - coluna yes da matriz\n",
    "# Dos que previu como positivos quantos eram realmente positivos? \n",
    "# Precision = TP / TP + FP\n",
    "f_precision = 23 / (23 + 1)\n",
    "f_precision"
   ]
  },
  {
   "cell_type": "code",
   "execution_count": 74,
   "id": "d99bd8a8",
   "metadata": {},
   "outputs": [
    {
     "data": {
      "text/plain": [
       "0.9333333333333333"
      ]
     },
     "execution_count": 74,
     "metadata": {},
     "output_type": "execute_result"
    }
   ],
   "source": [
    "# Specificity ou Selectivity ou TNR - Linha no da matriz\n",
    "# TNR = TN / N \n",
    "f_specificity = 14 / (14 + 1)\n",
    "f_specificity"
   ]
  },
  {
   "cell_type": "markdown",
   "id": "3e436747",
   "metadata": {},
   "source": [
    "# 4. Receiver Operating Characteristics (ROC) e Area Under the Curve (AUC)\n",
    "\n",
    "Recordem que sempre que variámos o nº de vizinhos (ou outros parâmetros do algoritmo) obtemos um classificador diferente.\n",
    "Quando variamos o threshold da decisão obtemos uma nova matriz de confusão do mesmo classificador e é isso que nos permite desenhar a curva ROC."
   ]
  },
  {
   "cell_type": "code",
   "execution_count": 78,
   "id": "740b4bd4",
   "metadata": {},
   "outputs": [],
   "source": [
    "model = knn.fit(X_train, y_train)"
   ]
  },
  {
   "cell_type": "code",
   "execution_count": 80,
   "id": "44d0f2be",
   "metadata": {},
   "outputs": [
    {
     "data": {
      "image/png": "[encoded data removed]",
      "text/plain": [
       "<Figure size 640x480 with 1 Axes>"
      ]
     },
     "metadata": {},
     "output_type": "display_data"
    }
   ],
   "source": [
    "from sklearn.metrics import roc_curve, RocCurveDisplay\n",
    "\n",
    "fpr, tpr, thresholds = roc_curve(y_test,model.predict_proba(X_test)[:,1],\n",
    "                                 drop_intermediate=False)\n",
    "\n",
    "knn_disp = RocCurveDisplay.from_estimator(model, X_train, y_train)\n",
    "roc_disp = RocCurveDisplay.from_estimator(model, X_test, y_test, ax=knn_disp.ax_)"
   ]
  },
  {
   "cell_type": "code",
   "execution_count": 81,
   "id": "985aa2de",
   "metadata": {},
   "outputs": [
    {
     "data": {
      "text/plain": [
       "array([       inf, 1.        , 0.83333333, 0.66666667, 0.5       ,\n",
       "       0.33333333, 0.16666667, 0.        ])"
      ]
     },
     "execution_count": 81,
     "metadata": {},
     "output_type": "execute_result"
    }
   ],
   "source": [
    "thresholds"
   ]
  },
  {
   "cell_type": "code",
   "execution_count": 83,
   "id": "b8480627",
   "metadata": {},
   "outputs": [
    {
     "name": "stdout",
     "output_type": "stream",
     "text": [
      "           pred: No  pred: Yes\n",
      "real: No         14          1\n",
      "real: Yes         2         23\n"
     ]
    }
   ],
   "source": [
    "cm = confusion_matrix(y_test, y_pred)\n",
    "print(pd.DataFrame(cm,columns = ['pred: No','pred: Yes'],\n",
    "                   index = ['real: No','real: Yes']))"
   ]
  },
  {
   "cell_type": "code",
   "execution_count": 85,
   "id": "4ddc980f",
   "metadata": {},
   "outputs": [
    {
     "data": {
      "text/plain": [
       "0.06666666666666667"
      ]
     },
     "execution_count": 85,
     "metadata": {},
     "output_type": "execute_result"
    }
   ],
   "source": [
    "# FPR = FP / N\n",
    "FPR_50 = 1 / 15\n",
    "FPR_50"
   ]
  },
  {
   "cell_type": "code",
   "execution_count": 86,
   "id": "b7fb340e",
   "metadata": {},
   "outputs": [
    {
     "data": {
      "text/plain": [
       "0.92"
      ]
     },
     "execution_count": 86,
     "metadata": {},
     "output_type": "execute_result"
    }
   ],
   "source": [
    "# TPR = TP / P\n",
    "TPR_50 = 23 / 25\n",
    "TPR_50"
   ]
  },
  {
   "attachments": {
    "Thrs_50.png": {
     "image/png": "[encoded data removed]"
    }
   },
   "cell_type": "markdown",
   "id": "e3251b1c",
   "metadata": {},
   "source": [
    "![Thrs_50.png](attachment:Thrs_50.png)"
   ]
  },
  {
   "cell_type": "code",
   "execution_count": 87,
   "id": "35a36ab1",
   "metadata": {},
   "outputs": [
    {
     "name": "stdout",
     "output_type": "stream",
     "text": [
      "           pred: No  pred: Yes\n",
      "real: No         13          2\n",
      "real: Yes         1         24\n"
     ]
    }
   ],
   "source": [
    "threshold = 0.33\n",
    "y_pred = (model.predict_proba(X_test)[:, 1] > threshold)\n",
    "\n",
    "cm_thr33 = confusion_matrix(y_test, y_pred)\n",
    "print(pd.DataFrame(cm_thr33,columns = ['pred: No','pred: Yes'],\n",
    "                   index = ['real: No','real: Yes']))"
   ]
  },
  {
   "cell_type": "code",
   "execution_count": 88,
   "id": "a8c0b90f",
   "metadata": {},
   "outputs": [
    {
     "name": "stdout",
     "output_type": "stream",
     "text": [
      "O FPR é 0.13333333333333333 quando o TPR é 0.96\n"
     ]
    }
   ],
   "source": [
    "# FPR = FP / N\n",
    "FPR_33 = 2 / 15\n",
    "# TPR = TP / P\n",
    "TPR_33 = 24 / 25\n",
    "print('O FPR é {0} quando o TPR é {1}' . format(FPR_33,TPR_33))"
   ]
  },
  {
   "attachments": {
    "Thrs_35.png": {
     "image/png": "[encoded data removed]"
    }
   },
   "cell_type": "markdown",
   "id": "34abcc34",
   "metadata": {},
   "source": [
    "![Thrs_35.png](attachment:Thrs_35.png)"
   ]
  },
  {
   "cell_type": "code",
   "execution_count": 89,
   "id": "d37a5dfa",
   "metadata": {},
   "outputs": [
    {
     "name": "stdout",
     "output_type": "stream",
     "text": [
      "           pred: No  pred: Yes\n",
      "real: No         14          1\n",
      "real: Yes         4         21\n"
     ]
    }
   ],
   "source": [
    "threshold = 0.83\n",
    "y_pred = (model.predict_proba(X_test)[:, 1] > threshold)\n",
    "\n",
    "cm_thr83 = confusion_matrix(y_test, y_pred)\n",
    "print(pd.DataFrame(cm_thr83,columns = ['pred: No','pred: Yes'],\n",
    "                   index = ['real: No','real: Yes']))"
   ]
  },
  {
   "cell_type": "code",
   "execution_count": 90,
   "id": "f141b151",
   "metadata": {},
   "outputs": [
    {
     "name": "stdout",
     "output_type": "stream",
     "text": [
      "O FPR é 0.06666666666666667 quando o TPR é 0.84\n"
     ]
    }
   ],
   "source": [
    "# FPR = FP / N\n",
    "FPR_83 = 1 / 15\n",
    "# TPR = TP / P\n",
    "TPR_83 = 21 / 25\n",
    "print('O FPR é {0} quando o TPR é {1}' . format(FPR_83,TPR_83))"
   ]
  },
  {
   "cell_type": "code",
   "execution_count": 94,
   "id": "d85c9edb",
   "metadata": {},
   "outputs": [
    {
     "data": {
      "image/png": "[encoded data removed]",
      "text/plain": [
       "<Figure size 640x480 with 1 Axes>"
      ]
     },
     "metadata": {},
     "output_type": "display_data"
    }
   ],
   "source": [
    "knn_disp = RocCurveDisplay.from_estimator(model, X_test, y_test)"
   ]
  },
  {
   "cell_type": "code",
   "execution_count": null,
   "id": "b64396d4",
   "metadata": {},
   "outputs": [],
   "source": []
  }
 ],
 "metadata": {
  "kernelspec": {
   "display_name": "Python 3 (ipykernel)",
   "language": "python",
   "name": "python3"
  },
  "language_info": {
   "codemirror_mode": {
    "name": "ipython",
    "version": 3
   },
   "file_extension": ".py",
   "mimetype": "text/x-python",
   "name": "python",
   "nbconvert_exporter": "python",
   "pygments_lexer": "ipython3",
   "version": "3.11.5"
  }
 },
 "nbformat": 4,
 "nbformat_minor": 5
}
