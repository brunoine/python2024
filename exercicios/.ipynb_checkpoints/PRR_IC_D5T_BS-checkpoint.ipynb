{
 "cells": [
  {
   "cell_type": "markdown",
   "id": "c36c17f1",
   "metadata": {},
   "source": [
    "# Parte 3 (Geopandas - Importar Dados e Mapas Tematicos)\n",
    "\n",
    "**Conteudo**\n",
    "- Import XY a partir de um Ficheiro\n",
    "- Shapely Geometry num DataFrame\n",
    "- Join Data para um DataFrame\n",
    "- Cholopleth\\Mapas Tematicos\n",
    "\n",
    "    \n",
    "**Links Úteis**\n",
    "- [Mapping and plotting tools - Tutorial GeoPandas](https://geopandas.org/en/stable/docs/user_guide/mapping.html)\n",
    "- [Choropleth classification schemes from PySAL for use with GeoPandas](https://geopandas.org/en/stable/gallery/choropleths.html)\n",
    "\n"
   ]
  },
  {
   "cell_type": "markdown",
   "id": "b0229465",
   "metadata": {},
   "source": [
    "## Importar Datasets Módulo Inicial\n",
    "\n",
    "**Dados a Utilizar nestes exemplos**\n",
    "- Dados por NUTS3 C2021 (df_n3_c2021)\n",
    "- Dados Centros de Saude (df_n3_c2021)\n"
   ]
  },
  {
   "cell_type": "markdown",
   "id": "74ce091c",
   "metadata": {},
   "source": [
    "### Importar Dados Censos2021 por NUTS3 e Municipio"
   ]
  },
  {
   "cell_type": "code",
   "execution_count": null,
   "id": "36aefaee",
   "metadata": {},
   "outputs": [],
   "source": [
    "# Obter Password e Utilizador para Ligacao SQL\n",
    "from getpass import getpass # para ler a password sem a mostrar\n",
    "my_user = '\"BART.SCHOEN\"[BDIFRM]' \n",
    "my_password = getpass()"
   ]
  },
  {
   "cell_type": "code",
   "execution_count": null,
   "id": "bf353fe5",
   "metadata": {},
   "outputs": [],
   "source": [
    "# Ler Dados da BD\n",
    "# criar conexão\n",
    "import cx_Oracle \n",
    "import pandas as pd\n",
    "host = 'c21oradev01.int.ine.pt'\n",
    "port = '1521'\n",
    "service = 'FORMACAO'\n",
    "dsn_tns = cx_Oracle.makedsn(host, port, service_name=service) \n",
    "\n",
    "\n",
    "# Criar a conexão com todos os elementos,\n",
    "# incluingo user e password\n",
    "conn = cx_Oracle.connect(user=my_user, password=my_password, dsn=dsn_tns) \n",
    "\n",
    "# Cursor:\n",
    "# Criar o cursor na conexão conn que criámos antes\n",
    "c = conn.cursor()\n",
    "\n",
    "# Ler Diferentes Views para Pandas DF\n",
    "# -----------------------------------\n",
    "# Dados por NUTS3:\n",
    "\n",
    "# SQL String\n",
    "my_sql = \"\"\"\n",
    "select *\n",
    "from BDIFRM.V_BGRI2021_N3_PT \n",
    "\"\"\"\n",
    "\n",
    "# Executar o cursor c com a string como parâmetro\n",
    "c.execute(my_sql)\n",
    "# Criar Nomes colunas\n",
    "names = [ x[0] for x in c.description]\n",
    "df_n3_c2021 = pd.DataFrame(c.fetchall(), columns = names)\n"
   ]
  },
  {
   "cell_type": "markdown",
   "id": "924a25b5",
   "metadata": {},
   "source": [
    "## Criar Dados Geográficos a partir Tabela (ACES)\n"
   ]
  },
  {
   "cell_type": "markdown",
   "id": "3aac0fda",
   "metadata": {},
   "source": [
    "### Importar dados dataset DGS Utentes\n",
    "\n",
    "**Dataset foi Utilizado na formação BASIC**\n",
    "- Mostra a Evolução Mensal de utentes atendidos nos Centros de Saúde agregado por ACES\n",
    "- Informação Dataset: https://dados.gov.pt/pt/datasets/evolucao-mensal-de-utentes-atendidos-nos-centros-de-saude-agregado-por-aces-no-ambito-da-saude-oral-nos-cuidados-de-saude-primarios-socsp/#resources\n",
    "- O ficheiro tem a localização geográfica dos diferentes ACES \n",
    "- Tarefas na importação:\n",
    "    - Obter Dados por ACES\n",
    "    - Criar atributos seprados de Latitude(Y) e Longitude (X)\n",
    "    - Assegurar que os atributos são de formato numerico\n",
    "    - Criar GeoDataFrame"
   ]
  },
  {
   "cell_type": "code",
   "execution_count": null,
   "id": "256abc96",
   "metadata": {},
   "outputs": [],
   "source": [
    "# Importar dados DGS Utentes em Centros de Saude\n",
    "# Ver referencia:  https://dados.gov.pt/pt/datasets/evolucao-mensal-de-utentes-atendidos-nos-centros-de-saude-agregado-por-aces-no-ambito-da-saude-oral-nos-cuidados-de-saude-primarios-socsp/#resources\n",
    "# Atributos: Período, ARS, ACES, Localização Geográfica, Sexo, Faixa Etária, Nº Utentes,ID \n",
    "import pandas as pd\n",
    "\n",
    "# Link DGS (Utentes Centro Saude)  \n",
    "ficheiro = r'http://dados.gov.pt/pt/datasets/r/dc54ea6f-31f3-483b-a719-718d0d7451f3'\n",
    "# Ler ficheiro do computador:\n",
    "#ficheiro = r'C:\\TEMp\\utentes-atendidos-nos-centros-de-saude-no-ambito-da-soep.csv'\n",
    "\n",
    "# Importar em DataFrame\n",
    "encoding = 'utf-8'\n",
    "df_utentes = pd.read_csv(ficheiro, sep=';', encoding=encoding)\n",
    "\n",
    "\n",
    "# Mostrar informação df\n",
    "print(df_utentes.head(5))\n",
    "print(df_utentes.info())\n",
    "print(df_utentes.describe())"
   ]
  },
  {
   "cell_type": "markdown",
   "id": "63d34800",
   "metadata": {},
   "source": [
    "### Importar Dados ACES num GDF\n",
    "**Tarefas**\n",
    "- Importar DataFrame\n",
    "- Criar Atributos Geograficos lat e long\n",
    "    - Objecto \"Localização Geográfica\" está a ser importado como listagem (Series object)\n",
    "    - Assegurar que atributos numericos são numericos\n",
    "- Criar Novo DataFrame com apenas Localizações dos ACES\n",
    "    - Fazer groupby\n",
    "    - Somatorio de \"Nº Utentes\"\n",
    "- Criar GeoDataFrame destes dados    \n"
   ]
  },
  {
   "cell_type": "code",
   "execution_count": null,
   "id": "43103e14",
   "metadata": {},
   "outputs": [],
   "source": [
    "# Verificar os Dados\n",
    "# Total numero de Pontos Unicos para Ficheiro:\n",
    "print('Num localizações Geográficos:',len(df_utentes['Localização Geográfica'].unique()))\n",
    "\n",
    "# Verificar valores únicos de outras variáveis\n",
    "print('Num ACES:',len(df_utentes['ACES'].unique()))\n",
    "print('Num ARS:',len(df_utentes['ARS'].unique()))\n",
    "print(df_utentes['Faixa Etária'].unique())\n",
    "print(df_utentes['Sexo'].unique())\n"
   ]
  },
  {
   "cell_type": "code",
   "execution_count": null,
   "id": "c22a989c",
   "metadata": {},
   "outputs": [],
   "source": [
    "# DataFrame com dados Utentes: df_utentes\n",
    "\n",
    "# Criar Colunas lat e Long a partir da coluna 'Localização Geográfica'\n",
    "# no ficheiro original a informação existe em apenas uma coluna\n",
    "print (\"Tipo de atributo\", type(df_utentes['Localização Geográfica']))\n",
    "# Fazer um Split dos Valores utilizando virgula como separador\n",
    "df_utentes[['lat', 'long']] = df_utentes['Localização Geográfica'].str.split(',', expand=True)\n",
    "\n",
    "# Mostrar informação df\n",
    "print(df_utentes.info())\n"
   ]
  },
  {
   "cell_type": "code",
   "execution_count": null,
   "id": "80f77386",
   "metadata": {},
   "outputs": [],
   "source": [
    "# Criar DataFrame com Pontos Unicos e Numero de Utentos\n",
    "\n",
    "# Total numero de Pontos Unicos para Ficheiro:\n",
    "print('Num loc:',len(df_utentes['Localização Geográfica'].unique()))\n",
    "\n",
    "# Converter variaveis numericos para numeric\n",
    "df_utentes['Nº Utentes'] = pd.to_numeric(df_utentes['Nº Utentes'], errors='coerce')\n",
    "df_utentes['lat'] = pd.to_numeric(df_utentes['lat'], errors='coerce')\n",
    "df_utentes['long'] = pd.to_numeric(df_utentes['long'], errors='coerce')\n",
    "\n",
    "# Criar Novo DataFrame com ACES e Soma Nº Utentes\n",
    "# Group by 'ARS', 'ACES', 'Localização Geográfica'\n",
    "# O nº de utentes é um exemplo de um atributo que podemos utilizar para visualização\n",
    "df_aces = df_utentes.groupby(['ARS', 'ACES', 'Localização Geográfica','lat', 'long']).agg({\n",
    "    'Nº Utentes': 'sum'\n",
    "}).reset_index()\n",
    "\n",
    "print(df_aces.head())\n"
   ]
  },
  {
   "cell_type": "code",
   "execution_count": null,
   "id": "a05d6f20",
   "metadata": {},
   "outputs": [],
   "source": [
    "# Mesmo com Pandas DataFrame já é posivel mostrar a geografia\n",
    "# Importar Bibliotecas\n",
    "import pandas as pd\n",
    "import matplotlib.pyplot as plt\n",
    "\n",
    "# Mostrar a localização\n",
    "plt.scatter(df_aces.long, df_aces.lat)\n",
    " \n",
    "# Show the plot\n",
    "plt.show()\n"
   ]
  },
  {
   "cell_type": "code",
   "execution_count": null,
   "id": "4c385167",
   "metadata": {},
   "outputs": [],
   "source": [
    "# Criar GeoDataFrame \n",
    "import pandas as pd\n",
    "import geopandas as gpd\n",
    "from shapely.geometry import Point\n",
    "\n",
    "# Criar a Coluna de geometry no DF a partir informação atributos long e lat \n",
    "# Utiliza-se o Point Object do modulo shapely\n",
    "# lambda - função anônima no Python \n",
    "# df_aces.apply - applica a função a cada linha do DF\n",
    "# Argumento apply: axis = 1. Função deve ocorrer para todos as linhas\n",
    "df_aces['geometry'] = df_aces.apply(lambda x: Point(float(x.long), float(x.lat)), axis=1)\n",
    " \n",
    "# Create a GeoDataFrame from art and verify the type\n",
    "gdf_aces = gpd.GeoDataFrame(df_aces, crs = \"EPSG:4326\", geometry = df_aces.geometry)\n",
    "\n",
    "print(type(gdf_aces))"
   ]
  },
  {
   "cell_type": "markdown",
   "id": "bb121602",
   "metadata": {},
   "source": [
    "### Importar Dados Poligonos\n"
   ]
  },
  {
   "cell_type": "code",
   "execution_count": null,
   "id": "13cca56c",
   "metadata": {},
   "outputs": [],
   "source": [
    "# Shapefile NUTS3: NUTS3_2015_PT.shp (dados estão em WebMercator)\n",
    "# Mostrar Geografia\n",
    "import geopandas as gpd\n",
    "import matplotlib.pyplot as plt\n",
    "\n",
    "# Carregar Dados com read_file (Shapefile preferivel, GeoJSON -  Mais Lento)\n",
    "# Mudar Caminho para onde estão os dados - atenção de ter os ficheiros .shp\\.shx\\.dbf\\.prj\n",
    "file_path = r\"C:\\TEMp\\NUTS3_2015_PT.shp\"\n",
    "\n",
    "# Definir o encoding para evitar problemas de desenho dos nomes\n",
    "encoding = 'utf-8'  \n",
    "# Ler Shapefile:\n",
    "gdf_nuts3 = gpd.read_file(file_path, encoding=encoding)\n",
    "\n",
    "print(gdf_nuts3.info())\n",
    "\n",
    "\n"
   ]
  },
  {
   "cell_type": "markdown",
   "id": "2ffb8e31",
   "metadata": {},
   "source": [
    "### Mostrar Pontos junto com Polygons\n"
   ]
  },
  {
   "cell_type": "code",
   "execution_count": null,
   "id": "6cf97694",
   "metadata": {},
   "outputs": [],
   "source": [
    "import geopandas as gpd\n",
    "import matplotlib.pyplot as plt\n",
    "    \n",
    "# Existem diferenças entre o CRS!\n",
    "print(\"CRS of the GeoDataFrame:\", gdf_aces.crs)\n",
    "print(\"CRS of the GeoDataFrame:\", gdf_nuts3.crs)\n",
    "\n",
    "# Diferença nos CRS -> Converter para WebMercator\n",
    "gdf_aces_m = gdf_aces.to_crs(\"epsg:3857\")\n",
    "\n",
    "# Obter apenas Municipios do Continente:\n",
    "gdf_nuts3_sel = gdf_nuts3.loc[gdf_nuts3.NUTS1 == '1']\n",
    "\n",
    "# Mostrar os 2 mapas:\n",
    "# Argumento cmap tem a predefinição de cores\n",
    "# Lista Referencias ColorMaps: https://matplotlib.org/stable/gallery/color/colormap_reference.html\n",
    "ax = gdf_nuts3_sel.plot(column='NUTS3', \n",
    "                        cmap='Set2', \n",
    "                        legend=True, \n",
    "                        figsize=(10, 8))\n",
    "\n",
    "# Imprimir os pontos no mesmo ax (subplot)\n",
    "# Lista MatPlotLib cores: https://matplotlib.org/stable/gallery/color/named_colors.html\n",
    "gdf_aces_m.plot(ax=ax, \n",
    "                color='red',\n",
    "                markersize=30, \n",
    "                edgecolor='Black', \n",
    "                label='Cidades')\n",
    "\n",
    "# Adicionar Legenda\n",
    "ax.legend()\n",
    "plt.title('Localização das ACES por NUTS3')\n",
    "\n",
    "# Mostrar o plot\n",
    "plt.show()\n"
   ]
  },
  {
   "cell_type": "markdown",
   "id": "311a95cc",
   "metadata": {},
   "source": [
    "### Package Contextily permite adicionar um basemap\n",
    "\n",
    "- Contextily permite adicionar basemap ao ax\n",
    "- Por default é o OpenStreetMaps (OSM)\n",
    "- Este exemplo mostra que com 2 linhas extra conseguimos ver os dados do OSM\n"
   ]
  },
  {
   "cell_type": "code",
   "execution_count": null,
   "id": "4be920da",
   "metadata": {},
   "outputs": [],
   "source": [
    "import geopandas as gpd\n",
    "import matplotlib.pyplot as plt\n",
    "# Import contextily\n",
    "import contextily\n",
    "    \n",
    "# Existem diferenças entre o CRS!\n",
    "print(\"CRS of the GeoDataFrame:\", gdf_aces.crs)\n",
    "print(\"CRS of the GeoDataFrame:\", gdf_nuts3.crs)\n",
    "\n",
    "# Diferença nos CRS -> Converter para WebMercator\n",
    "gdf_aces_m = gdf_aces.to_crs(\"epsg:3857\")\n",
    "\n",
    "# Obter apenas Municipios do Continente:\n",
    "gdf_nuts3_sel = gdf_nuts3.loc[gdf_nuts3.NUTS1 == '1']\n",
    "\n",
    "# Mostrar os 2 mapas:\n",
    "# Argumento cmap tem a predefinição de cores\n",
    "# Lista Referencias ColorMaps: https://matplotlib.org/stable/gallery/color/colormap_reference.html\n",
    "# Adicionar Transperência (alpha) ao layer\n",
    "ax = gdf_nuts3_sel.plot(column='NUTS3', \n",
    "                        cmap='Set2', \n",
    "                        legend=True, \n",
    "                        figsize=(10, 8),\n",
    "                       alpha = 0.5)\n",
    "\n",
    "# Imprimir os pontos no mesmo ax (subplot)\n",
    "# Lista MatPlotLib cores: https://matplotlib.org/stable/gallery/color/named_colors.html\n",
    "gdf_aces_m.plot(ax=ax, \n",
    "                color='red',\n",
    "                markersize=30, \n",
    "                edgecolor='Black', \n",
    "                label='ACES')\n",
    "\n",
    "# Adicionar um BaseMap no Ax\n",
    "contextily.add_basemap(ax)\n",
    "\n",
    "# Adicionar Legenda\n",
    "ax.legend()\n",
    "plt.title('Localização das ACES por NUTS3')\n",
    "\n",
    "# Show the plot\n",
    "plt.show()\n"
   ]
  },
  {
   "cell_type": "markdown",
   "id": "d79702cc",
   "metadata": {},
   "source": [
    "## Obter Informações sobre o Objecto de Geometria\n",
    "**A partir do _geometry_ conseguimos obter um conjunto de caracteristicas**"
   ]
  },
  {
   "cell_type": "code",
   "execution_count": null,
   "id": "c0bf7bf7",
   "metadata": {},
   "outputs": [],
   "source": [
    "# Tipo de Dados da coluna de Geometria\n",
    "print (type(gdf_aces.geometry))\n",
    "print (type(gdf_nuts3_sel.geometry))\n",
    "print(gdf_nuts3_sel.info())\n"
   ]
  },
  {
   "cell_type": "markdown",
   "id": "403de100",
   "metadata": {},
   "source": [
    "### Obter a Área e Centroid\n"
   ]
  },
  {
   "cell_type": "code",
   "execution_count": null,
   "id": "b43cf830",
   "metadata": {},
   "outputs": [],
   "source": [
    "# Obter Informaçao Geografia - Utilizando gdf_caop\n",
    "# Importar geometry\n",
    "from shapely.geometry import Point, Polygon\n",
    "\n",
    "# Adicionar Nova coluna com area em Km2\n",
    "# Atenção Deveriamos adicionar novos atributos sempre a (Geo)DataFrame de Origem\n",
    "# Não adicionar a seleção, neste caso gdf_nuts3_sel!\n",
    "gdf_nuts3['area_km2'] = gdf_nuts3['geometry'].area / 10**6  \n",
    "\n",
    "# Ordenar por Area\n",
    "area_gdf = gdf_nuts3.sort_values(by='area_km2', ascending=False)\n",
    "\n",
    "# Print the GeoDataFrame with the new column\n",
    "print(area_gdf[['NUTS3','NUTS3_DSG', 'area_km2']])"
   ]
  },
  {
   "cell_type": "markdown",
   "id": "caf15fe7",
   "metadata": {},
   "source": [
    "**Por exemplo Adicionar uma nova coluna do Centroid**"
   ]
  },
  {
   "cell_type": "code",
   "execution_count": null,
   "id": "90483a56",
   "metadata": {},
   "outputs": [],
   "source": [
    "# Criar Nova coluna com Centroid\n",
    "# Adicionar Nova coluna com centroid\n",
    "gdf_nuts3['mn_center'] = gdf_nuts3['geometry'].centroid  \n",
    "\n",
    "# Print the GeoDataFrame with the new column\n",
    "print(gdf_nuts3[['NUTS3','NUTS3_DSG', 'mn_center']])\n"
   ]
  },
  {
   "cell_type": "markdown",
   "id": "207f6450",
   "metadata": {},
   "source": [
    "### Calcular Distance entre 2 Pontos\n"
   ]
  },
  {
   "cell_type": "code",
   "execution_count": null,
   "id": "d74a71af",
   "metadata": {},
   "outputs": [],
   "source": [
    "# Mostrar os nomes dos ACES\n",
    "print(gdf_aces.ACES.unique())\n"
   ]
  },
  {
   "cell_type": "code",
   "execution_count": null,
   "id": "61141485",
   "metadata": {},
   "outputs": [],
   "source": [
    "import geopandas as gpd\n",
    "from shapely.geometry import Point, Polygon\n",
    "\n",
    "# Calcular diancia entre 2 ACES ('Amadora' and 'Lisboa Central')\n",
    "\n",
    "# Como dados são em Graus Decimais será necessário de os converter para Metricos\n",
    "print(\"CRS gdf_aces:\", gdf_aces.crs)\n",
    "\n",
    "origem = 'Amadora'\n",
    "destino = 'Grande Porto V - Porto Ocidental'\n",
    "# Converter para WebMercator\n",
    "gdf_aces_m = gdf_aces.to_crs(\"epsg:3857\")\n",
    "\n",
    "# Filtrar as geometrias para obter a Origem e Destino definidos\n",
    "origem_geometry = gdf_aces_m[gdf_aces_m['ACES'] == origem]['geometry'].iloc[0]\n",
    "destino_geometry = gdf_aces_m[gdf_aces_m['ACES'] == destino]['geometry'].iloc[0]\n",
    "\n",
    "# Calculate the distance between 'Amadora' and 'Lisboa Central'\n",
    "distance_km = origem_geometry.distance(destino_geometry) / 1000  # Converter para quilómetro\n",
    "\n",
    "print(f\"A distância entre {origem} e {destino} é aproximadamente  {distance_km:.2f} quilómetros.\")\n"
   ]
  },
  {
   "cell_type": "markdown",
   "id": "1ca392b1",
   "metadata": {},
   "source": [
    "## Juntar Dados a um GDF"
   ]
  },
  {
   "cell_type": "markdown",
   "id": "1008ece6",
   "metadata": {},
   "source": [
    "### Importar Dados Alfanumericos NUTS3 "
   ]
  },
  {
   "cell_type": "code",
   "execution_count": null,
   "id": "fc1e388c",
   "metadata": {},
   "outputs": [],
   "source": [
    "# Obter Password e Utilizador para Ligacao SQL\n",
    "from getpass import getpass # para ler a password sem a mostrar\n",
    "my_user = '\"BART.SCHOEN\"[BDIFRM]' \n",
    "my_password = getpass()\n",
    "\n",
    "# Ler Dados da BD\n",
    "# criar conexão\n",
    "import cx_Oracle \n",
    "import pandas as pd\n",
    "host = 'c21oradev01.int.ine.pt'\n",
    "port = '1521'\n",
    "service = 'FORMACAO'\n",
    "dsn_tns = cx_Oracle.makedsn(host, port, service_name=service) \n",
    "\n",
    "\n",
    "# Criar a conexão com todos os elementos,\n",
    "# incluingo user e password\n",
    "conn = cx_Oracle.connect(user=my_user, password=my_password, dsn=dsn_tns) \n",
    "\n",
    "\n",
    "# Cursor:\n",
    "# Criar o cursor na conexão conn que criámos antes\n",
    "c = conn.cursor()\n",
    "\n",
    "# ---------------------------------\n",
    "# Ler View com Dados por NUTS3:\n",
    "\n",
    "# SQL String\n",
    "my_sql = \"\"\"\n",
    "select *\n",
    "from BDIFRM.V_BGRI2021_N3_PT \n",
    "\"\"\"\n",
    "\n",
    "# Executar o cursor c com a string como parâmetro\n",
    "c.execute(my_sql)\n",
    "# Criar Nomes colunas\n",
    "names = [ x[0] for x in c.description]\n",
    "df_n3_c2021 = pd.DataFrame(c.fetchall(), columns = names)\n"
   ]
  },
  {
   "cell_type": "markdown",
   "id": "18e36446",
   "metadata": {},
   "source": [
    "### Fazer JOIN dos Dados a GDF com as NUTS3"
   ]
  },
  {
   "cell_type": "code",
   "execution_count": null,
   "id": "f28431f3",
   "metadata": {},
   "outputs": [],
   "source": [
    "# Juntar Dados NUTS3 do C2021 a GDF com as areas NUTS3\n",
    "\n",
    "# Colunas Comuns: NUTS3 e NUTS3 - pode utilizar estas funções para ver os valores de ambos os DF\n",
    "#print(sorted(df_n3_c2021.NUTS3.unique()))\n",
    "#print(sorted(gdf_nuts3.NUTS3.unique()))\n",
    "\n",
    "# Fazer o Join, especificar: DF\n",
    "gdf_nuts3_2 = gdf_nuts3.merge(df_n3_c2021, left_on='NUTS3', right_on='NUTS3', how='left')\n",
    "\n",
    "print(gdf_nuts3_2.info())"
   ]
  },
  {
   "cell_type": "markdown",
   "id": "ecd199ab",
   "metadata": {},
   "source": [
    "## Criar Mapas Temáticos\n",
    "\n",
    "**Objectivo**\n",
    "- Visualizar a classificação da relação entre 2 variáveis por NUTS3"
   ]
  },
  {
   "cell_type": "code",
   "execution_count": null,
   "id": "bc22b4fe",
   "metadata": {},
   "outputs": [],
   "source": [
    "# Import packages\n",
    "import matplotlib.pyplot as plt\n",
    "import pandas as pd\n",
    "import geopandas as gpd\n",
    " \n",
    "# Exemplo criar Plot dos Areas NUTS3 - Mostrando total de população 65+ no total de população\n",
    "# Utilizar geodataframe com join \"gdf_nuts3_2\"\n",
    "\n",
    "# Selecionar Dados Portugal Continental:\n",
    "# Fazer Seleção da NUTS1_x , houve rename da coluna apos join\n",
    "gdf_nuts3_sel = gdf_nuts3_2.loc[gdf_nuts3_2.NUTS1_x == '1']\n",
    "\n",
    "# Definir Legenda \n",
    "lgnd_kwds = {'loc': 'upper left', \n",
    "             'bbox_to_anchor': (1, 1.03), \n",
    "             'ncol': 2}\n",
    "\n",
    "# Generate the choropleth and store the axis\n",
    "# natural_breaks\n",
    "ax = gdf_nuts3_sel.plot(column=gdf_nuts3_sel.N_INDIVIDUOS_65_OU_MAIS/gdf_nuts3_sel.N_INDIVIDUOS, \n",
    "                      scheme='quantiles', # natural_breaks, quantiles, equal_interval \n",
    "                      k=7, \n",
    "                      cmap='YlGn', \n",
    "                      legend=True,\n",
    "                      edgecolor = 'dimgray',\n",
    "                      legend_kwds  = lgnd_kwds)\n",
    " \n",
    "# Remover frames, ticks e tick labels do axis\n",
    "ax.set_axis_off()\n",
    "\n",
    "plt.title('Relacao população 65+ no total de população')\n",
    "plt.show()\n",
    "\n"
   ]
  },
  {
   "cell_type": "markdown",
   "id": "c9d9e857",
   "metadata": {},
   "source": [
    "## Exercicio 3: Criar Mapa Temático dos NUTS com apresentação de cidades Estatisticas \n",
    "\n",
    "**Objectivos**\n",
    "- Visualizar um Mapa Temático por NUTS3 de Portugal Continental utilizando a relação entre 2 variáveis\n",
    "- Apresentar os dados dos centroides das cidades estatísticas de Portugal continental\n",
    "\n",
    "\n",
    "**Metodologia** \n",
    "\n",
    "*Tratamento dos Dados NUTS3 (ver o código neste notebook - podem utilizar as variáveis criadas)*\n",
    "- Criar um GDF a partir do Shapefile dos NUTS3 \n",
    "- Fazer a seleção de Portugal continental\n",
    "- Fazer o Merge com os dados alfanuméricos do C2021 por NUTS3 (df_n3_c2021)\n",
    "- Criar mapa que mostra uma combinação de outras variáveis \n",
    "    por exemplo (N_EDIFICIOS_CONSTR_ANTES_1945 + N_EDIFICIOS_CONSTR_1946_1980) em relação a N_EDIFICIOS_CLASSICOS\n",
    "- Define uma paleta de cores e um esquema de distribuição  de valores\n",
    "\n",
    "*Tratamento dos os dados dos centroides das cidades estatísticas de Portugal continental (podem utilizar os exemplos do tratamento dos dados dos ACES)*\n",
    "\n",
    "- Dados de Input: CIDADES_PONTOS_CONT.CSV com os centroides das cidades estatísticas de Portugal continental\n",
    "    - Ficheiro tem os seguintes atributos: COD_CID, DESIG_CID, AREAFIN_M2, LONGITUDE, LATITUDE\n",
    "- Fazer a importação dos pontos das cidades estatísticas a partir do ficheiro CIDADES_PONTOS_CONT.CSV, adaptar o seguinte código\n",
    "    ~~~Python\n",
    "    # Processo Importação:\n",
    "    '''\n",
    "    Não é necessário fazer o tratamento do ficheiro como é feito na importação dos ACES, porque:\n",
    "    - Atributos LONGITUDE e LATITUDE são importados como numéricos\n",
    "    - Cada registo representa uma localização (não é necessário fazer groupby)\n",
    "    '''\n",
    "\n",
    "    # Adaptar o seguinte codigo dos ACES para ler ficheiro e criar novo df e gdf das cidades\n",
    "    # Ler ficheiro (definir variável com localização ficheiro)\n",
    "    encoding = 'utf-8'\n",
    "    df_utentes = pd.read_csv(ficheiro, sep=';', encoding=encoding)\n",
    "    # Criar coluna com geometry (mudar nome df e nomes atributos)\n",
    "    df_aces['geometry'] = df_aces.apply(lambda x: Point(float(x.long), float(x.lat)), axis=1)\n",
    "\n",
    "    # Criar uma gdf a partir da coluna geometry (mudar nome df)\n",
    "    gdf_aces = gpd.GeoDataFrame(df_aces, crs = \"EPSG:4326\", geometry = df_aces.geometry)\n",
    "\n",
    "    # Converter Cidades para WebMercator\n",
    "    gdf_aces_m = gdf_aces.to_crs(\"epsg:3857\")\n",
    "\n",
    "\n",
    "    # Adicionar Pontos a Figura\n",
    "    gdf_nuts3_sel = gdf_nuts3_2.loc[gdf_nuts3_2.NUTS1_x == '1']\n",
    "\n",
    "    ~~~\n",
    "\n",
    "*Criar o Plot*\n",
    "- Ver o código deste notebook para perceber como adicionar os 2 GDF a figura\n",
    "- Ver o código deste notebook como cria rum mapa temático\n",
    " \n",
    "- Não se preocupa em adicionar a legenda (procedimentos para mostrar legenda de 2 GDF são mais complexos)\n",
    "\n",
    "\n",
    "**Links Úteis:**\n",
    "- (Link com informação dos cores e paletas)[https://matplotlib.org/cheatsheets/_images/cheatsheets-2.png]\n",
    "- [geopandas.GeoDataFrame.plot)[https://geopandas.org/en/stable/docs/reference/api/geopandas.GeoDataFrame.plot.html]\n",
    "\n",
    "\n",
    "\n"
   ]
  },
  {
   "cell_type": "markdown",
   "id": "9f7b5a10",
   "metadata": {},
   "source": [
    "# Parte 4 - Introdução a Folium\n",
    "\n",
    "**Conteudo**\n",
    "- Introdução a Folium\n",
    "    - Introdução Folium\n",
    "- Configurar Marker e Popup\n",
    "    - Criar Listagens\n",
    "    - Limpar NULL NAN\n",
    "- Mapas Temáticos (Choropleths)\n",
    "\n",
    "**Links Úteis**\n",
    "- [Folium Oficial](https://python-visualization.github.io/folium/latest/)\n",
    "- [Python Folium: Create Web Maps From Your Data](https://realpython.com/python-folium-web-maps-from-data/)\n",
    "- [Criando Mapas Interativos e Choropleth Maps com Folium em Python](https://medium.com/data-hackers/criando-mapas-interativos-e-choropleth-maps-com-folium-em-python-abffae63bbd6)\n",
    "- [Folium Map Tiles](https://deparkes.co.uk/2016/06/10/folium-map-tiles/)\n",
    "- [Mapping in Python: Folium](https://vialab.mit.edu/tutorials/module/mapping-in-python-folium/)    \n",
    "\n"
   ]
  },
  {
   "cell_type": "markdown",
   "id": "bf98c0b6",
   "metadata": {},
   "source": [
    "## Visualizações Iniciais\n"
   ]
  },
  {
   "cell_type": "code",
   "execution_count": null,
   "id": "6798bad0",
   "metadata": {},
   "outputs": [],
   "source": [
    "import folium\n",
    "\n",
    "# Mostrar Zona do INE \n",
    "# Lisboa: 38.738345820101536, -9.138601637922605\n",
    "# Porto: 41.150887961411634, -8.629046747840249\n",
    "# Longitude e Latitude\n",
    "ine = folium.Map(location = [41.150887961411634, -8.629046747840249], \n",
    "                 zoom_start = 15)\n",
    "\n",
    "display(ine)"
   ]
  },
  {
   "cell_type": "markdown",
   "id": "370dcf8f",
   "metadata": {},
   "source": [
    "## Importar Dataset com NUTS3"
   ]
  },
  {
   "cell_type": "code",
   "execution_count": null,
   "id": "6cdf657b",
   "metadata": {},
   "outputs": [],
   "source": [
    "# Importar GeoPandas\n",
    "import geopandas as gpd\n",
    "\n",
    "# Carregar Dados com read_file (Shapefile preferivel, GeoJSON -  Mais Lento)\n",
    "# Mudar Caminho para onde estão os dados - atenção de ter os ficheiros .shp\\.shx\\.dbf\\.prj\n",
    "file_path = r\"C:\\TEMp\\NUTS3_2015_PT.shp\"\n",
    "\n",
    "# Definir o encoding para evitar problemas de desenho dos nomes\n",
    "encoding = 'utf-8'  \n",
    "# Ler Shapefile:\n",
    "gdf_nuts3 = gpd.read_file(file_path, encoding=encoding)\n",
    "\n",
    "gdf_nuts3.loc[1,'geometry']"
   ]
  },
  {
   "cell_type": "markdown",
   "id": "291b56e0",
   "metadata": {},
   "source": [
    "## Mostrar Localização Central da GDF das NUTS3"
   ]
  },
  {
   "cell_type": "code",
   "execution_count": null,
   "id": "404114a6",
   "metadata": {},
   "outputs": [],
   "source": [
    "# Obter a Localização Central\n",
    "# Print the head of the urban_polygon\n",
    "import geopandas as gdp\n",
    "import folium\n",
    "\n",
    "# Obter o centroid de toda a geometria\n",
    "# Converter para 4326 e a seguir obter o centroid de união de toda a geometria\n",
    "gdf_nuts3_sel = gdf_nuts3.loc[gdf_nuts3.NUTS1 == '1']\n",
    "centroid = gdf_nuts3_sel.to_crs(epsg=4326).unary_union.centroid\n",
    "\n",
    "# Criar Listagem com localização de latitude  longitude\n",
    "center_map = [centroid.y, centroid.x]\n",
    "# Criar Mapa e mostrar\n",
    "folium_map = folium.Map(location=center_map, zoom_start=8, tiles='OpenStreetMap')\n",
    "display(folium_map)"
   ]
  },
  {
   "cell_type": "markdown",
   "id": "063be447",
   "metadata": {},
   "source": [
    "## Adicionar Geografia (GDF) a mapa"
   ]
  },
  {
   "cell_type": "code",
   "execution_count": null,
   "id": "7e7997c2",
   "metadata": {},
   "outputs": [],
   "source": [
    "# Adicionar a Geografia a mapa\n",
    "# Print the head of the urban_polygon\n",
    "import geopandas as gdp\n",
    "import folium\n",
    "from shapely.geometry import Point, Polygon\n",
    "\n",
    "# Converter para 4326 e a seguir obter o centroid de união de toda a geometria\n",
    "centroid = gdf_nuts3_sel.to_crs(epsg=4326).unary_union.centroid\n",
    "\n",
    "# Criar Listagem com localização de latitude  longitude\n",
    "center_map = [centroid.y, centroid.x]\n",
    "# Criar Mapa e mostrar\n",
    "folium_map = folium.Map(location=center_map, zoom_start=7, tiles='OpenStreetMap')\n",
    "\n",
    "# Adicionar Geografia folium map\n",
    "# folium.GeoJson constructor\n",
    "folium.GeoJson(gdf_nuts3_sel).add_to(folium_map)\n",
    "\n",
    "display(folium_map)"
   ]
  },
  {
   "cell_type": "markdown",
   "id": "25d02f9e",
   "metadata": {},
   "source": [
    "## Adicionar Pop e Tooltip"
   ]
  },
  {
   "cell_type": "code",
   "execution_count": null,
   "id": "49732020",
   "metadata": {},
   "outputs": [],
   "source": [
    "gdf_nuts3_sel.info()"
   ]
  },
  {
   "cell_type": "code",
   "execution_count": null,
   "id": "870784be",
   "metadata": {
    "scrolled": true
   },
   "outputs": [],
   "source": [
    "# Incluir Informação de POPUP\n",
    "# Print the head of the urban_polygon\n",
    "import geopandas as gdp\n",
    "import folium\n",
    "import folium.plugins \n",
    "\n",
    "\n",
    "\n",
    "# Converter para 4326 e a seguir obter o centroid de união de toda a geometria\n",
    "centroid = gdf_nuts3_sel.to_crs(epsg=4326).unary_union.centroid\n",
    "\n",
    "# Criar Listagem com localização de latitude  longitude\n",
    "center_map = [centroid.y, centroid.x]\n",
    "\n",
    "# Criar Mapa e mostrar\n",
    "folium_map = folium.Map(location=center_map, zoom_start=7, tiles='OpenStreetMap')\n",
    "\n",
    "# Codigo Especifico para tooltip\n",
    "tooltip = folium.GeoJsonTooltip(\n",
    "    fields=[\"NUTS3\"],\n",
    "    aliases=[\"NUTS3\"],\n",
    "    localize=True,\n",
    "    sticky=False,\n",
    "    labels=True,\n",
    "    style=\"\"\"\n",
    "        background-color: #F0EFEF;\n",
    "        border: 2px solid black;\n",
    "        border-radius: 3px;\n",
    "        box-shadow: 3px;\n",
    "    \"\"\",\n",
    "    max_width=800,\n",
    ")\n",
    "\n",
    "# Definir popup e nome\n",
    "folium.GeoJson(gdf_nuts3_sel,\n",
    "        zoom_on_click = True,\n",
    "        popup = folium.GeoJsonPopup(\n",
    "            fields=['NUTS3','NUTS3_DSG'],\n",
    "            aliases=['NUTS3','NUTS3_DSG']\n",
    "        ),\n",
    "        tooltip = tooltip       \n",
    "               \n",
    "    ).add_to(folium_map) \n",
    "\n",
    "\n",
    "display(folium_map)\n",
    "folium_map.save(r'c:\\temp\\xxmap.html')"
   ]
  },
  {
   "cell_type": "markdown",
   "id": "09e54cbc",
   "metadata": {},
   "source": [
    "## Criar Mapa Temático em Folium"
   ]
  },
  {
   "cell_type": "markdown",
   "id": "14b8a6d3",
   "metadata": {},
   "source": [
    "### Criar Dataset com JOIN "
   ]
  },
  {
   "cell_type": "code",
   "execution_count": null,
   "id": "a1eebe72",
   "metadata": {},
   "outputs": [],
   "source": [
    "# Obter Password e Utilizador para Ligacao SQL\n",
    "from getpass import getpass # para ler a password sem a mostrar\n",
    "my_user = '\"BART.SCHOEN\"[BDIFRM]' \n",
    "my_password = getpass()\n",
    "\n",
    "# Ler Dados da BD\n",
    "# criar conexão\n",
    "import cx_Oracle \n",
    "import pandas as pd\n",
    "host = 'c21oradev01.int.ine.pt'\n",
    "port = '1521'\n",
    "service = 'FORMACAO'\n",
    "dsn_tns = cx_Oracle.makedsn(host, port, service_name=service) \n",
    "\n",
    "\n",
    "# Criar a conexão com todos os elementos,\n",
    "# incluingo user e password\n",
    "conn = cx_Oracle.connect(user=my_user, password=my_password, dsn=dsn_tns) \n",
    "\n",
    "\n",
    "# Cursor:\n",
    "# Criar o cursor na conexão conn que criámos antes\n",
    "c = conn.cursor()\n",
    "\n",
    "# ---------------------------------\n",
    "# Ler View com Dados por NUTS3:\n",
    "\n",
    "# SQL String\n",
    "my_sql = \"\"\"\n",
    "select *\n",
    "from BDIFRM.V_BGRI2021_N3_PT \n",
    "\"\"\"\n",
    "\n",
    "# Executar o cursor c com a string como parâmetro\n",
    "c.execute(my_sql)\n",
    "# Criar Nomes colunas\n",
    "names = [ x[0] for x in c.description]\n",
    "df_n3_c2021 = pd.DataFrame(c.fetchall(), columns = names)\n"
   ]
  },
  {
   "cell_type": "markdown",
   "id": "ff05545d",
   "metadata": {},
   "source": [
    "### Fazer JOIN dos Dados a GDF com as NUTS3"
   ]
  },
  {
   "cell_type": "code",
   "execution_count": null,
   "id": "0c7d9928",
   "metadata": {},
   "outputs": [],
   "source": [
    "# Juntar Dados NUTS3 do C2021 a GDF com as areas NUTS3\n",
    "\n",
    "# Colunas Comuns: NUTS3 e NUTS3 - pode utilizar estas funções para ver os valores de ambos os DF\n",
    "#print(sorted(df_n3_c2021.NUTS3.unique()))\n",
    "#print(sorted(gdf_nuts3.NUTS3.unique()))\n",
    "\n",
    "# Fazer o Join, especificar: DF\n",
    "gdf_nuts3_2 = gdf_nuts3.merge(df_n3_c2021, left_on='NUTS3', right_on='NUTS3', how='left')\n",
    "\n",
    "print(gdf_nuts3_2.info())"
   ]
  },
  {
   "cell_type": "markdown",
   "id": "f2367cbb",
   "metadata": {},
   "source": [
    "### Criar Mapa Temático"
   ]
  },
  {
   "cell_type": "code",
   "execution_count": null,
   "id": "b3f0d22d",
   "metadata": {
    "scrolled": true
   },
   "outputs": [],
   "source": [
    "# Import packages\n",
    "import pandas as pd\n",
    "import geopandas as gpd\n",
    "import folium, folium.plugins \n",
    "\n",
    "# Mesmo Exemplo criar Plot dos Areas NUTS3 - Mostrando total de população 65+ no total de população\n",
    "# Assegurar que foi efetuado Merge com Dados C2021\n",
    "# GDF input: gdf_nuts3_2\n",
    "\n",
    "# Selecionar Dados Portugal Continental: (copy() para criar nova coluna)\n",
    "gdf_nuts3_sel = gdf_nuts3_2.loc[gdf_nuts3_2.NUTS1_x == '1'].copy()\n",
    "\n",
    "# Novo Atributo\n",
    "gdf_nuts3_sel['ind65'] = gdf_nuts3_sel.N_INDIVIDUOS_65_OU_MAIS/gdf_nuts3_sel.N_INDIVIDUOS\n",
    "\n",
    "# Obter o centroid de toda a geometria\n",
    "centroid = gdf_nuts3_sel.to_crs(epsg=4326).unary_union.centroid\n",
    "\n",
    "# Criar Listagem com localização de latitude  longitude\n",
    "center_map = [centroid.y, centroid.x]\n",
    "\n",
    "# Criar Mapa e mostrar\n",
    "folium_map = folium.Map(location=center_map, zoom_start=6, tiles='OpenStreetMap')\n",
    "\n",
    "# Criar choropleth\n",
    "choropleth = folium.Choropleth(\n",
    "    geo_data=gdf_nuts3_sel,\n",
    "    name='População 65+ mais',\n",
    "    data=gdf_nuts3_sel,\n",
    "    columns=['NUTS3', 'ind65'],\n",
    "    key_on='feature.properties.NUTS3',\n",
    "    fill_color='Reds', #\n",
    "    fill_opacity=0.5,\n",
    "    line_opacity=1.0,\n",
    "    bins =8,\n",
    "    legend_name='Relacao população 65+ no total de população'\n",
    ")\n",
    "\n",
    "# Adicionar a mapa\n",
    "choropleth.add_to(folium_map)\n",
    "\n",
    "# Widget para controlar os layer visiveis            \n",
    "folium.LayerControl().add_to(folium_map)\n",
    "\n",
    "folium_map.save(r'c:\\temp\\xxmap.html')\n",
    "\n",
    "display(folium_map)\n",
    "\n",
    "# Limpar Object da memoria\n",
    "gdf_nuts3_sel = None"
   ]
  },
  {
   "cell_type": "markdown",
   "id": "edb9eab1",
   "metadata": {},
   "source": [
    "## Exercício 4 - Fazer alterações no Mapa temático com Folium\n",
    "\n",
    "**Objectivos**\n",
    "- Utilizar Codigo Anterior\n",
    "- Mudar as variáveis para mostrar\n",
    "- Mudar o esquema de cores (*fill_color*)\n",
    "- Mudar o nº de bins\n"
   ]
  },
  {
   "cell_type": "code",
   "execution_count": null,
   "id": "c41379b9",
   "metadata": {},
   "outputs": [],
   "source": []
  }
 ],
 "metadata": {
  "kernelspec": {
   "display_name": "Python 3 (ipykernel)",
   "language": "python",
   "name": "python3"
  },
  "language_info": {
   "codemirror_mode": {
    "name": "ipython",
    "version": 3
   },
   "file_extension": ".py",
   "mimetype": "text/x-python",
   "name": "python",
   "nbconvert_exporter": "python",
   "pygments_lexer": "ipython3",
   "version": "3.11.7"
  },
  "toc": {
   "base_numbering": 1,
   "nav_menu": {},
   "number_sections": true,
   "sideBar": true,
   "skip_h1_title": false,
   "title_cell": "Table of Contents",
   "title_sidebar": "Contents",
   "toc_cell": false,
   "toc_position": {
    "height": "calc(100% - 180px)",
    "left": "10px",
    "top": "150px",
    "width": "316.58px"
   },
   "toc_section_display": true,
   "toc_window_display": true
  }
 },
 "nbformat": 4,
 "nbformat_minor": 5
}
