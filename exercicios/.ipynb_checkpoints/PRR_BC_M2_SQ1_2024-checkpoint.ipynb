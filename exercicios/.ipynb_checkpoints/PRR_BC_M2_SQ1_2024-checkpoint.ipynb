{
 "cells": [
  {
   "cell_type": "markdown",
   "id": "0cb72e28",
   "metadata": {},
   "source": [
    "# Módulo 2 - Python Data Science"
   ]
  },
  {
   "cell_type": "markdown",
   "id": "027cef41",
   "metadata": {},
   "source": [
    "# 1. Estatística Descritiva e Inferência\n"
   ]
  },
  {
   "cell_type": "markdown",
   "id": "fefaee58",
   "metadata": {},
   "source": [
    "## 1.1 Tipos de Dados"
   ]
  },
  {
   "cell_type": "markdown",
   "id": "9f197fb6",
   "metadata": {},
   "source": [
    "### 1.1.1 Tipos de Dados Numéricos"
   ]
  },
  {
   "cell_type": "code",
   "execution_count": 1,
   "id": "d7915c27",
   "metadata": {},
   "outputs": [],
   "source": [
    "# Creating integer variables\n",
    "x = 10\n",
    "y = -5\n",
    "z = 0"
   ]
  },
  {
   "cell_type": "code",
   "execution_count": null,
   "id": "8cbbc5f8",
   "metadata": {},
   "outputs": [],
   "source": [
    "# Verifying the value\n",
    "x"
   ]
  },
  {
   "cell_type": "code",
   "execution_count": null,
   "id": "1d8cb3cf",
   "metadata": {},
   "outputs": [],
   "source": [
    "# Verifying the types of the variables\n",
    "type(x)"
   ]
  },
  {
   "cell_type": "code",
   "execution_count": null,
   "id": "e698df3d",
   "metadata": {},
   "outputs": [],
   "source": [
    "# Creating float variables\n",
    "a = 3.14\n",
    "b = -0.5\n",
    "c = 2.0\n",
    "\n",
    "# Using the variables\n",
    "(a + b) * c"
   ]
  },
  {
   "cell_type": "markdown",
   "id": "c2a2b92b",
   "metadata": {},
   "source": [
    "### 1.1.2 Tipos de Sequência"
   ]
  },
  {
   "cell_type": "code",
   "execution_count": null,
   "id": "f1d561d0",
   "metadata": {},
   "outputs": [],
   "source": [
    "# Creating a list of integers\n",
    "my_list = [1, 2, 3, 4, 5]\n",
    "\n",
    "# Creating a list of strings\n",
    "names = ['Alice', 'Bob', 'Charlie']\n",
    "\n",
    "# Creating a mixed-type list\n",
    "mixed_list = [1, 'hello', 3.14, True]"
   ]
  },
  {
   "cell_type": "code",
   "execution_count": null,
   "id": "a0a20647",
   "metadata": {},
   "outputs": [],
   "source": [
    "# Checking my_list\n",
    "my_list"
   ]
  },
  {
   "cell_type": "markdown",
   "id": "0e62c454",
   "metadata": {},
   "source": [
    "Quando acedemos a elementos numa lista é importante saber que cada elemento está associado a uma posição/index na lista e que **começa sempre em 0**"
   ]
  },
  {
   "cell_type": "code",
   "execution_count": null,
   "id": "fd72a785",
   "metadata": {},
   "outputs": [],
   "source": [
    "# Accessing elements in the list my_list\n",
    "my_list = [1, 2, 3, 4, 5]\n",
    "\n",
    "# Accessing the first element (index 0)\n",
    "first_element = my_list[0]\n",
    "print(first_element)  \n",
    "\n",
    "# Accessing the third element (index 2)\n",
    "third_element = my_list[2]\n",
    "print(third_element)  "
   ]
  },
  {
   "cell_type": "code",
   "execution_count": null,
   "id": "8fb83e7a",
   "metadata": {},
   "outputs": [],
   "source": [
    "# Accessing the last element\n",
    "last_element = my_list[-1]\n",
    "print(last_element)  \n",
    "\n",
    "# Accessing the second-to-last element\n",
    "second_to_last_element = my_list[-2]\n",
    "print(second_to_last_element)  "
   ]
  },
  {
   "cell_type": "markdown",
   "id": "53e0347c",
   "metadata": {},
   "source": [
    "Quando fatiamos os dados o intervalo é fechado no inicio, isto é inclui o elemento inicial, mas aberto no fim, isto é não inclui  o último elemento"
   ]
  },
  {
   "cell_type": "code",
   "execution_count": null,
   "id": "b25fb5ec",
   "metadata": {},
   "outputs": [],
   "source": [
    "# Slicing to get a subset of elements\n",
    "subset = my_list[1:4] \n",
    "print(subset)  "
   ]
  },
  {
   "cell_type": "code",
   "execution_count": null,
   "id": "c6dc836a",
   "metadata": {},
   "outputs": [],
   "source": [
    "# Summing up all the elements of the list\n",
    "sum(my_list)"
   ]
  },
  {
   "cell_type": "markdown",
   "id": "2ba1c9cd",
   "metadata": {},
   "source": [
    "Atenção que quando usamos o operador * estamos a usar a repetição de listas, isto é a criar uma nova lista que tem n das listas originais"
   ]
  },
  {
   "cell_type": "code",
   "execution_count": null,
   "id": "70e11ab1",
   "metadata": {},
   "outputs": [],
   "source": [
    "# Using list repetition\n",
    "my_list * 2"
   ]
  },
  {
   "cell_type": "markdown",
   "id": "02bed971",
   "metadata": {},
   "source": [
    "Podemos multiplicar todos os elementos por um valor n usando **list comprehension** para definir a nova lista, ou usando a **função map**"
   ]
  },
  {
   "cell_type": "code",
   "execution_count": null,
   "id": "e878595d",
   "metadata": {},
   "outputs": [],
   "source": [
    "# Multiply every element of my_list by 2\n",
    "result = [x * 2 for x in my_list]\n",
    "print(result) "
   ]
  },
  {
   "cell_type": "markdown",
   "id": "bdbc9038",
   "metadata": {},
   "source": [
    "Uma função lambda em Python é uma função anónima, ou seja, sem nome. É definida usando a palavra-chave lambda seguida por um ou mais argumentos, seguidos por dois pontos : e uma expressão que define o comportamento da função. A sintaxe geral de uma função lambda é a seguinte: *lambda arguments : expression* <br><br>\n",
    "As funções lambda são frequentemente usadas em situações onde funções pequenas e simples são necessárias, como argumentos para funções de ordem superior (ex:**map(), filter(), sorted()**) ou em expressões que requerem uma função como input.Ajudam a tornar o código mais conciso e legível, especialmente em situações onde a função é suficientemente simples para ser expressa numa única linha."
   ]
  },
  {
   "cell_type": "code",
   "execution_count": null,
   "id": "12ffa0af",
   "metadata": {},
   "outputs": [],
   "source": [
    "my_list = [1, 2, 3, 4, 5]\n",
    "result = list(map(lambda x: x * 2, my_list))\n",
    "print(result)  "
   ]
  },
  {
   "cell_type": "markdown",
   "id": "05bc5889",
   "metadata": {},
   "source": [
    "em ambos os casos estamos a criar novas listas, se não o quisermos fazer e pretendermos alterar a lista original temos de fazer um ciclo que passe por todos os elementos e os altere"
   ]
  },
  {
   "cell_type": "code",
   "execution_count": null,
   "id": "e07b21b2",
   "metadata": {},
   "outputs": [],
   "source": [
    "my_list = [1, 2, 3, 4, 5]\n",
    "\n",
    "# Update each element in the list by multiplying it by 2\n",
    "for i in range(len(my_list)):\n",
    "    my_list[i] *= 2\n",
    "\n",
    "print(my_list)  "
   ]
  },
  {
   "cell_type": "markdown",
   "id": "46e32b06",
   "metadata": {},
   "source": [
    "da mesma forma quando usamos o operador + com listas estamos a concatená-las"
   ]
  },
  {
   "cell_type": "code",
   "execution_count": null,
   "id": "65639cb6",
   "metadata": {},
   "outputs": [],
   "source": [
    "another_list = [1, 3, 5, 7 ,9]\n",
    "\n",
    "# Concatenate another_list to my_list using the + operator\n",
    "my_list += another_list\n",
    "\n",
    "print(my_list) "
   ]
  },
  {
   "cell_type": "code",
   "execution_count": null,
   "id": "a807eb41",
   "metadata": {},
   "outputs": [],
   "source": [
    "# Sort my_list in descending order\n",
    "my_list.sort(reverse=True)\n",
    "\n",
    "print(my_list) "
   ]
  },
  {
   "cell_type": "markdown",
   "id": "dc79f8bc",
   "metadata": {},
   "source": [
    "Também podemos concatenar as listas usando o método extend, que concatena 2 listas, ou o método append que concatena adicionando apenas um elemento ao fim da lista"
   ]
  },
  {
   "cell_type": "code",
   "execution_count": null,
   "id": "b613e415",
   "metadata": {},
   "outputs": [],
   "source": [
    "my_list = [1, 2, 3]\n",
    "another_list = [4, 5, 6]\n",
    "\n",
    "# Concatenate another_list to my_list using the extend() method\n",
    "my_list.extend(another_list)\n",
    "\n",
    "print(my_list)  "
   ]
  },
  {
   "cell_type": "code",
   "execution_count": null,
   "id": "1c45a7f5",
   "metadata": {},
   "outputs": [],
   "source": [
    "my_list = [1, 2, 3]\n",
    "another_list = [4, 5, 6]\n",
    "\n",
    "# Append each element from another_list to my_list using the append() method\n",
    "for element in another_list:\n",
    "    my_list.append(element)\n",
    "\n",
    "print(my_list)  "
   ]
  },
  {
   "cell_type": "markdown",
   "id": "d72627bc",
   "metadata": {},
   "source": [
    "removemos os elementos da lista através da sua posição/indice"
   ]
  },
  {
   "cell_type": "code",
   "execution_count": null,
   "id": "a75933d8",
   "metadata": {},
   "outputs": [],
   "source": [
    "my_list = [1, 2, 3, 4, 5]\n",
    "\n",
    "# Remove the element at index 2 (which is 3) from my_list\n",
    "del my_list[2]\n",
    "\n",
    "print(my_list)  "
   ]
  },
  {
   "cell_type": "markdown",
   "id": "23fee22d",
   "metadata": {},
   "source": [
    "Atenção que **del** é um statement porque é parte da sintaxe da linguagem Python e não retorna um valor. Faz uma ação especifica (deletion) a objects ou entitidades num programa Python. Neste caso apaga-os! <br> <br>\n",
    "Podemos apagar variáveis e se as tentarmos usar depois de termos apagado o erro que obtemos é do tipo *NameError* porque não há nenhum objecto com esse nome."
   ]
  },
  {
   "cell_type": "code",
   "execution_count": null,
   "id": "9098f5c2",
   "metadata": {},
   "outputs": [],
   "source": [
    "x = 10\n",
    "print(x)\n",
    "del x  \n",
    "print(x)"
   ]
  },
  {
   "cell_type": "markdown",
   "id": "ccd94745",
   "metadata": {},
   "source": [
    "Os tuplos são normalmente usados em vez de listas quando pretendemos que sejam imutáveis, por exemplo coordenadas, configurações, chaves de um dicionário, etc..."
   ]
  },
  {
   "cell_type": "code",
   "execution_count": null,
   "id": "39133949",
   "metadata": {},
   "outputs": [],
   "source": [
    "# Creating a tuple\n",
    "my_tuple = (1, 2, 3, 4, 5)\n",
    "print(my_tuple)  "
   ]
  },
  {
   "cell_type": "code",
   "execution_count": null,
   "id": "0a54e3de",
   "metadata": {},
   "outputs": [],
   "source": [
    "coordinates = {(0, 0): 'origin', (1, 1): 'diagonal'}\n",
    "coordinates"
   ]
  },
  {
   "cell_type": "markdown",
   "id": "70bb78a5",
   "metadata": {},
   "source": [
    "As funções podem retornar múltiplos valores na forma de tuplo, permitindo um código conciso e eficiente. A descompactação de tuplos (tuple unpacking) é frequentemente usada para extrair os valores."
   ]
  },
  {
   "cell_type": "code",
   "execution_count": null,
   "id": "5822f5b0",
   "metadata": {},
   "outputs": [],
   "source": [
    "# Tuple unpacking\n",
    "def get_coordinates():\n",
    "    return 10, 20\n",
    "\n",
    "x, y = get_coordinates()\n",
    "print(\"x:\", x)\n",
    "print(\"y:\", y)"
   ]
  },
  {
   "cell_type": "markdown",
   "id": "b604dda5",
   "metadata": {},
   "source": [
    "Quando criamos um range ele também começará em 0, como as listas. <br><br>\n",
    "*Assim um range n, começa em 0 e termina em n-1*"
   ]
  },
  {
   "cell_type": "code",
   "execution_count": null,
   "id": "f08bdb6f",
   "metadata": {},
   "outputs": [],
   "source": [
    "# Create a range of eggs\n",
    "eggs = range(10)\n",
    "eggs"
   ]
  },
  {
   "cell_type": "code",
   "execution_count": null,
   "id": "3f6e1f8f",
   "metadata": {},
   "outputs": [],
   "source": [
    "# print all the elements in the range\n",
    "for egg in eggs:\n",
    "    print(egg, end=\" \")\n",
    "print()"
   ]
  },
  {
   "cell_type": "code",
   "execution_count": null,
   "id": "ccf66b7d",
   "metadata": {},
   "outputs": [],
   "source": [
    "type(eggs)"
   ]
  },
  {
   "cell_type": "code",
   "execution_count": null,
   "id": "a58c3391",
   "metadata": {},
   "outputs": [],
   "source": [
    "len(eggs)"
   ]
  },
  {
   "cell_type": "code",
   "execution_count": null,
   "id": "bcc2a38a",
   "metadata": {},
   "outputs": [],
   "source": [
    "sum(eggs)"
   ]
  },
  {
   "cell_type": "markdown",
   "id": "d0ad565c",
   "metadata": {},
   "source": [
    "Os arrays serão vistos mais à frente!\n",
    "\n",
    "### 1.1.3 Tipos de Dados de Texto\n",
    "normalmente usados em listas ou dicionários"
   ]
  },
  {
   "cell_type": "code",
   "execution_count": null,
   "id": "6f90eac1",
   "metadata": {},
   "outputs": [],
   "source": [
    "# Using single quotes\n",
    "my_string1 = 'Hello, World!'\n",
    "print(my_string1)  \n",
    "\n",
    "# Using double quotes\n",
    "my_string2 = \"Keep Calm and Python On\"\n",
    "print(my_string2)  \n",
    "\n",
    "# Using triple quotes\n",
    "my_string3 = '''This is a multiline string\n",
    "that spans multiple lines.'''\n",
    "print(my_string3)  "
   ]
  },
  {
   "cell_type": "markdown",
   "id": "65c6e187",
   "metadata": {},
   "source": [
    "### 1.1.4 Tipos de Dados Booleanos\n",
    "os objectos booleanos são frequentemente usados como resultado de funções em Python. \n",
    "Desta forma podemos escrever código mais claro, expressivo e conciso. Além disso, podemos facilmente encadear várias chamadas a  funções e usar lógica condicional com base nos resultados booleanos retornados."
   ]
  },
  {
   "cell_type": "code",
   "execution_count": null,
   "id": "1b154143",
   "metadata": {},
   "outputs": [],
   "source": [
    "def is_even(number):\n",
    "    \"\"\"\n",
    "    Check if the given number is even.\n",
    "    \"\"\"\n",
    "    return number % 2 == 0\n",
    "\n",
    "# Test the function\n",
    "print(is_even(4))  \n",
    "print(is_even(7))  "
   ]
  },
  {
   "cell_type": "code",
   "execution_count": null,
   "id": "1cdd8f31",
   "metadata": {},
   "outputs": [],
   "source": [
    "num = 18\n",
    "if is_even(num):\n",
    "    print(f\"{num} is even.\")\n",
    "else:\n",
    "    print(f\"{num} is odd.\")"
   ]
  },
  {
   "cell_type": "markdown",
   "id": "fbd1a22f",
   "metadata": {},
   "source": [
    "## 1. 2 Dados Quantitativos\n",
    "\n",
    "Por exemplo o conjunto de alturas e peso dos alunos da formação\n",
    "\n"
   ]
  },
  {
   "cell_type": "markdown",
   "id": "ae911a33",
   "metadata": {},
   "source": [
    "### 1.2.1 Usando Listas"
   ]
  },
  {
   "cell_type": "code",
   "execution_count": null,
   "id": "2b84dd3e",
   "metadata": {},
   "outputs": [],
   "source": [
    "alturas = [1.65,1.73,1.78,1.67,1.82,1.76,1.75,1.74,1.75,1.67,1.67,1.69]"
   ]
  },
  {
   "cell_type": "code",
   "execution_count": null,
   "id": "153769b3",
   "metadata": {},
   "outputs": [],
   "source": [
    "len(alturas)"
   ]
  },
  {
   "cell_type": "code",
   "execution_count": null,
   "id": "baff7716",
   "metadata": {},
   "outputs": [],
   "source": [
    "type(alturas)"
   ]
  },
  {
   "cell_type": "code",
   "execution_count": null,
   "id": "a6c3ff62",
   "metadata": {},
   "outputs": [],
   "source": [
    "alturas"
   ]
  },
  {
   "cell_type": "code",
   "execution_count": null,
   "id": "d397ba6a",
   "metadata": {},
   "outputs": [],
   "source": [
    "alturas.sort(reverse=True)"
   ]
  },
  {
   "cell_type": "code",
   "execution_count": null,
   "id": "124ab755",
   "metadata": {},
   "outputs": [],
   "source": [
    "alturas"
   ]
  },
  {
   "cell_type": "code",
   "execution_count": null,
   "id": "6f34e637",
   "metadata": {},
   "outputs": [],
   "source": [
    "media_alturas = sum(alturas)/len(alturas)\n",
    "media_alturas"
   ]
  },
  {
   "cell_type": "code",
   "execution_count": null,
   "id": "301c384f",
   "metadata": {},
   "outputs": [],
   "source": [
    "pesos = [92, 87, 102, 78, 87, 76, 69, 62, 63, 58, 61, 62]"
   ]
  },
  {
   "cell_type": "markdown",
   "id": "fc54eac7",
   "metadata": {},
   "source": [
    "*import matplotlib.pyplot as plt*<br><br>\n",
    "**plt.scatter()** é uma função da biblioteca Matplotlib em Python que é usada para criar um gráfico de dispersão. Isto é, um tipo de gráfico que representa os valores de duas variáveis como pontos no plano cartesiano, onde cada ponto tem uma posição definida pelas coordenadas x e y."
   ]
  },
  {
   "cell_type": "code",
   "execution_count": 5,
   "id": "ee6265bc",
   "metadata": {},
   "outputs": [
    {
     "ename": "NameError",
     "evalue": "name 'alturas' is not defined",
     "output_type": "error",
     "traceback": [
      "\u001b[1;31m---------------------------------------------------------------------------\u001b[0m",
      "\u001b[1;31mNameError\u001b[0m                                 Traceback (most recent call last)",
      "Cell \u001b[1;32mIn[5], line 5\u001b[0m\n\u001b[0;32m      2\u001b[0m \u001b[38;5;28;01mimport\u001b[39;00m \u001b[38;5;21;01mmatplotlib\u001b[39;00m\u001b[38;5;21;01m.\u001b[39;00m\u001b[38;5;21;01mpyplot\u001b[39;00m \u001b[38;5;28;01mas\u001b[39;00m \u001b[38;5;21;01mplt\u001b[39;00m\n\u001b[0;32m      4\u001b[0m \u001b[38;5;66;03m# x axis values\u001b[39;00m\n\u001b[1;32m----> 5\u001b[0m x \u001b[38;5;241m=\u001b[39m alturas\n\u001b[0;32m      6\u001b[0m \u001b[38;5;66;03m# corresponding y axis values\u001b[39;00m\n\u001b[0;32m      7\u001b[0m y \u001b[38;5;241m=\u001b[39m pesos\n",
      "\u001b[1;31mNameError\u001b[0m: name 'alturas' is not defined"
     ]
    }
   ],
   "source": [
    "# importing the required module\n",
    "import matplotlib.pyplot as plt\n",
    "  \n",
    "# x axis values\n",
    "x = alturas\n",
    "# corresponding y axis values\n",
    "y = pesos\n",
    "  \n",
    "# plotting points as a scatter plot\n",
    "# s - point size, alpha - opacity\n",
    "plt.scatter(x, y, color= \"green\", marker= \"*\", s=40)\n",
    "\n",
    "  \n",
    "# naming the x axis\n",
    "plt.xlabel('Altura em m')\n",
    "# naming the y axis\n",
    "plt.ylabel('Peso em Kg')\n",
    "  \n",
    "# giving a title to my graph\n",
    "plt.title('Alturas e Pesos dos Formandos')\n",
    "  \n",
    "# function to show the plot\n",
    "plt.show()"
   ]
  },
  {
   "cell_type": "markdown",
   "id": "a1bfd211",
   "metadata": {},
   "source": [
    "## 1.3 Dados Qualitativos\n",
    "\n",
    "Por exemplo o estado civil dos alunos da formação"
   ]
  },
  {
   "cell_type": "code",
   "execution_count": null,
   "id": "2f40a3b1",
   "metadata": {},
   "outputs": [],
   "source": [
    "estado_civil = [\"solteiro\", \"casado\", \"solteiro\", \"divorciado\", \"solteiro\", \"solteiro\",\n",
    "               \"casado\", \"solteiro\", \"casado\", \"solteiro\", \"divorciado\", \"solteiro\"]"
   ]
  },
  {
   "cell_type": "code",
   "execution_count": null,
   "id": "bb517e0d",
   "metadata": {},
   "outputs": [],
   "source": [
    "solteiro_count = estado_civil.count(\"solteiro\")\n",
    "solteiro_count"
   ]
  },
  {
   "cell_type": "code",
   "execution_count": null,
   "id": "a25937e7",
   "metadata": {},
   "outputs": [],
   "source": [
    "casado_count = estado_civil.count(\"casado\")\n",
    "divorciado_count = estado_civil.count(\"divorciado\")"
   ]
  },
  {
   "cell_type": "markdown",
   "id": "8edcbad7",
   "metadata": {},
   "source": [
    "*import matplotlib.pyplot as plt*<br><br>\n",
    "**plt.bar()** é uma função da biblioteca Matplotlib em Python que é usada para criar gráficos de barras. Um gráfico de barras é um tipo de gráfico que representa os valores de uma ou mais variáveis como barras rectangulares, onde a altura de cada barra corresponde ao valor da variável."
   ]
  },
  {
   "cell_type": "code",
   "execution_count": null,
   "id": "e9fd2e66",
   "metadata": {},
   "outputs": [],
   "source": [
    "import matplotlib.pyplot as plt\n",
    "  \n",
    "# heights of bars\n",
    "height = [solteiro_count, casado_count, divorciado_count]\n",
    "  \n",
    "# labels for bars\n",
    "tick_label = ['solteiro', 'casado', 'divorciado']\n",
    "  \n",
    "# plotting a bar chart\n",
    "plt.bar(tick_label, height, width = 0.8, color = ['green'])\n",
    "  \n",
    "# naming the x-axis\n",
    "plt.xlabel('Estado Civil')\n",
    "# naming the y-axis\n",
    "plt.ylabel('Nº de Indivíduos')\n",
    "# plot title\n",
    "plt.title('Frequências dos Estados Civis')\n",
    "  \n",
    "# function to show the plot\n",
    "plt.show()"
   ]
  },
  {
   "cell_type": "markdown",
   "id": "c25fc7b6",
   "metadata": {},
   "source": [
    "### 1.3.1 A partir de um dicionário"
   ]
  },
  {
   "cell_type": "code",
   "execution_count": 2,
   "id": "a264dc6b",
   "metadata": {},
   "outputs": [],
   "source": [
    "alturas_dict = { \"Teresa\": 165, \"Maria\": 169, \"Joao\": 178, \"Carlos\": 187,\n",
    "                \"Vasco\": 182, \"Joana\": 162, \"Sofia\": 165, \"Pedro\": 177,\n",
    "                \"Afonso\": 175, \"Miguel\": 177, \"Ana\": 163, \"Margarida\": 162}"
   ]
  },
  {
   "cell_type": "code",
   "execution_count": 3,
   "id": "c60395dc",
   "metadata": {},
   "outputs": [
    {
     "data": {
      "text/plain": [
       "[165, 169, 178, 187, 182, 162, 165, 177, 175, 177, 163, 162]"
      ]
     },
     "execution_count": 3,
     "metadata": {},
     "output_type": "execute_result"
    }
   ],
   "source": [
    "alturas_list = list(alturas_dict.values())\n",
    "alturas_list"
   ]
  },
  {
   "cell_type": "markdown",
   "id": "d7a7b440",
   "metadata": {},
   "source": [
    "*import matplotlib.pyplot as plt*<br><br>\n",
    "**plt.hist()** é uma função da biblioteca Matplotlib em Python que é usada para criar histogramas. Um histograma é um tipo de gráfico que representa a distribuição de frequência duma variável contínua. Divide os dados em intervalos *(bins)* e conta o número de observações em cada intervalo, mostrando essas contagens como barras verticais."
   ]
  },
  {
   "cell_type": "code",
   "execution_count": 6,
   "id": "7f958013",
   "metadata": {},
   "outputs": [
    {
     "data": {
      "image/png": "[encoded data removed]",
      "text/plain": [
       "<Figure size 640x480 with 1 Axes>"
      ]
     },
     "metadata": {},
     "output_type": "display_data"
    }
   ],
   "source": [
    "plt.hist(alturas_list, 4)\n",
    "\n",
    "plt.show()"
   ]
  },
  {
   "cell_type": "code",
   "execution_count": null,
   "id": "10f63636",
   "metadata": {},
   "outputs": [],
   "source": [
    "# Calcula a média usando a fórmula\n",
    "n = len(alturas_list)\n",
    "med_alturas_list= sum(alturas_list)/n\n",
    "print(\"Median: {0}\".format(med_alturas_list))"
   ]
  },
  {
   "cell_type": "code",
   "execution_count": null,
   "id": "ea39ed12",
   "metadata": {},
   "outputs": [],
   "source": [
    "# Calcula a soma dos desvios quadrados\n",
    "ss_alturas_list = sum((x - med_alturas_list)**2 for x in alturas_list)\n",
    "print(ss_alturas_list)"
   ]
  },
  {
   "cell_type": "code",
   "execution_count": null,
   "id": "d4e0ca62",
   "metadata": {},
   "outputs": [],
   "source": [
    "# Variância amostral corrigida (da população) com ddof = 0\n",
    "# Variância amostral não corrigida com ddof = 1\n",
    "ddof = 0\n",
    "var_alturas_list = ss_alturas_list/(n-ddof)\n",
    "print(var_alturas_list)"
   ]
  },
  {
   "cell_type": "code",
   "execution_count": null,
   "id": "4e1a2d3e",
   "metadata": {},
   "outputs": [],
   "source": [
    "# Desvio Padrão (corrigido - para alterar voltar ao passo anterior da variância)\n",
    "dp_alturas_list = var_alturas_list**0.5\n",
    "print(dp_alturas_list)"
   ]
  },
  {
   "cell_type": "code",
   "execution_count": null,
   "id": "59c03a2d",
   "metadata": {},
   "outputs": [],
   "source": [
    "import statistics as st\n",
    "\n",
    "print(\"The mean is:\", st.mean(alturas_list))\n",
    "print(\"The mode is:\", st.mode(alturas_list))\n",
    "print(\"The median is:\", st.median(alturas_list))\n",
    "print(\"The sample variance is:\", st.variance(alturas_list))\n",
    "print(\"The population variance is:\",st.pvariance(alturas_list))\n",
    "print(\"The sample standard deviation is:\",st.stdev(alturas_list))\n",
    "print(\"The population standard deviation is:\",st.pstdev(alturas_list))"
   ]
  },
  {
   "cell_type": "code",
   "execution_count": null,
   "id": "e40db7c2",
   "metadata": {},
   "outputs": [],
   "source": [
    "print(\"The median is:\", st.median(alturas_list))\n",
    "# N = 4 devolve os 3 quartis superiores - percentis 25 e 75\n",
    "print(\"The first three quartiles are:\", st.quantiles(alturas_list, n = 4))"
   ]
  },
  {
   "cell_type": "code",
   "execution_count": null,
   "id": "8bc70c46",
   "metadata": {},
   "outputs": [],
   "source": [
    "print(\"The median is:\", st.median(alturas_list))\n",
    "# N = 10 devolve  - percentil 10, 20, ... , 90\n",
    "print(\"The percentiles are:\", st.quantiles(alturas_list, n = 10))"
   ]
  },
  {
   "cell_type": "markdown",
   "id": "09b5c5a5",
   "metadata": {},
   "source": [
    "# 2. Numpy"
   ]
  },
  {
   "cell_type": "code",
   "execution_count": null,
   "id": "8cde4765",
   "metadata": {},
   "outputs": [],
   "source": [
    "import numpy as np"
   ]
  },
  {
   "cell_type": "code",
   "execution_count": null,
   "id": "401b0e0a",
   "metadata": {},
   "outputs": [],
   "source": [
    "np?"
   ]
  },
  {
   "cell_type": "code",
   "execution_count": null,
   "id": "5ebe4efc",
   "metadata": {},
   "outputs": [],
   "source": [
    "alturas_list"
   ]
  },
  {
   "cell_type": "code",
   "execution_count": null,
   "id": "bad791d9",
   "metadata": {},
   "outputs": [],
   "source": [
    "array = np.array(alturas_list)\n",
    "array"
   ]
  },
  {
   "cell_type": "markdown",
   "id": "45797746",
   "metadata": {},
   "source": [
    "## 2.1 NumPy Arrays e 2D Arrays"
   ]
  },
  {
   "cell_type": "code",
   "execution_count": null,
   "id": "bbf0ec26",
   "metadata": {},
   "outputs": [],
   "source": [
    "array_2D = np.array([[1, 2, 3], [4, 5, 6], [7, 8, 9]])\n",
    "array_2D"
   ]
  },
  {
   "cell_type": "code",
   "execution_count": null,
   "id": "9657e57b",
   "metadata": {},
   "outputs": [],
   "source": [
    "int_list = [[[1,2,4,4,5], [5,7,7,9,3], [3,2,5,3,6], [6,8,9,5,1]],\n",
    "             [[8,9,3,4,3], [4,6,4,3,3], [2,6,3,6,6], [8,5,7,2,1]],\n",
    "             [[1,2,7,9,5], [4,8,7,7,3], [8,5,7,6,7], [2,4,4,5,4]]]\n",
    "array_3D = np.array(int_list)\n",
    "array_3D"
   ]
  },
  {
   "cell_type": "markdown",
   "id": "ec65e0ff",
   "metadata": {},
   "source": [
    "**Exemplo de Caracteristicas numa única Lista** <br>\n",
    "\n",
    "O meu cão é castanho, pesa 42,5 kg é verdade que é amigável e brincalhão e tem 7 anos"
   ]
  },
  {
   "cell_type": "code",
   "execution_count": null,
   "id": "154cc00c",
   "metadata": {},
   "outputs": [],
   "source": [
    "strange_list = ['castanho', 42.5, [True, True], 7 ]\n",
    "strange_list"
   ]
  },
  {
   "cell_type": "code",
   "execution_count": null,
   "id": "ed6732fd",
   "metadata": {},
   "outputs": [],
   "source": [
    "int_array = np.array([2, 6, 6, 3,  4, 5])\n",
    "int_array"
   ]
  },
  {
   "cell_type": "code",
   "execution_count": null,
   "id": "1bf74b89",
   "metadata": {},
   "outputs": [],
   "source": [
    "float_array = np.array([[34.6, 43.7, 45.3], [46.2, 45.8, 38.5]])\n",
    "float_array"
   ]
  },
  {
   "cell_type": "code",
   "execution_count": null,
   "id": "88988d27",
   "metadata": {},
   "outputs": [],
   "source": [
    "bool_array = np.array([True, False, False, False, False, True])\n",
    "bool_array"
   ]
  },
  {
   "cell_type": "markdown",
   "id": "25c9b72c",
   "metadata": {},
   "source": [
    "### 2.1.1 Criar um array do zero\n",
    "\n",
    "Podemos criar inicialmente um array preenchido com zeros e cujos valores iremos depois substituir..."
   ]
  },
  {
   "cell_type": "code",
   "execution_count": null,
   "id": "4ba3f361",
   "metadata": {},
   "outputs": [],
   "source": [
    "# Criar um array de inteiros de tamanho 10 (length-10) preenchido a zeros\n",
    "np.zeros(10, dtype=int)"
   ]
  },
  {
   "cell_type": "code",
   "execution_count": null,
   "id": "0c5a38e8",
   "metadata": {},
   "outputs": [],
   "source": [
    "# Criar um array de 3x5 (3 linhas e 5 colunas) com dados do tipo floating-point preenchido a 1s\n",
    "np.ones((3, 5), dtype=float)"
   ]
  },
  {
   "cell_type": "code",
   "execution_count": null,
   "id": "99c61146",
   "metadata": {},
   "outputs": [],
   "source": [
    "# Criar um array de 3x5 (3 linhas e 5 colunas) com 3.14\n",
    "np.full((3, 5), 3.14)"
   ]
  },
  {
   "cell_type": "code",
   "execution_count": null,
   "id": "4cfeb4db",
   "metadata": {},
   "outputs": [],
   "source": [
    "# Criar um array de -3 a 4 com espaçamento igual entre os seus elementos\n",
    "# atenção que o valor inicial está incluido mas o de stop não\n",
    "np.arange(-3,4)"
   ]
  },
  {
   "cell_type": "code",
   "execution_count": null,
   "id": "7d844f76",
   "metadata": {},
   "outputs": [],
   "source": [
    "# Criar um array preenchido com uma sequência de 0 até 20 saltando de 2 em 2\n",
    "# quando se passa um terceiro argumento é interpretado como o espaçamento\n",
    "np.arange(0, 20, 2)"
   ]
  },
  {
   "cell_type": "code",
   "execution_count": null,
   "id": "707f6a9e",
   "metadata": {},
   "outputs": [],
   "source": [
    "# Criar um array de 5 valores igualmente espaçados entre 0 e 1\n",
    "np.linspace(0, 1, 5)"
   ]
  },
  {
   "cell_type": "markdown",
   "id": "6098c56e",
   "metadata": {},
   "source": [
    "**Iterável** é qualquer objeto em Python que pode ser percorrido num loop, i.e. pode ser usado num for ou com outras funções para iteráveis como map(), filter() ou list comprehensions.\n",
    "*Exemplos de iteráveis incluem listas, tuplos, strings, dicionários, etc.* <br><br>\n",
    "**Iterador** é um objeto em Python que representa uma sequência de dados e suporta iteração. São usados para percorrer sequências como listas, tuplos ou strings, retornando um elemento de cada vez.<br><br>\n",
    "Em resumo, um iterável é qualquer objeto que pode ser percorrido, enquanto um iterador é um objeto que permite a iteração sobre uma sequência fornecendo acesso aos seus elementos um de cada vez. \n",
    "\n",
    "**Funções geradoras** são uma maneira conveniente de criar iteradores em Python. Usam a palavra-chave yield para gerar valores um de cada vez, tornando-os mais simples e legíveis do que a definição de uma classe de iterador personalizada."
   ]
  },
  {
   "cell_type": "code",
   "execution_count": null,
   "id": "7d7c473b",
   "metadata": {},
   "outputs": [],
   "source": [
    "class SquaresIterator:\n",
    "    def __init__(self, n):\n",
    "        self.n = n\n",
    "        self.current = 0\n",
    "\n",
    "    def __iter__(self):\n",
    "        return self\n",
    "\n",
    "    def __next__(self):\n",
    "        if self.current >= self.n:\n",
    "            raise StopIteration\n",
    "        result = self.current ** 2\n",
    "        self.current += 1\n",
    "        return result\n",
    "\n",
    "# Criar o iterador\n",
    "iterator = SquaresIterator(5)\n",
    "\n",
    "# Usar o iterador para mostrar os valores\n",
    "while True:\n",
    "    try:\n",
    "        num = next(iterator)\n",
    "        print(num)\n",
    "    except StopIteration:\n",
    "        break"
   ]
  },
  {
   "cell_type": "code",
   "execution_count": null,
   "id": "6d54add6",
   "metadata": {},
   "outputs": [],
   "source": [
    "# Definir o gerador\n",
    "def squares(n):\n",
    "    current = 0\n",
    "    while current < n:\n",
    "        yield current ** 2\n",
    "        current += 1\n",
    "\n",
    "# Criar o iterador\n",
    "squares_generator = squares(5)\n",
    "\n",
    "# Usar o iterador para imprimir os valores\n",
    "for num in squares_generator:\n",
    "    print(num)"
   ]
  },
  {
   "cell_type": "code",
   "execution_count": null,
   "id": "6b7ede7d",
   "metadata": {},
   "outputs": [],
   "source": [
    "# Definir o gerador\n",
    "def countdown(n):\n",
    "\n",
    "# Criar o iterador instanciado com o valor 3\n",
    "countdown_generator = \n",
    "\n",
    "# Usar o iterador para imprimir os valores\n"
   ]
  },
  {
   "cell_type": "markdown",
   "id": "94d85f29",
   "metadata": {},
   "source": [
    "**np.random.random** é chamado assim e não apenas *np.random* porque é uma função dentro do módulo random do NumPy que contém várias funções úteis para criar amostras pseudo-aleatórias. Iremos ver mais algumas."
   ]
  },
  {
   "cell_type": "code",
   "execution_count": null,
   "id": "b8fc6017",
   "metadata": {},
   "outputs": [],
   "source": [
    "# Criar um array de 3x5 de valores aleatórios entre 0 e 1\n",
    "# a partir de uma distribuição uniforme contínua.\n",
    "# cada número gerado tem a mesma probabilidade de ocorrer dentro do intervalo\n",
    "np.random.random((3, 5))"
   ]
  },
  {
   "cell_type": "code",
   "execution_count": null,
   "id": "7a5234e5",
   "metadata": {},
   "outputs": [],
   "source": [
    "# Criar um array de 3x3 de números aleatórios com uma distribuição normal\n",
    "# com média 0 e desvio padrão 1\n",
    "np.random.normal(0, 1, (3, 3))"
   ]
  },
  {
   "cell_type": "code",
   "execution_count": null,
   "id": "e2a3a7c3",
   "metadata": {},
   "outputs": [],
   "source": [
    "# Criar um array de 3x3 de números aleatórios no intervalo de [0, 10[\n",
    "# notem que 0 pertece ao intervalo mas 10 não...\n",
    "np.random.randint(0, 10, (3, 3))"
   ]
  },
  {
   "cell_type": "markdown",
   "id": "9482beb0",
   "metadata": {},
   "source": [
    "Pode-se definir a seed para as funções de geração de números aleatórios do NumPy. A seed, ou semente, é usada para iniciar o gerador de números aleatórios num estado específico, garantindo que a sequência de números gerados seja reproduzível."
   ]
  },
  {
   "cell_type": "code",
   "execution_count": null,
   "id": "c33e69df",
   "metadata": {},
   "outputs": [],
   "source": [
    "import numpy as np\n",
    "\n",
    "# Define a semente\n",
    "np.random.seed(42)\n",
    "\n",
    "# Gera uma matriz 3x3 de números aleatórios duma distribuição normal\n",
    "normal_array = np.random.normal(loc=0, scale=1, size=(3, 3))\n",
    "\n",
    "print(normal_array)"
   ]
  },
  {
   "cell_type": "markdown",
   "id": "4a4a78e5",
   "metadata": {},
   "source": [
    "Existem muitas outras funções para nos ajudarem a [criar arrays em Numpy](https://numpy.org/doc/stable/reference/random/generated/numpy.random.dirichlet.html) <br>\n",
    "<br>\n",
    "um último caso que nos pode ser muito útil é criar matrizes de identidade"
   ]
  },
  {
   "cell_type": "code",
   "execution_count": null,
   "id": "2cb26699",
   "metadata": {},
   "outputs": [],
   "source": [
    "# Criar uma matriz identidade de 5x5\n",
    "np.eye(5)"
   ]
  },
  {
   "cell_type": "markdown",
   "id": "a524f0d7",
   "metadata": {},
   "source": [
    "### 2.1.2 Propostas de Exercicios"
   ]
  },
  {
   "cell_type": "code",
   "execution_count": null,
   "id": "705d338a",
   "metadata": {},
   "outputs": [],
   "source": [
    "# Proposta de Exercicio\n",
    "# Converta a lista de sudoku num array e mostre no écran o tipo da nova variável\n",
    "# sudoku_array para demonstrar que o código funcionou correctamente\n",
    "sudoku_list = [[0, 0, 4, 3, 0, 0, 2, 0, 9], [0, 0, 5, 0, 0, 9, 0, 0, 1], [0, 7, 0, 0, 6, 0, 0, 4, 3],\n",
    "               [0, 0, 6, 0, 0, 2, 0, 8, 7], [1, 9, 0, 0, 0, 7, 4, 0, 0], [0, 5, 0, 0, 8, 3, 0, 0, 0],\n",
    "               [6, 0, 0, 0, 0, 0, 1, 0, 5], [0, 0, 3, 5, 0, 8, 6, 9, 0], [0, 4, 2, 9, 1, 0, 3, 0, 0]]\n",
    "print(type(sudoku_list))"
   ]
  },
  {
   "cell_type": "code",
   "execution_count": null,
   "id": "97805a89-66ab-4a6c-b33d-54235bcf6461",
   "metadata": {},
   "outputs": [],
   "source": [
    "sudoku_array = np.array(sudoku_list)\n",
    "print(type(sudoku_array))"
   ]
  },
  {
   "cell_type": "code",
   "execution_count": null,
   "id": "9f3084c7-543c-4868-9e02-17b67c85924a",
   "metadata": {},
   "outputs": [],
   "source": [
    "# Proposta de Exercicio\n",
    "# Criar um array de zeros com 4 colunas e 10 linhas \n",
    "# mostrar no écran o array para demonstrar que o código funcionou correctamente\n",
    "zero_array = np.zeros((10,4))\n",
    "zero_array"
   ]
  },
  {
   "cell_type": "code",
   "execution_count": null,
   "id": "94286a26",
   "metadata": {},
   "outputs": [],
   "source": [
    "# Proposta de Exercicio\n",
    "# criação do doubling array que será mostrado no eixo do y\n",
    "doubling_array = [1, 2, 4, 8, 16, 32, 64, 128, 256, 512]\n",
    "\n",
    "# criação do one_to_ten array que será mostrado no eixo do x\n",
    "one_to_ten =np.arange(1,11)\n",
    "\n",
    "# código de display do plot que terá de ser adaptado\n",
    "plt.scatter(one_to_ten, doubling_array)\n",
    "plt.show()"
   ]
  },
  {
   "cell_type": "markdown",
   "id": "d95666cd",
   "metadata": {},
   "source": [
    "## 2.2 Atributos dos Arrays Numpy\n",
    "**np.random.default_rng** é uma função introduzida no NumPy a partir da versão 1.17.0, que permite criar um gerador de números aleatórios (RNG) utilizando uma nova classe chamada Generator.<br> <br>\n",
    "Esta classe oferece uma maneira mais flexível e robusta de gerar números aleatórios em comparação com as funções tradicionais do módulo np.random"
   ]
  },
  {
   "cell_type": "code",
   "execution_count": null,
   "id": "11501cb9-bf3e-4472-9083-e51f96b83f59",
   "metadata": {},
   "outputs": [],
   "source": [
    "import numpy as np\n",
    "rng = np.random.default_rng(seed=2012) \n",
    "type(rng)"
   ]
  },
  {
   "cell_type": "code",
   "execution_count": null,
   "id": "e1008311-c5fc-42a2-94b4-7486f73e8336",
   "metadata": {},
   "outputs": [],
   "source": [
    "x1 = rng.integers(3, size = 6)  \n",
    "x1"
   ]
  },
  {
   "cell_type": "code",
   "execution_count": null,
   "id": "7b1b6493",
   "metadata": {},
   "outputs": [],
   "source": [
    "print('x1 tem {0} dimensões e uma shape {1}'.format(x1.ndim, x1.shape))\n",
    "print('o seu conteúdo é {0}'.format(x1))"
   ]
  },
  {
   "cell_type": "code",
   "execution_count": 8,
   "id": "458a593a",
   "metadata": {},
   "outputs": [
    {
     "name": "stdout",
     "output_type": "stream",
     "text": [
      "x2 tem 2 dimensões e uma shape (3, 4) o seu conteúdo é \n",
      "[[8 2 4 0]\n",
      " [1 3 4 2]\n",
      " [4 8 7 7]]\n"
     ]
    }
   ],
   "source": [
    "import numpy as np\n",
    "rng = np.random.default_rng(seed=2012)  # seed for reproducibility\n",
    "\n",
    "x2 = rng.integers(10, size=(3, 4))  # two-dimensional array\n",
    "print('x2 tem {0} dimensões e uma shape {1} o seu conteúdo é '.format(x2.ndim, x2.shape))\n",
    "print('{0}'.format(x2))"
   ]
  },
  {
   "cell_type": "code",
   "execution_count": null,
   "id": "acadfe98-8db2-48c8-be1b-775e613e7ca3",
   "metadata": {},
   "outputs": [],
   "source": [
    "import numpy as np\n",
    "rng = np.random.default_rng(seed=2012)  # seed for reproducibility\n",
    "\n",
    "x3 = rng.integers(10, size=(3, 4, 2))  \n",
    "print('x3 tem {0} dimensões e uma shape {1} o seu conteúdo é '\n",
    "      .format(x3.ndim, x3.shape))\n",
    "print('{0}'.format(x3))"
   ]
  },
  {
   "cell_type": "code",
   "execution_count": null,
   "id": "74a4a1aa-a21e-43ae-bed3-73302153e364",
   "metadata": {},
   "outputs": [],
   "source": [
    "import numpy as np\n",
    "rng = np.random.default_rng(seed=2012)  # seed for reproducibility\n",
    "\n",
    "x4 = rng.integers(10, size=(3, 4, 2,7))  \n",
    "print('x3 tem {0} dimensões e uma shape {1} o seu conteúdo é '\n",
    "      .format(x4.ndim, x4.shape))\n",
    "print('{0}'.format(x4))"
   ]
  },
  {
   "cell_type": "code",
   "execution_count": null,
   "id": "381123b4",
   "metadata": {},
   "outputs": [],
   "source": [
    "import numpy as np\n",
    "rng = np.random.default_rng(seed=2012)  # seed for reproducibility\n",
    "\n",
    "x5 = rng.integers(10, size=(3, 4, 2, 5, 9))  # two-dimensional array\n",
    "print('x5 tem {0} dimensões e uma shape {1} o seu conteúdo é '.format(x5.ndim, x5.shape))\n",
    "print('{0}'.format(x5))"
   ]
  },
  {
   "cell_type": "markdown",
   "id": "13cbcb09",
   "metadata": {},
   "source": [
    "É difícil visualizar arrays ND com N maior que 3 daí a importância da **.shape**"
   ]
  },
  {
   "cell_type": "code",
   "execution_count": null,
   "id": "e3c7988b",
   "metadata": {},
   "outputs": [],
   "source": [
    "import numpy as np\n",
    "\n",
    "x1 = np.arange(1,6)\n",
    "print(x1)\n",
    "print(x1.shape)"
   ]
  },
  {
   "cell_type": "markdown",
   "id": "88cb53c5",
   "metadata": {},
   "source": [
    "### 2.2.1 Mudar a forma do Array \n",
    "\n",
    "Podemos aplanar o array com a função **.flatten()** ou dar-lhe linhas e colunas com a função **.reshape()**. <br>\n",
    "\n",
    "Será que depois de aplanarmos um vector se fizermos reshape os valores podem voltar a estar nas mesmas células? Vamos descobrir!"
   ]
  },
  {
   "cell_type": "code",
   "execution_count": null,
   "id": "06053202-3a05-439f-a581-62450db0c6f8",
   "metadata": {},
   "outputs": [],
   "source": [
    "array = np.array([[1, 2], [3, 4], [5, 6]])\n",
    "array"
   ]
  },
  {
   "cell_type": "code",
   "execution_count": null,
   "id": "a6e8aab4-55ba-4725-9a1e-e200d62178d1",
   "metadata": {},
   "outputs": [],
   "source": [
    "x5_flat = x5.flatten()\n",
    "x5_flat"
   ]
  },
  {
   "cell_type": "code",
   "execution_count": null,
   "id": "fa4aa0ff-1c45-4a41-b78f-785f97531936",
   "metadata": {},
   "outputs": [],
   "source": [
    "print(x5_flat.shape, x5_flat)"
   ]
  },
  {
   "cell_type": "code",
   "execution_count": null,
   "id": "fb4bc2c4",
   "metadata": {},
   "outputs": [],
   "source": [
    "array = np.array([[1, 2], [3, 4], [5, 6]])\n",
    "\n",
    "print(array.shape)\n",
    "print(array)\n",
    "flat_array = array.flatten()\n",
    "print(flat_array.shape, flat_array)"
   ]
  },
  {
   "cell_type": "code",
   "execution_count": null,
   "id": "e0266ffd",
   "metadata": {},
   "outputs": [],
   "source": [
    "print(flat_array.shape, flat_array)\n",
    "reshp_array = flat_array.reshape(3,2)\n",
    "print(reshp_array.shape)\n",
    "print(reshp_array)"
   ]
  },
  {
   "cell_type": "code",
   "execution_count": null,
   "id": "f649251e",
   "metadata": {},
   "outputs": [],
   "source": [
    "diff_array = flat_array.reshape(2,3)\n",
    "print(diff_array.shape)\n",
    "print(diff_array)"
   ]
  },
  {
   "cell_type": "code",
   "execution_count": null,
   "id": "e8698adc",
   "metadata": {
    "scrolled": true
   },
   "outputs": [],
   "source": [
    "flat_array.size"
   ]
  },
  {
   "cell_type": "code",
   "execution_count": null,
   "id": "826d7c4b",
   "metadata": {},
   "outputs": [],
   "source": [
    "np.array([1.32, 5.78, 175.55]).dtype"
   ]
  },
  {
   "cell_type": "code",
   "execution_count": null,
   "id": "48ef9ff8",
   "metadata": {},
   "outputs": [],
   "source": [
    "int_array = np.array([[1, 2, 3], [4, 5, 6]])\n",
    "int_array.dtype"
   ]
  },
  {
   "cell_type": "code",
   "execution_count": null,
   "id": "3b908fa5",
   "metadata": {},
   "outputs": [],
   "source": [
    "np.array([\"Python\", \"para\", \"Estatísticas\",\"Oficiais\"]).dtype"
   ]
  },
  {
   "cell_type": "code",
   "execution_count": null,
   "id": "609cb353",
   "metadata": {},
   "outputs": [],
   "source": [
    "float32_array = np.array([1.32, 5.78, 175.55], dtype=np.float32)\n",
    "float32_array.dtype"
   ]
  },
  {
   "cell_type": "code",
   "execution_count": null,
   "id": "6fc69869",
   "metadata": {},
   "outputs": [],
   "source": [
    "boolean_array = np.array([[True, False], [False, False]], dtype=np.bool_)\n",
    "print(boolean_array.dtype)\n",
    "boolean_array.astype(np.int32)"
   ]
  },
  {
   "cell_type": "code",
   "execution_count": null,
   "id": "225c5dbf",
   "metadata": {},
   "outputs": [],
   "source": [
    "np.array([True]).dtype"
   ]
  },
  {
   "cell_type": "code",
   "execution_count": null,
   "id": "648820b0",
   "metadata": {},
   "outputs": [],
   "source": [
    "np.array([True, 42]).dtype"
   ]
  },
  {
   "cell_type": "code",
   "execution_count": null,
   "id": "94f8f151",
   "metadata": {},
   "outputs": [],
   "source": [
    "np.array([True, 42, 42.42]).dtype"
   ]
  },
  {
   "cell_type": "code",
   "execution_count": 7,
   "id": "105dd09c",
   "metadata": {},
   "outputs": [
    {
     "ename": "NameError",
     "evalue": "name 'np' is not defined",
     "output_type": "error",
     "traceback": [
      "\u001b[1;31m---------------------------------------------------------------------------\u001b[0m",
      "\u001b[1;31mNameError\u001b[0m                                 Traceback (most recent call last)",
      "Cell \u001b[1;32mIn[7], line 1\u001b[0m\n\u001b[1;32m----> 1\u001b[0m np\u001b[38;5;241m.\u001b[39marray([\u001b[38;5;28;01mTrue\u001b[39;00m, \u001b[38;5;241m42\u001b[39m, \u001b[38;5;241m42.42\u001b[39m, \u001b[38;5;124m\"\u001b[39m\u001b[38;5;124mHitchikers\u001b[39m\u001b[38;5;124m'\u001b[39m\u001b[38;5;124m Guide to the Galaxy\u001b[39m\u001b[38;5;124m\"\u001b[39m])\u001b[38;5;241m.\u001b[39mdtype\n",
      "\u001b[1;31mNameError\u001b[0m: name 'np' is not defined"
     ]
    }
   ],
   "source": [
    "np.array([True, 42, 42.42, \"Hitchikers' Guide to the Galaxy\"]).dtype"
   ]
  },
  {
   "cell_type": "markdown",
   "id": "123f3354",
   "metadata": {},
   "source": [
    "### 2.2.2 Proposta de Exercicios"
   ]
  },
  {
   "cell_type": "code",
   "execution_count": null,
   "id": "62e3f2a8",
   "metadata": {},
   "outputs": [],
   "source": [
    "sudoku_game = np.array([[0, 0, 4, 3, 0, 0, 2, 0, 9],\n",
    "       [0, 0, 5, 0, 0, 9, 0, 0, 1],\n",
    "       [0, 7, 0, 0, 6, 0, 0, 4, 3],\n",
    "       [0, 0, 6, 0, 0, 2, 0, 8, 7],\n",
    "       [1, 9, 0, 0, 0, 7, 4, 0, 0],\n",
    "       [0, 5, 0, 0, 8, 3, 0, 0, 0],\n",
    "       [6, 0, 0, 0, 0, 0, 1, 0, 5],\n",
    "       [0, 0, 3, 5, 0, 8, 6, 9, 0],\n",
    "       [0, 4, 2, 9, 1, 0, 3, 0, 0]])\n",
    "\n",
    "sudoku_solution = np.array([[8, 6, 4, 3, 7, 1, 2, 5, 9],\n",
    "       [3, 2, 5, 8, 4, 9, 7, 6, 1],\n",
    "       [9, 7, 1, 2, 6, 5, 8, 4, 3],\n",
    "       [4, 3, 6, 1, 9, 2, 5, 8, 7],\n",
    "       [1, 9, 8, 6, 5, 7, 4, 3, 2],\n",
    "       [2, 5, 7, 4, 8, 3, 9, 1, 6],\n",
    "       [6, 8, 9, 7, 3, 4, 1, 2, 5],\n",
    "       [7, 1, 3, 5, 2, 8, 6, 9, 4],\n",
    "       [5, 4, 2, 9, 1, 6, 3, 7, 8]])"
   ]
  },
  {
   "cell_type": "code",
   "execution_count": null,
   "id": "377b16e2-1c78-408a-a935-cbfc440e0cb1",
   "metadata": {},
   "outputs": [],
   "source": [
    "# Usando os arrays já definidos sudoku_game e sudoku_solution \n",
    "# crie um array 3D com o jogo e a solução\n",
    "game_and_solution = np.array([sudoku_game, sudoku_solution])\n",
    "print(game_and_solution)\n",
    "game_and_solution.shape"
   ]
  },
  {
   "cell_type": "code",
   "execution_count": null,
   "id": "d45d136a",
   "metadata": {},
   "outputs": [],
   "source": [
    "new_sudoku_game = np.array([[0, 0, 4, 3, 0, 0, 2, 0, 9],\n",
    "       [0, 0, 5, 0, 0, 9, 0, 0, 1],\n",
    "       [0, 7, 0, 0, 6, 0, 0, 4, 3],\n",
    "       [0, 0, 6, 0, 0, 2, 0, 8, 7],\n",
    "       [1, 9, 0, 0, 0, 7, 4, 0, 0],\n",
    "       [0, 5, 0, 0, 8, 3, 0, 0, 0],\n",
    "       [6, 0, 0, 0, 0, 0, 1, 0, 5],\n",
    "       [0, 0, 3, 5, 0, 8, 6, 9, 0],\n",
    "       [0, 4, 2, 9, 1, 0, 3, 0, 0]])\n",
    "\n",
    "new_sudoku_solution = np.array([[8, 6, 4, 3, 7, 1, 2, 5, 9],\n",
    "       [3, 2, 5, 8, 4, 9, 7, 6, 1],\n",
    "       [9, 7, 1, 2, 6, 5, 8, 4, 3],\n",
    "       [4, 3, 6, 1, 9, 2, 5, 8, 7],\n",
    "       [1, 9, 8, 6, 5, 7, 4, 3, 2],\n",
    "       [2, 5, 7, 4, 8, 3, 9, 1, 6],\n",
    "       [6, 8, 9, 7, 3, 4, 1, 2, 5],\n",
    "       [7, 1, 3, 5, 2, 8, 6, 9, 4],\n",
    "       [5, 4, 2, 9, 1, 6, 3, 7, 8]])"
   ]
  },
  {
   "cell_type": "code",
   "execution_count": null,
   "id": "deee5c94-e350-4469-a8e5-3c729ab5bd97",
   "metadata": {},
   "outputs": [],
   "source": [
    "# Usando os novos já definidos new_sudoku_game e new_sudoku_solution\n",
    "# crie um novo array 3D com o novo jogo e a nova solução.\n",
    "new_game_and_solution = np.array([new_sudoku_game, new_sudoku_solution])\n",
    "\n",
    "# Depois usando o arrays 3D do exercicio anterior e o agora criado \n",
    "# agrupe-os num novo array 4D\n",
    "games_and_solutions = np.array([game_and_solution, new_game_and_solution])\n",
    "\n",
    "# Verifique a sua shape\n",
    "games_and_solutions.shape"
   ]
  },
  {
   "cell_type": "code",
   "execution_count": null,
   "id": "105d4258-1cc7-4669-a14d-9b43fe06f813",
   "metadata": {},
   "outputs": [],
   "source": [
    "print(games_and_solutions)"
   ]
  },
  {
   "cell_type": "markdown",
   "id": "712712a0",
   "metadata": {},
   "source": [
    "## 2.3 Aceder aos Elementos do Numpy Array"
   ]
  },
  {
   "cell_type": "code",
   "execution_count": null,
   "id": "8adabb82",
   "metadata": {},
   "outputs": [],
   "source": [
    "# recuperar o array 1D declarado anteriormente\n",
    "x1"
   ]
  },
  {
   "cell_type": "code",
   "execution_count": null,
   "id": "4368804f",
   "metadata": {},
   "outputs": [],
   "source": [
    "# Aceder ao primeiro elemento \n",
    "# (começa em zero)\n",
    "print(\"O primeiro elemento é {0} e o segundo {1}\" .format(x1[0], x1[1]))"
   ]
  },
  {
   "cell_type": "code",
   "execution_count": null,
   "id": "718431ba",
   "metadata": {},
   "outputs": [],
   "source": [
    "# Aceder ao ante-penultimo elemento\n",
    "x1[-3]"
   ]
  },
  {
   "cell_type": "code",
   "execution_count": null,
   "id": "63b2f0cb",
   "metadata": {},
   "outputs": [],
   "source": [
    "x2"
   ]
  },
  {
   "cell_type": "code",
   "execution_count": null,
   "id": "aa70e062",
   "metadata": {},
   "outputs": [],
   "source": [
    "# Aceder ao 1º elemento da 2ª linha\n",
    "# (linha e coluna começam em zero)\n",
    "x2[1,0]"
   ]
  },
  {
   "cell_type": "markdown",
   "id": "a1f60880",
   "metadata": {},
   "source": [
    "## 2.4 Slicing Arrays"
   ]
  },
  {
   "cell_type": "code",
   "execution_count": null,
   "id": "88605f88",
   "metadata": {},
   "outputs": [],
   "source": [
    "x1 = np.arange(0,10)\n",
    "x1"
   ]
  },
  {
   "cell_type": "code",
   "execution_count": null,
   "id": "10248c9c",
   "metadata": {},
   "outputs": [],
   "source": [
    "# Fatia os primeiros três elementos\n",
    "x1[:3]  "
   ]
  },
  {
   "cell_type": "code",
   "execution_count": null,
   "id": "e70f497f",
   "metadata": {},
   "outputs": [],
   "source": [
    "# fatia os elementos a partir do indice 3\n",
    "x1[3:]  "
   ]
  },
  {
   "cell_type": "code",
   "execution_count": null,
   "id": "cb5cb4d9",
   "metadata": {},
   "outputs": [],
   "source": [
    "# fatia do segundo ao sexto elemento\n",
    "# de 2 em 2 - só os impares\n",
    "x1[1:6:2]  "
   ]
  },
  {
   "cell_type": "markdown",
   "id": "912377b7",
   "metadata": {},
   "source": [
    "## 2.5 Modificar células de um array"
   ]
  },
  {
   "cell_type": "code",
   "execution_count": null,
   "id": "ae8ab58d",
   "metadata": {},
   "outputs": [],
   "source": [
    "x1[0] = 11\n",
    "x1"
   ]
  },
  {
   "cell_type": "code",
   "execution_count": null,
   "id": "bdcfefe9",
   "metadata": {},
   "outputs": [],
   "source": [
    "x2"
   ]
  },
  {
   "cell_type": "code",
   "execution_count": null,
   "id": "5299ce5b",
   "metadata": {},
   "outputs": [],
   "source": [
    "x2[0,2] = 5\n",
    "x2"
   ]
  },
  {
   "cell_type": "code",
   "execution_count": null,
   "id": "71339f7e",
   "metadata": {},
   "outputs": [],
   "source": [
    "x2[-1,0] = 6\n",
    "x2"
   ]
  },
  {
   "cell_type": "markdown",
   "id": "e6c220c9",
   "metadata": {},
   "source": [
    "## 2.6 Subarrays Multidimensionais"
   ]
  },
  {
   "cell_type": "code",
   "execution_count": null,
   "id": "8210ec76",
   "metadata": {},
   "outputs": [],
   "source": [
    "x2"
   ]
  },
  {
   "cell_type": "code",
   "execution_count": null,
   "id": "96738c51",
   "metadata": {},
   "outputs": [],
   "source": [
    "# fatia das 2 primeiras linhas\n",
    "# as 3 primeiras colunas\n",
    "x2[:2, :3] "
   ]
  },
  {
   "cell_type": "code",
   "execution_count": null,
   "id": "0caaa974-4b21-48fb-b036-5a3e7a1b2a7e",
   "metadata": {},
   "outputs": [],
   "source": [
    "x2[0:2, 0:2]"
   ]
  },
  {
   "cell_type": "code",
   "execution_count": null,
   "id": "1fd530b8-6c69-4ce0-ad04-0160f6e1dff4",
   "metadata": {},
   "outputs": [],
   "source": [
    "x2[1:3, 0:2]"
   ]
  },
  {
   "cell_type": "code",
   "execution_count": null,
   "id": "2680f33a",
   "metadata": {},
   "outputs": [],
   "source": [
    "x2[::-1, ::-1]"
   ]
  },
  {
   "cell_type": "code",
   "execution_count": null,
   "id": "300fad2b",
   "metadata": {},
   "outputs": [],
   "source": [
    "# fatia a primeira coluna de x2\n",
    "x2[:, 0] "
   ]
  },
  {
   "cell_type": "code",
   "execution_count": null,
   "id": "580c6fed",
   "metadata": {},
   "outputs": [],
   "source": [
    "# fatia a primeira linha de x2\n",
    "print(x2[0])\n",
    "print(x2[0, :])"
   ]
  },
  {
   "cell_type": "code",
   "execution_count": null,
   "id": "ba74f1a2-74c1-4082-90ab-1fd6b6b9b4f4",
   "metadata": {},
   "outputs": [],
   "source": [
    "# igual a x2[0, :]\n",
    "x2[0, 0:4]"
   ]
  },
  {
   "cell_type": "markdown",
   "id": "9d1a0fc6",
   "metadata": {},
   "source": [
    "## 2.7 Criar Cópias de Subarrays"
   ]
  },
  {
   "cell_type": "code",
   "execution_count": null,
   "id": "aa7675ea",
   "metadata": {},
   "outputs": [],
   "source": [
    "# x2_sub é uma view e não uma cópia!!!\n",
    "x2_sub = x2[:2, :2]\n",
    "print(x2_sub)"
   ]
  },
  {
   "cell_type": "code",
   "execution_count": null,
   "id": "0f0e58ae",
   "metadata": {},
   "outputs": [],
   "source": [
    "x2_sub[0, 0] = 99\n",
    "print(x2_sub)\n",
    "print(x2)"
   ]
  },
  {
   "cell_type": "code",
   "execution_count": null,
   "id": "ef8f7922",
   "metadata": {},
   "outputs": [],
   "source": [
    "x2_sub_copy = x2[:2, :2].copy()\n",
    "print(x2_sub_copy)"
   ]
  },
  {
   "cell_type": "code",
   "execution_count": null,
   "id": "a848ce67",
   "metadata": {},
   "outputs": [],
   "source": [
    "x2_sub_copy[0, 0] = 42\n",
    "print(x2_sub_copy)\n",
    "print(x2)"
   ]
  },
  {
   "cell_type": "markdown",
   "id": "5b834ca6",
   "metadata": {},
   "source": [
    "## 2.8 Reshape do Array"
   ]
  },
  {
   "cell_type": "code",
   "execution_count": null,
   "id": "67ff4cf7",
   "metadata": {},
   "outputs": [],
   "source": [
    "# criar uma grid de 3 por 3\n",
    "grid = np.arange(1, 10).reshape(3, 3)\n",
    "print(grid)"
   ]
  },
  {
   "cell_type": "code",
   "execution_count": null,
   "id": "721321ed-bb59-467e-98e7-261eee250c90",
   "metadata": {},
   "outputs": [],
   "source": [
    "grid.reshape((1, 9))  "
   ]
  },
  {
   "cell_type": "code",
   "execution_count": null,
   "id": "3210c35b-d613-48d7-b906-1301a500b24f",
   "metadata": {},
   "outputs": [],
   "source": [
    "grid.reshape((9,1))"
   ]
  },
  {
   "cell_type": "code",
   "execution_count": null,
   "id": "5c75f842",
   "metadata": {},
   "outputs": [],
   "source": [
    "# criar um vector em linha através do reshape\n",
    "x = np.array([1, 2, 3])\n",
    "x"
   ]
  },
  {
   "cell_type": "code",
   "execution_count": null,
   "id": "ff19c067",
   "metadata": {},
   "outputs": [],
   "source": [
    "# criar um vector em linha através do newaxis\n",
    "x[np.newaxis, :] "
   ]
  },
  {
   "cell_type": "code",
   "execution_count": null,
   "id": "e82bee92",
   "metadata": {},
   "outputs": [],
   "source": [
    "# criar um vector em coluna através do reshape\n",
    "x.reshape((3, 1))"
   ]
  },
  {
   "cell_type": "code",
   "execution_count": null,
   "id": "78bbd134",
   "metadata": {},
   "outputs": [],
   "source": [
    "# criar um vector em coluna através do newaxis\n",
    "x[: ,np.newaxis] "
   ]
  },
  {
   "cell_type": "markdown",
   "id": "626cebe8",
   "metadata": {},
   "source": [
    "## 2.9 Concatenação de Arrays"
   ]
  },
  {
   "cell_type": "code",
   "execution_count": null,
   "id": "3a7d20ae",
   "metadata": {},
   "outputs": [],
   "source": [
    "x = np.array([1, 2, 3])\n",
    "y = np.array([3, 2, 1])\n",
    "np.concatenate([x, y])"
   ]
  },
  {
   "cell_type": "code",
   "execution_count": null,
   "id": "f86ec464",
   "metadata": {},
   "outputs": [],
   "source": [
    "# concatenar mais do que 2 arrays de cada vez\n",
    "z = np.array([99, 99, 99])\n",
    "print(np.concatenate([x, y, z]))"
   ]
  },
  {
   "cell_type": "code",
   "execution_count": null,
   "id": "b21d1831",
   "metadata": {},
   "outputs": [],
   "source": [
    "grid = np.array([[1, 2, 3],\n",
    "                 [4, 5, 6]])\n",
    "# concatenar ao longo do eixo 1\n",
    "np.concatenate([grid, grid])"
   ]
  },
  {
   "cell_type": "code",
   "execution_count": null,
   "id": "2bcca3cd",
   "metadata": {},
   "outputs": [],
   "source": [
    "# concatenar ao longo do 2º eixo\n",
    "# (indice dos eixos começa em zero)\n",
    "np.concatenate([grid, grid], axis=1)"
   ]
  },
  {
   "cell_type": "code",
   "execution_count": null,
   "id": "44f0508d",
   "metadata": {},
   "outputs": [],
   "source": [
    "# stack vertical de arrays\n",
    "np.vstack([x, grid])"
   ]
  },
  {
   "cell_type": "code",
   "execution_count": null,
   "id": "bcc011ee",
   "metadata": {},
   "outputs": [],
   "source": [
    "# stack horizontal de arrays\n",
    "y = np.array([[99],\n",
    "              [99]])\n",
    "np.hstack([grid, y])"
   ]
  },
  {
   "cell_type": "code",
   "execution_count": null,
   "id": "f7335a24-d779-45d1-b57f-370f351eb43e",
   "metadata": {},
   "outputs": [],
   "source": [
    "x_exp0 = np.expand_dims(x, axis=0)\n",
    "print(x)\n",
    "print(x_exp0)"
   ]
  },
  {
   "cell_type": "code",
   "execution_count": null,
   "id": "451468a0-dd37-4391-95c5-53a617350615",
   "metadata": {},
   "outputs": [],
   "source": [
    "import numpy as np\n",
    "\n",
    "# Definindo duas matrizes bidimensionais\n",
    "x = np.array([[1, 2],\n",
    "              [3, 4]])\n",
    "\n",
    "y = np.array([[5, 6],\n",
    "              [7, 8]])\n",
    "\n",
    "# Adicionando uma dimensão extra às matrizes\n",
    "x_expandido = np.expand_dims(x, axis=2)\n",
    "y_expandido = np.expand_dims(y, axis=2)\n",
    "\n",
    "# Concatenando as matrizes ao longo da terceira dimensão usando np.dstack()\n",
    "resultado = np.dstack((x_expandido, y_expandido))\n",
    "\n",
    "print(x)\n",
    "print(x_expandido)\n",
    "print(resultado)\n"
   ]
  },
  {
   "cell_type": "code",
   "execution_count": null,
   "id": "17241310-7d8a-468c-b288-087d5821379b",
   "metadata": {},
   "outputs": [],
   "source": [
    "x_exp1 = np.expand_dims(x, axis=1)\n",
    "x_exp1"
   ]
  },
  {
   "cell_type": "code",
   "execution_count": null,
   "id": "965bfdea-97ee-40a1-a57d-c941e4c99bb2",
   "metadata": {},
   "outputs": [],
   "source": [
    "x_exp3 = np.expand_dims(x, axis=2)\n",
    "x_exp3"
   ]
  },
  {
   "cell_type": "code",
   "execution_count": null,
   "id": "12fcfe35-bd36-4e88-a8db-f6b9cfce5e41",
   "metadata": {},
   "outputs": [],
   "source": [
    "x_exp2 = np.expand_dims(x, axis=2)\n",
    "x_exp2"
   ]
  },
  {
   "cell_type": "markdown",
   "id": "9ba64a28",
   "metadata": {},
   "source": [
    "## 2.10 Split de Arrays"
   ]
  },
  {
   "cell_type": "code",
   "execution_count": null,
   "id": "57446026",
   "metadata": {},
   "outputs": [],
   "source": [
    "x = [1, 2, 3, 99, 99, 3, 2, 1]\n",
    "x1, x2, x3 = np.split(x, [3, 5])\n",
    "print(x1, x2, x3)"
   ]
  },
  {
   "cell_type": "code",
   "execution_count": null,
   "id": "0d19c853",
   "metadata": {},
   "outputs": [],
   "source": [
    "grid = np.arange(16).reshape((4, 4))\n",
    "grid"
   ]
  },
  {
   "cell_type": "code",
   "execution_count": null,
   "id": "8591a9d1",
   "metadata": {},
   "outputs": [],
   "source": [
    "upper, lower = np.vsplit(grid, [2])\n",
    "print(upper)\n",
    "print(lower)"
   ]
  },
  {
   "cell_type": "code",
   "execution_count": null,
   "id": "23470083",
   "metadata": {},
   "outputs": [],
   "source": [
    "left, right = np.hsplit(grid, [2])\n",
    "print(left)\n",
    "print(right)"
   ]
  },
  {
   "cell_type": "markdown",
   "id": "1c3f1e87",
   "metadata": {},
   "source": [
    "## 2.11 Aritmética de Arrays"
   ]
  },
  {
   "cell_type": "code",
   "execution_count": null,
   "id": "84d45a72",
   "metadata": {},
   "outputs": [],
   "source": [
    "x = np.arange(4)\n",
    "print(\"x      =\", x)\n",
    "print(\"x + 5  =\", x + 5)\n",
    "print(\"x - 5  =\", x - 5)\n",
    "print(\"x * 2  =\", x * 2)\n",
    "print(\"x / 2  =\", x / 2)\n",
    "print(\"x // 2 =\", x // 2)  # divisão inteira"
   ]
  },
  {
   "cell_type": "code",
   "execution_count": null,
   "id": "22240692",
   "metadata": {},
   "outputs": [],
   "source": [
    "print(\"-x     = \", -x)     # - negação\n",
    "print(\"x ** 2 = \", x ** 2) # ** quadrado\n",
    "print(\"x ** 3 = \", x ** 3) # ** cubo\n",
    "print(\"x % 2  = \", x % 2)  # % resto da divisão"
   ]
  },
  {
   "cell_type": "code",
   "execution_count": null,
   "id": "cf222591",
   "metadata": {},
   "outputs": [],
   "source": [
    "print(\"e^x =\", np.exp(x))       # exponencial de base e\n",
    "print(\"2^x =\", np.exp2(x))      # exponencial de base 2\n",
    "print(\"3^x =\", np.power(3., x)) # exponencial de base 3"
   ]
  },
  {
   "cell_type": "code",
   "execution_count": null,
   "id": "b24f4505",
   "metadata": {},
   "outputs": [],
   "source": [
    "# as operacções inversas das exponenciais, os logaritmos\n",
    "# também estão disponíveis\n",
    "x = [1, 2, 4, 10]\n",
    "print(\"x        =\", x)\n",
    "print(\"ln(x)    =\", np.log(x))\n",
    "print(\"log2(x)  =\", np.log2(x))\n",
    "print(\"log10(x) =\", np.log10(x))"
   ]
  },
  {
   "cell_type": "markdown",
   "id": "b79ce2be",
   "metadata": {},
   "source": [
    "### 2.11.1 Produtos Externos"
   ]
  },
  {
   "cell_type": "code",
   "execution_count": null,
   "id": "6702a740",
   "metadata": {},
   "outputs": [],
   "source": [
    "x = np.arange(1, 6)\n",
    "x"
   ]
  },
  {
   "cell_type": "code",
   "execution_count": null,
   "id": "f4f4d6c3-a998-4b6e-8319-03730684ad43",
   "metadata": {},
   "outputs": [],
   "source": [
    "np.multiply.outer(x, x)"
   ]
  },
  {
   "cell_type": "markdown",
   "id": "8087e96b",
   "metadata": {},
   "source": [
    "### 2.11.2 Agregações"
   ]
  },
  {
   "cell_type": "code",
   "execution_count": 9,
   "id": "23516ae5",
   "metadata": {},
   "outputs": [
    {
     "data": {
      "text/plain": [
       "array([1, 2, 3, 4, 5])"
      ]
     },
     "execution_count": 9,
     "metadata": {},
     "output_type": "execute_result"
    }
   ],
   "source": [
    "x = np.arange(1, 6)\n",
    "x"
   ]
  },
  {
   "cell_type": "code",
   "execution_count": 10,
   "id": "3016bd48-eaaf-408e-96da-d1cc6bd27c14",
   "metadata": {},
   "outputs": [
    {
     "data": {
      "text/plain": [
       "15"
      ]
     },
     "execution_count": 10,
     "metadata": {},
     "output_type": "execute_result"
    }
   ],
   "source": [
    "np.add.reduce(x)"
   ]
  },
  {
   "cell_type": "code",
   "execution_count": 11,
   "id": "8590556e",
   "metadata": {},
   "outputs": [
    {
     "data": {
      "text/plain": [
       "120"
      ]
     },
     "execution_count": 11,
     "metadata": {},
     "output_type": "execute_result"
    }
   ],
   "source": [
    "np.multiply.reduce(x)"
   ]
  },
  {
   "cell_type": "code",
   "execution_count": 12,
   "id": "46b506e0",
   "metadata": {},
   "outputs": [
    {
     "data": {
      "text/plain": [
       "array([ 1,  3,  6, 10, 15])"
      ]
     },
     "execution_count": 12,
     "metadata": {},
     "output_type": "execute_result"
    }
   ],
   "source": [
    "np.add.accumulate(x)"
   ]
  },
  {
   "cell_type": "code",
   "execution_count": 13,
   "id": "091031b5",
   "metadata": {},
   "outputs": [
    {
     "data": {
      "text/plain": [
       "array([  1,   2,   6,  24, 120])"
      ]
     },
     "execution_count": 13,
     "metadata": {},
     "output_type": "execute_result"
    }
   ],
   "source": [
    "np.multiply.accumulate(x)"
   ]
  },
  {
   "cell_type": "code",
   "execution_count": 14,
   "id": "2d16a922",
   "metadata": {},
   "outputs": [
    {
     "name": "stdout",
     "output_type": "stream",
     "text": [
      "69.6 ms ± 1.87 ms per loop (mean ± std. dev. of 7 runs, 10 loops each)\n",
      "542 µs ± 8.86 µs per loop (mean ± std. dev. of 7 runs, 1,000 loops each)\n"
     ]
    }
   ],
   "source": [
    "rng = np.random.default_rng()\n",
    "big_array = rng.random(1000000)\n",
    "%timeit sum(big_array)\n",
    "%timeit np.sum(big_array)"
   ]
  },
  {
   "cell_type": "code",
   "execution_count": 15,
   "id": "f126cddc",
   "metadata": {},
   "outputs": [
    {
     "data": {
      "text/plain": [
       "(8.128158407449959e-07, 0.9999994657132605)"
      ]
     },
     "execution_count": 15,
     "metadata": {},
     "output_type": "execute_result"
    }
   ],
   "source": [
    "np.min(big_array), np.max(big_array)"
   ]
  },
  {
   "cell_type": "markdown",
   "id": "018bf664",
   "metadata": {},
   "source": [
    "## 2.12 Estatísticas Básicas"
   ]
  },
  {
   "cell_type": "code",
   "execution_count": 17,
   "id": "a4dfb1ee",
   "metadata": {},
   "outputs": [],
   "source": [
    "# Alturas dos primeiros ministros portugueses\n",
    "alturas = np.array([169, 170, 159, 173, 173, 171, 185, 168, 173, 183, 173, 173, 175, 178, 183, 182,\n",
    "                   178, 173, 174, 173, 176, 164, 170, 173, 182, 180, 183, 178, 182, 174, 175, 179,\n",
    "                   174, 173, 162, 173, 171, 165, 164, 168, 175, 165, 181, 172])"
   ]
  },
  {
   "cell_type": "code",
   "execution_count": 18,
   "id": "19b79cda",
   "metadata": {},
   "outputs": [
    {
     "name": "stdout",
     "output_type": "stream",
     "text": [
      "Média das Alturas:        173.75\n",
      "Desvio Padrão:            6.049511625667885\n",
      "Altura Minima:     159\n",
      "Altura Máxima:     185\n"
     ]
    }
   ],
   "source": [
    "print(\"Média das Alturas:       \", np.mean(alturas))\n",
    "print(\"Desvio Padrão:           \", np.std(alturas))\n",
    "print(\"Altura Minima:    \", np.min(alturas))\n",
    "print(\"Altura Máxima:    \", np.max(alturas))"
   ]
  },
  {
   "cell_type": "code",
   "execution_count": 19,
   "id": "c08f5524",
   "metadata": {},
   "outputs": [
    {
     "name": "stdout",
     "output_type": "stream",
     "text": [
      "Percentil 25:    170.75\n",
      "Mediana:             173.0\n",
      "Percentil 75:    178.0\n"
     ]
    }
   ],
   "source": [
    "print(\"Percentil 25:   \", np.percentile(alturas, 25))\n",
    "print(\"Mediana:            \", np.median(alturas))\n",
    "print(\"Percentil 75:   \", np.percentile(alturas, 75))"
   ]
  },
  {
   "cell_type": "code",
   "execution_count": 20,
   "id": "13e0a465",
   "metadata": {},
   "outputs": [],
   "source": [
    "%matplotlib inline\n",
    "import matplotlib.pyplot as plt"
   ]
  },
  {
   "cell_type": "code",
   "execution_count": 21,
   "id": "97226306",
   "metadata": {},
   "outputs": [
    {
     "data": {
      "image/png": "[encoded data removed]",
      "text/plain": [
       "<Figure size 640x480 with 1 Axes>"
      ]
     },
     "metadata": {},
     "output_type": "display_data"
    }
   ],
   "source": [
    "plt.hist(alturas,6)\n",
    "plt.title('Distribuição das Alturas dos Primeiro Ministros')\n",
    "plt.xlabel('Altura (cm)')\n",
    "plt.ylabel('Número');"
   ]
  },
  {
   "cell_type": "code",
   "execution_count": 22,
   "id": "b1b8ec0b",
   "metadata": {},
   "outputs": [
    {
     "data": {
      "text/plain": [
       "(171.94185115248527, 175.55814884751473)"
      ]
     },
     "execution_count": 22,
     "metadata": {},
     "output_type": "execute_result"
    }
   ],
   "source": [
    "import scipy.stats as st\n",
    "\n",
    "# criar um intervalo de confiança a 95% para a altura média da população\n",
    "# usando a distribuição normal\n",
    "st.norm.interval(confidence=0.95, loc=np.mean(alturas), scale=st.sem(alturas))"
   ]
  },
  {
   "cell_type": "code",
   "execution_count": 23,
   "id": "2fc13b18",
   "metadata": {},
   "outputs": [
    {
     "data": {
      "text/plain": [
       "'C:\\\\Users\\\\bruno.lima\\\\Documents\\\\Python\\\\python2024\\\\exercicios'"
      ]
     },
     "execution_count": 23,
     "metadata": {},
     "output_type": "execute_result"
    }
   ],
   "source": [
    "%pwd"
   ]
  },
  {
   "cell_type": "code",
   "execution_count": 25,
   "id": "7b327d13",
   "metadata": {},
   "outputs": [],
   "source": [
    "# Linux\n",
    "# datadir = \"../../../../Datasets/Hospital/\"\n",
    "\n",
    "# Windows\n",
    "# datadir = \"..\\\\..\\\\..\\\\..\\\\Datasets\\\\Hospital\\\\\"\n",
    "datadir =\"..\\\\data\\\\\"\n",
    "filename = \"D_Internamento_1.csv\""
   ]
  },
  {
   "cell_type": "code",
   "execution_count": 26,
   "id": "c2ba9702",
   "metadata": {},
   "outputs": [
    {
     "data": {
      "text/html": [
       "<div>\n",
       "<style scoped>\n",
       "    .dataframe tbody tr th:only-of-type {\n",
       "        vertical-align: middle;\n",
       "    }\n",
       "\n",
       "    .dataframe tbody tr th {\n",
       "        vertical-align: top;\n",
       "    }\n",
       "\n",
       "    .dataframe thead th {\n",
       "        text-align: right;\n",
       "    }\n",
       "</style>\n",
       "<table border=\"1\" class=\"dataframe\">\n",
       "  <thead>\n",
       "    <tr style=\"text-align: right;\">\n",
       "      <th></th>\n",
       "      <th>Ano</th>\n",
       "      <th>NORDEM</th>\n",
       "      <th>D010001</th>\n",
       "      <th>D010002</th>\n",
       "      <th>D010003</th>\n",
       "      <th>D010004</th>\n",
       "      <th>D010005</th>\n",
       "      <th>D010006</th>\n",
       "      <th>D010007</th>\n",
       "      <th>D010008</th>\n",
       "      <th>...</th>\n",
       "      <th>D022097</th>\n",
       "      <th>D022098</th>\n",
       "      <th>D022101</th>\n",
       "      <th>D022102</th>\n",
       "      <th>D022103</th>\n",
       "      <th>D022104</th>\n",
       "      <th>D022105</th>\n",
       "      <th>D022106</th>\n",
       "      <th>D022107</th>\n",
       "      <th>D022108</th>\n",
       "    </tr>\n",
       "  </thead>\n",
       "  <tbody>\n",
       "    <tr>\n",
       "      <th>0</th>\n",
       "      <td>2012</td>\n",
       "      <td>130</td>\n",
       "      <td>5149.0</td>\n",
       "      <td>4471.0</td>\n",
       "      <td>533.0</td>\n",
       "      <td>18.0</td>\n",
       "      <td>2079.0</td>\n",
       "      <td>2079.0</td>\n",
       "      <td>127.0</td>\n",
       "      <td>72894.0</td>\n",
       "      <td>...</td>\n",
       "      <td>62</td>\n",
       "      <td>21104</td>\n",
       "      <td>0</td>\n",
       "      <td>0</td>\n",
       "      <td>0</td>\n",
       "      <td>0</td>\n",
       "      <td>0</td>\n",
       "      <td>0</td>\n",
       "      <td>0</td>\n",
       "      <td>0</td>\n",
       "    </tr>\n",
       "    <tr>\n",
       "      <th>1</th>\n",
       "      <td>2012</td>\n",
       "      <td>75</td>\n",
       "      <td>1086.0</td>\n",
       "      <td>963.0</td>\n",
       "      <td>85.0</td>\n",
       "      <td>0.0</td>\n",
       "      <td>0.0</td>\n",
       "      <td>0.0</td>\n",
       "      <td>38.0</td>\n",
       "      <td>14864.0</td>\n",
       "      <td>...</td>\n",
       "      <td>19</td>\n",
       "      <td>6454</td>\n",
       "      <td>0</td>\n",
       "      <td>0</td>\n",
       "      <td>0</td>\n",
       "      <td>0</td>\n",
       "      <td>0</td>\n",
       "      <td>0</td>\n",
       "      <td>0</td>\n",
       "      <td>0</td>\n",
       "    </tr>\n",
       "    <tr>\n",
       "      <th>2</th>\n",
       "      <td>2012</td>\n",
       "      <td>128</td>\n",
       "      <td>231.0</td>\n",
       "      <td>205.0</td>\n",
       "      <td>10.0</td>\n",
       "      <td>0.0</td>\n",
       "      <td>0.0</td>\n",
       "      <td>0.0</td>\n",
       "      <td>16.0</td>\n",
       "      <td>6186.0</td>\n",
       "      <td>...</td>\n",
       "      <td>0</td>\n",
       "      <td>0</td>\n",
       "      <td>0</td>\n",
       "      <td>0</td>\n",
       "      <td>0</td>\n",
       "      <td>0</td>\n",
       "      <td>0</td>\n",
       "      <td>0</td>\n",
       "      <td>0</td>\n",
       "      <td>0</td>\n",
       "    </tr>\n",
       "    <tr>\n",
       "      <th>3</th>\n",
       "      <td>2012</td>\n",
       "      <td>111</td>\n",
       "      <td>421.0</td>\n",
       "      <td>284.0</td>\n",
       "      <td>101.0</td>\n",
       "      <td>0.0</td>\n",
       "      <td>0.0</td>\n",
       "      <td>0.0</td>\n",
       "      <td>36.0</td>\n",
       "      <td>14813.0</td>\n",
       "      <td>...</td>\n",
       "      <td>0</td>\n",
       "      <td>0</td>\n",
       "      <td>0</td>\n",
       "      <td>0</td>\n",
       "      <td>0</td>\n",
       "      <td>0</td>\n",
       "      <td>0</td>\n",
       "      <td>0</td>\n",
       "      <td>0</td>\n",
       "      <td>0</td>\n",
       "    </tr>\n",
       "    <tr>\n",
       "      <th>4</th>\n",
       "      <td>2012</td>\n",
       "      <td>14</td>\n",
       "      <td>3737.0</td>\n",
       "      <td>3257.0</td>\n",
       "      <td>4.0</td>\n",
       "      <td>272.0</td>\n",
       "      <td>3012.0</td>\n",
       "      <td>3012.0</td>\n",
       "      <td>204.0</td>\n",
       "      <td>74172.0</td>\n",
       "      <td>...</td>\n",
       "      <td>0</td>\n",
       "      <td>0</td>\n",
       "      <td>0</td>\n",
       "      <td>0</td>\n",
       "      <td>0</td>\n",
       "      <td>0</td>\n",
       "      <td>0</td>\n",
       "      <td>0</td>\n",
       "      <td>0</td>\n",
       "      <td>0</td>\n",
       "    </tr>\n",
       "  </tbody>\n",
       "</table>\n",
       "<p>5 rows × 226 columns</p>\n",
       "</div>"
      ],
      "text/plain": [
       "    Ano  NORDEM  D010001  D010002  D010003  D010004  D010005  D010006  \\\n",
       "0  2012     130   5149.0   4471.0    533.0     18.0   2079.0   2079.0   \n",
       "1  2012      75   1086.0    963.0     85.0      0.0      0.0      0.0   \n",
       "2  2012     128    231.0    205.0     10.0      0.0      0.0      0.0   \n",
       "3  2012     111    421.0    284.0    101.0      0.0      0.0      0.0   \n",
       "4  2012      14   3737.0   3257.0      4.0    272.0   3012.0   3012.0   \n",
       "\n",
       "   D010007  D010008  ...  D022097  D022098  D022101  D022102  D022103  \\\n",
       "0    127.0  72894.0  ...       62    21104        0        0        0   \n",
       "1     38.0  14864.0  ...       19     6454        0        0        0   \n",
       "2     16.0   6186.0  ...        0        0        0        0        0   \n",
       "3     36.0  14813.0  ...        0        0        0        0        0   \n",
       "4    204.0  74172.0  ...        0        0        0        0        0   \n",
       "\n",
       "   D022104  D022105  D022106  D022107  D022108  \n",
       "0        0        0        0        0        0  \n",
       "1        0        0        0        0        0  \n",
       "2        0        0        0        0        0  \n",
       "3        0        0        0        0        0  \n",
       "4        0        0        0        0        0  \n",
       "\n",
       "[5 rows x 226 columns]"
      ]
     },
     "execution_count": 26,
     "metadata": {},
     "output_type": "execute_result"
    }
   ],
   "source": [
    "import pandas as pd \n",
    "\n",
    "df_int = pd.read_csv(f\"{datadir}{filename}\", skiprows=2)\n",
    "df_int.head()"
   ]
  },
  {
   "cell_type": "code",
   "execution_count": null,
   "id": "60848c8e",
   "metadata": {},
   "outputs": [],
   "source": [
    "# Linux\n",
    "# datadir = \"../../../../Datasets/Hospital/\"\n",
    "\n",
    "# Windows\n",
    "# datadir = \"..\\\\..\\\\..\\\\..\\\\Datasets\\\\Hospital\\\\\"\n",
    "datadir =\"Data\\\\2012_Hospitais\\\\\"\n",
    "filename = \"D_Internamento_1.csv\""
   ]
  },
  {
   "cell_type": "code",
   "execution_count": null,
   "id": "305f248c",
   "metadata": {},
   "outputs": [],
   "source": [
    "print(df_int.D010002.min())\n",
    "print(df_int.D010002.max())"
   ]
  },
  {
   "cell_type": "code",
   "execution_count": null,
   "id": "c15b56ed",
   "metadata": {},
   "outputs": [],
   "source": [
    "print(df_int.D010004.min())\n",
    "print(df_int.D010004.max())"
   ]
  },
  {
   "cell_type": "code",
   "execution_count": null,
   "id": "87c4b489",
   "metadata": {},
   "outputs": [],
   "source": [
    "def plot_hist(x, p=5):\n",
    " # Plot the distribution and mark the mean\n",
    " plt.hist(x, alpha=.5)\n",
    " plt.axvline(x.mean())\n",
    " # 95% confidence interval \n",
    " plt.axvline(np.percentile(x, p/2.), color='red', linewidth=3)\n",
    " plt.axvline(np.percentile(x, 100-p/2.), color='red', linewidth=3)\n",
    " \n",
    "def plot_dists(a, b, nbins, a_label='com_p', b_label='sem_p', p=5):\n",
    " # Create a single sequence of bins to be shared across both\n",
    " # distribution plots for visualization consistency.\n",
    " combined = pd.concat([a, b])\n",
    " breaks = np.linspace(\n",
    " combined.min(), \n",
    " combined.max(), \n",
    " num=nbins+1)\n",
    " plt.subplot(2, 1, 1)\n",
    " plot_hist(a)\n",
    " plt.title(a_label)\n",
    " \n",
    " plt.subplot(2, 1, 2)\n",
    " plot_hist(b)\n",
    " plt.title(b_label)\n",
    " \n",
    " plt.tight_layout()\n",
    " \n",
    "plot_dists(df_int.D010002, df_int.D010004, 20, a_label='Com Parecer', b_label='Sem parecer')\n",
    "plt.show()"
   ]
  },
  {
   "cell_type": "code",
   "execution_count": null,
   "id": "7543f53a",
   "metadata": {},
   "outputs": [],
   "source": []
  }
 ],
 "metadata": {
  "kernelspec": {
   "display_name": "Python 3 (ipykernel)",
   "language": "python",
   "name": "python3"
  },
  "language_info": {
   "codemirror_mode": {
    "name": "ipython",
    "version": 3
   },
   "file_extension": ".py",
   "mimetype": "text/x-python",
   "name": "python",
   "nbconvert_exporter": "python",
   "pygments_lexer": "ipython3",
   "version": "3.11.7"
  }
 },
 "nbformat": 4,
 "nbformat_minor": 5
}
