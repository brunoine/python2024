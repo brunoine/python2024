{
 "cells": [
  {
   "cell_type": "markdown",
   "id": "d6731095",
   "metadata": {},
   "source": [
    "# O meu diário de Data Science\n",
    "\n",
    "## Notas e experiencias\n",
    "\n",
    "<img src=\"https://www.ine.pt/img/n_logotipo.gif\"/>"
   ]
  },
  {
   "cell_type": "code",
   "execution_count": 9,
   "id": "3e7a398e",
   "metadata": {},
   "outputs": [
    {
     "name": "stdout",
     "output_type": "stream",
     "text": [
      "insere valor:6\n",
      "multiplicador: 2\n",
      "o resultado é: 12\n"
     ]
    }
   ],
   "source": [
    "from random import randint\n",
    "\n",
    "mult=randint(2,8)\n",
    "\n",
    "\n",
    "val=int(input(\"insere valor:\"))\n",
    "\n",
    "print(f\"multiplicador: {mult}\")\n",
    "print(f\"o resultado é: {mult*val}\")"
   ]
  }
 ],
 "metadata": {
  "kernelspec": {
   "display_name": "Python 3 (ipykernel)",
   "language": "python",
   "name": "python3"
  },
  "language_info": {
   "codemirror_mode": {
    "name": "ipython",
    "version": 3
   },
   "file_extension": ".py",
   "mimetype": "text/x-python",
   "name": "python",
   "nbconvert_exporter": "python",
   "pygments_lexer": "ipython3",
   "version": "3.11.7"
  },
  "toc": {
   "base_numbering": 1,
   "nav_menu": {},
   "number_sections": true,
   "sideBar": true,
   "skip_h1_title": false,
   "title_cell": "Table of Contents",
   "title_sidebar": "Contents",
   "toc_cell": false,
   "toc_position": {},
   "toc_section_display": true,
   "toc_window_display": false
  }
 },
 "nbformat": 4,
 "nbformat_minor": 5
}
